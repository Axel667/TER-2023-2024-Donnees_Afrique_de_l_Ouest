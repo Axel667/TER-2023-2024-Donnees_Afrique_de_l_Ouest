{
  "cells": [
    {
      "cell_type": "markdown",
      "metadata": {
        "id": "CuupN8Pt3M54"
      },
      "source": [
        "## Imports"
      ]
    },
    {
      "cell_type": "code",
      "execution_count": null,
      "metadata": {
        "colab": {
          "base_uri": "https://localhost:8080/",
          "height": 140
        },
        "id": "szMN7Mzx3M57",
        "outputId": "4ae483b8-2496-4f6b-823d-ad5fac4f41de"
      },
      "outputs": [
        {
          "output_type": "stream",
          "name": "stdout",
          "text": [
            "Drive already mounted at /content/drive; to attempt to forcibly remount, call drive.mount(\"/content/drive\", force_remount=True).\n"
          ]
        },
        {
          "output_type": "execute_result",
          "data": {
            "text/plain": [
              "'\\nimport torch\\nfrom GPUtil import showUtilization as gpu_usage\\nfrom numba import cuda\\nimport string\\nimport re\\n\\ndef free_gpu_cache():\\n    print(\"Initial GPU Usage\")\\n    gpu_usage()\\n\\n    torch.cuda.empty_cache()\\n\\n    cuda.select_device(0)\\n    cuda.close()\\n    cuda.select_device(0)\\n\\n    print(\"GPU Usage after emptying the cache\")\\n    gpu_usage()\\n\\nfree_gpu_cache()\\n'"
            ],
            "application/vnd.google.colaboratory.intrinsic+json": {
              "type": "string"
            }
          },
          "metadata": {},
          "execution_count": 1
        }
      ],
      "source": [
        "import pandas as pd\n",
        "import numpy as np\n",
        "import matplotlib.pyplot as plt\n",
        "import seaborn as sns\n",
        "from google.colab import drive\n",
        "drive.mount('/content/drive')\n",
        "import warnings\n",
        "import re\n",
        "\n",
        "# PyTorch\n",
        "import torch\n",
        "from torch.utils.data import TensorDataset, random_split, DataLoader, RandomSampler, SequentialSampler, Dataset\n",
        "\n",
        "# Hugging Face Transformers\n",
        "from transformers import CamembertTokenizer, CamembertForSequenceClassification, AdamW, get_linear_schedule_with_warmup\n",
        "from transformers import TrainerCallback\n",
        "from transformers import Trainer\n",
        "from transformers import TrainingArguments\n",
        "\n",
        "\n",
        "# Scikit-learn packages for modeling and evaluation\n",
        "from sklearn.metrics import precision_recall_fscore_support, accuracy_score, confusion_matrix, f1_score\n",
        "from sklearn.model_selection import train_test_split\n",
        "\n",
        "\n",
        "#!pip install GPUtil\n",
        "'''\n",
        "import torch\n",
        "from GPUtil import showUtilization as gpu_usage\n",
        "from numba import cuda\n",
        "import string\n",
        "import re\n",
        "\n",
        "def free_gpu_cache():\n",
        "    print(\"Initial GPU Usage\")\n",
        "    gpu_usage()\n",
        "\n",
        "    torch.cuda.empty_cache()\n",
        "\n",
        "    cuda.select_device(0)\n",
        "    cuda.close()\n",
        "    cuda.select_device(0)\n",
        "\n",
        "    print(\"GPU Usage after emptying the cache\")\n",
        "    gpu_usage()\n",
        "\n",
        "free_gpu_cache()\n",
        "'''"
      ]
    },
    {
      "cell_type": "markdown",
      "metadata": {
        "id": "gZ66O3Uz3M59"
      },
      "source": [
        "### Data Loading"
      ]
    },
    {
      "cell_type": "code",
      "source": [
        "labeled_df = pd.read_csv( \"labeled_df.csv\")\n",
        "labeled_df = labeled_df[['label', 'id', 'text']]\n",
        "labeled_df.head()\n",
        "num_rows = len(labeled_df)\n",
        "print(f\"Number of rows: {num_rows}\")\n",
        "\n",
        "# Get unique values and their counts in the 'label' column\n",
        "unique_labels = labeled_df['label'].unique()\n",
        "print(f\"Unique labels: {unique_labels}\")\n",
        "\n",
        "label_counts = labeled_df['label'].value_counts()\n",
        "print(\"Counts of each label:\")\n",
        "print(label_counts)\n",
        "\n",
        "duplicate_ids = labeled_df[labeled_df['id'].duplicated(keep=False)]\n",
        "\n",
        "# Displaying the rows with duplicate IDs\n",
        "print(duplicate_ids)\n"
      ],
      "metadata": {
        "colab": {
          "base_uri": "https://localhost:8080/"
        },
        "id": "nqEYMBRsbPzH",
        "outputId": "75a8ddab-4889-4b25-842a-cce109911eaa"
      },
      "execution_count": null,
      "outputs": [
        {
          "output_type": "stream",
          "name": "stdout",
          "text": [
            "Number of rows: 339\n",
            "Unique labels: [0 1]\n",
            "Counts of each label:\n",
            "1    174\n",
            "0    165\n",
            "Name: label, dtype: int64\n",
            "     label          id                                               text\n",
            "5        1  0BV7191EOS  Passer de 75% à 100% de couverture des cantine...\n",
            "94       1  HAANZ1HGAQ  ----- Aemro Selassie (FMI) : \" L’Afrique doit ...\n",
            "120      1  N3BEDGSJZU  Bénin : l'intégralité du conseil des ministres...\n",
            "123      0  NDBP5YOL02  Gestion des cantines scolaires au Bénin : Une ...\n",
            "147      1  U02ORISCP5  Les glaciers du Kilimandjaro, sommet des défis...\n",
            "304      1  0BV7191EOS  Passer de 75% à 100% de couverture des cantine...\n",
            "317      1  NDBP5YOL02  Gestion des cantines scolaires au Bénin : Une ...\n",
            "319      1  N3BEDGSJZU  Bénin : l'intégralité du conseil des ministres...\n",
            "320      1  U02ORISCP5  Les glaciers du Kilimandjaro, sommet des défis...\n",
            "324      1  HAANZ1HGAQ  ----- Aemro Selassie (FMI) : \" L’Afrique doit ...\n"
          ]
        }
      ]
    },
    {
      "cell_type": "code",
      "source": [
        "# First, ensure that if 'NDBP5YOL02' is duplicated with different labels, keep the one with label 1\n",
        "special_case = labeled_df[(labeled_df['id'] == 'NDBP5YOL02') & (labeled_df['label'] == 1)]\n",
        "if not special_case.empty:\n",
        "    # If the special case exists, remove all other 'NDBP5YOL02' entries\n",
        "    labeled_df = labeled_df.drop(labeled_df[(labeled_df['id'] == 'NDBP5YOL02')].index)\n",
        "    # Append the special case back to the dataframe\n",
        "    labeled_df = pd.concat([labeled_df, special_case], ignore_index=True)\n",
        "\n",
        "# Step 2: Remove all other duplicates, keeping the first occurrence\n",
        "labeled_df = labeled_df.drop_duplicates(subset=['id'], keep='first')\n",
        "print(labeled_df[(labeled_df['id'] == 'NDBP5YOL02') ])"
      ],
      "metadata": {
        "colab": {
          "base_uri": "https://localhost:8080/"
        },
        "id": "kEXk5Likv6JW",
        "outputId": "44d11079-eb65-41b2-8361-7dae25bb043d"
      },
      "execution_count": null,
      "outputs": [
        {
          "output_type": "stream",
          "name": "stdout",
          "text": [
            "     label          id                                               text\n",
            "337      1  NDBP5YOL02  Gestion des cantines scolaires au Bénin : Une ...\n"
          ]
        }
      ]
    },
    {
      "cell_type": "code",
      "source": [
        "df = pd.read_csv( \"/content/drive/My Drive/df.csv\")\n",
        "\n",
        "# Select only 'id' and 'text' columns\n",
        "df= df[['id', 'text']]\n",
        "\n",
        "# Add an empty 'label' column\n",
        "df['label'] = np.nan\n",
        "\n",
        "# Display the modified DataFrame to verify\n",
        "df.head()"
      ],
      "metadata": {
        "colab": {
          "base_uri": "https://localhost:8080/",
          "height": 204
        },
        "id": "8bTG0D5-bVnP",
        "outputId": "23c5aa84-185f-48ee-b69a-e386530a2a06"
      },
      "execution_count": null,
      "outputs": [
        {
          "output_type": "execute_result",
          "data": {
            "text/plain": [
              "           id                                               text  label\n",
              "0  HO8KNVZ6QF  Le plan d’autonomie est une “solution de compr...    NaN\n",
              "1  N7HP3S8B9V  Un quatuor béninois pour arbitrer Mali U23 vs ...    NaN\n",
              "2  ORG3BSXN7V  ------------------- distinguée femme leader de...    NaN\n",
              "3  ULGT4CHQHH  La CCI Bénin signe avec les CCI de Bahreïn et ...    NaN\n",
              "4  2HTTXAR4Q8  RADARISTES EST TROP !\\n\\nOncle AGBAYA\\nOn vous...    NaN"
            ],
            "text/html": [
              "\n",
              "  <div id=\"df-992442f0-c134-432c-84dd-208fae669d06\" class=\"colab-df-container\">\n",
              "    <div>\n",
              "<style scoped>\n",
              "    .dataframe tbody tr th:only-of-type {\n",
              "        vertical-align: middle;\n",
              "    }\n",
              "\n",
              "    .dataframe tbody tr th {\n",
              "        vertical-align: top;\n",
              "    }\n",
              "\n",
              "    .dataframe thead th {\n",
              "        text-align: right;\n",
              "    }\n",
              "</style>\n",
              "<table border=\"1\" class=\"dataframe\">\n",
              "  <thead>\n",
              "    <tr style=\"text-align: right;\">\n",
              "      <th></th>\n",
              "      <th>id</th>\n",
              "      <th>text</th>\n",
              "      <th>label</th>\n",
              "    </tr>\n",
              "  </thead>\n",
              "  <tbody>\n",
              "    <tr>\n",
              "      <th>0</th>\n",
              "      <td>HO8KNVZ6QF</td>\n",
              "      <td>Le plan d’autonomie est une “solution de compr...</td>\n",
              "      <td>NaN</td>\n",
              "    </tr>\n",
              "    <tr>\n",
              "      <th>1</th>\n",
              "      <td>N7HP3S8B9V</td>\n",
              "      <td>Un quatuor béninois pour arbitrer Mali U23 vs ...</td>\n",
              "      <td>NaN</td>\n",
              "    </tr>\n",
              "    <tr>\n",
              "      <th>2</th>\n",
              "      <td>ORG3BSXN7V</td>\n",
              "      <td>------------------- distinguée femme leader de...</td>\n",
              "      <td>NaN</td>\n",
              "    </tr>\n",
              "    <tr>\n",
              "      <th>3</th>\n",
              "      <td>ULGT4CHQHH</td>\n",
              "      <td>La CCI Bénin signe avec les CCI de Bahreïn et ...</td>\n",
              "      <td>NaN</td>\n",
              "    </tr>\n",
              "    <tr>\n",
              "      <th>4</th>\n",
              "      <td>2HTTXAR4Q8</td>\n",
              "      <td>RADARISTES EST TROP !\\n\\nOncle AGBAYA\\nOn vous...</td>\n",
              "      <td>NaN</td>\n",
              "    </tr>\n",
              "  </tbody>\n",
              "</table>\n",
              "</div>\n",
              "    <div class=\"colab-df-buttons\">\n",
              "\n",
              "  <div class=\"colab-df-container\">\n",
              "    <button class=\"colab-df-convert\" onclick=\"convertToInteractive('df-992442f0-c134-432c-84dd-208fae669d06')\"\n",
              "            title=\"Convert this dataframe to an interactive table.\"\n",
              "            style=\"display:none;\">\n",
              "\n",
              "  <svg xmlns=\"http://www.w3.org/2000/svg\" height=\"24px\" viewBox=\"0 -960 960 960\">\n",
              "    <path d=\"M120-120v-720h720v720H120Zm60-500h600v-160H180v160Zm220 220h160v-160H400v160Zm0 220h160v-160H400v160ZM180-400h160v-160H180v160Zm440 0h160v-160H620v160ZM180-180h160v-160H180v160Zm440 0h160v-160H620v160Z\"/>\n",
              "  </svg>\n",
              "    </button>\n",
              "\n",
              "  <style>\n",
              "    .colab-df-container {\n",
              "      display:flex;\n",
              "      gap: 12px;\n",
              "    }\n",
              "\n",
              "    .colab-df-convert {\n",
              "      background-color: #E8F0FE;\n",
              "      border: none;\n",
              "      border-radius: 50%;\n",
              "      cursor: pointer;\n",
              "      display: none;\n",
              "      fill: #1967D2;\n",
              "      height: 32px;\n",
              "      padding: 0 0 0 0;\n",
              "      width: 32px;\n",
              "    }\n",
              "\n",
              "    .colab-df-convert:hover {\n",
              "      background-color: #E2EBFA;\n",
              "      box-shadow: 0px 1px 2px rgba(60, 64, 67, 0.3), 0px 1px 3px 1px rgba(60, 64, 67, 0.15);\n",
              "      fill: #174EA6;\n",
              "    }\n",
              "\n",
              "    .colab-df-buttons div {\n",
              "      margin-bottom: 4px;\n",
              "    }\n",
              "\n",
              "    [theme=dark] .colab-df-convert {\n",
              "      background-color: #3B4455;\n",
              "      fill: #D2E3FC;\n",
              "    }\n",
              "\n",
              "    [theme=dark] .colab-df-convert:hover {\n",
              "      background-color: #434B5C;\n",
              "      box-shadow: 0px 1px 3px 1px rgba(0, 0, 0, 0.15);\n",
              "      filter: drop-shadow(0px 1px 2px rgba(0, 0, 0, 0.3));\n",
              "      fill: #FFFFFF;\n",
              "    }\n",
              "  </style>\n",
              "\n",
              "    <script>\n",
              "      const buttonEl =\n",
              "        document.querySelector('#df-992442f0-c134-432c-84dd-208fae669d06 button.colab-df-convert');\n",
              "      buttonEl.style.display =\n",
              "        google.colab.kernel.accessAllowed ? 'block' : 'none';\n",
              "\n",
              "      async function convertToInteractive(key) {\n",
              "        const element = document.querySelector('#df-992442f0-c134-432c-84dd-208fae669d06');\n",
              "        const dataTable =\n",
              "          await google.colab.kernel.invokeFunction('convertToInteractive',\n",
              "                                                    [key], {});\n",
              "        if (!dataTable) return;\n",
              "\n",
              "        const docLinkHtml = 'Like what you see? Visit the ' +\n",
              "          '<a target=\"_blank\" href=https://colab.research.google.com/notebooks/data_table.ipynb>data table notebook</a>'\n",
              "          + ' to learn more about interactive tables.';\n",
              "        element.innerHTML = '';\n",
              "        dataTable['output_type'] = 'display_data';\n",
              "        await google.colab.output.renderOutput(dataTable, element);\n",
              "        const docLink = document.createElement('div');\n",
              "        docLink.innerHTML = docLinkHtml;\n",
              "        element.appendChild(docLink);\n",
              "      }\n",
              "    </script>\n",
              "  </div>\n",
              "\n",
              "\n",
              "<div id=\"df-692ac819-ee82-487f-8870-0a5b44219e03\">\n",
              "  <button class=\"colab-df-quickchart\" onclick=\"quickchart('df-692ac819-ee82-487f-8870-0a5b44219e03')\"\n",
              "            title=\"Suggest charts\"\n",
              "            style=\"display:none;\">\n",
              "\n",
              "<svg xmlns=\"http://www.w3.org/2000/svg\" height=\"24px\"viewBox=\"0 0 24 24\"\n",
              "     width=\"24px\">\n",
              "    <g>\n",
              "        <path d=\"M19 3H5c-1.1 0-2 .9-2 2v14c0 1.1.9 2 2 2h14c1.1 0 2-.9 2-2V5c0-1.1-.9-2-2-2zM9 17H7v-7h2v7zm4 0h-2V7h2v10zm4 0h-2v-4h2v4z\"/>\n",
              "    </g>\n",
              "</svg>\n",
              "  </button>\n",
              "\n",
              "<style>\n",
              "  .colab-df-quickchart {\n",
              "      --bg-color: #E8F0FE;\n",
              "      --fill-color: #1967D2;\n",
              "      --hover-bg-color: #E2EBFA;\n",
              "      --hover-fill-color: #174EA6;\n",
              "      --disabled-fill-color: #AAA;\n",
              "      --disabled-bg-color: #DDD;\n",
              "  }\n",
              "\n",
              "  [theme=dark] .colab-df-quickchart {\n",
              "      --bg-color: #3B4455;\n",
              "      --fill-color: #D2E3FC;\n",
              "      --hover-bg-color: #434B5C;\n",
              "      --hover-fill-color: #FFFFFF;\n",
              "      --disabled-bg-color: #3B4455;\n",
              "      --disabled-fill-color: #666;\n",
              "  }\n",
              "\n",
              "  .colab-df-quickchart {\n",
              "    background-color: var(--bg-color);\n",
              "    border: none;\n",
              "    border-radius: 50%;\n",
              "    cursor: pointer;\n",
              "    display: none;\n",
              "    fill: var(--fill-color);\n",
              "    height: 32px;\n",
              "    padding: 0;\n",
              "    width: 32px;\n",
              "  }\n",
              "\n",
              "  .colab-df-quickchart:hover {\n",
              "    background-color: var(--hover-bg-color);\n",
              "    box-shadow: 0 1px 2px rgba(60, 64, 67, 0.3), 0 1px 3px 1px rgba(60, 64, 67, 0.15);\n",
              "    fill: var(--button-hover-fill-color);\n",
              "  }\n",
              "\n",
              "  .colab-df-quickchart-complete:disabled,\n",
              "  .colab-df-quickchart-complete:disabled:hover {\n",
              "    background-color: var(--disabled-bg-color);\n",
              "    fill: var(--disabled-fill-color);\n",
              "    box-shadow: none;\n",
              "  }\n",
              "\n",
              "  .colab-df-spinner {\n",
              "    border: 2px solid var(--fill-color);\n",
              "    border-color: transparent;\n",
              "    border-bottom-color: var(--fill-color);\n",
              "    animation:\n",
              "      spin 1s steps(1) infinite;\n",
              "  }\n",
              "\n",
              "  @keyframes spin {\n",
              "    0% {\n",
              "      border-color: transparent;\n",
              "      border-bottom-color: var(--fill-color);\n",
              "      border-left-color: var(--fill-color);\n",
              "    }\n",
              "    20% {\n",
              "      border-color: transparent;\n",
              "      border-left-color: var(--fill-color);\n",
              "      border-top-color: var(--fill-color);\n",
              "    }\n",
              "    30% {\n",
              "      border-color: transparent;\n",
              "      border-left-color: var(--fill-color);\n",
              "      border-top-color: var(--fill-color);\n",
              "      border-right-color: var(--fill-color);\n",
              "    }\n",
              "    40% {\n",
              "      border-color: transparent;\n",
              "      border-right-color: var(--fill-color);\n",
              "      border-top-color: var(--fill-color);\n",
              "    }\n",
              "    60% {\n",
              "      border-color: transparent;\n",
              "      border-right-color: var(--fill-color);\n",
              "    }\n",
              "    80% {\n",
              "      border-color: transparent;\n",
              "      border-right-color: var(--fill-color);\n",
              "      border-bottom-color: var(--fill-color);\n",
              "    }\n",
              "    90% {\n",
              "      border-color: transparent;\n",
              "      border-bottom-color: var(--fill-color);\n",
              "    }\n",
              "  }\n",
              "</style>\n",
              "\n",
              "  <script>\n",
              "    async function quickchart(key) {\n",
              "      const quickchartButtonEl =\n",
              "        document.querySelector('#' + key + ' button');\n",
              "      quickchartButtonEl.disabled = true;  // To prevent multiple clicks.\n",
              "      quickchartButtonEl.classList.add('colab-df-spinner');\n",
              "      try {\n",
              "        const charts = await google.colab.kernel.invokeFunction(\n",
              "            'suggestCharts', [key], {});\n",
              "      } catch (error) {\n",
              "        console.error('Error during call to suggestCharts:', error);\n",
              "      }\n",
              "      quickchartButtonEl.classList.remove('colab-df-spinner');\n",
              "      quickchartButtonEl.classList.add('colab-df-quickchart-complete');\n",
              "    }\n",
              "    (() => {\n",
              "      let quickchartButtonEl =\n",
              "        document.querySelector('#df-692ac819-ee82-487f-8870-0a5b44219e03 button');\n",
              "      quickchartButtonEl.style.display =\n",
              "        google.colab.kernel.accessAllowed ? 'block' : 'none';\n",
              "    })();\n",
              "  </script>\n",
              "</div>\n",
              "    </div>\n",
              "  </div>\n"
            ],
            "application/vnd.google.colaboratory.intrinsic+json": {
              "type": "dataframe",
              "variable_name": "df",
              "summary": "{\n  \"name\": \"df\",\n  \"rows\": 23560,\n  \"fields\": [\n    {\n      \"column\": \"id\",\n      \"properties\": {\n        \"dtype\": \"string\",\n        \"num_unique_values\": 23560,\n        \"samples\": [\n          \"H0LYTD9P54\",\n          \"T23YS6SVC5\",\n          \"UC6OZZEUHR\"\n        ],\n        \"semantic_type\": \"\",\n        \"description\": \"\"\n      }\n    },\n    {\n      \"column\": \"text\",\n      \"properties\": {\n        \"dtype\": \"string\",\n        \"num_unique_values\": 23514,\n        \"samples\": [\n          \"Cr\\u00e9ation d\\u2019entreprises : ------------------, -------------------------- promet une forte implication des Chambres consulaires\\n\\nLe vice-pr\\u00e9sident de la Chambre de commerce, d\\u2019industrie et d\\u2019agriculture de Dakar, ------------------ a pr\\u00e9sid\\u00e9 la c\\u00e9r\\u00e9monie de cl\\u00f4ture de la session de formation sur l\\u2019entreprenariat d\\u00e9di\\u00e9e aux jeunes, femmes et migrants de retour. Vingt-cinq jeunes de Dakar ont \\u00e9t\\u00e9 capacit\\u00e9s du 1 au 3 juin courant. A la fin de ladite session, ------------------ a salu\\u00e9 le d\\u00e9terminisme et l\\u2019engagement sans faille des jeunes \\u00e0 entreprendre pour leur propre succ\\u00e8s mais \\u00e9galement pour l\\u2019\\u00e9mergence du pays.\\n\\u00ab Au cours de ces trois jours, vous avez \\u00e9t\\u00e9 amen\\u00e9s \\u00e0 visiter avec l\\u2019aide des formateurs les diff\\u00e9rentes \\u00e9tapes de la cr\\u00e9ation d\\u2019entreprises, les responsabilit\\u00e9s et modalit\\u00e9s d\\u2019organisation de chaque type d\\u2019entreprise, le plan d\\u2019affaires qui doit soutenir votre projet de cr\\u00e9ation d\\u2019entreprise \\u00bb.\\nAux b\\u00e9n\\u00e9ficiaires, il dira : \\u00ab Je tiens \\u00e0 vous dire que les chambres consulaires vont saisir toutes les opportunit\\u00e9s pour promouvoir la cr\\u00e9ation d\\u2019entreprises, leur accompagnement dans leur processus de d\\u00e9veloppement \\u00e0 travers l\\u2019am\\u00e9lioration de son dispositif d\\u2019appui et la mise en place de nouveaux services d\\u2019offerts d\\u00e9di\\u00e9s notamment \\u00e0 l\\u2019entrepreneuriat jeunes \\u00bb.\\nNaturellement, poursuit-il \\u00ab nous comptons sur l\\u2019accompagnement des partenaires techniques et financiers dont l\\u2019Union europ\\u00e9enne (Ue) pour l\\u2019am\\u00e9lioration du dialogue public priv\\u00e9 dans le cadre du d\\u00e9veloppement de l\\u2019Enseignement technique et la formation et professionnel (Etfp) \\u00bb.\\nEn effet, l\\u2019Etfp ouvre beaucoup de perspectives aux jeunes, et propose aux entreprises les qualifications qu\\u2019elles recherchent et celles-ci ont la possibilit\\u00e9 de recruter une main d\\u2019\\u0153uvre de haute qualit\\u00e9.\\nCe renforcement de capacit\\u00e9 doit permettre aux jeunes de comprendre \\u00ab comment faire pour monter votre entreprise, quel int\\u00e9r\\u00eat avez-vous \\u00e0 m\\u00fbrir votre id\\u00e9e de projet, l\\u2019importance du plan d\\u2019affaires, comment il est structur\\u00e9 \\u00bb, a soulign\\u00e9 le vice-pr\\u00e9sident. Il ajoute : \\u00ab De la documentation, des orientations vous ont \\u00e9t\\u00e9 partag\\u00e9es notamment, avec la mise \\u00e0 votre disposition des formes juridiques des diff\\u00e9rentes entreprises, les canevas de plan d\\u2019affaires des diff\\u00e9rentes structures de financement des projets d\\u2019entreprises de jeunes \\u00bb.\\nJEAN PIERRE MALOU\",\n          \"UAMM : les \\u00e9tudiants observent une gr\\u00e8ve illimit\\u00e9e \\u00e0 partir du 13 octobre\\n\\nLes \\u00e9tudiants de l\\u2019universit\\u00e9 -------------------- en grogne contre les autorit\\u00e9s qui tardent \\u00e0 livrer les chantiers de l\\u2019universit\\u00e9 de Diamniadio. En conf\\u00e9rence de presse ce mardi, les pensionnaires de l\\u2019UAMM ont tir\\u00e9 sur l\\u2019Etat qui disent-ils n\\u2019a pas honor\\u00e9 sa promesse. A cet effet, l\\u2019amicale d\\u00e9cr\\u00e8te une gr\\u00e8ve illimit\\u00e9e \\u00e0 partir de 13 octobre jour de la rentr\\u00e9e.\\nLes \\u00e9tudiants de l\\u2019universit\\u00e9 -------------------- n\\u2019en peuvent plus face \\u00e0 la longue attente not\\u00e9e sur la livraison des chantiers de leur universit\\u00e9. Face aux difficiles conditions auxquelles ils sont confront\\u00e9s, ces membres qui ont fait face \\u00e0 la presse ce mardi, d\\u00e9cr\\u00e8tent une gr\\u00e8ve illimit\\u00e9e pour exiger la livraison sans d\\u00e9lai des b\\u00e2timents de l\\u2019universit\\u00e9 :\\u00a0\\u00ab\\u00a0\\u00e0 partir du 13 octobre, il y aura une gr\\u00e8ve illimit\\u00e9e, parce qu\\u2019on a \\u00e9t\\u00e9 tr\\u00e8s longtemps \\u00e0 ce stage. Notre position d\\u00e9sormais, elle est claire. Ce que nous voulons, c\\u2019est qu\\u2019on nous livre nos chantiers\\u00a0\\u00bb, annonce --------------, membre de la coordination de l\\u2019amicale de l\\u2019UAMM.\\nPour rappelle, le chef de l\\u2019Etat avait pris l\\u2019engagement au mois de juillet dernier, lors d\\u2019une s\\u00e9ance de son concept \\u00ab\\u00a0jokko ak ------\\u00bb consacr\\u00e9 aux \\u00e9tudiants, d\\u2019inaugurer les b\\u00e2timents au mois d\\u2019ao\\u00fbt 2022, afin qu\\u2019au mois d\\u2019octobre les premi\\u00e8res cohortes puissent physiquement \\u00eatre sur le campus. Face \\u00e0 ce nouvel engagement non respect\\u00e9, l\\u2019amicale des \\u00e9tudiants de l\\u2019UAMM tirent sur le gouvernement \\u00ab\\u00a0on s\\u2019est tu beaucoup trop longtemps. Je pense qu\\u2019il est maintenant temps qu\\u2019on hausse le ton et que l\\u2019on se fasse entendre par les autorit\\u00e9s. Sept ans, c\\u2019est beaucoup trop pour la construction d\\u2019une universit\\u00e9, qui \\u00e0 ce moment, on nous dit que c\\u2019est pr\\u00eat depuis fort longtemps, ou \\u00e0 un moment o\\u00f9 le pr\\u00e9sident nous avait annonc\\u00e9, il y\\u00a0a trois mois de son inauguration et que trois mois apr\\u00e8s on nous dit que vous devez retourner \\u00e0 la Cit\\u00e9 Keur Gorgui\\u00a0\\u00bb, regrette --------------, porte parole du jour de la coordination des \\u00e9tudiants de l\\u2019universit\\u00e9 -------------------- de Diamniadio.\\nAinsi, face aux conditions de vie auxquelles ils sont confront\\u00e9s, \\u00e0 la Cit\\u00e9 keur Gorgui, ces \\u00e9tudiants se veulent clair hors der question de reprendre les enseignements et apprentissages\\u00a0:\\u00a0\\u00ab\\u00a0tant qu\\u2019il n\\u2019y aura pas une r\\u00e9action digne de la part des autorit\\u00e9s, nous ne reculerons pas de notre position\\u00a0\\u00bb, avertit ---------.\\n---\",\n          \"Non-transmission du projet de loi de r\\u00e8glement pour l\\u2019ann\\u00e9e 2021 : la Cour des comptes, source du blocage ?\\n\\nLa Cour des comptes serait \\u00e0 l\\u2019origine de la non-transmission du projet de loi de r\\u00e8glement pour l\\u2019ann\\u00e9e 2021 aux d\\u00e9put\\u00e9s lors de l\\u2019ouverture de la session ordinaire unique de l\\u2019ann\\u00e9e 2022-2023 de l\\u2019Assembl\\u00e9e nationale, le vendredi 21 octobre dernier. En effet, selon les d\\u00e9charges que nous avons re\\u00e7ues du porte-parole du gouvernement, le ministre -------------------, ce projet de loi a \\u00e9t\\u00e9, effectivement, transmis depuis le 27 juin dernier \\u00e0 cette juridiction charg\\u00e9e d\\u2019approuver ou de r\\u00e9cuser les chiffres.\\u00a0\\nOn en sait un peu plus sur les raisons \\u00e0 l\\u2019origine de la non-transmission du projet de loi de r\\u00e8glement pour l\\u2019ann\\u00e9e 2021 aux d\\u00e9put\\u00e9s, lors de l\\u2019ouverture de la session ordinaire unique de l\\u2019ann\\u00e9e 2022-2023 de l\\u2019Assembl\\u00e9e nationale. Cela pour permettre aux 165 d\\u00e9put\\u00e9s d\\u2019effectuer leur travail de contr\\u00f4le parlementaire des actions du gouvernement. Toute porte \\u00e0 croire que c\\u2019est au niveau de la Cour des comptes que se trouve le blocage de ce texte. En effet, suite \\u00e0 notre article sur cette question publi\\u00e9, le vendredi 21 octobre, le ministre du Commerce et Porte-Parole du Gouvernement, ------------------, qui avait d\\u00e9gag\\u00e9 la responsabilit\\u00e9 du gouvernement dans cette situation, nous a fait parvenir des d\\u00e9charges attestant le d\\u00e9p\\u00f4t effectif par le gouvernement de ce document depuis juin 2022. Il s\\u2019agit notamment d\\u2019un bordereau d\\u2019envoi compos\\u00e9 de 200 documents d\\u00e9pos\\u00e9 le 27 juin dernier au niveau de la direction des services l\\u00e9gislatifs de l\\u2019Assembl\\u00e9e nationale et d\\u2019une lettre de transmission de ce texte \\u00e9galement d\\u00e9pos\\u00e9 au niveau du bureau du greffe central de la Cour des comptes le 29 juin dernier.\\nCe courrier est accompagn\\u00e9 de plusieurs annexes dont entre autres, le Compte g\\u00e9n\\u00e9ral de l\\u2019Administration des Finances ; le Compte administratif de l\\u2019Ordonnateur rendu au titre de 2021 mais aussi des copies des actes modificatifs pris au cours de ladite gestion. Il s\\u2019agit entre autres, de trois (3) arr\\u00eat\\u00e9s portant annulation de cr\\u00e9dits sur la gestion 2021 ; cinq (5) arr\\u00eat\\u00e9s portant constatation de recettes et ouverture de cr\\u00e9dits sur fonds de concours sur la gestion 2021; cent quarante (140) arr\\u00eat\\u00e9s portant transfert de cr\\u00e9dits du budget de la gestion 2021; quatre cent quarante et un (441) arr\\u00eat\\u00e9s portant virement de cr\\u00e9dits globaux sur la gestion 2021; cinq (5) d\\u00e9crets portant ouverture de cr\\u00e9dits \\u00e0 titre d\\u2019avance sur la gestion 2021; et cinq (5) d\\u00e9crets portant report de cr\\u00e9dits du budget g\\u00e9n\\u00e9ral de la gestion 2020 sur 2021; une cl\\u00e9 USB contenant les actes sus mentionn\\u00e9s. Pour rappel, selon les dispositions de l\\u2019article 62 de la Loi N\\u00b02011-15, LOI portant loi organique relative aux lois de finances : \\u00ab Le projet de loi de r\\u00e8glement est d\\u00e9pos\\u00e9 sur le bureau du Parlement et distribu\\u00e9 au plus tard le jour de l\\u2019ouverture de la session ordinaire de l\\u2019ann\\u00e9e suivant celle de l\\u2019ex\\u00e9cution du budget auquel il se rapporte. Il est accompagn\\u00e9 des documents pr\\u00e9vus aux articles 49 et 50 de la pr\\u00e9sente Loi organique. Le rapport sur l\\u2019ex\\u00e9cution des lois de finances, la d\\u00e9claration g\\u00e9n\\u00e9rale de conformit\\u00e9 et, le cas \\u00e9ch\\u00e9ant, l\\u2019avis de la Cour des comptes sur la qualit\\u00e9 des proc\\u00e9dures comptables et des comptes ainsi que sur les rapports annuels de performances pr\\u00e9vus \\u00e0 l\\u2019article 50 de la pr\\u00e9sente Loi organique sont remis au Parlement sit\\u00f4t leur adoption d\\u00e9finitive par la Cour des comptes \\u00bb.\\nNANDO CABRAL GOMIS\"\n        ],\n        \"semantic_type\": \"\",\n        \"description\": \"\"\n      }\n    },\n    {\n      \"column\": \"label\",\n      \"properties\": {\n        \"dtype\": \"number\",\n        \"std\": null,\n        \"min\": null,\n        \"max\": null,\n        \"num_unique_values\": 0,\n        \"samples\": [],\n        \"semantic_type\": \"\",\n        \"description\": \"\"\n      }\n    }\n  ]\n}"
            }
          },
          "metadata": {},
          "execution_count": 4
        }
      ]
    },
    {
      "cell_type": "code",
      "source": [
        "# Get a list of unique IDs from the modified labeled_df\n",
        "unique_ids_in_labeled_df = labeled_df['id'].unique()\n",
        "\n",
        "# Remove rows from df that have IDs matching those in labeled_df\n",
        "df = df[~df['id'].isin(unique_ids_in_labeled_df)]"
      ],
      "metadata": {
        "id": "RUoMbD5gxEhG"
      },
      "execution_count": null,
      "outputs": []
    },
    {
      "cell_type": "markdown",
      "metadata": {
        "id": "NrL7Sz3p3M5_"
      },
      "source": [
        "## Data Cleaning / Preprocessing"
      ]
    },
    {
      "cell_type": "code",
      "source": [
        "def clean_text(text):\n",
        "    \"\"\"\n",
        "    Remove URLs and other unwanted patterns from the text.\n",
        "    \"\"\"\n",
        "    # Remove URLs\n",
        "    text = re.sub(r'http\\S+|www\\.\\S+', '', text)\n",
        "\n",
        "    # Remove lines with dashes or similar patterns\n",
        "    text = re.sub(r'-{2,}', '', text)\n",
        "\n",
        "    # Remove emails or specific patterns (example)\n",
        "    text = re.sub(r'\\S*@\\S*\\s?', '', text)\n",
        "\n",
        "    # Any additional cleaning steps can be added here\n",
        "\n",
        "    return text\n",
        "\n"
      ],
      "metadata": {
        "id": "SRutu-nQxM4J"
      },
      "execution_count": null,
      "outputs": []
    },
    {
      "cell_type": "code",
      "source": [
        "# Apply the cleaning function to your DataFrame directly on the text column\n",
        "labeled_df['text'] = labeled_df['text'].apply(clean_text)\n",
        "df['text'] = df['text'].apply(clean_text)\n",
        "\n",
        "display(labeled_df.head())\n",
        "display(df.head())\n",
        "\n",
        "label_counts = labeled_df['label'].value_counts()\n",
        "print(\"Counts of each label:\")\n",
        "print(label_counts)\n",
        "\n"
      ],
      "metadata": {
        "colab": {
          "base_uri": "https://localhost:8080/",
          "height": 459
        },
        "id": "iKmg7GcWxfxV",
        "outputId": "e1209937-bc1f-420c-9bcd-0ec61f5937dc"
      },
      "execution_count": null,
      "outputs": [
        {
          "output_type": "display_data",
          "data": {
            "text/plain": [
              "   label          id                                               text\n",
              "0      0  02XWR02BCE  Crise sanitaire, recrutements, succession… Les...\n",
              "1      0  03URLSTT7L  Transfert de l’énergie solaire depuis l’espace...\n",
              "2      1  08XCWWYT57  Des céréales ukrainiennes vers l’Afrique : le ...\n",
              "3      1  09746LR4F6  Les députés en séance plénière pour l'examen d...\n",
              "4      1  09QJEPKIPQ  L’ANSD relève une progression de 0, 8 % de l’i..."
            ],
            "text/html": [
              "\n",
              "  <div id=\"df-1e51d85f-ae9a-446a-a860-a9d770b096c4\" class=\"colab-df-container\">\n",
              "    <div>\n",
              "<style scoped>\n",
              "    .dataframe tbody tr th:only-of-type {\n",
              "        vertical-align: middle;\n",
              "    }\n",
              "\n",
              "    .dataframe tbody tr th {\n",
              "        vertical-align: top;\n",
              "    }\n",
              "\n",
              "    .dataframe thead th {\n",
              "        text-align: right;\n",
              "    }\n",
              "</style>\n",
              "<table border=\"1\" class=\"dataframe\">\n",
              "  <thead>\n",
              "    <tr style=\"text-align: right;\">\n",
              "      <th></th>\n",
              "      <th>label</th>\n",
              "      <th>id</th>\n",
              "      <th>text</th>\n",
              "    </tr>\n",
              "  </thead>\n",
              "  <tbody>\n",
              "    <tr>\n",
              "      <th>0</th>\n",
              "      <td>0</td>\n",
              "      <td>02XWR02BCE</td>\n",
              "      <td>Crise sanitaire, recrutements, succession… Les...</td>\n",
              "    </tr>\n",
              "    <tr>\n",
              "      <th>1</th>\n",
              "      <td>0</td>\n",
              "      <td>03URLSTT7L</td>\n",
              "      <td>Transfert de l’énergie solaire depuis l’espace...</td>\n",
              "    </tr>\n",
              "    <tr>\n",
              "      <th>2</th>\n",
              "      <td>1</td>\n",
              "      <td>08XCWWYT57</td>\n",
              "      <td>Des céréales ukrainiennes vers l’Afrique : le ...</td>\n",
              "    </tr>\n",
              "    <tr>\n",
              "      <th>3</th>\n",
              "      <td>1</td>\n",
              "      <td>09746LR4F6</td>\n",
              "      <td>Les députés en séance plénière pour l'examen d...</td>\n",
              "    </tr>\n",
              "    <tr>\n",
              "      <th>4</th>\n",
              "      <td>1</td>\n",
              "      <td>09QJEPKIPQ</td>\n",
              "      <td>L’ANSD relève une progression de 0, 8 % de l’i...</td>\n",
              "    </tr>\n",
              "  </tbody>\n",
              "</table>\n",
              "</div>\n",
              "    <div class=\"colab-df-buttons\">\n",
              "\n",
              "  <div class=\"colab-df-container\">\n",
              "    <button class=\"colab-df-convert\" onclick=\"convertToInteractive('df-1e51d85f-ae9a-446a-a860-a9d770b096c4')\"\n",
              "            title=\"Convert this dataframe to an interactive table.\"\n",
              "            style=\"display:none;\">\n",
              "\n",
              "  <svg xmlns=\"http://www.w3.org/2000/svg\" height=\"24px\" viewBox=\"0 -960 960 960\">\n",
              "    <path d=\"M120-120v-720h720v720H120Zm60-500h600v-160H180v160Zm220 220h160v-160H400v160Zm0 220h160v-160H400v160ZM180-400h160v-160H180v160Zm440 0h160v-160H620v160ZM180-180h160v-160H180v160Zm440 0h160v-160H620v160Z\"/>\n",
              "  </svg>\n",
              "    </button>\n",
              "\n",
              "  <style>\n",
              "    .colab-df-container {\n",
              "      display:flex;\n",
              "      gap: 12px;\n",
              "    }\n",
              "\n",
              "    .colab-df-convert {\n",
              "      background-color: #E8F0FE;\n",
              "      border: none;\n",
              "      border-radius: 50%;\n",
              "      cursor: pointer;\n",
              "      display: none;\n",
              "      fill: #1967D2;\n",
              "      height: 32px;\n",
              "      padding: 0 0 0 0;\n",
              "      width: 32px;\n",
              "    }\n",
              "\n",
              "    .colab-df-convert:hover {\n",
              "      background-color: #E2EBFA;\n",
              "      box-shadow: 0px 1px 2px rgba(60, 64, 67, 0.3), 0px 1px 3px 1px rgba(60, 64, 67, 0.15);\n",
              "      fill: #174EA6;\n",
              "    }\n",
              "\n",
              "    .colab-df-buttons div {\n",
              "      margin-bottom: 4px;\n",
              "    }\n",
              "\n",
              "    [theme=dark] .colab-df-convert {\n",
              "      background-color: #3B4455;\n",
              "      fill: #D2E3FC;\n",
              "    }\n",
              "\n",
              "    [theme=dark] .colab-df-convert:hover {\n",
              "      background-color: #434B5C;\n",
              "      box-shadow: 0px 1px 3px 1px rgba(0, 0, 0, 0.15);\n",
              "      filter: drop-shadow(0px 1px 2px rgba(0, 0, 0, 0.3));\n",
              "      fill: #FFFFFF;\n",
              "    }\n",
              "  </style>\n",
              "\n",
              "    <script>\n",
              "      const buttonEl =\n",
              "        document.querySelector('#df-1e51d85f-ae9a-446a-a860-a9d770b096c4 button.colab-df-convert');\n",
              "      buttonEl.style.display =\n",
              "        google.colab.kernel.accessAllowed ? 'block' : 'none';\n",
              "\n",
              "      async function convertToInteractive(key) {\n",
              "        const element = document.querySelector('#df-1e51d85f-ae9a-446a-a860-a9d770b096c4');\n",
              "        const dataTable =\n",
              "          await google.colab.kernel.invokeFunction('convertToInteractive',\n",
              "                                                    [key], {});\n",
              "        if (!dataTable) return;\n",
              "\n",
              "        const docLinkHtml = 'Like what you see? Visit the ' +\n",
              "          '<a target=\"_blank\" href=https://colab.research.google.com/notebooks/data_table.ipynb>data table notebook</a>'\n",
              "          + ' to learn more about interactive tables.';\n",
              "        element.innerHTML = '';\n",
              "        dataTable['output_type'] = 'display_data';\n",
              "        await google.colab.output.renderOutput(dataTable, element);\n",
              "        const docLink = document.createElement('div');\n",
              "        docLink.innerHTML = docLinkHtml;\n",
              "        element.appendChild(docLink);\n",
              "      }\n",
              "    </script>\n",
              "  </div>\n",
              "\n",
              "\n",
              "<div id=\"df-b9529175-264b-4c47-a60d-f09e35c1f076\">\n",
              "  <button class=\"colab-df-quickchart\" onclick=\"quickchart('df-b9529175-264b-4c47-a60d-f09e35c1f076')\"\n",
              "            title=\"Suggest charts\"\n",
              "            style=\"display:none;\">\n",
              "\n",
              "<svg xmlns=\"http://www.w3.org/2000/svg\" height=\"24px\"viewBox=\"0 0 24 24\"\n",
              "     width=\"24px\">\n",
              "    <g>\n",
              "        <path d=\"M19 3H5c-1.1 0-2 .9-2 2v14c0 1.1.9 2 2 2h14c1.1 0 2-.9 2-2V5c0-1.1-.9-2-2-2zM9 17H7v-7h2v7zm4 0h-2V7h2v10zm4 0h-2v-4h2v4z\"/>\n",
              "    </g>\n",
              "</svg>\n",
              "  </button>\n",
              "\n",
              "<style>\n",
              "  .colab-df-quickchart {\n",
              "      --bg-color: #E8F0FE;\n",
              "      --fill-color: #1967D2;\n",
              "      --hover-bg-color: #E2EBFA;\n",
              "      --hover-fill-color: #174EA6;\n",
              "      --disabled-fill-color: #AAA;\n",
              "      --disabled-bg-color: #DDD;\n",
              "  }\n",
              "\n",
              "  [theme=dark] .colab-df-quickchart {\n",
              "      --bg-color: #3B4455;\n",
              "      --fill-color: #D2E3FC;\n",
              "      --hover-bg-color: #434B5C;\n",
              "      --hover-fill-color: #FFFFFF;\n",
              "      --disabled-bg-color: #3B4455;\n",
              "      --disabled-fill-color: #666;\n",
              "  }\n",
              "\n",
              "  .colab-df-quickchart {\n",
              "    background-color: var(--bg-color);\n",
              "    border: none;\n",
              "    border-radius: 50%;\n",
              "    cursor: pointer;\n",
              "    display: none;\n",
              "    fill: var(--fill-color);\n",
              "    height: 32px;\n",
              "    padding: 0;\n",
              "    width: 32px;\n",
              "  }\n",
              "\n",
              "  .colab-df-quickchart:hover {\n",
              "    background-color: var(--hover-bg-color);\n",
              "    box-shadow: 0 1px 2px rgba(60, 64, 67, 0.3), 0 1px 3px 1px rgba(60, 64, 67, 0.15);\n",
              "    fill: var(--button-hover-fill-color);\n",
              "  }\n",
              "\n",
              "  .colab-df-quickchart-complete:disabled,\n",
              "  .colab-df-quickchart-complete:disabled:hover {\n",
              "    background-color: var(--disabled-bg-color);\n",
              "    fill: var(--disabled-fill-color);\n",
              "    box-shadow: none;\n",
              "  }\n",
              "\n",
              "  .colab-df-spinner {\n",
              "    border: 2px solid var(--fill-color);\n",
              "    border-color: transparent;\n",
              "    border-bottom-color: var(--fill-color);\n",
              "    animation:\n",
              "      spin 1s steps(1) infinite;\n",
              "  }\n",
              "\n",
              "  @keyframes spin {\n",
              "    0% {\n",
              "      border-color: transparent;\n",
              "      border-bottom-color: var(--fill-color);\n",
              "      border-left-color: var(--fill-color);\n",
              "    }\n",
              "    20% {\n",
              "      border-color: transparent;\n",
              "      border-left-color: var(--fill-color);\n",
              "      border-top-color: var(--fill-color);\n",
              "    }\n",
              "    30% {\n",
              "      border-color: transparent;\n",
              "      border-left-color: var(--fill-color);\n",
              "      border-top-color: var(--fill-color);\n",
              "      border-right-color: var(--fill-color);\n",
              "    }\n",
              "    40% {\n",
              "      border-color: transparent;\n",
              "      border-right-color: var(--fill-color);\n",
              "      border-top-color: var(--fill-color);\n",
              "    }\n",
              "    60% {\n",
              "      border-color: transparent;\n",
              "      border-right-color: var(--fill-color);\n",
              "    }\n",
              "    80% {\n",
              "      border-color: transparent;\n",
              "      border-right-color: var(--fill-color);\n",
              "      border-bottom-color: var(--fill-color);\n",
              "    }\n",
              "    90% {\n",
              "      border-color: transparent;\n",
              "      border-bottom-color: var(--fill-color);\n",
              "    }\n",
              "  }\n",
              "</style>\n",
              "\n",
              "  <script>\n",
              "    async function quickchart(key) {\n",
              "      const quickchartButtonEl =\n",
              "        document.querySelector('#' + key + ' button');\n",
              "      quickchartButtonEl.disabled = true;  // To prevent multiple clicks.\n",
              "      quickchartButtonEl.classList.add('colab-df-spinner');\n",
              "      try {\n",
              "        const charts = await google.colab.kernel.invokeFunction(\n",
              "            'suggestCharts', [key], {});\n",
              "      } catch (error) {\n",
              "        console.error('Error during call to suggestCharts:', error);\n",
              "      }\n",
              "      quickchartButtonEl.classList.remove('colab-df-spinner');\n",
              "      quickchartButtonEl.classList.add('colab-df-quickchart-complete');\n",
              "    }\n",
              "    (() => {\n",
              "      let quickchartButtonEl =\n",
              "        document.querySelector('#df-b9529175-264b-4c47-a60d-f09e35c1f076 button');\n",
              "      quickchartButtonEl.style.display =\n",
              "        google.colab.kernel.accessAllowed ? 'block' : 'none';\n",
              "    })();\n",
              "  </script>\n",
              "</div>\n",
              "    </div>\n",
              "  </div>\n"
            ],
            "application/vnd.google.colaboratory.intrinsic+json": {
              "type": "dataframe",
              "summary": "{\n  \"name\": \"print(label_counts)\",\n  \"rows\": 5,\n  \"fields\": [\n    {\n      \"column\": \"label\",\n      \"properties\": {\n        \"dtype\": \"number\",\n        \"std\": 0,\n        \"min\": 0,\n        \"max\": 1,\n        \"num_unique_values\": 2,\n        \"samples\": [\n          1,\n          0\n        ],\n        \"semantic_type\": \"\",\n        \"description\": \"\"\n      }\n    },\n    {\n      \"column\": \"id\",\n      \"properties\": {\n        \"dtype\": \"string\",\n        \"num_unique_values\": 5,\n        \"samples\": [\n          \"03URLSTT7L\",\n          \"09QJEPKIPQ\"\n        ],\n        \"semantic_type\": \"\",\n        \"description\": \"\"\n      }\n    },\n    {\n      \"column\": \"text\",\n      \"properties\": {\n        \"dtype\": \"string\",\n        \"num_unique_values\": 5,\n        \"samples\": [\n          \"Transfert de l\\u2019\\u00e9nergie solaire depuis l\\u2019espace: la Chine parle de son exploit\\n\\nLe projet de la Chine relatif \\u00e0 la conversion de la lumi\\u00e8re solaire dans l\\u2019espace en alimentation \\u00e9lectrique pour la propulsion des satellites en orbite et la transmission de cette \\u00e9nergie vers la terre poursuit son \\u00e9volution. En effet, selon les informations rapport\\u00e9es par CGTN, les premiers tests effectu\\u00e9s au cours de ce mois se sont r\\u00e9v\\u00e9l\\u00e9s concluants. A en croire l\\u2019\\u00e9quipe de 100 personnes qui travaille sur le projet du nom de *****, le fabricant chinois China Academy of Space Technology (CAST), le travail s\\u2019est bas\\u00e9 sur la lentille qui permet de collecter la lumi\\u00e8re.\\n\\nLa difficult\\u00e9 rencontr\\u00e9e dans la collecte est le transport des antennes de 200 kg. Le responsable de la mission a d\\u00fb solliciter l\\u2019aide de plusieurs \\u00e9tudiants. Ceci aura permis de gagner trois ans sur le projet. Selon ces scientifiques chinois, d\\u2019ici 2028, une exp\\u00e9rience de transfert de haute tension dans l'espace et de transmission d'\\u00e9nergie sans fil pourrait \\u00eatre possible en orbite terrestre.\\nDeux gigawatts d'\\u00e9lectricit\\u00e9 en 2050 \\nLa capacit\\u00e9 de production du satellite pourrait \\u00eatre de 10 kilowatts. Il pourrait \\u00eatre en mesure de transporter un quart des r\\u00e9seaux de cellules solaires. Deux ans plus tard, les scientifiques esp\\u00e8rent que le satellite produise 10 fois plus de kilowatts. Le but est qu\\u2019en 2050, une centrale commerciale soit construite avec une capacit\\u00e9 de production de deux gigawatts d'\\u00e9lectricit\\u00e9.\",\n          \"L\\u2019ANSD rel\\u00e8ve une progression de 0, 8 % de l\\u2019inflation au premier trimestre\\n\\nDakar, 12 juil (APS) \\u2013 Les prix \\u00e0 la consommation ont augment\\u00e9 de 0, 8\\u00a0% au premier trimestre de l\\u2019ann\\u00e9e 2022 par rapport \\u00e0 celui pr\\u00e9c\\u00e9dent, a-t-on appris mardi de l\\u2019Agence nationale de la statistique et de la d\\u00e9mographie.\\n\\nCette hausse est essentiellement expliqu\\u00e9e par celle des prix des\\u00a0produits alimentaires et boissons non alcoolis\\u00e9es (1,1%), des services de restaurants et h\\u00f4tels (1,4%), des meubles, articles de m\\u00e9nage et entretien courant du foyer (+0,8%), signale l\\u2019ANSD dans une note sur les \\u00e9volutions r\\u00e9centes de l\\u2019\\u00e9conomie s\\u00e9n\\u00e9galaise.\\n\\nCette progression des prix \\u00e0 la consommation est \\u00e9galement avec le rel\\u00e8vement des co\\u00fbts des\\u00a0boissons alcoolis\\u00e9es, tabac et stup\\u00e9fiants (0,8\\u00a0%) et des articles d\\u2019habillement et chaussures (0,7\\u00a0%), alors que la\\u00a0baisse importante des prix des services de communication (-2,9\\u00a0%) a att\\u00e9nu\\u00e9 cette inflation.\\n\\n\\u2018\\u2019En comparaison au premier trimestre de 2021, les prix \\u00e0 la consommation se sont accrus de 6,1%, en relation avec la hausse des prix dans toutes les fonctions de consommation hormis les services de communication (-2,9%)\\u2019\\u2019, souligne le rapport rendu public mardi.\\n\\nAKS\"\n        ],\n        \"semantic_type\": \"\",\n        \"description\": \"\"\n      }\n    }\n  ]\n}"
            }
          },
          "metadata": {}
        },
        {
          "output_type": "display_data",
          "data": {
            "text/plain": [
              "           id                                               text  label\n",
              "0  HO8KNVZ6QF  Le plan d’autonomie est une “solution de compr...    NaN\n",
              "1  N7HP3S8B9V  Un quatuor béninois pour arbitrer Mali U23 vs ...    NaN\n",
              "2  ORG3BSXN7V   distinguée femme leader de l’année 2022\\n\\nLa...    NaN\n",
              "3  ULGT4CHQHH  La CCI Bénin signe avec les CCI de Bahreïn et ...    NaN\n",
              "4  2HTTXAR4Q8  RADARISTES EST TROP !\\n\\nOncle AGBAYA\\nOn vous...    NaN"
            ],
            "text/html": [
              "\n",
              "  <div id=\"df-c8c21fcb-0553-4367-9572-74c8f227484b\" class=\"colab-df-container\">\n",
              "    <div>\n",
              "<style scoped>\n",
              "    .dataframe tbody tr th:only-of-type {\n",
              "        vertical-align: middle;\n",
              "    }\n",
              "\n",
              "    .dataframe tbody tr th {\n",
              "        vertical-align: top;\n",
              "    }\n",
              "\n",
              "    .dataframe thead th {\n",
              "        text-align: right;\n",
              "    }\n",
              "</style>\n",
              "<table border=\"1\" class=\"dataframe\">\n",
              "  <thead>\n",
              "    <tr style=\"text-align: right;\">\n",
              "      <th></th>\n",
              "      <th>id</th>\n",
              "      <th>text</th>\n",
              "      <th>label</th>\n",
              "    </tr>\n",
              "  </thead>\n",
              "  <tbody>\n",
              "    <tr>\n",
              "      <th>0</th>\n",
              "      <td>HO8KNVZ6QF</td>\n",
              "      <td>Le plan d’autonomie est une “solution de compr...</td>\n",
              "      <td>NaN</td>\n",
              "    </tr>\n",
              "    <tr>\n",
              "      <th>1</th>\n",
              "      <td>N7HP3S8B9V</td>\n",
              "      <td>Un quatuor béninois pour arbitrer Mali U23 vs ...</td>\n",
              "      <td>NaN</td>\n",
              "    </tr>\n",
              "    <tr>\n",
              "      <th>2</th>\n",
              "      <td>ORG3BSXN7V</td>\n",
              "      <td>distinguée femme leader de l’année 2022\\n\\nLa...</td>\n",
              "      <td>NaN</td>\n",
              "    </tr>\n",
              "    <tr>\n",
              "      <th>3</th>\n",
              "      <td>ULGT4CHQHH</td>\n",
              "      <td>La CCI Bénin signe avec les CCI de Bahreïn et ...</td>\n",
              "      <td>NaN</td>\n",
              "    </tr>\n",
              "    <tr>\n",
              "      <th>4</th>\n",
              "      <td>2HTTXAR4Q8</td>\n",
              "      <td>RADARISTES EST TROP !\\n\\nOncle AGBAYA\\nOn vous...</td>\n",
              "      <td>NaN</td>\n",
              "    </tr>\n",
              "  </tbody>\n",
              "</table>\n",
              "</div>\n",
              "    <div class=\"colab-df-buttons\">\n",
              "\n",
              "  <div class=\"colab-df-container\">\n",
              "    <button class=\"colab-df-convert\" onclick=\"convertToInteractive('df-c8c21fcb-0553-4367-9572-74c8f227484b')\"\n",
              "            title=\"Convert this dataframe to an interactive table.\"\n",
              "            style=\"display:none;\">\n",
              "\n",
              "  <svg xmlns=\"http://www.w3.org/2000/svg\" height=\"24px\" viewBox=\"0 -960 960 960\">\n",
              "    <path d=\"M120-120v-720h720v720H120Zm60-500h600v-160H180v160Zm220 220h160v-160H400v160Zm0 220h160v-160H400v160ZM180-400h160v-160H180v160Zm440 0h160v-160H620v160ZM180-180h160v-160H180v160Zm440 0h160v-160H620v160Z\"/>\n",
              "  </svg>\n",
              "    </button>\n",
              "\n",
              "  <style>\n",
              "    .colab-df-container {\n",
              "      display:flex;\n",
              "      gap: 12px;\n",
              "    }\n",
              "\n",
              "    .colab-df-convert {\n",
              "      background-color: #E8F0FE;\n",
              "      border: none;\n",
              "      border-radius: 50%;\n",
              "      cursor: pointer;\n",
              "      display: none;\n",
              "      fill: #1967D2;\n",
              "      height: 32px;\n",
              "      padding: 0 0 0 0;\n",
              "      width: 32px;\n",
              "    }\n",
              "\n",
              "    .colab-df-convert:hover {\n",
              "      background-color: #E2EBFA;\n",
              "      box-shadow: 0px 1px 2px rgba(60, 64, 67, 0.3), 0px 1px 3px 1px rgba(60, 64, 67, 0.15);\n",
              "      fill: #174EA6;\n",
              "    }\n",
              "\n",
              "    .colab-df-buttons div {\n",
              "      margin-bottom: 4px;\n",
              "    }\n",
              "\n",
              "    [theme=dark] .colab-df-convert {\n",
              "      background-color: #3B4455;\n",
              "      fill: #D2E3FC;\n",
              "    }\n",
              "\n",
              "    [theme=dark] .colab-df-convert:hover {\n",
              "      background-color: #434B5C;\n",
              "      box-shadow: 0px 1px 3px 1px rgba(0, 0, 0, 0.15);\n",
              "      filter: drop-shadow(0px 1px 2px rgba(0, 0, 0, 0.3));\n",
              "      fill: #FFFFFF;\n",
              "    }\n",
              "  </style>\n",
              "\n",
              "    <script>\n",
              "      const buttonEl =\n",
              "        document.querySelector('#df-c8c21fcb-0553-4367-9572-74c8f227484b button.colab-df-convert');\n",
              "      buttonEl.style.display =\n",
              "        google.colab.kernel.accessAllowed ? 'block' : 'none';\n",
              "\n",
              "      async function convertToInteractive(key) {\n",
              "        const element = document.querySelector('#df-c8c21fcb-0553-4367-9572-74c8f227484b');\n",
              "        const dataTable =\n",
              "          await google.colab.kernel.invokeFunction('convertToInteractive',\n",
              "                                                    [key], {});\n",
              "        if (!dataTable) return;\n",
              "\n",
              "        const docLinkHtml = 'Like what you see? Visit the ' +\n",
              "          '<a target=\"_blank\" href=https://colab.research.google.com/notebooks/data_table.ipynb>data table notebook</a>'\n",
              "          + ' to learn more about interactive tables.';\n",
              "        element.innerHTML = '';\n",
              "        dataTable['output_type'] = 'display_data';\n",
              "        await google.colab.output.renderOutput(dataTable, element);\n",
              "        const docLink = document.createElement('div');\n",
              "        docLink.innerHTML = docLinkHtml;\n",
              "        element.appendChild(docLink);\n",
              "      }\n",
              "    </script>\n",
              "  </div>\n",
              "\n",
              "\n",
              "<div id=\"df-7bed1a25-e4f1-4b70-9e5f-db3e92a0a99e\">\n",
              "  <button class=\"colab-df-quickchart\" onclick=\"quickchart('df-7bed1a25-e4f1-4b70-9e5f-db3e92a0a99e')\"\n",
              "            title=\"Suggest charts\"\n",
              "            style=\"display:none;\">\n",
              "\n",
              "<svg xmlns=\"http://www.w3.org/2000/svg\" height=\"24px\"viewBox=\"0 0 24 24\"\n",
              "     width=\"24px\">\n",
              "    <g>\n",
              "        <path d=\"M19 3H5c-1.1 0-2 .9-2 2v14c0 1.1.9 2 2 2h14c1.1 0 2-.9 2-2V5c0-1.1-.9-2-2-2zM9 17H7v-7h2v7zm4 0h-2V7h2v10zm4 0h-2v-4h2v4z\"/>\n",
              "    </g>\n",
              "</svg>\n",
              "  </button>\n",
              "\n",
              "<style>\n",
              "  .colab-df-quickchart {\n",
              "      --bg-color: #E8F0FE;\n",
              "      --fill-color: #1967D2;\n",
              "      --hover-bg-color: #E2EBFA;\n",
              "      --hover-fill-color: #174EA6;\n",
              "      --disabled-fill-color: #AAA;\n",
              "      --disabled-bg-color: #DDD;\n",
              "  }\n",
              "\n",
              "  [theme=dark] .colab-df-quickchart {\n",
              "      --bg-color: #3B4455;\n",
              "      --fill-color: #D2E3FC;\n",
              "      --hover-bg-color: #434B5C;\n",
              "      --hover-fill-color: #FFFFFF;\n",
              "      --disabled-bg-color: #3B4455;\n",
              "      --disabled-fill-color: #666;\n",
              "  }\n",
              "\n",
              "  .colab-df-quickchart {\n",
              "    background-color: var(--bg-color);\n",
              "    border: none;\n",
              "    border-radius: 50%;\n",
              "    cursor: pointer;\n",
              "    display: none;\n",
              "    fill: var(--fill-color);\n",
              "    height: 32px;\n",
              "    padding: 0;\n",
              "    width: 32px;\n",
              "  }\n",
              "\n",
              "  .colab-df-quickchart:hover {\n",
              "    background-color: var(--hover-bg-color);\n",
              "    box-shadow: 0 1px 2px rgba(60, 64, 67, 0.3), 0 1px 3px 1px rgba(60, 64, 67, 0.15);\n",
              "    fill: var(--button-hover-fill-color);\n",
              "  }\n",
              "\n",
              "  .colab-df-quickchart-complete:disabled,\n",
              "  .colab-df-quickchart-complete:disabled:hover {\n",
              "    background-color: var(--disabled-bg-color);\n",
              "    fill: var(--disabled-fill-color);\n",
              "    box-shadow: none;\n",
              "  }\n",
              "\n",
              "  .colab-df-spinner {\n",
              "    border: 2px solid var(--fill-color);\n",
              "    border-color: transparent;\n",
              "    border-bottom-color: var(--fill-color);\n",
              "    animation:\n",
              "      spin 1s steps(1) infinite;\n",
              "  }\n",
              "\n",
              "  @keyframes spin {\n",
              "    0% {\n",
              "      border-color: transparent;\n",
              "      border-bottom-color: var(--fill-color);\n",
              "      border-left-color: var(--fill-color);\n",
              "    }\n",
              "    20% {\n",
              "      border-color: transparent;\n",
              "      border-left-color: var(--fill-color);\n",
              "      border-top-color: var(--fill-color);\n",
              "    }\n",
              "    30% {\n",
              "      border-color: transparent;\n",
              "      border-left-color: var(--fill-color);\n",
              "      border-top-color: var(--fill-color);\n",
              "      border-right-color: var(--fill-color);\n",
              "    }\n",
              "    40% {\n",
              "      border-color: transparent;\n",
              "      border-right-color: var(--fill-color);\n",
              "      border-top-color: var(--fill-color);\n",
              "    }\n",
              "    60% {\n",
              "      border-color: transparent;\n",
              "      border-right-color: var(--fill-color);\n",
              "    }\n",
              "    80% {\n",
              "      border-color: transparent;\n",
              "      border-right-color: var(--fill-color);\n",
              "      border-bottom-color: var(--fill-color);\n",
              "    }\n",
              "    90% {\n",
              "      border-color: transparent;\n",
              "      border-bottom-color: var(--fill-color);\n",
              "    }\n",
              "  }\n",
              "</style>\n",
              "\n",
              "  <script>\n",
              "    async function quickchart(key) {\n",
              "      const quickchartButtonEl =\n",
              "        document.querySelector('#' + key + ' button');\n",
              "      quickchartButtonEl.disabled = true;  // To prevent multiple clicks.\n",
              "      quickchartButtonEl.classList.add('colab-df-spinner');\n",
              "      try {\n",
              "        const charts = await google.colab.kernel.invokeFunction(\n",
              "            'suggestCharts', [key], {});\n",
              "      } catch (error) {\n",
              "        console.error('Error during call to suggestCharts:', error);\n",
              "      }\n",
              "      quickchartButtonEl.classList.remove('colab-df-spinner');\n",
              "      quickchartButtonEl.classList.add('colab-df-quickchart-complete');\n",
              "    }\n",
              "    (() => {\n",
              "      let quickchartButtonEl =\n",
              "        document.querySelector('#df-7bed1a25-e4f1-4b70-9e5f-db3e92a0a99e button');\n",
              "      quickchartButtonEl.style.display =\n",
              "        google.colab.kernel.accessAllowed ? 'block' : 'none';\n",
              "    })();\n",
              "  </script>\n",
              "</div>\n",
              "    </div>\n",
              "  </div>\n"
            ],
            "application/vnd.google.colaboratory.intrinsic+json": {
              "type": "dataframe",
              "summary": "{\n  \"name\": \"print(label_counts)\",\n  \"rows\": 5,\n  \"fields\": [\n    {\n      \"column\": \"id\",\n      \"properties\": {\n        \"dtype\": \"string\",\n        \"num_unique_values\": 5,\n        \"samples\": [\n          \"N7HP3S8B9V\",\n          \"2HTTXAR4Q8\",\n          \"ORG3BSXN7V\"\n        ],\n        \"semantic_type\": \"\",\n        \"description\": \"\"\n      }\n    },\n    {\n      \"column\": \"text\",\n      \"properties\": {\n        \"dtype\": \"string\",\n        \"num_unique_values\": 5,\n        \"samples\": [\n          \"Un quatuor b\\u00e9ninois pour arbitrer Mali U23 vs Rwanda U23\\n\\nLe sifflet b\\u00e9ninois sera \\u00e0 l\\u2019honneur le 29 octobre 2022 au Stade du 26 Mars de Bamako dans le cadre du match Mali U23 vs Rwanda U23.\\nQuatre arbitre  ont \\u00e9t\\u00e9 retenus par la commission des arbitres de la Conf\\u00e9d\\u00e9ration Africaine de Football pour siffler le match Mali U23 vs Rwanda U23 pr\\u00e9vu pour le 29 octobre 2022 au Stade du 26 Mars de Bamako.\\nL\\u2019arbitre central est . Il sera assist\\u00e9 de  et de  respectivement premier et deuxi\\u00e8me assistant. Le quatri\\u00e8me officiel est .\\nLa d\\u00e9signation d\\u2019un quatuor B\\u00e9ninois est le signe que le sifflet b\\u00e9ninois est reconnu par l\\u2019instance africaine de football.\\n\\n ; L'information en temps r\\u00e9el\\n21 octobre 2022 par \",\n          \"RADARISTES EST TROP !\\n\\nOncle AGBAYA\\nOn vous l\\u2019avait bien dit, mon  dirige un pays de pagailleurs avec des pagailleurs partout\\u00a0! Sinon il faut quand m\\u00eame \\u00eatre un peu rustre pour appuyer sur le champignon en roulant sur le boulevard de la Marina, comme sur une vulgaire route de contrebande \\u00e0 MEDEDJONOU, alors qu\\u2019il y a tant de belles choses \\u00e0 voir sur cette avenue, sans conteste, la plus belle d\\u2019Afrique...\\nMais cela justifie -t-il, que dans le cadre de la r\\u00e9pression de l\\u2019exc\\u00e8s de vitesse, mon Neveu \\u00e9toil\\u00e9 Yaya SOUMAILA, pour un seul radar mobile braqu\\u00e9 comme un fusil au milieu de la voie d\\u00e9ploie pas moins de vingt policiers, dont certains jouissifs tendent les re\\u00e7us des contraventions\\u00a0? C\\u2019est s\\u00fbr que Mon Neveu PATOU pense certainement \\u00e0 terme, d\\u00e9ployer sur ces voies, des radars fixes flashants, pour des contraventions automatiques en sms ou dans vos boites mail...\\nMais en attendant, vous tous mes Neveux et  qui dites sous les radars que La Police va alors regretter ses frais de fourri\\u00e8res d\\u2019aujourd\\u2019hui, vous \\u00eates des pagailleurs\\u00a0!\\nVotre Oncle AGBAYA\\n ; L'information en temps r\\u00e9el\\n20 octobre 2022 par \",\n          \" distingu\\u00e9e femme leader de l\\u2019ann\\u00e9e 2022\\n\\nLa c\\u00e9r\\u00e9monie de remise des prix Choiseul Africa Award a eu lieu ce jeudi 20 octobre 2022 \\u00e0 Casablanca, Maroc. La vice-pr\\u00e9sidente de la R\\u00e9publique du B\\u00e9nin,  \\u00e9pouse , a re\\u00e7u le prix \\\"Femme leader de l\\u2019ann\\u00e9e\\\".\\nDistinction pour , vice-pr\\u00e9sidente de la R\\u00e9publique du B\\u00e9nin. Elle fait partie des personnalit\\u00e9s honor\\u00e9es lors de la c\\u00e9r\\u00e9monie de remise de prix \\u2018\\u2019Choiseul Award Africa\\u2019\\u2019, dans le cadre de la troisi\\u00e8me \\u00e9dition \\u2018\\u2019Choiseul Africa Business Forum 2022\\u2019\\u2019. La grande chanceli\\u00e8re de l\\u2019ordre national du B\\u00e9nin a re\\u00e7u le prix de la\\u2019\\u2019 femme leader de l\\u2019ann\\u00e9e 2022\\u2019\\u2019.\\nChoiseul Africa Business Forum est \\u00ab\\u00a0une plateforme consacr\\u00e9e au d\\u00e9veloppement des opportunit\\u00e9s d\\u2019affaires en Afrique et avec l\\u2019Afrique, ainsi qu\\u2019au partage d\\u2019exp\\u00e9riences et au d\\u00e9cryptage des tendances \\u00e0 l\\u2019\\u0153uvre dans le monde des affaires du continent\\u00a0\\u00bb. Organis\\u00e9 sous le Haut Patronage de Sa Majest\\u00e9 le Roi  par l\\u2019Institut Choiseul en partenariat avec la Conf\\u00e9d\\u00e9ration G\\u00e9n\\u00e9rale des Entreprises du Maroc (CGEM) et la R\\u00e9gion Casablanca, l\\u2019\\u00e9dition 2022 a a eu lieu les 19 et 20 octobre 2022. Elle a r\\u00e9uni des d\\u00e9cideurs et hauts dirigeants \\u00e9conomiques et institutionnels.\\nA.Ayosso\\n ; L'information en temps r\\u00e9el\\n21 octobre 2022 par \"\n        ],\n        \"semantic_type\": \"\",\n        \"description\": \"\"\n      }\n    },\n    {\n      \"column\": \"label\",\n      \"properties\": {\n        \"dtype\": \"number\",\n        \"std\": null,\n        \"min\": null,\n        \"max\": null,\n        \"num_unique_values\": 0,\n        \"samples\": [],\n        \"semantic_type\": \"\",\n        \"description\": \"\"\n      }\n    }\n  ]\n}"
            }
          },
          "metadata": {}
        },
        {
          "output_type": "stream",
          "name": "stdout",
          "text": [
            "Counts of each label:\n",
            "1    170\n",
            "0    164\n",
            "Name: label, dtype: int64\n"
          ]
        }
      ]
    },
    {
      "cell_type": "code",
      "source": [
        "\n",
        "# Split the initial DataFrame into train+validation and test sets\n",
        "train_val_df, test_df = train_test_split(\n",
        "    labeled_df,\n",
        "    test_size=0.2,  # 20% of the data goes to the test set\n",
        "    stratify=labeled_df['label'],  # Stratify split by the 'label' column to maintain label distribution\n",
        "    random_state=42  # For reproducibility\n",
        ")\n",
        "\n",
        "# Optionally, drop the 'id' column or any other columns not needed for training\n",
        "train_val_df = train_val_df.drop(columns=['id'])\n",
        "test_df = test_df.drop(columns=['id'])\n",
        "\n",
        "\n",
        "# Further split the train_val_df into actual training and validation sets\n",
        "train_df, val_df = train_test_split(\n",
        "    train_val_df,\n",
        "    test_size=0.25,  # Assuming you want 80/20 split for train/validation from the original 80% train_val set\n",
        "    stratify=train_val_df['label'],  # Stratify by 'label' to maintain distribution\n",
        "    random_state=42  # For reproducibility\n",
        ")\n",
        "\n",
        "# Display the first few rows of the train and test DataFrames to verify everything looks correct\n",
        "display(train_df.head())\n",
        "display(val_df.head())\n",
        "display(test_df.head())\n",
        "\n",
        "# Print the shapes of the new DataFrames to verify the split\n",
        "print(f\"Train set shape: {train_val_df['label'].value_counts()}\")\n",
        "print(f\"Validation set shape: {val_df['label'].value_counts()}\")\n",
        "print(f\"Test set shape: {test_df['label'].value_counts()}\")"
      ],
      "metadata": {
        "colab": {
          "base_uri": "https://localhost:8080/",
          "height": 731
        },
        "id": "TrZs82_9Eimm",
        "outputId": "10fd46a6-a528-4d67-9fbf-0c727b9cf63a"
      },
      "execution_count": null,
      "outputs": [
        {
          "output_type": "display_data",
          "data": {
            "text/plain": [
              "     label                                               text\n",
              "151      0  Foire départementale sur l’énergie solaire :  ...\n",
              "268      0  Conseil des ministres au Bénin : confection de...\n",
              "250      0  Exploitation du sable : \" Nous avons atteint l...\n",
              "264      0  Commerce extérieur : baisse des exportations d...\n",
              "288      1  Bénin : un programme national de développement..."
            ],
            "text/html": [
              "\n",
              "  <div id=\"df-1485bc4e-1c8b-4643-a4cc-bdde7e1120b2\" class=\"colab-df-container\">\n",
              "    <div>\n",
              "<style scoped>\n",
              "    .dataframe tbody tr th:only-of-type {\n",
              "        vertical-align: middle;\n",
              "    }\n",
              "\n",
              "    .dataframe tbody tr th {\n",
              "        vertical-align: top;\n",
              "    }\n",
              "\n",
              "    .dataframe thead th {\n",
              "        text-align: right;\n",
              "    }\n",
              "</style>\n",
              "<table border=\"1\" class=\"dataframe\">\n",
              "  <thead>\n",
              "    <tr style=\"text-align: right;\">\n",
              "      <th></th>\n",
              "      <th>label</th>\n",
              "      <th>text</th>\n",
              "    </tr>\n",
              "  </thead>\n",
              "  <tbody>\n",
              "    <tr>\n",
              "      <th>151</th>\n",
              "      <td>0</td>\n",
              "      <td>Foire départementale sur l’énergie solaire :  ...</td>\n",
              "    </tr>\n",
              "    <tr>\n",
              "      <th>268</th>\n",
              "      <td>0</td>\n",
              "      <td>Conseil des ministres au Bénin : confection de...</td>\n",
              "    </tr>\n",
              "    <tr>\n",
              "      <th>250</th>\n",
              "      <td>0</td>\n",
              "      <td>Exploitation du sable : \" Nous avons atteint l...</td>\n",
              "    </tr>\n",
              "    <tr>\n",
              "      <th>264</th>\n",
              "      <td>0</td>\n",
              "      <td>Commerce extérieur : baisse des exportations d...</td>\n",
              "    </tr>\n",
              "    <tr>\n",
              "      <th>288</th>\n",
              "      <td>1</td>\n",
              "      <td>Bénin : un programme national de développement...</td>\n",
              "    </tr>\n",
              "  </tbody>\n",
              "</table>\n",
              "</div>\n",
              "    <div class=\"colab-df-buttons\">\n",
              "\n",
              "  <div class=\"colab-df-container\">\n",
              "    <button class=\"colab-df-convert\" onclick=\"convertToInteractive('df-1485bc4e-1c8b-4643-a4cc-bdde7e1120b2')\"\n",
              "            title=\"Convert this dataframe to an interactive table.\"\n",
              "            style=\"display:none;\">\n",
              "\n",
              "  <svg xmlns=\"http://www.w3.org/2000/svg\" height=\"24px\" viewBox=\"0 -960 960 960\">\n",
              "    <path d=\"M120-120v-720h720v720H120Zm60-500h600v-160H180v160Zm220 220h160v-160H400v160Zm0 220h160v-160H400v160ZM180-400h160v-160H180v160Zm440 0h160v-160H620v160ZM180-180h160v-160H180v160Zm440 0h160v-160H620v160Z\"/>\n",
              "  </svg>\n",
              "    </button>\n",
              "\n",
              "  <style>\n",
              "    .colab-df-container {\n",
              "      display:flex;\n",
              "      gap: 12px;\n",
              "    }\n",
              "\n",
              "    .colab-df-convert {\n",
              "      background-color: #E8F0FE;\n",
              "      border: none;\n",
              "      border-radius: 50%;\n",
              "      cursor: pointer;\n",
              "      display: none;\n",
              "      fill: #1967D2;\n",
              "      height: 32px;\n",
              "      padding: 0 0 0 0;\n",
              "      width: 32px;\n",
              "    }\n",
              "\n",
              "    .colab-df-convert:hover {\n",
              "      background-color: #E2EBFA;\n",
              "      box-shadow: 0px 1px 2px rgba(60, 64, 67, 0.3), 0px 1px 3px 1px rgba(60, 64, 67, 0.15);\n",
              "      fill: #174EA6;\n",
              "    }\n",
              "\n",
              "    .colab-df-buttons div {\n",
              "      margin-bottom: 4px;\n",
              "    }\n",
              "\n",
              "    [theme=dark] .colab-df-convert {\n",
              "      background-color: #3B4455;\n",
              "      fill: #D2E3FC;\n",
              "    }\n",
              "\n",
              "    [theme=dark] .colab-df-convert:hover {\n",
              "      background-color: #434B5C;\n",
              "      box-shadow: 0px 1px 3px 1px rgba(0, 0, 0, 0.15);\n",
              "      filter: drop-shadow(0px 1px 2px rgba(0, 0, 0, 0.3));\n",
              "      fill: #FFFFFF;\n",
              "    }\n",
              "  </style>\n",
              "\n",
              "    <script>\n",
              "      const buttonEl =\n",
              "        document.querySelector('#df-1485bc4e-1c8b-4643-a4cc-bdde7e1120b2 button.colab-df-convert');\n",
              "      buttonEl.style.display =\n",
              "        google.colab.kernel.accessAllowed ? 'block' : 'none';\n",
              "\n",
              "      async function convertToInteractive(key) {\n",
              "        const element = document.querySelector('#df-1485bc4e-1c8b-4643-a4cc-bdde7e1120b2');\n",
              "        const dataTable =\n",
              "          await google.colab.kernel.invokeFunction('convertToInteractive',\n",
              "                                                    [key], {});\n",
              "        if (!dataTable) return;\n",
              "\n",
              "        const docLinkHtml = 'Like what you see? Visit the ' +\n",
              "          '<a target=\"_blank\" href=https://colab.research.google.com/notebooks/data_table.ipynb>data table notebook</a>'\n",
              "          + ' to learn more about interactive tables.';\n",
              "        element.innerHTML = '';\n",
              "        dataTable['output_type'] = 'display_data';\n",
              "        await google.colab.output.renderOutput(dataTable, element);\n",
              "        const docLink = document.createElement('div');\n",
              "        docLink.innerHTML = docLinkHtml;\n",
              "        element.appendChild(docLink);\n",
              "      }\n",
              "    </script>\n",
              "  </div>\n",
              "\n",
              "\n",
              "<div id=\"df-60b690c9-ea8d-4e33-9873-040c65d0b2fc\">\n",
              "  <button class=\"colab-df-quickchart\" onclick=\"quickchart('df-60b690c9-ea8d-4e33-9873-040c65d0b2fc')\"\n",
              "            title=\"Suggest charts\"\n",
              "            style=\"display:none;\">\n",
              "\n",
              "<svg xmlns=\"http://www.w3.org/2000/svg\" height=\"24px\"viewBox=\"0 0 24 24\"\n",
              "     width=\"24px\">\n",
              "    <g>\n",
              "        <path d=\"M19 3H5c-1.1 0-2 .9-2 2v14c0 1.1.9 2 2 2h14c1.1 0 2-.9 2-2V5c0-1.1-.9-2-2-2zM9 17H7v-7h2v7zm4 0h-2V7h2v10zm4 0h-2v-4h2v4z\"/>\n",
              "    </g>\n",
              "</svg>\n",
              "  </button>\n",
              "\n",
              "<style>\n",
              "  .colab-df-quickchart {\n",
              "      --bg-color: #E8F0FE;\n",
              "      --fill-color: #1967D2;\n",
              "      --hover-bg-color: #E2EBFA;\n",
              "      --hover-fill-color: #174EA6;\n",
              "      --disabled-fill-color: #AAA;\n",
              "      --disabled-bg-color: #DDD;\n",
              "  }\n",
              "\n",
              "  [theme=dark] .colab-df-quickchart {\n",
              "      --bg-color: #3B4455;\n",
              "      --fill-color: #D2E3FC;\n",
              "      --hover-bg-color: #434B5C;\n",
              "      --hover-fill-color: #FFFFFF;\n",
              "      --disabled-bg-color: #3B4455;\n",
              "      --disabled-fill-color: #666;\n",
              "  }\n",
              "\n",
              "  .colab-df-quickchart {\n",
              "    background-color: var(--bg-color);\n",
              "    border: none;\n",
              "    border-radius: 50%;\n",
              "    cursor: pointer;\n",
              "    display: none;\n",
              "    fill: var(--fill-color);\n",
              "    height: 32px;\n",
              "    padding: 0;\n",
              "    width: 32px;\n",
              "  }\n",
              "\n",
              "  .colab-df-quickchart:hover {\n",
              "    background-color: var(--hover-bg-color);\n",
              "    box-shadow: 0 1px 2px rgba(60, 64, 67, 0.3), 0 1px 3px 1px rgba(60, 64, 67, 0.15);\n",
              "    fill: var(--button-hover-fill-color);\n",
              "  }\n",
              "\n",
              "  .colab-df-quickchart-complete:disabled,\n",
              "  .colab-df-quickchart-complete:disabled:hover {\n",
              "    background-color: var(--disabled-bg-color);\n",
              "    fill: var(--disabled-fill-color);\n",
              "    box-shadow: none;\n",
              "  }\n",
              "\n",
              "  .colab-df-spinner {\n",
              "    border: 2px solid var(--fill-color);\n",
              "    border-color: transparent;\n",
              "    border-bottom-color: var(--fill-color);\n",
              "    animation:\n",
              "      spin 1s steps(1) infinite;\n",
              "  }\n",
              "\n",
              "  @keyframes spin {\n",
              "    0% {\n",
              "      border-color: transparent;\n",
              "      border-bottom-color: var(--fill-color);\n",
              "      border-left-color: var(--fill-color);\n",
              "    }\n",
              "    20% {\n",
              "      border-color: transparent;\n",
              "      border-left-color: var(--fill-color);\n",
              "      border-top-color: var(--fill-color);\n",
              "    }\n",
              "    30% {\n",
              "      border-color: transparent;\n",
              "      border-left-color: var(--fill-color);\n",
              "      border-top-color: var(--fill-color);\n",
              "      border-right-color: var(--fill-color);\n",
              "    }\n",
              "    40% {\n",
              "      border-color: transparent;\n",
              "      border-right-color: var(--fill-color);\n",
              "      border-top-color: var(--fill-color);\n",
              "    }\n",
              "    60% {\n",
              "      border-color: transparent;\n",
              "      border-right-color: var(--fill-color);\n",
              "    }\n",
              "    80% {\n",
              "      border-color: transparent;\n",
              "      border-right-color: var(--fill-color);\n",
              "      border-bottom-color: var(--fill-color);\n",
              "    }\n",
              "    90% {\n",
              "      border-color: transparent;\n",
              "      border-bottom-color: var(--fill-color);\n",
              "    }\n",
              "  }\n",
              "</style>\n",
              "\n",
              "  <script>\n",
              "    async function quickchart(key) {\n",
              "      const quickchartButtonEl =\n",
              "        document.querySelector('#' + key + ' button');\n",
              "      quickchartButtonEl.disabled = true;  // To prevent multiple clicks.\n",
              "      quickchartButtonEl.classList.add('colab-df-spinner');\n",
              "      try {\n",
              "        const charts = await google.colab.kernel.invokeFunction(\n",
              "            'suggestCharts', [key], {});\n",
              "      } catch (error) {\n",
              "        console.error('Error during call to suggestCharts:', error);\n",
              "      }\n",
              "      quickchartButtonEl.classList.remove('colab-df-spinner');\n",
              "      quickchartButtonEl.classList.add('colab-df-quickchart-complete');\n",
              "    }\n",
              "    (() => {\n",
              "      let quickchartButtonEl =\n",
              "        document.querySelector('#df-60b690c9-ea8d-4e33-9873-040c65d0b2fc button');\n",
              "      quickchartButtonEl.style.display =\n",
              "        google.colab.kernel.accessAllowed ? 'block' : 'none';\n",
              "    })();\n",
              "  </script>\n",
              "</div>\n",
              "    </div>\n",
              "  </div>\n"
            ],
            "application/vnd.google.colaboratory.intrinsic+json": {
              "type": "dataframe",
              "summary": "{\n  \"name\": \"print(f\\\"Test set shape: {test_df['label']\",\n  \"rows\": 5,\n  \"fields\": [\n    {\n      \"column\": \"label\",\n      \"properties\": {\n        \"dtype\": \"number\",\n        \"std\": 0,\n        \"min\": 0,\n        \"max\": 1,\n        \"num_unique_values\": 2,\n        \"samples\": [\n          1,\n          0\n        ],\n        \"semantic_type\": \"\",\n        \"description\": \"\"\n      }\n    },\n    {\n      \"column\": \"text\",\n      \"properties\": {\n        \"dtype\": \"string\",\n        \"num_unique_values\": 5,\n        \"samples\": [\n          \"Conseil des ministres au B\\u00e9nin : confection de la Liste Electorale Informatis\\u00e9e (LEI)\\n\\nLe Conseil des Ministres s'est r\\u00e9uni mercredi, le 24 novembre 2021, sous la pr\\u00e9sidence de , , Chef de l'\\u00c9tat, . Les d\\u00e9cisions ci-apr\\u00e8s ont \\u00e9t\\u00e9 prises\\u00a0:\\n\\nI-\\u00a0MESURES NORMATIVES.\\nAdoption du d\\u00e9cret portant r\\u00e8gles de coordination des r\\u00e9gimes de retraite entre la Caisse nationale de S\\u00e9curit\\u00e9 sociale et le Fonds national des Retraites\\u00a0du B\\u00e9nin.\\n\\nCe d\\u00e9cret vient combler l\\u2019absence de texte d\\u2019application permettant l\\u2019ouverture des droits \\u00e0 pension de retraite pour les travailleurs ayant \\u00e9t\\u00e9 affili\\u00e9s, durant leur carri\\u00e8re, aussi bien \\u00e0 la Caisse nationale de S\\u00e9curit\\u00e9 sociale qu\\u2019au Fonds national des Retraites du B\\u00e9nin.En effet, les lois portant Code de s\\u00e9curit\\u00e9 sociale et Code des pensions civiles et militaires de retraite en R\\u00e9publique du B\\u00e9nin ont pr\\u00e9vu la mise en place d\\u2019un m\\u00e9canisme de coordination pour favoriser le maintien des droits.\\nC\\u2019est donc pour traduire dans la r\\u00e9alit\\u00e9 ces dispositions l\\u00e9gales que le pr\\u00e9sent d\\u00e9cret est adopt\\u00e9. D\\u00e9sormais, les droits acquis par les agents ayant cotis\\u00e9 successivement ou alternativement aupr\\u00e8s des deux organismes seront sauvegard\\u00e9s et pris en compte dans la d\\u00e9termination des p\\u00e9riodes de cotisations, la liquidation des prestations de vieillesse, d\\u2019invalidit\\u00e9 ou de survivants.Le ministre du Travail et de la Fonction Publique assurera, en relation avec le ministre de l\\u2019Economie et des Finances, son application effective.Au titre des autres mesures normatives, le Conseil a adopt\\u00e9 les d\\u00e9crets portant\\u00a0:\\napprobation des statuts modifi\\u00e9s et augmentation du capital de la Soci\\u00e9t\\u00e9 des Infrastructures routi\\u00e8res du B\\u00e9nin devenue \\u00ab\\u00a0Soci\\u00e9t\\u00e9 des Infrastructures routi\\u00e8res et de l\\u2019Am\\u00e9nagement du Territoire (SIRAT) S.A.\\u00a0\\u00bb,par absorption de l\\u2019Agence du Cadre de Vie pour le D\\u00e9veloppement du Territoire\\u00a0;nomination des membres du Conseil d\\u2019administration de la Soci\\u00e9t\\u00e9 des Infrastructures routi\\u00e8res et de l\\u2019Am\\u00e9nagement du Territoire.\\nII-\\u00a0COMMUNICATIONS.\\nII-1.\\u00a0Contractualisation pour la r\\u00e9alisation de huit forages d\\u2019exploitation et de deux pi\\u00e9zom\\u00e8tres dans le cadre du projet de renforcement du syst\\u00e8me d\\u2019alimentation en eau potable de la ville de Ouidah et ses environs.\\n\\nDans le but d\\u2019assurer convenablement la desserte en eau potable des sites abritant les infrastructures touristiques qui se mettent en place dans cette ville, il s\\u2019est av\\u00e9r\\u00e9 imp\\u00e9rieux de relever la capacit\\u00e9 de production qui est de 235 m3/h pour un besoin de 300 m3/h.Les pr\\u00e9sents travaux visent donc \\u00e0 renforcer le syst\\u00e8me actuel d\\u2019alimentation en augmentant sa capacit\\u00e9 de production, de traitement, de stockage ainsi que l\\u2019extension du r\\u00e9seau de distribution.Les travaux consisteront notamment, outre la r\\u00e9alisation de huit nouveaux forages et de deux pi\\u00e9zom\\u00e8tres, \\u00e0\\u00a0:\\nfournir et installer des \\u00e9quipements hydrauliques, \\u00e9lectriques et \\u00e9lectrom\\u00e9caniques des huit forages\\u00a0;construire et \\u00e9quiper une station de traitement d\\u2019eau potable d\\u2019au moins 800 m3/h\\u00a0;construire un nouveau r\\u00e9servoir semi-enterr\\u00e9 de 1.000 m3\\u00a0et un nouveau ch\\u00e2teau d\\u2019eau de 1750 m3\\u00a0;fournir et poser des conduites et accessoires\\u00a0;mettre en place un syst\\u00e8me de t\\u00e9l\\u00e9gestion.\\nLe ministre de l\\u2019Eau et des Mines veillera au respect des clauses contractuelles dans la r\\u00e9alisation des travaux par l\\u2019entreprise s\\u00e9lectionn\\u00e9e.\\nII-2.\\u00a0Confection de la Liste Electorale Informatis\\u00e9e (LEI).\\n\\nConform\\u00e9ment aux dispositions l\\u00e9gales, la Liste Electorale Permanente Informatis\\u00e9e (LEPI) a expir\\u00e9 \\u00e0 l\\u2019occasion de l\\u2019\\u00e9lection pr\\u00e9sidentielle d\\u2019avril 2021.Aux termes de la loi n\\u00b0 2019-43 du 15 novembre 2019 portant code \\u00e9lectoral en R\\u00e9publique du B\\u00e9nin, les \\u00e9lections doivent avoir lieu d\\u00e9sormais sur la base d\\u2019une Liste Electorale Informatis\\u00e9e \\u00e0 extraire du Registre national des personnes physiques.\\nEn vue de la mise \\u00e0 disposition de ladite liste dans les d\\u00e9lais impartis, le Conseil a approuv\\u00e9 le plan de r\\u00e9alisation qui projette \\u00e0 fin 2022, la disponibilit\\u00e9 de la LEI pour sa remise \\u00e0 la Commission \\u00e9lectorale nationale autonome en janvier 2023.Les diff\\u00e9rentes parties prenantes sont instruites \\u00e0 l\\u2019effet d\\u2019assurer la conduite diligente du processus.\\nII-3.\\u00a0Compte rendu de la premi\\u00e8re ann\\u00e9e de mise en \\u0153uvre du microcr\\u00e9dit  au profit des couches d\\u00e9munies.\\nLanc\\u00e9e en octobre 2020,\\u00a0cette formule de microcr\\u00e9dit bas\\u00e9e sur la digitalisation des processus de d\\u00e9boursement et de remboursement permet de simplifier les formalit\\u00e9s d\\u2019acc\\u00e8s aux ressources et de s\\u2019assurer que celles-ci sont effectivement d\\u00e9caiss\\u00e9es au profit des populations cibles.\\n\\nA la date du 30 septembre 2021, 106.484 b\\u00e9n\\u00e9ficiaires ont \\u00e9t\\u00e9 impact\\u00e9s sur tout le territoire national, pour un montant de 5,984 milliards de FCFA, ce qui traduit une mont\\u00e9e en charge progressive et satisfaisante du produit. Ainsi, \\u00e0 fin d\\u00e9cembre 2021, il est attendu 177.484 b\\u00e9n\\u00e9ficiaires pour un montant global de 8,760 milliards de FCFA.\\nPar ailleurs, sur la m\\u00eame p\\u00e9riode, le taux moyen de remboursement des syst\\u00e8mes financiers d\\u00e9centralis\\u00e9s (SFD) vers le Fonds national de Microfinance est de 106,2% tandis que celui des b\\u00e9n\\u00e9ficiaires vers les SFD varie de 88% \\u00e0 99,8% selon les d\\u00e9partements.En outre, pour consolider ces r\\u00e9sultats et g\\u00e9n\\u00e9rer plus d\\u2019impacts au profit des b\\u00e9n\\u00e9ficiaires, il est d\\u00e9j\\u00e0 engag\\u00e9\\u00a0:\\nl\\u2019int\\u00e9gration des num\\u00e9ros d\\u2019identification personnelle \\u00e0 la plateforme\\u00a0;le lancement de la phase II du microcr\\u00e9dit  pour les cr\\u00e9dits allant de 50.001 \\u00e0 100.000 FCFA\\u00a0;l\\u2019impl\\u00e9mentation du financement des artisans cible de l\\u2019Assurance pour le Renforcement du Capital humain (ARCH).\\nLe ministre des Affaires Sociales et de la Microfinance veillera \\u00e0 la poursuite de ces activit\\u00e9s afin d\\u2019atteindre les objectifs vis\\u00e9s.\\nRENCONTRES ET MANIFESTATIONS INTERNATIONALES.\\nLe Conseil a autoris\\u00e9\\u00a0l\\u2019organisation, \\u00e0 Cotonou en juin 2022, de l\\u2019International Africa Gaming Cup, en collaboration avec la soci\\u00e9t\\u00e9 Nicecactus.\\nIV- MESURES INDIVIDUELLES.\\nAu minist\\u00e8re de l\\u2019Industrie et du Commerce et sur proposition du ministre,\\u00a0monsieur  est nomm\\u00e9 Directeur des Syst\\u00e8mes d\\u2019Information.\\n\\nFait \\u00e0 Cotonou, le 24 novembre 2021,\\nLe Secr\\u00e9taire G\\u00e9n\\u00e9ral du Gouvernement,\\nEdouard OUIN-OURO.\",\n          \"B\\u00e9nin : un programme national de d\\u00e9veloppement des plantations et des grandes cultures pour promouvoir le secteur agricole\\n\\nLe gouvernement b\\u00e9ninois envisage de promouvoir le secteur agricole \\u00e0 travers le programme national de d\\u00e9veloppement des plantations et des grandes cultures sur la p\\u00e9riode 2021-2026, selon un communiqu\\u00e9 publi\\u00e9 samedi soir \\u00e0 Cotonou.\\n\\nCe programme vise \\u00e0 optimiser la mise en valeur des terres cultivables et attirer des investisseurs agro-industriels nationaux et internationaux pouvant apporter une forte valeur ajout\\u00e9e aux produits des fili\\u00e8res du pays, pr\\u00e9cise le communiqu\\u00e9.\\n\\nSelon la m\\u00eame source, Il est pr\\u00e9vu de mettre en place au moins 670.000 hectares de grandes plantations dans les douze d\\u00e9partements du pays. Les cultures retenues sont l\\u2019anacardier, l\\u2019h\\u00e9v\\u00e9a, le cacao et le cocotier, et en terme de culture d\\u2019int\\u00e9r\\u00eat, il y a la banane plantain, le baobab,le pommier africain, la mangue, l\\u2019avocat, le karit\\u00e9, le caf\\u00e9 et le ricin.\\n\\n\\\"Des investissements structurants seront faits pour donner un point d\\u2019appui aux acteurs d\\u00e9sireux d\\u2019embrasser ces grandes plantations\\\", ajoute le communiqu\\u00e9.\\n\\nLe secteur agricole reste un levier majeur du d\\u00e9veloppement de l\\u2019\\u00e9conomie b\\u00e9ninoise, et il contribue \\u00e0 pr\\u00e8s de 28% du PIB et plus de 70% des recettes d\\u2019exportation du pays.\"\n        ],\n        \"semantic_type\": \"\",\n        \"description\": \"\"\n      }\n    }\n  ]\n}"
            }
          },
          "metadata": {}
        },
        {
          "output_type": "display_data",
          "data": {
            "text/plain": [
              "     label                                               text\n",
              "121      0  Gabon -  : \"  doit comprendre le danger d’un n...\n",
              "161      0  Cancer du sein: une étude conseille ce type d’...\n",
              "48       1  Le directeur général de l’ISRA appelle à ‘’pos...\n",
              "111      0   au sujet de la variole du singe: \" L’épidémie...\n",
              "175      1  Forum mondial sur la nutrition de l’enfant:  e..."
            ],
            "text/html": [
              "\n",
              "  <div id=\"df-7d2283d5-2bcb-4223-947f-bef24c614f23\" class=\"colab-df-container\">\n",
              "    <div>\n",
              "<style scoped>\n",
              "    .dataframe tbody tr th:only-of-type {\n",
              "        vertical-align: middle;\n",
              "    }\n",
              "\n",
              "    .dataframe tbody tr th {\n",
              "        vertical-align: top;\n",
              "    }\n",
              "\n",
              "    .dataframe thead th {\n",
              "        text-align: right;\n",
              "    }\n",
              "</style>\n",
              "<table border=\"1\" class=\"dataframe\">\n",
              "  <thead>\n",
              "    <tr style=\"text-align: right;\">\n",
              "      <th></th>\n",
              "      <th>label</th>\n",
              "      <th>text</th>\n",
              "    </tr>\n",
              "  </thead>\n",
              "  <tbody>\n",
              "    <tr>\n",
              "      <th>121</th>\n",
              "      <td>0</td>\n",
              "      <td>Gabon -  : \"  doit comprendre le danger d’un n...</td>\n",
              "    </tr>\n",
              "    <tr>\n",
              "      <th>161</th>\n",
              "      <td>0</td>\n",
              "      <td>Cancer du sein: une étude conseille ce type d’...</td>\n",
              "    </tr>\n",
              "    <tr>\n",
              "      <th>48</th>\n",
              "      <td>1</td>\n",
              "      <td>Le directeur général de l’ISRA appelle à ‘’pos...</td>\n",
              "    </tr>\n",
              "    <tr>\n",
              "      <th>111</th>\n",
              "      <td>0</td>\n",
              "      <td>au sujet de la variole du singe: \" L’épidémie...</td>\n",
              "    </tr>\n",
              "    <tr>\n",
              "      <th>175</th>\n",
              "      <td>1</td>\n",
              "      <td>Forum mondial sur la nutrition de l’enfant:  e...</td>\n",
              "    </tr>\n",
              "  </tbody>\n",
              "</table>\n",
              "</div>\n",
              "    <div class=\"colab-df-buttons\">\n",
              "\n",
              "  <div class=\"colab-df-container\">\n",
              "    <button class=\"colab-df-convert\" onclick=\"convertToInteractive('df-7d2283d5-2bcb-4223-947f-bef24c614f23')\"\n",
              "            title=\"Convert this dataframe to an interactive table.\"\n",
              "            style=\"display:none;\">\n",
              "\n",
              "  <svg xmlns=\"http://www.w3.org/2000/svg\" height=\"24px\" viewBox=\"0 -960 960 960\">\n",
              "    <path d=\"M120-120v-720h720v720H120Zm60-500h600v-160H180v160Zm220 220h160v-160H400v160Zm0 220h160v-160H400v160ZM180-400h160v-160H180v160Zm440 0h160v-160H620v160ZM180-180h160v-160H180v160Zm440 0h160v-160H620v160Z\"/>\n",
              "  </svg>\n",
              "    </button>\n",
              "\n",
              "  <style>\n",
              "    .colab-df-container {\n",
              "      display:flex;\n",
              "      gap: 12px;\n",
              "    }\n",
              "\n",
              "    .colab-df-convert {\n",
              "      background-color: #E8F0FE;\n",
              "      border: none;\n",
              "      border-radius: 50%;\n",
              "      cursor: pointer;\n",
              "      display: none;\n",
              "      fill: #1967D2;\n",
              "      height: 32px;\n",
              "      padding: 0 0 0 0;\n",
              "      width: 32px;\n",
              "    }\n",
              "\n",
              "    .colab-df-convert:hover {\n",
              "      background-color: #E2EBFA;\n",
              "      box-shadow: 0px 1px 2px rgba(60, 64, 67, 0.3), 0px 1px 3px 1px rgba(60, 64, 67, 0.15);\n",
              "      fill: #174EA6;\n",
              "    }\n",
              "\n",
              "    .colab-df-buttons div {\n",
              "      margin-bottom: 4px;\n",
              "    }\n",
              "\n",
              "    [theme=dark] .colab-df-convert {\n",
              "      background-color: #3B4455;\n",
              "      fill: #D2E3FC;\n",
              "    }\n",
              "\n",
              "    [theme=dark] .colab-df-convert:hover {\n",
              "      background-color: #434B5C;\n",
              "      box-shadow: 0px 1px 3px 1px rgba(0, 0, 0, 0.15);\n",
              "      filter: drop-shadow(0px 1px 2px rgba(0, 0, 0, 0.3));\n",
              "      fill: #FFFFFF;\n",
              "    }\n",
              "  </style>\n",
              "\n",
              "    <script>\n",
              "      const buttonEl =\n",
              "        document.querySelector('#df-7d2283d5-2bcb-4223-947f-bef24c614f23 button.colab-df-convert');\n",
              "      buttonEl.style.display =\n",
              "        google.colab.kernel.accessAllowed ? 'block' : 'none';\n",
              "\n",
              "      async function convertToInteractive(key) {\n",
              "        const element = document.querySelector('#df-7d2283d5-2bcb-4223-947f-bef24c614f23');\n",
              "        const dataTable =\n",
              "          await google.colab.kernel.invokeFunction('convertToInteractive',\n",
              "                                                    [key], {});\n",
              "        if (!dataTable) return;\n",
              "\n",
              "        const docLinkHtml = 'Like what you see? Visit the ' +\n",
              "          '<a target=\"_blank\" href=https://colab.research.google.com/notebooks/data_table.ipynb>data table notebook</a>'\n",
              "          + ' to learn more about interactive tables.';\n",
              "        element.innerHTML = '';\n",
              "        dataTable['output_type'] = 'display_data';\n",
              "        await google.colab.output.renderOutput(dataTable, element);\n",
              "        const docLink = document.createElement('div');\n",
              "        docLink.innerHTML = docLinkHtml;\n",
              "        element.appendChild(docLink);\n",
              "      }\n",
              "    </script>\n",
              "  </div>\n",
              "\n",
              "\n",
              "<div id=\"df-4d500556-f123-4faa-b7f8-65fb720ac8fb\">\n",
              "  <button class=\"colab-df-quickchart\" onclick=\"quickchart('df-4d500556-f123-4faa-b7f8-65fb720ac8fb')\"\n",
              "            title=\"Suggest charts\"\n",
              "            style=\"display:none;\">\n",
              "\n",
              "<svg xmlns=\"http://www.w3.org/2000/svg\" height=\"24px\"viewBox=\"0 0 24 24\"\n",
              "     width=\"24px\">\n",
              "    <g>\n",
              "        <path d=\"M19 3H5c-1.1 0-2 .9-2 2v14c0 1.1.9 2 2 2h14c1.1 0 2-.9 2-2V5c0-1.1-.9-2-2-2zM9 17H7v-7h2v7zm4 0h-2V7h2v10zm4 0h-2v-4h2v4z\"/>\n",
              "    </g>\n",
              "</svg>\n",
              "  </button>\n",
              "\n",
              "<style>\n",
              "  .colab-df-quickchart {\n",
              "      --bg-color: #E8F0FE;\n",
              "      --fill-color: #1967D2;\n",
              "      --hover-bg-color: #E2EBFA;\n",
              "      --hover-fill-color: #174EA6;\n",
              "      --disabled-fill-color: #AAA;\n",
              "      --disabled-bg-color: #DDD;\n",
              "  }\n",
              "\n",
              "  [theme=dark] .colab-df-quickchart {\n",
              "      --bg-color: #3B4455;\n",
              "      --fill-color: #D2E3FC;\n",
              "      --hover-bg-color: #434B5C;\n",
              "      --hover-fill-color: #FFFFFF;\n",
              "      --disabled-bg-color: #3B4455;\n",
              "      --disabled-fill-color: #666;\n",
              "  }\n",
              "\n",
              "  .colab-df-quickchart {\n",
              "    background-color: var(--bg-color);\n",
              "    border: none;\n",
              "    border-radius: 50%;\n",
              "    cursor: pointer;\n",
              "    display: none;\n",
              "    fill: var(--fill-color);\n",
              "    height: 32px;\n",
              "    padding: 0;\n",
              "    width: 32px;\n",
              "  }\n",
              "\n",
              "  .colab-df-quickchart:hover {\n",
              "    background-color: var(--hover-bg-color);\n",
              "    box-shadow: 0 1px 2px rgba(60, 64, 67, 0.3), 0 1px 3px 1px rgba(60, 64, 67, 0.15);\n",
              "    fill: var(--button-hover-fill-color);\n",
              "  }\n",
              "\n",
              "  .colab-df-quickchart-complete:disabled,\n",
              "  .colab-df-quickchart-complete:disabled:hover {\n",
              "    background-color: var(--disabled-bg-color);\n",
              "    fill: var(--disabled-fill-color);\n",
              "    box-shadow: none;\n",
              "  }\n",
              "\n",
              "  .colab-df-spinner {\n",
              "    border: 2px solid var(--fill-color);\n",
              "    border-color: transparent;\n",
              "    border-bottom-color: var(--fill-color);\n",
              "    animation:\n",
              "      spin 1s steps(1) infinite;\n",
              "  }\n",
              "\n",
              "  @keyframes spin {\n",
              "    0% {\n",
              "      border-color: transparent;\n",
              "      border-bottom-color: var(--fill-color);\n",
              "      border-left-color: var(--fill-color);\n",
              "    }\n",
              "    20% {\n",
              "      border-color: transparent;\n",
              "      border-left-color: var(--fill-color);\n",
              "      border-top-color: var(--fill-color);\n",
              "    }\n",
              "    30% {\n",
              "      border-color: transparent;\n",
              "      border-left-color: var(--fill-color);\n",
              "      border-top-color: var(--fill-color);\n",
              "      border-right-color: var(--fill-color);\n",
              "    }\n",
              "    40% {\n",
              "      border-color: transparent;\n",
              "      border-right-color: var(--fill-color);\n",
              "      border-top-color: var(--fill-color);\n",
              "    }\n",
              "    60% {\n",
              "      border-color: transparent;\n",
              "      border-right-color: var(--fill-color);\n",
              "    }\n",
              "    80% {\n",
              "      border-color: transparent;\n",
              "      border-right-color: var(--fill-color);\n",
              "      border-bottom-color: var(--fill-color);\n",
              "    }\n",
              "    90% {\n",
              "      border-color: transparent;\n",
              "      border-bottom-color: var(--fill-color);\n",
              "    }\n",
              "  }\n",
              "</style>\n",
              "\n",
              "  <script>\n",
              "    async function quickchart(key) {\n",
              "      const quickchartButtonEl =\n",
              "        document.querySelector('#' + key + ' button');\n",
              "      quickchartButtonEl.disabled = true;  // To prevent multiple clicks.\n",
              "      quickchartButtonEl.classList.add('colab-df-spinner');\n",
              "      try {\n",
              "        const charts = await google.colab.kernel.invokeFunction(\n",
              "            'suggestCharts', [key], {});\n",
              "      } catch (error) {\n",
              "        console.error('Error during call to suggestCharts:', error);\n",
              "      }\n",
              "      quickchartButtonEl.classList.remove('colab-df-spinner');\n",
              "      quickchartButtonEl.classList.add('colab-df-quickchart-complete');\n",
              "    }\n",
              "    (() => {\n",
              "      let quickchartButtonEl =\n",
              "        document.querySelector('#df-4d500556-f123-4faa-b7f8-65fb720ac8fb button');\n",
              "      quickchartButtonEl.style.display =\n",
              "        google.colab.kernel.accessAllowed ? 'block' : 'none';\n",
              "    })();\n",
              "  </script>\n",
              "</div>\n",
              "    </div>\n",
              "  </div>\n"
            ],
            "application/vnd.google.colaboratory.intrinsic+json": {
              "type": "dataframe",
              "summary": "{\n  \"name\": \"print(f\\\"Test set shape: {test_df['label']\",\n  \"rows\": 5,\n  \"fields\": [\n    {\n      \"column\": \"label\",\n      \"properties\": {\n        \"dtype\": \"number\",\n        \"std\": 0,\n        \"min\": 0,\n        \"max\": 1,\n        \"num_unique_values\": 2,\n        \"samples\": [\n          1,\n          0\n        ],\n        \"semantic_type\": \"\",\n        \"description\": \"\"\n      }\n    },\n    {\n      \"column\": \"text\",\n      \"properties\": {\n        \"dtype\": \"string\",\n        \"num_unique_values\": 5,\n        \"samples\": [\n          \"Cancer du sein: une \\u00e9tude conseille ce type d\\u2019alimentation\\n\\nAdopter une alimentation saine permet de r\\u00e9duire consid\\u00e9rablement les risques de d\\u00e9velopper un cancer de sein. C\\u2019est du moins ce que r\\u00e9v\\u00e8le une nouvelle \\u00e9tude. Elle a \\u00e9t\\u00e9 en effet rendue publique lors d\\u2019un congr\\u00e8s sur la nutrition. Il ressort de cette \\u00e9tude que r\\u00e9duire la consommation d\\u2019aliments v\\u00e9g\\u00e9taux et animaux de mauvaises qualit\\u00e9s permet de pr\\u00e9venir cette maladie.\\n\\nAugmenter la consommation de v\\u00e9g\\u00e9taux sains \\n\\n\\u00ab\\u00a0Nos r\\u00e9sultats indiquent que l'augmentation de la consommation d'aliments v\\u00e9g\\u00e9taux sains et la diminution des aliments v\\u00e9g\\u00e9taux et animaux moins qualitatifs pourraient contribuer \\u00e0 pr\\u00e9venir tous les types de cancer du sein\\u00a0\\u00bb, a notamment fait savoir la responsable\\u00a0fran\\u00e7aise de la recherche Sanam Shah.\\nOn retient que, l\\u2019\\u00e9tude s\\u2019est focalis\\u00e9e sur des Fran\\u00e7aises m\\u00e9nopaus\\u00e9es. L\\u2019\\u00e9quipe de recherche a proc\\u00e9d\\u00e9 \\u00e0 l\\u2019analyse des donn\\u00e9es de sant\\u00e9 sur l\\u2019habitude alimentaire de 65 574 femmes fran\\u00e7aises. L\\u2019\\u00e9tude a pris en compte les habitudes de ces 21 derni\\u00e8res ann\\u00e9es. Les scientifiques se sont \\u00e9vertu\\u00e9s \\u00e0 faire la diff\\u00e9rence entre les aliments v\\u00e9g\\u00e9taux sains des aliments v\\u00e9g\\u00e9taux moins sains.\\nPr\\u00e8s de 4 000 participantes ont re\\u00e7u un diagnostic du cancer \\n\\nComme aliments v\\u00e9g\\u00e9taux sains, les chercheurs ont identifi\\u00e9 les c\\u00e9r\\u00e9ales compl\\u00e8tes, les fruits, les l\\u00e9gumes, les noix, les l\\u00e9gumineuses, les huiles v\\u00e9g\\u00e9tales, le th\\u00e9 ou le caf\\u00e9. Dans la cat\\u00e9gorie des aliments v\\u00e9g\\u00e9taux moins sains, il s\\u2019agit notamment des jus de fruits, des c\\u00e9r\\u00e9ales raffin\\u00e9es ou des pommes de terre. Sur les 65 574 femmes fran\\u00e7aises ayant particip\\u00e9 \\u00e0 la recherche, 3 968 participantes ont re\\u00e7u un diagnostic de cancer du sein. Celles qui avaient consomm\\u00e9 des aliments v\\u00e9g\\u00e9taux sains ont vu leur risque baisser de 14 % en moyenne.\",\n          \"Forum mondial sur la nutrition de l\\u2019enfant:  en faveur des cantines scolaires\\n\\nLe Forum mondial sur la nutrition de l\\u2019enfant s\\u2019est ouvert ce lundi 24 octobre \\u00e0 Cotonou. Pr\\u00e9occupation majeure, la mutualisation des efforts autour des programmes d\\u2019alimentation et leur extension dans le monde. Le mod\\u00e8le b\\u00e9ninois inspire.\\n\\nUn \\u00e9colier, une alimentation scolaire digne pour un avenir heureux et durable du monde. Les acteurs venus d\\u2019horizons divers au Forum mondial sur la nutrition de l\\u2019enfant \\u00e0 Cotonou, s\\u2019en conviennent. A ce rendez-vous, ils veulent concentrer toutes leurs \\u00e9nergies sur la question afin d\\u2019offrir \\u00e0 chaque pays repr\\u00e9sent\\u00e9, un programme plus ambitieux, tenant compte de l\\u2019\\u00e9panouissement et du bien-\\u00eatre des enfants.\\n\\u00ab Ce forum est un v\\u00e9ritable partenariat entre pays. Chaque cas nous rappelle que chaque enfant a le droit \\u00e0 l\\u2019\\u00e9ducation et \\u00e0 l\\u2019alimentation. Les programmes d\\u2019alimentation de l\\u2019enfant font partie des programmes d\\u2019\\u00e9ducation scolaire \\u00bb, soutient , directeur du Bureau Afrique centrale du Catholic relief service (Crs).\\nLes participants \\u00e0 ce forum sont unanimes sur la n\\u00e9cessit\\u00e9 d\\u2019asseoir une solidarit\\u00e9 mondiale en faveur des cantines scolaires. Intitul\\u00e9 \\u00ab convergence des forces pour une r\\u00e9silience et une durabilit\\u00e9 des programmes d\\u2019alimentation scolaire dans le monde \\u00bb, le th\\u00e8me de la rencontre en dit long sur leur ambition.\\n\\u00ab Malgr\\u00e9 l\\u2019\\u00e9ventualit\\u00e9 de la diff\\u00e9rence de nos approches pour cette question essentielle, nous sommes dor\\u00e9navant condamn\\u00e9s \\u00e0 mutualiser nos efforts. Si nous pouvons reconna\\u00eetre que toute personne atteinte d\\u2019une quelconque n\\u00e9vrose n\\u2019est plus susceptible d\\u2019attention, et qu\\u2019\\u00e0 l\\u2019\\u00e9cole cela est indispensable dans la construction articul\\u00e9e du savoir, du savoir-faire et du savoir-vivre par l\\u2019enfant, il est donc irr\\u00e9futable que dans tout milieu scolaire o\\u00f9 s\\u00e9vissent la faim et la malnutrition, les \\u00e9coli\\u00e8res et \\u00e9coliers sont syst\\u00e9matiquement en marge du processus de construction de ces savoirs \\u00bb, fait observer , ministre des Enseignements maternel et primaire.\\nFiers du B\\u00e9nin\\nSi l\\u2019\\u00e9cole est une plateforme, les programmes d\\u2019alimentation scolaire dignes et int\\u00e9gr\\u00e9s doivent \\u00eatre le point d\\u2019entr\\u00e9e. Le B\\u00e9nin a r\\u00e9ussi ce challenge et passe aujourd\\u2019hui pour un mod\\u00e8le dans le monde. \\u00ab S\\u2019agissant des programmes de nutrition infantile, je n\\u2019ai jamais not\\u00e9 un engagement aussi remarquable que celui du B\\u00e9nin. Le pays envoie un signal fort \\u00e0 l\\u2019endroit de l\\u2019Afrique et du monde. Nous sommes fiers d\\u2019avoir un partenaire comme lui dans le cadre de ce programme. Nous voulons \\u0153uvrer davantage pour que cela soit r\\u00e9pandu dans le monde. Cela est tr\\u00e8s important dans la mesure o\\u00f9 le monde fait face \\u00e0 la crise alimentaire \\u00bb, assure , directrice de l\\u2019alimentation scolaire au niveau global du Programme alimentaire mondial (Pam).\\nLes cantines scolaires promeuvent l\\u2019\\u00e9conomie et le capital humain. En prenant ce pari, le B\\u00e9nin a surtout mis\\u00e9 sur la situation des enfants vuln\\u00e9rables. \\u00abCet \\u00e9lan salutaire entretenu par notre gouvernement a \\u00e9t\\u00e9 voulu par le chef de l\\u2019Etat,  qui en a dessin\\u00e9 les grandes lignes avec une attention soutenue aux contr\\u00e9es portant particuli\\u00e8rement les images de la paup\\u00e9risation ambiante. Il est donc \\u00e9vident que dans ces contr\\u00e9es, offrir un repas chaud \\u00e0 un enfant \\u00e0 l\\u2019\\u00e9cole ne rel\\u00e8ve ni d\\u2019un luxe, ni d\\u2019un gaspillage de ressources, mais d\\u2019un investissement effectu\\u00e9 pour promouvoir le d\\u00e9veloppement du capital humain \\u00bb, se convainc , ministre d\\u2019Etat charg\\u00e9 du D\\u00e9veloppement et de la Coordination de l\\u2019action gouvernementale.\\nComme le B\\u00e9nin, certains partenaires veulent faire preuve de pro activit\\u00e9 afin d\\u2019offrir le meilleur aux enfants. \\u00ab Chaque ann\\u00e9e, nous voulons retrouver la force pour nourrir les enfants. Chaque ann\\u00e9e, nous r\\u00e9fl\\u00e9chissons \\u00e0 l\\u2019am\\u00e9lioration du programme. Nombre d\\u2019\\u00e9coles ferment chaque ann\\u00e9e et des familles ne sont pas en mesure de nourrir les enfants. Nous voulons r\\u00e9fl\\u00e9chir sur les d\\u00e9fis et opportunit\\u00e9s des programmes alimentaires scolaires dans le monde afin d\\u2019explorer les possibilit\\u00e9s d\\u2019acc\\u00e8s \\u00e0 travers des partenariats. L\\u2019ambition, c\\u2019est d\\u2019\\u00e9tendre le programme et mieux le d\\u00e9velopper \\u00bb, indique , directrice ex\\u00e9cutive de Global child nutrition foundation (Gcnf),\\nDe nobles ambitions quand on sait que l\\u2019incidence d\\u2019un monde scolaire sans faim est palpable sur l\\u2019\\u00e9ducation et la sant\\u00e9 des \\u00e9coliers et dans le m\\u00eame temps, sur l\\u2019\\u00e9conomie et le d\\u00e9veloppement?\"\n        ],\n        \"semantic_type\": \"\",\n        \"description\": \"\"\n      }\n    }\n  ]\n}"
            }
          },
          "metadata": {}
        },
        {
          "output_type": "display_data",
          "data": {
            "text/plain": [
              "     label                                               text\n",
              "298      1  [DOSSIER] Souveraineté alimentaire du Sénégal ...\n",
              "65       0  (COVID-19) Bénin : allègement des mesures prév...\n",
              "277      1  (Éclairage) Gel des prix des denrées au Sénéga...\n",
              "188      0  Décès d’un jeune dans une piscine à Hillacondj...\n",
              "205      0  TARéS & TERREUR - 24 Heures au Bénin\\n\\nOncle ..."
            ],
            "text/html": [
              "\n",
              "  <div id=\"df-18917fc1-b4dd-4473-9da7-fb5dfa3f6080\" class=\"colab-df-container\">\n",
              "    <div>\n",
              "<style scoped>\n",
              "    .dataframe tbody tr th:only-of-type {\n",
              "        vertical-align: middle;\n",
              "    }\n",
              "\n",
              "    .dataframe tbody tr th {\n",
              "        vertical-align: top;\n",
              "    }\n",
              "\n",
              "    .dataframe thead th {\n",
              "        text-align: right;\n",
              "    }\n",
              "</style>\n",
              "<table border=\"1\" class=\"dataframe\">\n",
              "  <thead>\n",
              "    <tr style=\"text-align: right;\">\n",
              "      <th></th>\n",
              "      <th>label</th>\n",
              "      <th>text</th>\n",
              "    </tr>\n",
              "  </thead>\n",
              "  <tbody>\n",
              "    <tr>\n",
              "      <th>298</th>\n",
              "      <td>1</td>\n",
              "      <td>[DOSSIER] Souveraineté alimentaire du Sénégal ...</td>\n",
              "    </tr>\n",
              "    <tr>\n",
              "      <th>65</th>\n",
              "      <td>0</td>\n",
              "      <td>(COVID-19) Bénin : allègement des mesures prév...</td>\n",
              "    </tr>\n",
              "    <tr>\n",
              "      <th>277</th>\n",
              "      <td>1</td>\n",
              "      <td>(Éclairage) Gel des prix des denrées au Sénéga...</td>\n",
              "    </tr>\n",
              "    <tr>\n",
              "      <th>188</th>\n",
              "      <td>0</td>\n",
              "      <td>Décès d’un jeune dans une piscine à Hillacondj...</td>\n",
              "    </tr>\n",
              "    <tr>\n",
              "      <th>205</th>\n",
              "      <td>0</td>\n",
              "      <td>TARéS &amp; TERREUR - 24 Heures au Bénin\\n\\nOncle ...</td>\n",
              "    </tr>\n",
              "  </tbody>\n",
              "</table>\n",
              "</div>\n",
              "    <div class=\"colab-df-buttons\">\n",
              "\n",
              "  <div class=\"colab-df-container\">\n",
              "    <button class=\"colab-df-convert\" onclick=\"convertToInteractive('df-18917fc1-b4dd-4473-9da7-fb5dfa3f6080')\"\n",
              "            title=\"Convert this dataframe to an interactive table.\"\n",
              "            style=\"display:none;\">\n",
              "\n",
              "  <svg xmlns=\"http://www.w3.org/2000/svg\" height=\"24px\" viewBox=\"0 -960 960 960\">\n",
              "    <path d=\"M120-120v-720h720v720H120Zm60-500h600v-160H180v160Zm220 220h160v-160H400v160Zm0 220h160v-160H400v160ZM180-400h160v-160H180v160Zm440 0h160v-160H620v160ZM180-180h160v-160H180v160Zm440 0h160v-160H620v160Z\"/>\n",
              "  </svg>\n",
              "    </button>\n",
              "\n",
              "  <style>\n",
              "    .colab-df-container {\n",
              "      display:flex;\n",
              "      gap: 12px;\n",
              "    }\n",
              "\n",
              "    .colab-df-convert {\n",
              "      background-color: #E8F0FE;\n",
              "      border: none;\n",
              "      border-radius: 50%;\n",
              "      cursor: pointer;\n",
              "      display: none;\n",
              "      fill: #1967D2;\n",
              "      height: 32px;\n",
              "      padding: 0 0 0 0;\n",
              "      width: 32px;\n",
              "    }\n",
              "\n",
              "    .colab-df-convert:hover {\n",
              "      background-color: #E2EBFA;\n",
              "      box-shadow: 0px 1px 2px rgba(60, 64, 67, 0.3), 0px 1px 3px 1px rgba(60, 64, 67, 0.15);\n",
              "      fill: #174EA6;\n",
              "    }\n",
              "\n",
              "    .colab-df-buttons div {\n",
              "      margin-bottom: 4px;\n",
              "    }\n",
              "\n",
              "    [theme=dark] .colab-df-convert {\n",
              "      background-color: #3B4455;\n",
              "      fill: #D2E3FC;\n",
              "    }\n",
              "\n",
              "    [theme=dark] .colab-df-convert:hover {\n",
              "      background-color: #434B5C;\n",
              "      box-shadow: 0px 1px 3px 1px rgba(0, 0, 0, 0.15);\n",
              "      filter: drop-shadow(0px 1px 2px rgba(0, 0, 0, 0.3));\n",
              "      fill: #FFFFFF;\n",
              "    }\n",
              "  </style>\n",
              "\n",
              "    <script>\n",
              "      const buttonEl =\n",
              "        document.querySelector('#df-18917fc1-b4dd-4473-9da7-fb5dfa3f6080 button.colab-df-convert');\n",
              "      buttonEl.style.display =\n",
              "        google.colab.kernel.accessAllowed ? 'block' : 'none';\n",
              "\n",
              "      async function convertToInteractive(key) {\n",
              "        const element = document.querySelector('#df-18917fc1-b4dd-4473-9da7-fb5dfa3f6080');\n",
              "        const dataTable =\n",
              "          await google.colab.kernel.invokeFunction('convertToInteractive',\n",
              "                                                    [key], {});\n",
              "        if (!dataTable) return;\n",
              "\n",
              "        const docLinkHtml = 'Like what you see? Visit the ' +\n",
              "          '<a target=\"_blank\" href=https://colab.research.google.com/notebooks/data_table.ipynb>data table notebook</a>'\n",
              "          + ' to learn more about interactive tables.';\n",
              "        element.innerHTML = '';\n",
              "        dataTable['output_type'] = 'display_data';\n",
              "        await google.colab.output.renderOutput(dataTable, element);\n",
              "        const docLink = document.createElement('div');\n",
              "        docLink.innerHTML = docLinkHtml;\n",
              "        element.appendChild(docLink);\n",
              "      }\n",
              "    </script>\n",
              "  </div>\n",
              "\n",
              "\n",
              "<div id=\"df-f4e7c5cf-204b-4c79-aa50-dbfb19cc9372\">\n",
              "  <button class=\"colab-df-quickchart\" onclick=\"quickchart('df-f4e7c5cf-204b-4c79-aa50-dbfb19cc9372')\"\n",
              "            title=\"Suggest charts\"\n",
              "            style=\"display:none;\">\n",
              "\n",
              "<svg xmlns=\"http://www.w3.org/2000/svg\" height=\"24px\"viewBox=\"0 0 24 24\"\n",
              "     width=\"24px\">\n",
              "    <g>\n",
              "        <path d=\"M19 3H5c-1.1 0-2 .9-2 2v14c0 1.1.9 2 2 2h14c1.1 0 2-.9 2-2V5c0-1.1-.9-2-2-2zM9 17H7v-7h2v7zm4 0h-2V7h2v10zm4 0h-2v-4h2v4z\"/>\n",
              "    </g>\n",
              "</svg>\n",
              "  </button>\n",
              "\n",
              "<style>\n",
              "  .colab-df-quickchart {\n",
              "      --bg-color: #E8F0FE;\n",
              "      --fill-color: #1967D2;\n",
              "      --hover-bg-color: #E2EBFA;\n",
              "      --hover-fill-color: #174EA6;\n",
              "      --disabled-fill-color: #AAA;\n",
              "      --disabled-bg-color: #DDD;\n",
              "  }\n",
              "\n",
              "  [theme=dark] .colab-df-quickchart {\n",
              "      --bg-color: #3B4455;\n",
              "      --fill-color: #D2E3FC;\n",
              "      --hover-bg-color: #434B5C;\n",
              "      --hover-fill-color: #FFFFFF;\n",
              "      --disabled-bg-color: #3B4455;\n",
              "      --disabled-fill-color: #666;\n",
              "  }\n",
              "\n",
              "  .colab-df-quickchart {\n",
              "    background-color: var(--bg-color);\n",
              "    border: none;\n",
              "    border-radius: 50%;\n",
              "    cursor: pointer;\n",
              "    display: none;\n",
              "    fill: var(--fill-color);\n",
              "    height: 32px;\n",
              "    padding: 0;\n",
              "    width: 32px;\n",
              "  }\n",
              "\n",
              "  .colab-df-quickchart:hover {\n",
              "    background-color: var(--hover-bg-color);\n",
              "    box-shadow: 0 1px 2px rgba(60, 64, 67, 0.3), 0 1px 3px 1px rgba(60, 64, 67, 0.15);\n",
              "    fill: var(--button-hover-fill-color);\n",
              "  }\n",
              "\n",
              "  .colab-df-quickchart-complete:disabled,\n",
              "  .colab-df-quickchart-complete:disabled:hover {\n",
              "    background-color: var(--disabled-bg-color);\n",
              "    fill: var(--disabled-fill-color);\n",
              "    box-shadow: none;\n",
              "  }\n",
              "\n",
              "  .colab-df-spinner {\n",
              "    border: 2px solid var(--fill-color);\n",
              "    border-color: transparent;\n",
              "    border-bottom-color: var(--fill-color);\n",
              "    animation:\n",
              "      spin 1s steps(1) infinite;\n",
              "  }\n",
              "\n",
              "  @keyframes spin {\n",
              "    0% {\n",
              "      border-color: transparent;\n",
              "      border-bottom-color: var(--fill-color);\n",
              "      border-left-color: var(--fill-color);\n",
              "    }\n",
              "    20% {\n",
              "      border-color: transparent;\n",
              "      border-left-color: var(--fill-color);\n",
              "      border-top-color: var(--fill-color);\n",
              "    }\n",
              "    30% {\n",
              "      border-color: transparent;\n",
              "      border-left-color: var(--fill-color);\n",
              "      border-top-color: var(--fill-color);\n",
              "      border-right-color: var(--fill-color);\n",
              "    }\n",
              "    40% {\n",
              "      border-color: transparent;\n",
              "      border-right-color: var(--fill-color);\n",
              "      border-top-color: var(--fill-color);\n",
              "    }\n",
              "    60% {\n",
              "      border-color: transparent;\n",
              "      border-right-color: var(--fill-color);\n",
              "    }\n",
              "    80% {\n",
              "      border-color: transparent;\n",
              "      border-right-color: var(--fill-color);\n",
              "      border-bottom-color: var(--fill-color);\n",
              "    }\n",
              "    90% {\n",
              "      border-color: transparent;\n",
              "      border-bottom-color: var(--fill-color);\n",
              "    }\n",
              "  }\n",
              "</style>\n",
              "\n",
              "  <script>\n",
              "    async function quickchart(key) {\n",
              "      const quickchartButtonEl =\n",
              "        document.querySelector('#' + key + ' button');\n",
              "      quickchartButtonEl.disabled = true;  // To prevent multiple clicks.\n",
              "      quickchartButtonEl.classList.add('colab-df-spinner');\n",
              "      try {\n",
              "        const charts = await google.colab.kernel.invokeFunction(\n",
              "            'suggestCharts', [key], {});\n",
              "      } catch (error) {\n",
              "        console.error('Error during call to suggestCharts:', error);\n",
              "      }\n",
              "      quickchartButtonEl.classList.remove('colab-df-spinner');\n",
              "      quickchartButtonEl.classList.add('colab-df-quickchart-complete');\n",
              "    }\n",
              "    (() => {\n",
              "      let quickchartButtonEl =\n",
              "        document.querySelector('#df-f4e7c5cf-204b-4c79-aa50-dbfb19cc9372 button');\n",
              "      quickchartButtonEl.style.display =\n",
              "        google.colab.kernel.accessAllowed ? 'block' : 'none';\n",
              "    })();\n",
              "  </script>\n",
              "</div>\n",
              "    </div>\n",
              "  </div>\n"
            ],
            "application/vnd.google.colaboratory.intrinsic+json": {
              "type": "dataframe",
              "summary": "{\n  \"name\": \"print(f\\\"Test set shape: {test_df['label']\",\n  \"rows\": 5,\n  \"fields\": [\n    {\n      \"column\": \"label\",\n      \"properties\": {\n        \"dtype\": \"number\",\n        \"std\": 0,\n        \"min\": 0,\n        \"max\": 1,\n        \"num_unique_values\": 2,\n        \"samples\": [\n          0,\n          1\n        ],\n        \"semantic_type\": \"\",\n        \"description\": \"\"\n      }\n    },\n    {\n      \"column\": \"text\",\n      \"properties\": {\n        \"dtype\": \"string\",\n        \"num_unique_values\": 5,\n        \"samples\": [\n          \"(COVID-19) B\\u00e9nin : all\\u00e8gement des mesures pr\\u00e9ventives et restrictives pour relancer les activit\\u00e9s \\u00e9conomiques, culturelles et sociales\\n\\nLe gouvernement b\\u00e9ninois a all\\u00e9g\\u00e9 les mesures pr\\u00e9ventives et restrictives li\\u00e9es \\u00e0 la pand\\u00e9mie de la COVID-19 en vue de relancer les activit\\u00e9s \\u00e9conomiques, culturelles et sociales, a annonc\\u00e9 le gouvernement dans un communiqu\\u00e9 publi\\u00e9 mercredi \\u00e0 Cotonou.\\n\\nCette d\\u00e9cision d'all\\u00e8gement des mesures de protection mises en place pour faire face \\u00e0 la pand\\u00e9mie r\\u00e9sulte principalement de la baisse du nombre de cas de contamination au coronavirus, y compris les cas graves observ\\u00e9e depuis plusieurs semaines.\\n\\nAinsi, le gouvernement b\\u00e9ninois a lev\\u00e9 entre autres, la fermeture des discoth\\u00e8ques et assimil\\u00e9s, l'interdiction de regroupements festifs dans les lieux publics, l'obligation du respect de la distance de s\\u00e9curit\\u00e9 sanitaire entre passagers \\u00e0 bord des transports en commun et la suspension de la participation de toute personne de l'administration publique et du secteur priv\\u00e9 non vaccin\\u00e9e contre la COVID-19 \\u00e0 des rencontres (r\\u00e9unions, ateliers, forums, s\\u00e9minaires, etc.) sur le territoire national.\\n\\nLe gouvernement b\\u00e9ninois a cependant maintenu notamment l'obligation du port de masques \\u00e0 bord des transports en commun, l'obligation vaccinale pour le personnel m\\u00e9dical et param\\u00e9dical, les pharmaciens, les aides-soignants ainsi que le personnel administratif des formations sanitaires publiques et les employ\\u00e9s du secteur priv\\u00e9 de m\\u00eame que ceux des officines pharmaceutiques et en fin l'acc\\u00e8s aux h\\u00f4pitaux des parents et gardes malades, assujetti \\u00e0 la pr\\u00e9sentation du pass vaccinal.\\n\\nLe gouvernement a fortement recommand\\u00e9, entre autres, le port de masques en tous lieux publics, la vaccination \\u00e0 toute personne \\u00e9ligible, notamment le personnel enseignant et administratif des \\u00e9tablissements publics et priv\\u00e9s, les \\u00e9tudiants, le personnel militaire et paramilitaire, les conducteurs de taxi-moto, les \\u00e9l\\u00e8ves de plus de 12 ans et les parents d'\\u00e9l\\u00e8ves.\\n\\nS'agissant sp\\u00e9cifiquement des voyageurs, souligne la m\\u00eame source, l'entr\\u00e9e sur le territoire b\\u00e9ninois, aussi bien par les fronti\\u00e8res terrestres, a\\u00e9riennes que maritimes, est assujettie \\u00e0 la pr\\u00e9sentation d'un test PCR n\\u00e9gatif datant de 5 jours au plus ou d'un TDR antig\\u00e9nique n\\u00e9gatif de 72h au plus. Quant \\u00e0 ceux qui sortent du B\\u00e9nin, ils devront se conformer aux exigences des pays de destination.\",\n          \"TAR\\u00e9S & TERREUR - 24 Heures au B\\u00e9nin\\n\\nOncle AGBAYA\\nOn vous l\\u2019avait bien dit, mon  dirige un pays de pagailleurs avec des pagailleurs partout\\u00a0! Sinon que le traitement des informations relatives aux agitations terroristes dans une partie du Septentrion du pays, requiert beaucoup plus de s\\u00e9rieux que ce dont sont capables certains de mes petits neveux \\u00e9crivaillons-wazapou, qui \\u00e0 l\\u2019insu de leur plein gr\\u00e9, jouent de plus en plus aux attach\\u00e9s de presse ou chef c-com des petits voyous et vieux trafiquants enturbann\\u00e9es, qui ils affublent g\\u00e9n\\u00e9reusement de l\\u2019adjectif \\\"djihadistes\\\".\\nUn \\u00e9l\\u00e8ve tar\\u00e9 et plaisantin n\\u2019ayant pas fait ses devoirs de maison a-t-il eu l\\u2019id\\u00e9e de coller sur le mur de l\\u2019\\u00e9cole, \\u00e0 l\\u2019aide d\\u2019un bout d\\u2019akassa, une affiche au vocabulaire et orthographe d\\u2019\\u00e2ne, destin\\u00e9e \\u00e0 terroriser maitres, maitresses et tous ses camarades, pour qu\\u2019il n\\u2019y ait pas classe\\u00a0? Voil\\u00e0 mes petits Neveux \\\" journalistes-wazapou\\\" en prendre la photo pour abondamment illustrer quelques laborieuses colonnes de charabias sur\\\" la menace djihadiste\\\", si ce n\\u2019est pas tout un mauvais papier de stagiaire sur une balle perdue de \\\"djihadistes\\u2019 qui aurait bless\\u00e9 un b\\u0153uf ...\\nMais vous mes Neveux et  qui commencez \\u00e0 rappeler \\u00e0 tue-t\\u00eate les pr\\u00e9rogatives de la CRIET et la HAAC, vous \\u00eates tous des pagailleurs ...\\nVotre Oncle AGBAYA\\n ; L'information en temps r\\u00e9el\\n25 octobre 2022 par \"\n        ],\n        \"semantic_type\": \"\",\n        \"description\": \"\"\n      }\n    }\n  ]\n}"
            }
          },
          "metadata": {}
        },
        {
          "output_type": "stream",
          "name": "stdout",
          "text": [
            "Train set shape: 1    136\n",
            "0    131\n",
            "Name: label, dtype: int64\n",
            "Validation set shape: 1    34\n",
            "0    33\n",
            "Name: label, dtype: int64\n",
            "Test set shape: 1    34\n",
            "0    33\n",
            "Name: label, dtype: int64\n"
          ]
        }
      ]
    },
    {
      "cell_type": "markdown",
      "metadata": {
        "id": "Px-Q7p0u3M6D"
      },
      "source": [
        "## Model Initialization"
      ]
    },
    {
      "cell_type": "markdown",
      "metadata": {
        "id": "LkvIUYXc3M6E"
      },
      "source": [
        "### Camambert Tokenizer"
      ]
    },
    {
      "cell_type": "code",
      "execution_count": null,
      "metadata": {
        "id": "IKbQc5LU3M6E",
        "colab": {
          "base_uri": "https://localhost:8080/"
        },
        "outputId": "34ee36fc-f66c-4b34-fe7a-433d69967fd8"
      },
      "outputs": [
        {
          "output_type": "stream",
          "name": "stderr",
          "text": [
            "Special tokens have been added in the vocabulary, make sure the associated word embeddings are fine-tuned or trained.\n"
          ]
        }
      ],
      "source": [
        "tokenizer = CamembertTokenizer.from_pretrained('camembert-base')\n",
        "\n",
        "class TextDataset(Dataset):\n",
        "    def __init__(self, encodings, labels):\n",
        "        self.encodings = encodings\n",
        "        self.labels = labels\n",
        "\n",
        "    def __getitem__(self, idx):\n",
        "        item = {key: torch.tensor(val[idx]) for key, val in self.encodings.items()}\n",
        "        item['labels'] = torch.tensor(self.labels[idx], dtype=torch.long)\n",
        "        return item\n",
        "\n",
        "    def __len__(self):\n",
        "        return len(self.labels)\n",
        "\n",
        "def tokenize_dataframe(df, tokenizer):\n",
        "    return tokenizer(\n",
        "        df['text'].tolist(),\n",
        "        padding=True,\n",
        "        truncation=True,\n",
        "        max_length=512,  # Adjust this as needed\n",
        "        return_tensors=\"pt\"  # Returns PyTorch tensors\n",
        "    )"
      ]
    },
    {
      "cell_type": "code",
      "execution_count": null,
      "metadata": {
        "id": "85tZrutu3M6F",
        "colab": {
          "base_uri": "https://localhost:8080/"
        },
        "outputId": "86cb494c-4398-4208-d4fb-afeca17a2c2d"
      },
      "outputs": [
        {
          "output_type": "stream",
          "name": "stdout",
          "text": [
            "Train dataset length: 200\n",
            "Validation dataset length: 67\n",
            "Test dataset length: 67\n"
          ]
        }
      ],
      "source": [
        "# Tokenize each of the pre-split DataFrames\n",
        "train_encodings = tokenize_dataframe(train_df, tokenizer)\n",
        "val_encodings = tokenize_dataframe(val_df, tokenizer)\n",
        "test_encodings = tokenize_dataframe(test_df, tokenizer)\n",
        "\n",
        "# Convert labels to list for compatibility\n",
        "train_labels = train_df['label'].tolist()\n",
        "val_labels = val_df['label'].tolist()\n",
        "test_labels = test_df['label'].tolist()\n",
        "\n",
        "# Create datasets for each set\n",
        "train_dataset = TextDataset(train_encodings, train_labels)\n",
        "val_dataset = TextDataset(val_encodings, val_labels)\n",
        "test_dataset = TextDataset(test_encodings, test_labels)\n",
        "\n",
        "# Verify the dataset splits by printing their lengths\n",
        "print(f\"Train dataset length: {len(train_dataset)}\")\n",
        "print(f\"Validation dataset length: {len(val_dataset)}\")\n",
        "print(f\"Test dataset length: {len(test_dataset)}\")"
      ]
    },
    {
      "cell_type": "markdown",
      "metadata": {
        "id": "T2cs1p8D3M6F"
      },
      "source": [
        "### initializing Parameters"
      ]
    },
    {
      "cell_type": "code",
      "source": [
        "import wandb\n",
        "# Initialize wandb\n",
        "wandb.init(project=\"MLM_binary\", entity=\"arisoy10\")\n",
        "\n",
        "sweep_config = {\n",
        "    'method': 'bayes',  # or 'grid', 'random'\n",
        "    'metric': {\n",
        "      'name': 'eval_loss',\n",
        "      'goal': 'minimize'\n",
        "    },\n",
        "    'parameters': {\n",
        "        'learning_rate': {\n",
        "            'min': 1e-5,\n",
        "            'max': 5e-4\n",
        "        },\n",
        "        'num_train_epochs': {\n",
        "            'values': [4]\n",
        "        },\n",
        "        'per_device_train_batch_size': {\n",
        "            'values': [8, 16, 32]\n",
        "        }\n",
        "        # Add other hyperparameters here\n",
        "    }\n",
        "}\n",
        "sweep_id = wandb.sweep(sweep_config, project=\"TER_test\")"
      ],
      "metadata": {
        "colab": {
          "base_uri": "https://localhost:8080/",
          "height": 255,
          "referenced_widgets": [
            "952ca6e3d7d04f86aa7e3cbf17321685",
            "6625e65bb2bb494daa744ac2737d7fe5",
            "68c49e2ebd7443349ad876638c385083",
            "c34a7cf28f694c96945702ec0b393497",
            "7cb57d2a5f6d45c3b5e57c14f6a0af9b",
            "e9d8e04ef3804251bda269b7fc6e4f0d",
            "bee1b66e0e4549449cf808b472f18208",
            "2b9c2c7a2e5944faa1ae46d2c09fd1c2"
          ]
        },
        "id": "TyiyW5Vkf_RA",
        "outputId": "dd72078c-9413-4214-d22e-86c09be712e1"
      },
      "execution_count": null,
      "outputs": [
        {
          "output_type": "display_data",
          "data": {
            "text/plain": [
              "<IPython.core.display.HTML object>"
            ],
            "text/html": [
              "Changes to your `wandb` environment variables will be ignored because your `wandb` session has already started. For more information on how to modify your settings with `wandb.init()` arguments, please refer to <a href='https://wandb.me/wandb-init' target=\"_blank\">the W&B docs</a>."
            ]
          },
          "metadata": {}
        },
        {
          "output_type": "display_data",
          "data": {
            "text/plain": [
              "<IPython.core.display.HTML object>"
            ],
            "text/html": [
              "Finishing last run (ID:r1yq9ix8) before initializing another..."
            ]
          },
          "metadata": {}
        },
        {
          "output_type": "display_data",
          "data": {
            "text/plain": [
              "VBox(children=(Label(value='0.005 MB of 0.014 MB uploaded\\r'), FloatProgress(value=0.330900404750846, max=1.0)…"
            ],
            "application/vnd.jupyter.widget-view+json": {
              "version_major": 2,
              "version_minor": 0,
              "model_id": "952ca6e3d7d04f86aa7e3cbf17321685"
            }
          },
          "metadata": {}
        },
        {
          "output_type": "display_data",
          "data": {
            "text/plain": [
              "<IPython.core.display.HTML object>"
            ],
            "text/html": [
              " View run <strong style=\"color:#cdcd00\">radiant-shape-12</strong> at: <a href='https://wandb.ai/arisoy10/TER_test/runs/r1yq9ix8' target=\"_blank\">https://wandb.ai/arisoy10/TER_test/runs/r1yq9ix8</a><br/>Synced 5 W&B file(s), 0 media file(s), 0 artifact file(s) and 0 other file(s)"
            ]
          },
          "metadata": {}
        },
        {
          "output_type": "display_data",
          "data": {
            "text/plain": [
              "<IPython.core.display.HTML object>"
            ],
            "text/html": [
              "Find logs at: <code>./wandb/run-20240317_223326-r1yq9ix8/logs</code>"
            ]
          },
          "metadata": {}
        },
        {
          "output_type": "display_data",
          "data": {
            "text/plain": [
              "<IPython.core.display.HTML object>"
            ],
            "text/html": [
              "Successfully finished last run (ID:r1yq9ix8). Initializing new run:<br/>"
            ]
          },
          "metadata": {}
        },
        {
          "output_type": "display_data",
          "data": {
            "text/plain": [
              "<IPython.core.display.HTML object>"
            ],
            "text/html": [
              "Tracking run with wandb version 0.16.4"
            ]
          },
          "metadata": {}
        },
        {
          "output_type": "display_data",
          "data": {
            "text/plain": [
              "<IPython.core.display.HTML object>"
            ],
            "text/html": [
              "Run data is saved locally in <code>/content/wandb/run-20240317_223412-gaq8tado</code>"
            ]
          },
          "metadata": {}
        },
        {
          "output_type": "display_data",
          "data": {
            "text/plain": [
              "<IPython.core.display.HTML object>"
            ],
            "text/html": [
              "Syncing run <strong><a href='https://wandb.ai/arisoy10/MLM_binary/runs/gaq8tado' target=\"_blank\">daily-firebrand-1</a></strong> to <a href='https://wandb.ai/arisoy10/MLM_binary' target=\"_blank\">Weights & Biases</a> (<a href='https://wandb.me/run' target=\"_blank\">docs</a>)<br/>"
            ]
          },
          "metadata": {}
        },
        {
          "output_type": "display_data",
          "data": {
            "text/plain": [
              "<IPython.core.display.HTML object>"
            ],
            "text/html": [
              " View project at <a href='https://wandb.ai/arisoy10/MLM_binary' target=\"_blank\">https://wandb.ai/arisoy10/MLM_binary</a>"
            ]
          },
          "metadata": {}
        },
        {
          "output_type": "display_data",
          "data": {
            "text/plain": [
              "<IPython.core.display.HTML object>"
            ],
            "text/html": [
              " View run at <a href='https://wandb.ai/arisoy10/MLM_binary/runs/gaq8tado' target=\"_blank\">https://wandb.ai/arisoy10/MLM_binary/runs/gaq8tado</a>"
            ]
          },
          "metadata": {}
        },
        {
          "output_type": "stream",
          "name": "stdout",
          "text": [
            "Create sweep with ID: 3k77hog4\n",
            "Sweep URL: https://wandb.ai/arisoy/TER_test/sweeps/3k77hog4\n"
          ]
        }
      ]
    },
    {
      "cell_type": "code",
      "source": [],
      "metadata": {
        "id": "0XlEAczOgAog"
      },
      "execution_count": null,
      "outputs": []
    },
    {
      "cell_type": "code",
      "execution_count": null,
      "metadata": {
        "id": "P7xx1eKX3M6F"
      },
      "outputs": [],
      "source": [
        "from sklearn.metrics import precision_recall_fscore_support, accuracy_score\n",
        "from transformers import TrainingArguments, Trainer, TrainerCallback\n",
        "\n",
        "'''\n",
        "def compute_metrics(eval_pred):\n",
        "    logits, labels = eval_pred\n",
        "    predictions = np.argmax(logits, axis=-1)\n",
        "    precision, recall, f1, _ = precision_recall_fscore_support(labels, predictions, average='binary')\n",
        "    acc = accuracy_score(labels, predictions)\n",
        "    return {\n",
        "        'accuracy': acc,\n",
        "        'f1': f1,\n",
        "        'precision': precision,\n",
        "        'recall': recall,\n",
        "    }'''\n",
        "\n",
        "# Define compute_metrics function for evaluation\n",
        "def compute_metrics(pred):\n",
        "    labels = pred.label_ids\n",
        "    preds = pred.predictions.argmax(-1)\n",
        "    precision, recall, f1, _ = precision_recall_fscore_support(labels, preds, average='binary')\n",
        "    acc = accuracy_score(labels, preds)\n",
        "    return {'accuracy': acc, 'f1': f1, 'precision': precision, 'recall': recall}\n"
      ]
    },
    {
      "cell_type": "code",
      "execution_count": null,
      "metadata": {
        "id": "Osr5ky-w3M6G",
        "colab": {
          "base_uri": "https://localhost:8080/"
        },
        "outputId": "1bb4ffe9-6dbc-4c4c-da49-5c198340ff1b"
      },
      "outputs": [
        {
          "output_type": "stream",
          "name": "stderr",
          "text": [
            "Some weights of CamembertForSequenceClassification were not initialized from the model checkpoint at /content/drive/My Drive/MyModel and are newly initialized: ['classifier.dense.bias', 'classifier.dense.weight', 'classifier.out_proj.bias', 'classifier.out_proj.weight']\n",
            "You should probably TRAIN this model on a down-stream task to be able to use it for predictions and inference.\n"
          ]
        }
      ],
      "source": [
        "#model = CamembertForSequenceClassification.from_pretrained('camembert-base', num_labels=2)  # Adjust num_labels as per your task\n",
        "model = CamembertForSequenceClassification.from_pretrained(\"/content/drive/My Drive/MyModel\", num_labels=2)\n",
        "#!pip install trainer\n",
        "import os\n",
        "os.environ[\"WANDB_WATCH\"] = \"all\"  # Automatically log gradients and model parameters\n",
        "\n",
        "def train():\n",
        "    # Initialize a new wandb run\n",
        "    with wandb.init() as run:\n",
        "        # Get hyperparameters\n",
        "        config = wandb.config\n",
        "\n",
        "        training_args = TrainingArguments(\n",
        "            output_dir='./results',\n",
        "            num_train_epochs=config.num_train_epochs,\n",
        "            per_device_train_batch_size=config.per_device_train_batch_size,\n",
        "            per_device_eval_batch_size=24,\n",
        "            logging_dir='./logs',\n",
        "            logging_steps=4,  # Assuming you want to log after each step for a small dataset\n",
        "            evaluation_strategy=\"epoch\",\n",
        "            save_strategy='epoch',   # Evaluate at the end of each epoch\n",
        "            learning_rate=3e-5,\n",
        "            load_best_model_at_end=True,\n",
        "            report_to=\"wandb\",\n",
        "            # Add warmup steps if you are using a scheduler that requires them\n",
        "            warmup_steps=0,  # Example, adjust as needed\n",
        "            # Make sure to add any additional arguments that you might need\n",
        "        )\n",
        "\n",
        "        trainer = Trainer(\n",
        "            model=model,\n",
        "            args=training_args,\n",
        "            train_dataset=train_dataset,\n",
        "            eval_dataset=val_dataset,\n",
        "            compute_metrics=compute_metrics,\n",
        "        )\n",
        "\n",
        "    # Start training\n",
        "        trainer.train()\n",
        "\n",
        "        # Evaluate the model\n",
        "        metrics = trainer.evaluate()\n",
        "\n",
        "            # Log both loss and accuracy to wandb\n",
        "        wandb.log({\"eval_loss\": metrics[\"eval_loss\"], \"accuracy\": metrics[\"eval_accuracy\"]})\n"
      ]
    },
    {
      "cell_type": "code",
      "source": [
        "wandb.agent(sweep_id, function=train, count=5)"
      ],
      "metadata": {
        "colab": {
          "base_uri": "https://localhost:8080/",
          "height": 1000,
          "referenced_widgets": [
            "15c5167d6cbb4544ab6f6e5272d57a31",
            "ef548aac019345fe93028414f8abacc6",
            "d50f192f902c4f109753651fdced2f4f",
            "916f5b4ff16c467b9c853a9d666f0d7b",
            "bc3a3ca11a6d453a8259632ff9889624",
            "563eec3047304de0a30f3c55b23eaead",
            "85f05512b0224a388766a0cffbe19b99",
            "4700a3c656b240a5bdae577358e4c46c"
          ]
        },
        "id": "U7knkLCRhx52",
        "outputId": "34a08e82-18ad-4fb4-f3e7-379ee4ac4a75"
      },
      "execution_count": null,
      "outputs": [
        {
          "output_type": "stream",
          "name": "stderr",
          "text": [
            "\u001b[34m\u001b[1mwandb\u001b[0m: \u001b[33mWARNING\u001b[0m Calling wandb.login() after wandb.init() has no effect.\n",
            "\u001b[34m\u001b[1mwandb\u001b[0m: Agent Starting Run: nuzcrecn with config:\n",
            "\u001b[34m\u001b[1mwandb\u001b[0m: \tlearning_rate: 0.000380200125100912\n",
            "\u001b[34m\u001b[1mwandb\u001b[0m: \tnum_train_epochs: 4\n",
            "\u001b[34m\u001b[1mwandb\u001b[0m: \tper_device_train_batch_size: 8\n"
          ]
        },
        {
          "output_type": "display_data",
          "data": {
            "text/plain": [
              "<IPython.core.display.HTML object>"
            ],
            "text/html": [
              "Tracking run with wandb version 0.16.4"
            ]
          },
          "metadata": {}
        },
        {
          "output_type": "display_data",
          "data": {
            "text/plain": [
              "<IPython.core.display.HTML object>"
            ],
            "text/html": [
              "Run data is saved locally in <code>/content/wandb/run-20240317_223458-nuzcrecn</code>"
            ]
          },
          "metadata": {}
        },
        {
          "output_type": "display_data",
          "data": {
            "text/plain": [
              "<IPython.core.display.HTML object>"
            ],
            "text/html": [
              "Syncing run <strong><a href='https://wandb.ai/arisoy/TER_test/runs/nuzcrecn' target=\"_blank\">rich-sweep-1</a></strong> to <a href='https://wandb.ai/arisoy/TER_test' target=\"_blank\">Weights & Biases</a> (<a href='https://wandb.me/run' target=\"_blank\">docs</a>)<br/>Sweep page: <a href='https://wandb.ai/arisoy/TER_test/sweeps/3k77hog4' target=\"_blank\">https://wandb.ai/arisoy/TER_test/sweeps/3k77hog4</a>"
            ]
          },
          "metadata": {}
        },
        {
          "output_type": "display_data",
          "data": {
            "text/plain": [
              "<IPython.core.display.HTML object>"
            ],
            "text/html": [
              " View project at <a href='https://wandb.ai/arisoy/TER_test' target=\"_blank\">https://wandb.ai/arisoy/TER_test</a>"
            ]
          },
          "metadata": {}
        },
        {
          "output_type": "display_data",
          "data": {
            "text/plain": [
              "<IPython.core.display.HTML object>"
            ],
            "text/html": [
              " View sweep at <a href='https://wandb.ai/arisoy/TER_test/sweeps/3k77hog4' target=\"_blank\">https://wandb.ai/arisoy/TER_test/sweeps/3k77hog4</a>"
            ]
          },
          "metadata": {}
        },
        {
          "output_type": "display_data",
          "data": {
            "text/plain": [
              "<IPython.core.display.HTML object>"
            ],
            "text/html": [
              " View run at <a href='https://wandb.ai/arisoy/TER_test/runs/nuzcrecn' target=\"_blank\">https://wandb.ai/arisoy/TER_test/runs/nuzcrecn</a>"
            ]
          },
          "metadata": {}
        },
        {
          "output_type": "stream",
          "name": "stderr",
          "text": [
            "/usr/local/lib/python3.10/dist-packages/accelerate/accelerator.py:432: FutureWarning: Passing the following arguments to `Accelerator` is deprecated and will be removed in version 1.0 of Accelerate: dict_keys(['dispatch_batches', 'split_batches', 'even_batches', 'use_seedable_sampler']). Please pass an `accelerate.DataLoaderConfiguration` instead: \n",
            "dataloader_config = DataLoaderConfiguration(dispatch_batches=None, split_batches=False, even_batches=True, use_seedable_sampler=True)\n",
            "  warnings.warn(\n",
            "\u001b[34m\u001b[1mwandb\u001b[0m: \u001b[33mWARNING\u001b[0m Config item 'per_device_train_batch_size' was locked by 'sweep' (ignored update).\n",
            "\u001b[34m\u001b[1mwandb\u001b[0m: \u001b[33mWARNING\u001b[0m Config item 'learning_rate' was locked by 'sweep' (ignored update).\n",
            "\u001b[34m\u001b[1mwandb\u001b[0m: \u001b[33mWARNING\u001b[0m Config item 'num_train_epochs' was locked by 'sweep' (ignored update).\n",
            "<ipython-input-12-2aee9a0a0f49>:9: UserWarning: To copy construct from a tensor, it is recommended to use sourceTensor.clone().detach() or sourceTensor.clone().detach().requires_grad_(True), rather than torch.tensor(sourceTensor).\n",
            "  item = {key: torch.tensor(val[idx]) for key, val in self.encodings.items()}\n"
          ]
        },
        {
          "output_type": "display_data",
          "data": {
            "text/plain": [
              "<IPython.core.display.HTML object>"
            ],
            "text/html": [
              "\n",
              "    <div>\n",
              "      \n",
              "      <progress value='100' max='100' style='width:300px; height:20px; vertical-align: middle;'></progress>\n",
              "      [100/100 11:51, Epoch 4/4]\n",
              "    </div>\n",
              "    <table border=\"1\" class=\"dataframe\">\n",
              "  <thead>\n",
              " <tr style=\"text-align: left;\">\n",
              "      <th>Epoch</th>\n",
              "      <th>Training Loss</th>\n",
              "      <th>Validation Loss</th>\n",
              "      <th>Accuracy</th>\n",
              "      <th>F1</th>\n",
              "      <th>Precision</th>\n",
              "      <th>Recall</th>\n",
              "    </tr>\n",
              "  </thead>\n",
              "  <tbody>\n",
              "    <tr>\n",
              "      <td>1</td>\n",
              "      <td>0.645600</td>\n",
              "      <td>0.635266</td>\n",
              "      <td>0.731343</td>\n",
              "      <td>0.763158</td>\n",
              "      <td>0.690476</td>\n",
              "      <td>0.852941</td>\n",
              "    </tr>\n",
              "    <tr>\n",
              "      <td>2</td>\n",
              "      <td>0.557800</td>\n",
              "      <td>0.519031</td>\n",
              "      <td>0.835821</td>\n",
              "      <td>0.835821</td>\n",
              "      <td>0.848485</td>\n",
              "      <td>0.823529</td>\n",
              "    </tr>\n",
              "    <tr>\n",
              "      <td>3</td>\n",
              "      <td>0.417700</td>\n",
              "      <td>0.462247</td>\n",
              "      <td>0.791045</td>\n",
              "      <td>0.800000</td>\n",
              "      <td>0.777778</td>\n",
              "      <td>0.823529</td>\n",
              "    </tr>\n",
              "    <tr>\n",
              "      <td>4</td>\n",
              "      <td>0.357100</td>\n",
              "      <td>0.449141</td>\n",
              "      <td>0.776119</td>\n",
              "      <td>0.782609</td>\n",
              "      <td>0.771429</td>\n",
              "      <td>0.794118</td>\n",
              "    </tr>\n",
              "  </tbody>\n",
              "</table><p>"
            ]
          },
          "metadata": {}
        },
        {
          "output_type": "stream",
          "name": "stderr",
          "text": [
            "Checkpoint destination directory ./results/checkpoint-25 already exists and is non-empty. Saving will proceed but saved results may be invalid.\n",
            "<ipython-input-12-2aee9a0a0f49>:9: UserWarning: To copy construct from a tensor, it is recommended to use sourceTensor.clone().detach() or sourceTensor.clone().detach().requires_grad_(True), rather than torch.tensor(sourceTensor).\n",
            "  item = {key: torch.tensor(val[idx]) for key, val in self.encodings.items()}\n",
            "Checkpoint destination directory ./results/checkpoint-50 already exists and is non-empty. Saving will proceed but saved results may be invalid.\n",
            "<ipython-input-12-2aee9a0a0f49>:9: UserWarning: To copy construct from a tensor, it is recommended to use sourceTensor.clone().detach() or sourceTensor.clone().detach().requires_grad_(True), rather than torch.tensor(sourceTensor).\n",
            "  item = {key: torch.tensor(val[idx]) for key, val in self.encodings.items()}\n",
            "Checkpoint destination directory ./results/checkpoint-75 already exists and is non-empty. Saving will proceed but saved results may be invalid.\n",
            "<ipython-input-12-2aee9a0a0f49>:9: UserWarning: To copy construct from a tensor, it is recommended to use sourceTensor.clone().detach() or sourceTensor.clone().detach().requires_grad_(True), rather than torch.tensor(sourceTensor).\n",
            "  item = {key: torch.tensor(val[idx]) for key, val in self.encodings.items()}\n",
            "<ipython-input-12-2aee9a0a0f49>:9: UserWarning: To copy construct from a tensor, it is recommended to use sourceTensor.clone().detach() or sourceTensor.clone().detach().requires_grad_(True), rather than torch.tensor(sourceTensor).\n",
            "  item = {key: torch.tensor(val[idx]) for key, val in self.encodings.items()}\n"
          ]
        },
        {
          "output_type": "display_data",
          "data": {
            "text/plain": [
              "<IPython.core.display.HTML object>"
            ],
            "text/html": [
              "\n",
              "    <div>\n",
              "      \n",
              "      <progress value='3' max='3' style='width:300px; height:20px; vertical-align: middle;'></progress>\n",
              "      [3/3 00:08]\n",
              "    </div>\n",
              "    "
            ]
          },
          "metadata": {}
        },
        {
          "output_type": "display_data",
          "data": {
            "text/plain": [
              "VBox(children=(Label(value='0.005 MB of 0.005 MB uploaded\\r'), FloatProgress(value=1.0, max=1.0)))"
            ],
            "application/vnd.jupyter.widget-view+json": {
              "version_major": 2,
              "version_minor": 0,
              "model_id": "15c5167d6cbb4544ab6f6e5272d57a31"
            }
          },
          "metadata": {}
        },
        {
          "output_type": "display_data",
          "data": {
            "text/plain": [
              "<IPython.core.display.HTML object>"
            ],
            "text/html": [
              "<style>\n",
              "    table.wandb td:nth-child(1) { padding: 0 10px; text-align: left ; width: auto;} td:nth-child(2) {text-align: left ; width: 100%}\n",
              "    .wandb-row { display: flex; flex-direction: row; flex-wrap: wrap; justify-content: flex-start; width: 100% }\n",
              "    .wandb-col { display: flex; flex-direction: column; flex-basis: 100%; flex: 1; padding: 10px; }\n",
              "    </style>\n",
              "<div class=\"wandb-row\"><div class=\"wandb-col\"><h3>Run history:</h3><br/><table class=\"wandb\"><tr><td>accuracy</td><td>▁</td></tr><tr><td>eval/accuracy</td><td>▁█▅▄▄</td></tr><tr><td>eval/f1</td><td>▁█▅▃▃</td></tr><tr><td>eval/loss</td><td>█▄▁▁▁</td></tr><tr><td>eval/precision</td><td>▁█▅▅▅</td></tr><tr><td>eval/recall</td><td>█▅▅▁▁</td></tr><tr><td>eval/runtime</td><td>█▁▁▁▁</td></tr><tr><td>eval/samples_per_second</td><td>▁██▇█</td></tr><tr><td>eval/steps_per_second</td><td>▁██▇█</td></tr><tr><td>eval_loss</td><td>▁</td></tr><tr><td>train/epoch</td><td>▁▁▂▂▂▂▃▃▃▃▄▄▄▄▄▅▅▅▆▆▆▆▇▇▇▇█████</td></tr><tr><td>train/global_step</td><td>▁▁▂▂▂▂▃▃▃▃▄▄▄▄▅▅▅▅▆▆▆▆▇▇▇▇██████</td></tr><tr><td>train/grad_norm</td><td>▁▁▁▂▁▁▁▂▂▁▁▁▁▁▁▁▁▃█▁▂▁▁▂▂</td></tr><tr><td>train/learning_rate</td><td>██▇▇▇▇▆▆▆▅▅▅▅▄▄▄▃▃▃▂▂▂▂▁▁</td></tr><tr><td>train/loss</td><td>████▇▇▇▆▇▅▆▅▅▅▄▂▁▃▃▂▁▃▂▂▁</td></tr><tr><td>train/total_flos</td><td>▁</td></tr><tr><td>train/train_loss</td><td>▁</td></tr><tr><td>train/train_runtime</td><td>▁</td></tr><tr><td>train/train_samples_per_second</td><td>▁</td></tr><tr><td>train/train_steps_per_second</td><td>▁</td></tr></table><br/></div><div class=\"wandb-col\"><h3>Run summary:</h3><br/><table class=\"wandb\"><tr><td>accuracy</td><td>0.77612</td></tr><tr><td>eval/accuracy</td><td>0.77612</td></tr><tr><td>eval/f1</td><td>0.78261</td></tr><tr><td>eval/loss</td><td>0.44914</td></tr><tr><td>eval/precision</td><td>0.77143</td></tr><tr><td>eval/recall</td><td>0.79412</td></tr><tr><td>eval/runtime</td><td>14.8094</td></tr><tr><td>eval/samples_per_second</td><td>4.524</td></tr><tr><td>eval/steps_per_second</td><td>0.203</td></tr><tr><td>eval_loss</td><td>0.44914</td></tr><tr><td>train/epoch</td><td>4.0</td></tr><tr><td>train/global_step</td><td>100</td></tr><tr><td>train/grad_norm</td><td>3.27313</td></tr><tr><td>train/learning_rate</td><td>0.0</td></tr><tr><td>train/loss</td><td>0.3571</td></tr><tr><td>train/total_flos</td><td>210488844288000.0</td></tr><tr><td>train/train_loss</td><td>0.52147</td></tr><tr><td>train/train_runtime</td><td>719.5258</td></tr><tr><td>train/train_samples_per_second</td><td>1.112</td></tr><tr><td>train/train_steps_per_second</td><td>0.139</td></tr></table><br/></div></div>"
            ]
          },
          "metadata": {}
        },
        {
          "output_type": "display_data",
          "data": {
            "text/plain": [
              "<IPython.core.display.HTML object>"
            ],
            "text/html": [
              " View run <strong style=\"color:#cdcd00\">rich-sweep-1</strong> at: <a href='https://wandb.ai/arisoy/TER_test/runs/nuzcrecn' target=\"_blank\">https://wandb.ai/arisoy/TER_test/runs/nuzcrecn</a><br/>Synced 5 W&B file(s), 0 media file(s), 0 artifact file(s) and 0 other file(s)"
            ]
          },
          "metadata": {}
        },
        {
          "output_type": "display_data",
          "data": {
            "text/plain": [
              "<IPython.core.display.HTML object>"
            ],
            "text/html": [
              "Find logs at: <code>./wandb/run-20240317_223458-nuzcrecn/logs</code>"
            ]
          },
          "metadata": {}
        },
        {
          "output_type": "stream",
          "name": "stderr",
          "text": [
            "\u001b[34m\u001b[1mwandb\u001b[0m: Sweep Agent: Waiting for job.\n",
            "\u001b[34m\u001b[1mwandb\u001b[0m: Job received.\n",
            "\u001b[34m\u001b[1mwandb\u001b[0m: Agent Starting Run: koexgayv with config:\n",
            "\u001b[34m\u001b[1mwandb\u001b[0m: \tlearning_rate: 0.00013956920221796826\n",
            "\u001b[34m\u001b[1mwandb\u001b[0m: \tnum_train_epochs: 4\n",
            "\u001b[34m\u001b[1mwandb\u001b[0m: \tper_device_train_batch_size: 16\n",
            "\u001b[34m\u001b[1mwandb\u001b[0m: Currently logged in as: \u001b[33marisoy10\u001b[0m (\u001b[33marisoy\u001b[0m). Use \u001b[1m`wandb login --relogin`\u001b[0m to force relogin\n"
          ]
        },
        {
          "output_type": "display_data",
          "data": {
            "text/plain": [
              "<IPython.core.display.HTML object>"
            ],
            "text/html": [
              "Tracking run with wandb version 0.16.4"
            ]
          },
          "metadata": {}
        },
        {
          "output_type": "display_data",
          "data": {
            "text/plain": [
              "<IPython.core.display.HTML object>"
            ],
            "text/html": [
              "Run data is saved locally in <code>/content/wandb/run-20240317_224742-koexgayv</code>"
            ]
          },
          "metadata": {}
        },
        {
          "output_type": "display_data",
          "data": {
            "text/plain": [
              "<IPython.core.display.HTML object>"
            ],
            "text/html": [
              "Syncing run <strong><a href='https://wandb.ai/arisoy/TER_test/runs/koexgayv' target=\"_blank\">chocolate-sweep-2</a></strong> to <a href='https://wandb.ai/arisoy/TER_test' target=\"_blank\">Weights & Biases</a> (<a href='https://wandb.me/run' target=\"_blank\">docs</a>)<br/>Sweep page: <a href='https://wandb.ai/arisoy/TER_test/sweeps/3k77hog4' target=\"_blank\">https://wandb.ai/arisoy/TER_test/sweeps/3k77hog4</a>"
            ]
          },
          "metadata": {}
        },
        {
          "output_type": "display_data",
          "data": {
            "text/plain": [
              "<IPython.core.display.HTML object>"
            ],
            "text/html": [
              " View project at <a href='https://wandb.ai/arisoy/TER_test' target=\"_blank\">https://wandb.ai/arisoy/TER_test</a>"
            ]
          },
          "metadata": {}
        },
        {
          "output_type": "display_data",
          "data": {
            "text/plain": [
              "<IPython.core.display.HTML object>"
            ],
            "text/html": [
              " View sweep at <a href='https://wandb.ai/arisoy/TER_test/sweeps/3k77hog4' target=\"_blank\">https://wandb.ai/arisoy/TER_test/sweeps/3k77hog4</a>"
            ]
          },
          "metadata": {}
        },
        {
          "output_type": "display_data",
          "data": {
            "text/plain": [
              "<IPython.core.display.HTML object>"
            ],
            "text/html": [
              " View run at <a href='https://wandb.ai/arisoy/TER_test/runs/koexgayv' target=\"_blank\">https://wandb.ai/arisoy/TER_test/runs/koexgayv</a>"
            ]
          },
          "metadata": {}
        },
        {
          "output_type": "stream",
          "name": "stderr",
          "text": [
            "/usr/local/lib/python3.10/dist-packages/accelerate/accelerator.py:432: FutureWarning: Passing the following arguments to `Accelerator` is deprecated and will be removed in version 1.0 of Accelerate: dict_keys(['dispatch_batches', 'split_batches', 'even_batches', 'use_seedable_sampler']). Please pass an `accelerate.DataLoaderConfiguration` instead: \n",
            "dataloader_config = DataLoaderConfiguration(dispatch_batches=None, split_batches=False, even_batches=True, use_seedable_sampler=True)\n",
            "  warnings.warn(\n",
            "\u001b[34m\u001b[1mwandb\u001b[0m: \u001b[33mWARNING\u001b[0m Config item 'per_device_train_batch_size' was locked by 'sweep' (ignored update).\n",
            "\u001b[34m\u001b[1mwandb\u001b[0m: \u001b[33mWARNING\u001b[0m Config item 'learning_rate' was locked by 'sweep' (ignored update).\n",
            "\u001b[34m\u001b[1mwandb\u001b[0m: \u001b[33mWARNING\u001b[0m Config item 'num_train_epochs' was locked by 'sweep' (ignored update).\n",
            "<ipython-input-12-2aee9a0a0f49>:9: UserWarning: To copy construct from a tensor, it is recommended to use sourceTensor.clone().detach() or sourceTensor.clone().detach().requires_grad_(True), rather than torch.tensor(sourceTensor).\n",
            "  item = {key: torch.tensor(val[idx]) for key, val in self.encodings.items()}\n"
          ]
        },
        {
          "output_type": "display_data",
          "data": {
            "text/plain": [
              "<IPython.core.display.HTML object>"
            ],
            "text/html": [
              "\n",
              "    <div>\n",
              "      \n",
              "      <progress value='33' max='52' style='width:300px; height:20px; vertical-align: middle;'></progress>\n",
              "      [33/52 06:21 < 03:53, 0.08 it/s, Epoch 2.46/4]\n",
              "    </div>\n",
              "    <table border=\"1\" class=\"dataframe\">\n",
              "  <thead>\n",
              " <tr style=\"text-align: left;\">\n",
              "      <th>Epoch</th>\n",
              "      <th>Training Loss</th>\n",
              "      <th>Validation Loss</th>\n",
              "      <th>Accuracy</th>\n",
              "      <th>F1</th>\n",
              "      <th>Precision</th>\n",
              "      <th>Recall</th>\n",
              "    </tr>\n",
              "  </thead>\n",
              "  <tbody>\n",
              "    <tr>\n",
              "      <td>1</td>\n",
              "      <td>0.318800</td>\n",
              "      <td>0.440091</td>\n",
              "      <td>0.791045</td>\n",
              "      <td>0.794118</td>\n",
              "      <td>0.794118</td>\n",
              "      <td>0.794118</td>\n",
              "    </tr>\n",
              "    <tr>\n",
              "      <td>2</td>\n",
              "      <td>0.244500</td>\n",
              "      <td>0.435913</td>\n",
              "      <td>0.835821</td>\n",
              "      <td>0.830769</td>\n",
              "      <td>0.870968</td>\n",
              "      <td>0.794118</td>\n",
              "    </tr>\n",
              "  </tbody>\n",
              "</table><p>"
            ]
          },
          "metadata": {}
        },
        {
          "output_type": "stream",
          "name": "stderr",
          "text": [
            "<ipython-input-12-2aee9a0a0f49>:9: UserWarning: To copy construct from a tensor, it is recommended to use sourceTensor.clone().detach() or sourceTensor.clone().detach().requires_grad_(True), rather than torch.tensor(sourceTensor).\n",
            "  item = {key: torch.tensor(val[idx]) for key, val in self.encodings.items()}\n",
            "<ipython-input-12-2aee9a0a0f49>:9: UserWarning: To copy construct from a tensor, it is recommended to use sourceTensor.clone().detach() or sourceTensor.clone().detach().requires_grad_(True), rather than torch.tensor(sourceTensor).\n",
            "  item = {key: torch.tensor(val[idx]) for key, val in self.encodings.items()}\n",
            "\u001b[34m\u001b[1mwandb\u001b[0m: Ctrl + C detected. Stopping sweep.\n"
          ]
        }
      ]
    },
    {
      "cell_type": "code",
      "source": [
        "predictions = trainer.predict(test_dataset)\n",
        "preds = np.argmax(predictions.predictions, axis=-1)\n",
        "\n",
        "# Create the confusion matrix\n",
        "cm = confusion_matrix(test_labels, preds)\n",
        "\n",
        "# Create a custom colormap\n",
        "cmap = sns.diverging_palette(220, 20, as_cmap=True)\n",
        "\n",
        "plt.figure(figsize=(10, 8))\n",
        "sns.heatmap(cm, annot=True, fmt='d', cmap=cmap, xticklabels=['Class 0', 'Class 1'], yticklabels=['Class 0', 'Class 1'])\n",
        "plt.title('Confusion Matrix')\n",
        "plt.ylabel('Actual')\n",
        "plt.xlabel('Predicted')\n",
        "\n",
        "# Log the custom colored confusion matrix to wandb\n",
        "wandb.log({\"Confusion Matrix\": wandb.Image(plt)})\n",
        "plt.close()"
      ],
      "metadata": {
        "id": "ZUVmKQ5Lh57N"
      },
      "execution_count": null,
      "outputs": []
    },
    {
      "cell_type": "code",
      "source": [
        "import numpy as np\n",
        "from scipy.special import softmax\n",
        "from sklearn.metrics import roc_curve, auc\n",
        "from sklearn.metrics import precision_recall_curve\n",
        "import matplotlib.pyplot as plt\n",
        "\n",
        "\n",
        "# Apply softmax to the predictions to get probabilities\n",
        "probabilities = softmax(predictions.predictions, axis=1)[:, 1]\n",
        "\n",
        "# Now you can continue with calculating the ROC curve and plotting\n",
        "fpr, tpr, thresholds = roc_curve(test_labels, probabilities)\n",
        "roc_auc = auc(fpr, tpr)\n",
        "\n",
        "\n",
        "# Create ROC curve plot\n",
        "plt.figure()\n",
        "lw = 2\n",
        "plt.plot(fpr, tpr, color='darkorange', lw=lw, label='ROC curve (area = %0.2f)' % roc_auc)\n",
        "plt.plot([0, 1], [0, 1], color='navy', lw=lw, linestyle='--')\n",
        "plt.xlim([0.0, 1.0])\n",
        "plt.ylim([0.0, 1.05])\n",
        "plt.xlabel('False Positive Rate')\n",
        "plt.ylabel('True Positive Rate')\n",
        "plt.title('Receiver Operating Characteristic')\n",
        "plt.legend(loc=\"lower right\")\n",
        "\n",
        "# Log the ROC curve plot\n",
        "wandb.log({\"ROC Curve\": wandb.Image(plt)})\n",
        "plt.close()\n",
        "\n",
        "\n",
        "precision, recall, _ = precision_recall_curve(test_labels, probabilities)\n",
        "\n",
        "# Create precision-recall curve plot\n",
        "plt.figure()\n",
        "plt.plot(recall, precision, color='blue', lw=lw, label='Precision-Recall curve')\n",
        "plt.xlabel('Recall')\n",
        "plt.ylabel('Precision')\n",
        "plt.title('Precision-Recall Curve')\n",
        "plt.legend(loc=\"upper right\")\n",
        "\n",
        "# Log the precision-recall curve plot\n",
        "wandb.log({\"Precision-Recall Curve\": wandb.Image(plt)})\n",
        "plt.close()"
      ],
      "metadata": {
        "id": "h3vpzxjZiIvT"
      },
      "execution_count": null,
      "outputs": []
    },
    {
      "cell_type": "code",
      "source": [],
      "metadata": {
        "id": "b91_ADx7iKPK"
      },
      "execution_count": null,
      "outputs": []
    },
    {
      "cell_type": "code",
      "source": [],
      "metadata": {
        "id": "AOAq52GuiKV2"
      },
      "execution_count": null,
      "outputs": []
    },
    {
      "cell_type": "code",
      "source": [],
      "metadata": {
        "id": "pz2AfwEiiKY4"
      },
      "execution_count": null,
      "outputs": []
    },
    {
      "cell_type": "code",
      "source": [],
      "metadata": {
        "id": "t3CfkH8diKbS"
      },
      "execution_count": null,
      "outputs": []
    },
    {
      "cell_type": "markdown",
      "metadata": {
        "id": "WiLF7o_O3M6G"
      },
      "source": [
        "## WandB and Training"
      ]
    },
    {
      "cell_type": "code",
      "execution_count": null,
      "metadata": {
        "id": "rh4AaCvF3M6H",
        "colab": {
          "base_uri": "https://localhost:8080/",
          "height": 679,
          "referenced_widgets": [
            "16650bf8751e4f0d85b93d8e0825c4aa",
            "7299cac3204840e0b486ed0d6225db76",
            "f23ae2a11b3a4364a6a89370cbc83f8a",
            "1a13369f13e04aa5a9baa4df42232e11",
            "cd7dec0582714734b89828ed11e55d73",
            "8eb94add80a34f02bbd85e8370d1cd9e",
            "46592741a58a4d139af9162fc15297ec",
            "89f40a5085984b43a1625dfa2270fa12"
          ]
        },
        "outputId": "b3887435-f464-481d-e118-d2fec7c5edc7"
      },
      "outputs": [
        {
          "output_type": "display_data",
          "data": {
            "text/plain": [
              "<IPython.core.display.HTML object>"
            ],
            "text/html": [
              "Finishing last run (ID:wv74idxd) before initializing another..."
            ]
          },
          "metadata": {}
        },
        {
          "output_type": "display_data",
          "data": {
            "text/plain": [
              "VBox(children=(Label(value='0.024 MB of 0.024 MB uploaded\\r'), FloatProgress(value=1.0, max=1.0)))"
            ],
            "application/vnd.jupyter.widget-view+json": {
              "version_major": 2,
              "version_minor": 0,
              "model_id": "16650bf8751e4f0d85b93d8e0825c4aa"
            }
          },
          "metadata": {}
        },
        {
          "output_type": "display_data",
          "data": {
            "text/plain": [
              "<IPython.core.display.HTML object>"
            ],
            "text/html": [
              "<style>\n",
              "    table.wandb td:nth-child(1) { padding: 0 10px; text-align: left ; width: auto;} td:nth-child(2) {text-align: left ; width: 100%}\n",
              "    .wandb-row { display: flex; flex-direction: row; flex-wrap: wrap; justify-content: flex-start; width: 100% }\n",
              "    .wandb-col { display: flex; flex-direction: column; flex-basis: 100%; flex: 1; padding: 10px; }\n",
              "    </style>\n",
              "<div class=\"wandb-row\"><div class=\"wandb-col\"><h3>Run history:</h3><br/><table class=\"wandb\"><tr><td>eval/accuracy</td><td>▁███</td></tr><tr><td>eval/f1</td><td>▁▇██</td></tr><tr><td>eval/loss</td><td>█▅▂▁</td></tr><tr><td>eval/precision</td><td>▁███</td></tr><tr><td>eval/recall</td><td>█▁▆▆</td></tr><tr><td>eval/runtime</td><td>▄█▅▁</td></tr><tr><td>eval/samples_per_second</td><td>▅▁▄█</td></tr><tr><td>eval/steps_per_second</td><td>▅▁▄█</td></tr><tr><td>train/epoch</td><td>▁▂▃▅▆██</td></tr><tr><td>train/global_step</td><td>▁▂▃▅▆███</td></tr><tr><td>train/grad_norm</td><td>█▁</td></tr><tr><td>train/learning_rate</td><td>█▁</td></tr><tr><td>train/loss</td><td>█▁</td></tr><tr><td>train/total_flos</td><td>▁</td></tr><tr><td>train/train_loss</td><td>▁</td></tr><tr><td>train/train_runtime</td><td>▁</td></tr><tr><td>train/train_samples_per_second</td><td>▁</td></tr><tr><td>train/train_steps_per_second</td><td>▁</td></tr></table><br/></div><div class=\"wandb-col\"><h3>Run summary:</h3><br/><table class=\"wandb\"><tr><td>eval/accuracy</td><td>0.8209</td></tr><tr><td>eval/f1</td><td>0.84615</td></tr><tr><td>eval/loss</td><td>0.60277</td></tr><tr><td>eval/precision</td><td>0.75</td></tr><tr><td>eval/recall</td><td>0.97059</td></tr><tr><td>eval/runtime</td><td>11.3251</td></tr><tr><td>eval/samples_per_second</td><td>5.916</td></tr><tr><td>eval/steps_per_second</td><td>0.441</td></tr><tr><td>train/epoch</td><td>4.0</td></tr><tr><td>train/global_step</td><td>28</td></tr><tr><td>train/grad_norm</td><td>0.67943</td></tr><tr><td>train/learning_rate</td><td>1e-05</td></tr><tr><td>train/loss</td><td>0.6452</td></tr><tr><td>train/total_flos</td><td>210488844288000.0</td></tr><tr><td>train/train_loss</td><td>0.65154</td></tr><tr><td>train/train_runtime</td><td>676.4082</td></tr><tr><td>train/train_samples_per_second</td><td>1.183</td></tr><tr><td>train/train_steps_per_second</td><td>0.041</td></tr></table><br/></div></div>"
            ]
          },
          "metadata": {}
        },
        {
          "output_type": "display_data",
          "data": {
            "text/plain": [
              "<IPython.core.display.HTML object>"
            ],
            "text/html": [
              " View run <strong style=\"color:#cdcd00\">dainty-rain-4</strong> at: <a href='https://wandb.ai/arisoy10/MLM-binary/runs/wv74idxd' target=\"_blank\">https://wandb.ai/arisoy10/MLM-binary/runs/wv74idxd</a><br/>Synced 5 W&B file(s), 1 media file(s), 0 artifact file(s) and 0 other file(s)"
            ]
          },
          "metadata": {}
        },
        {
          "output_type": "display_data",
          "data": {
            "text/plain": [
              "<IPython.core.display.HTML object>"
            ],
            "text/html": [
              "Find logs at: <code>./wandb/run-20240317_214027-wv74idxd/logs</code>"
            ]
          },
          "metadata": {}
        },
        {
          "output_type": "display_data",
          "data": {
            "text/plain": [
              "<IPython.core.display.HTML object>"
            ],
            "text/html": [
              "Successfully finished last run (ID:wv74idxd). Initializing new run:<br/>"
            ]
          },
          "metadata": {}
        },
        {
          "output_type": "display_data",
          "data": {
            "text/plain": [
              "<IPython.core.display.HTML object>"
            ],
            "text/html": [
              "Tracking run with wandb version 0.16.4"
            ]
          },
          "metadata": {}
        },
        {
          "output_type": "display_data",
          "data": {
            "text/plain": [
              "<IPython.core.display.HTML object>"
            ],
            "text/html": [
              "Run data is saved locally in <code>/content/wandb/run-20240317_215334-qxt7020a</code>"
            ]
          },
          "metadata": {}
        },
        {
          "output_type": "display_data",
          "data": {
            "text/plain": [
              "<IPython.core.display.HTML object>"
            ],
            "text/html": [
              "Syncing run <strong><a href='https://wandb.ai/arisoy10/MLM-binary/runs/qxt7020a' target=\"_blank\">super-surf-5</a></strong> to <a href='https://wandb.ai/arisoy10/MLM-binary' target=\"_blank\">Weights & Biases</a> (<a href='https://wandb.me/run' target=\"_blank\">docs</a>)<br/>"
            ]
          },
          "metadata": {}
        },
        {
          "output_type": "display_data",
          "data": {
            "text/plain": [
              "<IPython.core.display.HTML object>"
            ],
            "text/html": [
              " View project at <a href='https://wandb.ai/arisoy10/MLM-binary' target=\"_blank\">https://wandb.ai/arisoy10/MLM-binary</a>"
            ]
          },
          "metadata": {}
        },
        {
          "output_type": "display_data",
          "data": {
            "text/plain": [
              "<IPython.core.display.HTML object>"
            ],
            "text/html": [
              " View run at <a href='https://wandb.ai/arisoy10/MLM-binary/runs/qxt7020a' target=\"_blank\">https://wandb.ai/arisoy10/MLM-binary/runs/qxt7020a</a>"
            ]
          },
          "metadata": {}
        },
        {
          "output_type": "execute_result",
          "data": {
            "text/html": [
              "<button onClick=\"this.nextSibling.style.display='block';this.style.display='none';\">Display W&B run</button><iframe src='https://wandb.ai/arisoy10/MLM-binary/runs/qxt7020a?jupyter=true' style='border:none;width:100%;height:420px;display:none;'></iframe>"
            ],
            "text/plain": [
              "<wandb.sdk.wandb_run.Run at 0x79b3344d47f0>"
            ]
          },
          "metadata": {},
          "execution_count": 44
        }
      ],
      "source": [
        "#!pip install wandb\n",
        "import wandb\n",
        "wandb.init(project=\"MLM-binary\", entity=\"arisoy10\")\n"
      ]
    },
    {
      "cell_type": "code",
      "execution_count": null,
      "metadata": {
        "id": "82sR4UWA3M6H",
        "colab": {
          "base_uri": "https://localhost:8080/",
          "height": 474
        },
        "outputId": "dda0eef0-c3c8-43f7-d085-1fdd974ecf0e"
      },
      "outputs": [
        {
          "output_type": "stream",
          "name": "stderr",
          "text": [
            "<ipython-input-35-2aee9a0a0f49>:9: UserWarning: To copy construct from a tensor, it is recommended to use sourceTensor.clone().detach() or sourceTensor.clone().detach().requires_grad_(True), rather than torch.tensor(sourceTensor).\n",
            "  item = {key: torch.tensor(val[idx]) for key, val in self.encodings.items()}\n"
          ]
        },
        {
          "output_type": "display_data",
          "data": {
            "text/plain": [
              "<IPython.core.display.HTML object>"
            ],
            "text/html": [
              "\n",
              "    <div>\n",
              "      \n",
              "      <progress value='28' max='28' style='width:300px; height:20px; vertical-align: middle;'></progress>\n",
              "      [28/28 10:48, Epoch 4/4]\n",
              "    </div>\n",
              "    <table border=\"1\" class=\"dataframe\">\n",
              "  <thead>\n",
              " <tr style=\"text-align: left;\">\n",
              "      <th>Epoch</th>\n",
              "      <th>Training Loss</th>\n",
              "      <th>Validation Loss</th>\n",
              "      <th>Accuracy</th>\n",
              "      <th>F1</th>\n",
              "      <th>Precision</th>\n",
              "      <th>Recall</th>\n",
              "    </tr>\n",
              "  </thead>\n",
              "  <tbody>\n",
              "    <tr>\n",
              "      <td>1</td>\n",
              "      <td>No log</td>\n",
              "      <td>0.678586</td>\n",
              "      <td>0.567164</td>\n",
              "      <td>0.701031</td>\n",
              "      <td>0.539683</td>\n",
              "      <td>1.000000</td>\n",
              "    </tr>\n",
              "    <tr>\n",
              "      <td>2</td>\n",
              "      <td>0.688700</td>\n",
              "      <td>0.656056</td>\n",
              "      <td>0.761194</td>\n",
              "      <td>0.800000</td>\n",
              "      <td>0.695652</td>\n",
              "      <td>0.941176</td>\n",
              "    </tr>\n",
              "    <tr>\n",
              "      <td>3</td>\n",
              "      <td>0.659800</td>\n",
              "      <td>0.628989</td>\n",
              "      <td>0.791045</td>\n",
              "      <td>0.815789</td>\n",
              "      <td>0.738095</td>\n",
              "      <td>0.911765</td>\n",
              "    </tr>\n",
              "    <tr>\n",
              "      <td>4</td>\n",
              "      <td>0.659800</td>\n",
              "      <td>0.615099</td>\n",
              "      <td>0.791045</td>\n",
              "      <td>0.815789</td>\n",
              "      <td>0.738095</td>\n",
              "      <td>0.911765</td>\n",
              "    </tr>\n",
              "  </tbody>\n",
              "</table><p>"
            ]
          },
          "metadata": {}
        },
        {
          "output_type": "stream",
          "name": "stderr",
          "text": [
            "Checkpoint destination directory ./results/checkpoint-7 already exists and is non-empty. Saving will proceed but saved results may be invalid.\n",
            "<ipython-input-35-2aee9a0a0f49>:9: UserWarning: To copy construct from a tensor, it is recommended to use sourceTensor.clone().detach() or sourceTensor.clone().detach().requires_grad_(True), rather than torch.tensor(sourceTensor).\n",
            "  item = {key: torch.tensor(val[idx]) for key, val in self.encodings.items()}\n",
            "Checkpoint destination directory ./results/checkpoint-14 already exists and is non-empty. Saving will proceed but saved results may be invalid.\n",
            "<ipython-input-35-2aee9a0a0f49>:9: UserWarning: To copy construct from a tensor, it is recommended to use sourceTensor.clone().detach() or sourceTensor.clone().detach().requires_grad_(True), rather than torch.tensor(sourceTensor).\n",
            "  item = {key: torch.tensor(val[idx]) for key, val in self.encodings.items()}\n",
            "Checkpoint destination directory ./results/checkpoint-21 already exists and is non-empty. Saving will proceed but saved results may be invalid.\n",
            "<ipython-input-35-2aee9a0a0f49>:9: UserWarning: To copy construct from a tensor, it is recommended to use sourceTensor.clone().detach() or sourceTensor.clone().detach().requires_grad_(True), rather than torch.tensor(sourceTensor).\n",
            "  item = {key: torch.tensor(val[idx]) for key, val in self.encodings.items()}\n",
            "Checkpoint destination directory ./results/checkpoint-28 already exists and is non-empty. Saving will proceed but saved results may be invalid.\n"
          ]
        },
        {
          "output_type": "execute_result",
          "data": {
            "text/plain": [
              "TrainOutput(global_step=28, training_loss=0.6622569050107684, metrics={'train_runtime': 673.9897, 'train_samples_per_second': 1.187, 'train_steps_per_second': 0.042, 'total_flos': 210488844288000.0, 'train_loss': 0.6622569050107684, 'epoch': 4.0})"
            ]
          },
          "metadata": {},
          "execution_count": 45
        }
      ],
      "source": [
        "trainer.train()  # Evaluate on the validation set"
      ]
    },
    {
      "cell_type": "code",
      "execution_count": null,
      "metadata": {
        "id": "L0DU0SWO3M6H",
        "colab": {
          "base_uri": "https://localhost:8080/",
          "height": 71
        },
        "outputId": "028a537f-000a-4721-f0ef-1085767d24b1"
      },
      "outputs": [
        {
          "output_type": "stream",
          "name": "stderr",
          "text": [
            "<ipython-input-35-2aee9a0a0f49>:9: UserWarning: To copy construct from a tensor, it is recommended to use sourceTensor.clone().detach() or sourceTensor.clone().detach().requires_grad_(True), rather than torch.tensor(sourceTensor).\n",
            "  item = {key: torch.tensor(val[idx]) for key, val in self.encodings.items()}\n"
          ]
        },
        {
          "output_type": "display_data",
          "data": {
            "text/plain": [
              "<IPython.core.display.HTML object>"
            ],
            "text/html": []
          },
          "metadata": {}
        }
      ],
      "source": [
        "\n"
      ]
    },
    {
      "cell_type": "code",
      "source": [
        "wandb.finish()"
      ],
      "metadata": {
        "colab": {
          "base_uri": "https://localhost:8080/",
          "height": 542,
          "referenced_widgets": [
            "e0895c6de2554185bb7010c2ecc14702",
            "5424d953df91438c8981f6d173d11d91",
            "c49c64cc60bd4284ad7ad0666d2a04dd",
            "740ec10d62434def87ef811f0aa657a0",
            "aec8de129f414d79a161511e8de694ec",
            "0875168107bc48d3866aab0a5be61d41",
            "11a596340a2d46fe99bb98f05ab7eec9",
            "434637260dd14434b7a31acb8a33ccab"
          ]
        },
        "id": "HvNFD6noMnHO",
        "outputId": "ae10dfae-f08c-42bc-e8ff-126df486a8e1"
      },
      "execution_count": null,
      "outputs": [
        {
          "output_type": "display_data",
          "data": {
            "text/plain": [
              "VBox(children=(Label(value='0.066 MB of 0.066 MB uploaded\\r'), FloatProgress(value=1.0, max=1.0)))"
            ],
            "application/vnd.jupyter.widget-view+json": {
              "version_major": 2,
              "version_minor": 0,
              "model_id": "e0895c6de2554185bb7010c2ecc14702"
            }
          },
          "metadata": {}
        },
        {
          "output_type": "display_data",
          "data": {
            "text/plain": [
              "<IPython.core.display.HTML object>"
            ],
            "text/html": [
              "<style>\n",
              "    table.wandb td:nth-child(1) { padding: 0 10px; text-align: left ; width: auto;} td:nth-child(2) {text-align: left ; width: 100%}\n",
              "    .wandb-row { display: flex; flex-direction: row; flex-wrap: wrap; justify-content: flex-start; width: 100% }\n",
              "    .wandb-col { display: flex; flex-direction: column; flex-basis: 100%; flex: 1; padding: 10px; }\n",
              "    </style>\n",
              "<div class=\"wandb-row\"><div class=\"wandb-col\"><h3>Run history:</h3><br/><table class=\"wandb\"><tr><td>eval/accuracy</td><td>▁▇██</td></tr><tr><td>eval/f1</td><td>▁▇██</td></tr><tr><td>eval/loss</td><td>█▆▃▁</td></tr><tr><td>eval/precision</td><td>▁▇██</td></tr><tr><td>eval/recall</td><td>█▃▁▁</td></tr><tr><td>eval/runtime</td><td>█▁▃▃</td></tr><tr><td>eval/samples_per_second</td><td>▁█▆▆</td></tr><tr><td>eval/steps_per_second</td><td>▁█▆▆</td></tr><tr><td>train/epoch</td><td>▁▂▃▅▆██</td></tr><tr><td>train/global_step</td><td>▁▂▃▅▆████</td></tr><tr><td>train/grad_norm</td><td>█▁</td></tr><tr><td>train/learning_rate</td><td>█▁</td></tr><tr><td>train/loss</td><td>█▁</td></tr><tr><td>train/total_flos</td><td>▁</td></tr><tr><td>train/train_loss</td><td>▁</td></tr><tr><td>train/train_runtime</td><td>▁</td></tr><tr><td>train/train_samples_per_second</td><td>▁</td></tr><tr><td>train/train_steps_per_second</td><td>▁</td></tr></table><br/></div><div class=\"wandb-col\"><h3>Run summary:</h3><br/><table class=\"wandb\"><tr><td>eval/accuracy</td><td>0.79104</td></tr><tr><td>eval/f1</td><td>0.81579</td></tr><tr><td>eval/loss</td><td>0.6151</td></tr><tr><td>eval/precision</td><td>0.7381</td></tr><tr><td>eval/recall</td><td>0.91176</td></tr><tr><td>eval/runtime</td><td>11.4891</td></tr><tr><td>eval/samples_per_second</td><td>5.832</td></tr><tr><td>eval/steps_per_second</td><td>0.435</td></tr><tr><td>train/epoch</td><td>4.0</td></tr><tr><td>train/global_step</td><td>28</td></tr><tr><td>train/grad_norm</td><td>0.6508</td></tr><tr><td>train/learning_rate</td><td>1e-05</td></tr><tr><td>train/loss</td><td>0.6598</td></tr><tr><td>train/total_flos</td><td>210488844288000.0</td></tr><tr><td>train/train_loss</td><td>0.66226</td></tr><tr><td>train/train_runtime</td><td>673.9897</td></tr><tr><td>train/train_samples_per_second</td><td>1.187</td></tr><tr><td>train/train_steps_per_second</td><td>0.042</td></tr></table><br/></div></div>"
            ]
          },
          "metadata": {}
        },
        {
          "output_type": "display_data",
          "data": {
            "text/plain": [
              "<IPython.core.display.HTML object>"
            ],
            "text/html": [
              " View run <strong style=\"color:#cdcd00\">super-surf-5</strong> at: <a href='https://wandb.ai/arisoy10/MLM-binary/runs/qxt7020a' target=\"_blank\">https://wandb.ai/arisoy10/MLM-binary/runs/qxt7020a</a><br/>Synced 5 W&B file(s), 2 media file(s), 0 artifact file(s) and 0 other file(s)"
            ]
          },
          "metadata": {}
        },
        {
          "output_type": "display_data",
          "data": {
            "text/plain": [
              "<IPython.core.display.HTML object>"
            ],
            "text/html": [
              "Find logs at: <code>./wandb/run-20240317_215334-qxt7020a/logs</code>"
            ]
          },
          "metadata": {}
        }
      ]
    },
    {
      "cell_type": "markdown",
      "metadata": {
        "id": "pu2rdZo83M6I"
      },
      "source": [
        "### Evaluating"
      ]
    },
    {
      "cell_type": "code",
      "execution_count": null,
      "metadata": {
        "id": "nbJtCihZ3M6I",
        "colab": {
          "base_uri": "https://localhost:8080/"
        },
        "outputId": "28473270-922e-425f-d870-61faff15f010"
      },
      "outputs": [
        {
          "output_type": "stream",
          "name": "stdout",
          "text": [
            "False Positive Text at index 3: Agriculture : Les producteurs Sénégalais ont reçu un don de 25.000 tonnes d'engrais de l'OCP. C'est dans le cadre de la lutte contre l'insécurité alimentaire que l’Office chérifien du phosphate (OCP) du royaume du Maroc, a octroyé au Sénégal un don de 10. 000 tonnes d'engrais complexe et 15.000 tonnes d'engrais phosphaté, destiné aux petits producteurs sénégalais. La cérémonie officielle de remise d'engrais de ce don s'est tenue, ce Jeudi 20 Octobre aux entrepôts de Diamniadio en présence du ministre de l’agriculture, de l’équipement rural et de la souveraineté alimentaire,. À l'occasion de cette cérémonie, le ministre a exprimé sa joie sur la relation fraternelle qui existe entre le Royaume du Maroc et la République du Sénégal, une relation qui se traduit par une coopération étroite entre le ministère de l'agriculture du Sénégal et l'Office chérifien du phosphate à travers des conventions et des activités techniques relatives à la fertilité des sols et des engrais. \"À la suite d'un contexte mondial difficile du fait de la cherté de l'engrais, le groupe OCP l'un des grands leaders mondiaux des engrais a bien voulu mettre à la disposition de notre pays ce don composé de 10.000 tonnes de DAP et 5.000 tonnes de TSP destiné aux petits producteurs Sénégalais. En plus, de ce don, le groupe OCP va mettre à notre disposition 10.000 tonnes d'engrais qui seront cédés à des prix réduits. Ce geste, de haute portée, au-delà de renforcer le partenariat entre le Maroc et notre pays, contribue ainsi, à faciliter l'accès aux engrais, aux petits producteurs, à réduire les charges de production compte tenu de la cherté des engrais, à accroître la production nationale et à lutter contre la vie chère en améliorant les disponibilités de produits agricoles\", précisera. Ont pris part à cette cérémonie, le Directeur Général OCP Afrique au Sénégal et l'ambassadeur du Maroc au Sénégal,. Pour ce dernier, c'est un honneur et un privilège de prendre part à cette cérémonie qui est l'initiative de sa majesté le roi à l'endroit de la république du Sénégal. \"Le Sénégal, le pays avec lequel, nous entretenons depuis des siècles, des liens étroits de sang, de spiritualité, de solidarité et de conviction profonde de l'unicité de notre destin et de notre devenir commun. La rencontre de ce\n",
            "False Positive Text at index 4: Tribune | \", il est temps que vous changez la donne \" () Ceci est une tribune de sur l’actualité nationale. Au, La suite après cette publicité Vous seul pouvez changer la donne. En effet, si certains ont gagné la bataille médiatique, s’octroyant la lutte du peuple insurgé. Si certains ont compris bien longtemps le jeu qu’en restant à la maison ils seront aujourd’hui les maitres du jeu lors de ces assises ; contrairement à nous qui avons bravé tout danger, avons abandonné notre titre de président de parti, avons abandonné nos familles pour cette veillée dans la nuit du 1er au 2 octobre 2022 et lutter avec corps et âme parce que nous croyons à votre volonté et à la volonté du peuple à vouloir changer les choses., il est temps que vous changez la donne. Je suis offusqué que ces assises nationales soient animées par presque les mêmes personnalités politiques, presque les mêmes organisations de la société civile. Vous pourrez peut-être dire qu’ils sont indispensables pour une assise inclusive. Mais à chaque fois, nul ne donne l’occasion aux jeunes partis politiques de s’exprimer et de donner leur point de vue. Chaque fois, ce sont les mêmes manigances, les coup bas et au final, peut-on toujours espérer avec cette vieille classe politique, ou avec ces jeunes qui n’ont de carrière que dans la politique? Les puissants nous écrasent toujours. Pourtant, il est temps qu’on écoute cette jeunesse d’hommes politiques qui a de véritables idées pour changer les choses et faire avancer le pays. Hélas! c’est comme d’habitude. Nous n’avons pas eu la chance de faire valoir nos idées, mais nous restons toujours sur notre position du MPSR1 au MPSR2 : Suppression ou gratuité du mandat à l’ALT, la réduction du nombre de ministres, la réduction réelle et sincère du train de vie du futur gouvernement. Chacun lutte pour avoir une place pour manger sous le dos du peuple, pendant que les populations sont en train de mourir de faim, pendant que des soldats sont en train de mourir au front. A quand le changement? J’espère que votre intelligence académique vous permettra de faire attention aux vautours qui planent déjà autour de vous. Je vous souhaite bonne chance et beaucoup de courage car je sais combien, il est difficile d’être patriote dans un pays comme le nôtre. La victoire appartient toujours à celui qui écoute son peuple. Que Dieu bénisse le Burkina Faso publicite\n",
            "False Positive Text at index 32: IFC et des partenaires s’allient pour soutenir le développement du secteur (...) Un groupe d’institutions africaines, européennes, multilatérales et bilatérales a lancé, ce mardi 22 mars 2022, l’Alliance pour l’entrepreneuriat en Afrique. L’initiative a pour objectif de soutenir le secteur privé, l’entrepreneuriat et le développement des petites et moyennes entreprises (PME) à travers le continent. L’Alliance permettra de mettre en commun et d’orienter les ressources techniques et financières de ses membres afin d’améliorer le climat des affaires en Afrique et de soutenir le développement et la réussite des PME, des entreprises détenues par des femmes et des jeunes entrepreneurs. Outre ses membres initiateurs, l’Alliance entend associer des banques de développement multilatérales et bilatérales, des bailleurs bilatéraux et des banques de développement nationales africaines. La création de l’Alliance avait été annoncée lors du Sommet sur le financement des économies africaines, qui s’est tenu à Paris en mai 2021. Les membres initiateurs de l’Alliance sont les suivants : la Banque africaine de développement (BAD) ; la Banque européenne pour la reconstruction et le développement (BERD) ; la Banque européenne d’investissement (BEI) ; l’Association des institutions européennes de financement du développement (EDFI) ; le Trésor français ; la Société financière internationale (IFC) ; et Proparco, la branche de l’Agence française de développement (AFD) dédiée au secteur privé. Le lancement de l’Alliance intervient au moment où les économies africaines commencent à se remettre des effets de la pandémie de COVID-19 et alors que les petites entreprises sont considérées comme des moteurs clés de la création d’emplois, de l’innovation et de la fourniture de biens et services essentiels sur le continent. Cette initiative témoigne du ferme engagement des institutions africaines, européennes, multilatérales et bilatérales, en coordination avec l’Union Africaine, la Commission Européenne et d’autres partenaires, à soutenir le secteur privé en Afrique dans un contexte économique régional et mondial difficile. Les membres de l’Alliance ont signé aujourd’hui le protocole qui régira le fonctionnement de l’Alliance. IFC assurera le secrétariat de l’Alliance et contribuera à la coordination de ses activités et à sa mise en œuvre, en partenariat avec le Trésor français. « En Afrique, les petites entreprises et les entrepreneurs sont des moteurs de croissance inclusive, de stabilité économique et de résilience. Soutenir leur croissance est essentiel pour créer des\n",
            "False Positive Text at index 42: KOLDA : Focus sur Dinguiraye, un des villages fondés par des \" saloum-saloum \" au cœur du Fouladou... Dinguiraye est un village fondé en 1984 par des « saloum-saloum » venus du nord du Sénégal à la recherche de terres arables au cœur du Fouladou. Les premiers habitants s’y sont installés à cause de la sécheresse, de la rareté des pluies et de la pauvreté des sols du nord pour s’adonner à leur activité favorite l’agriculture. Cependant, il faut rappeler que cette intégration s’est accompagnée de quelques difficultés nées du voisinage avec les autochtones, notamment les peulhs. Ces derniers, le plus souvent éleveurs ne pratiquaient que l’agriculture de subsistance avant l’arrivée des « saloum-saloum » en impactant moins sur l’environnement. Mais avec l’arrivée des « saloum-saloum » de la région centre du Sénégal (Kaolack, Kaffrine, Diourbel) les surfaces emblavées ont doublé voire triplé. Et cette situation a impacté fortement sur la dégradation de l’environnement car qui produit plus abat plus d’arbres. C’est de là que sont venues quelques difficultés mais tout s’est finalement bien passé dans leur intégration. Toutefois, le plus important est que les « saloum-saloum » sont réputés être des agriculteurs hors normes. Ils ont fini par s’imposer par leur travail en multipliant leurs villages comme,, Mbourouco entre autres en cohabitant dans l’harmonie avec les peulhs. Aujourd’hui, ils sont devenus des champions dans l’agriculture en faisant du département de le grenier céréalier de la région. D’ailleurs, pour certains observateurs, le département est en train de devenir le bassin arachidier du Sénégal à cause d’eux. Une fois dans ce village, l’individu est frappé par le niveau de développement de l’endroit avec des constructions en dur, des panneaux solaires pour s’éclairer et regarder la télévision. Ces types de commodités étaient impensables à une époque. C’est pourquoi, le maire de la commune de Mbourouco issu du village de Dinguiraye, a compris que l’agriculture est la solution pour développer l’économie rurale. Avec son organisation villageoise de plus de 3.000 membres, beaucoup de programmes agricoles publics comme privés se bousculent à leur porte\n",
            "False Positive Text at index 44: Afrique subsaharienne : Des organisations internationales alertent sur le risque de famine Depuis plusieurs semaines, des organisations et institutions internationales, dans un tir groupé, ont informé que l’Afrique de l’Ouest et le Sahel, prisonniers d’un enchaînement de circonstances, vont devoir affronter de graves crises alimentaires. En cause, l’insécurité, les sécheresses extrêmes, le changement climatique et les effets inflationnistes sur les prix des denrées de consommation courante consécutifs à la Covid-19 et au conflit entre la Russie et l’Ukraine. Aussi, elles en appellent à la solidarité internationale. La Fao appelle à la solidarité internationale... Selon l’organisation des Nations unies pour l’alimentation et l’agriculture (Fao), en Afrique subsaharienne, 27 millions de personnes souffrent actuellement de la faim ou de malnutrition. Un chiffre qui pourrait atteindre 38 millions de personnes d’ici au mois de juin 2022 du fait de la situation alimentaire qui s’aggrave crescendo. Du fait de l’insécurité, le nombre de personne souffrant de malnutrition dans la région sahélienne et autour du lac Tchad, a été multiplié par quatre en quatre ans ; renforçant ainsi l’insécurité alimentaire. S’y ajoute le renchérissement du coût de l’énergie et du fret maritime, ainsi que la raréfaction du blé ukrainien dont dépendent nombre de pays d’Afrique de l’Ouest et du Sahel) C’est ainsi que des dirigeants africains et européens ainsi que des spécialistes internationaux et le système des Nations unies, en consultation ce mercredi 6 avril 2022 à Rome au siège de l’organisation onusienne, ont relevé les facteurs qui aggravent la situation alimentaire et exacerbent les risques de famine en Afrique de l’Ouest et au Sahel. En outre, une réunion virtuelle de haut niveau portant sur « Crises alimentaires et nutritionnelles dans les régions du Sahel et du lac Tchad : agir maintenant et mieux se mobiliser à l’avenir en Afrique de l’Ouest » organisée par l’Union européenne s’est tenue.... « Un Africain sur 4, souffre de « faim alarmante » selon le CICR Le Comité international de la Croix-Rouge (Cicr) a aussi alerté le mardi 5 avril dernier sur la crise alimentaire majeure qui touche actuellement l’Afrique. Cette crise qui « passe inaperçue » en Afrique est le résultat des effets combinés des conflits qui minent le continent et des chocs climatiques répétés ». Quelque 346 millions de personnes, soit plus\n",
            "False Positive Text at index 51: Kaolack, 9 sept (APS) – Le Conseil régional de la consommation de Kaolack a fixé, mercredi, les nouveaux prix des denrées de première nécessité, a constaté l’APS. Les prix du sucre, de l’huile, du riz brisé ordinaire et des aliments de volaille ont été arrêtés lors d’une réunion tenue à la gouvernance de Kaolack. Le riz brisé ordinaire sera vendu à 13. 750 francs CFA le sac et à 290 francs le kilogramme. Le riz brisé d’origine américaine sera cédé à 16.650 francs le sac et e à 350 francs le kg. Le bidon d’huile de 20 litres va coûter 21.000 francs CFA et le litre, 1.125 francs. Pour le sucre, le prix du sac de 50 kg est fixé à 28.750 francs CFA et à 600 francs CFA le kg. Pour la volaille, l’aliment chaire est vendu à 17.960 francs CFA le sac de 50 kg. L’aliment de volaille poulette, première âge, est fixé à 16410 francs CFA le sac. Pour l’aliment de volaille poulette deuxième âge, le sac de 50 kg est fixé à 15. 410 francs. Le sac de l’aliment de volaille pondeuse est fixé à 15710 francs CFA. La réunion du conseil régional de la consommation était présidée par l’adjoint au gouverneur chargé des affaires administratives, Sidi Sarr Diéye en présence des organisations de consommateurs, des boutiquiers, des détaillants, des chefs de service et des agents de sécurité. ’’Nous appelons à la responsabilité de tout un chacun mais aussi à la collaboration des associations de consommateurs. Chaque consommateur doit être son propre contrôleur’’, a invité le chef du service régional du commerce, Mamadou Camara. Il a assuré que des opérations coups de poing seront menées par son service pour ’’faire appliquer les nouveaux prix de denrées de premières nécessités à Kaolack’’. ’’Et, pour ce qui est de l’information, il y aura des affiches sur les prix qui seront distribués partout (...) pour que chaque consommateur puisse savoir le niveau actuel des prix’’, a promis M. Camara.\n",
            "False Positive Text at index 63: Insécurité alimentaire : 11 millions de dollars supplémentaires pour le Burkina Faso Ceci est un communiqué de l’Ambassade des Etats-Unis relatif à un don de 11 millions de dollars pour lutter contre l’insécurité alimentaire. Ouagadougou – 22 août 2022 – Les États-Unis d’Amérique fourniront 11 millions de dollars supplémentaires au Burkina Faso pour résoudre les problèmes d’insécurité alimentaire persistants. Cette assistance aidera les agriculteurs du pays à renforcer la production alimentaire et la disponibilité des principaux aliments de base tels que le niébé et la volaille... Lire ici  La suite après cette publicité Communiqué de Presse - Don de 11 millions de dollars contre l'insecurité alimentaire publicite\n"
          ]
        },
        {
          "output_type": "stream",
          "name": "stderr",
          "text": [
            "<ipython-input-35-2aee9a0a0f49>:9: UserWarning: To copy construct from a tensor, it is recommended to use sourceTensor.clone().detach() or sourceTensor.clone().detach().requires_grad_(True), rather than torch.tensor(sourceTensor).\n",
            "  item = {key: torch.tensor(val[idx]) for key, val in self.encodings.items()}\n"
          ]
        }
      ],
      "source": [
        "# Step1\n",
        "predicted_labels = np.argmax(predictions.predictions, axis=-1)\n",
        "\n",
        "# Step 2: Extract actual labels from the validation dataset 'val_dataset'\n",
        "actual_labels = [val_dataset[i]['labels'].item() for i in range(len(val_dataset))]\n",
        "\n",
        "# Step 3: Identify indices of false positives\n",
        "false_positives_indices = [i for i, (pred, actual) in enumerate(zip(predicted_labels, actual_labels)) if pred == 0 and actual == 1]\n",
        "\n",
        "# Step 4: Decode and print false positives for review\n",
        "for idx in false_positives_indices:\n",
        "    # Assuming your dataset returns PyTorch tensors, use `.numpy()` to convert them for decoding\n",
        "    input_ids = val_dataset[idx]['input_ids'].numpy()\n",
        "    decoded_text = tokenizer.decode(input_ids, skip_special_tokens=True)\n",
        "    print(f\"False Positive Text at index {idx}: {decoded_text}\")"
      ]
    },
    {
      "cell_type": "code",
      "execution_count": null,
      "metadata": {
        "id": "A5CAO4om3M6I",
        "colab": {
          "base_uri": "https://localhost:8080/",
          "height": 441
        },
        "outputId": "d147f389-0dd4-437d-c471-ed4448c7363b"
      },
      "outputs": [
        {
          "metadata": {
            "tags": null
          },
          "name": "stderr",
          "output_type": "stream",
          "text": [
            "<ipython-input-9-2aee9a0a0f49>:9: UserWarning: To copy construct from a tensor, it is recommended to use sourceTensor.clone().detach() or sourceTensor.clone().detach().requires_grad_(True), rather than torch.tensor(sourceTensor).\n",
            "  item = {key: torch.tensor(val[idx]) for key, val in self.encodings.items()}\n"
          ]
        },
        {
          "data": {
            "text/html": [
              "\n",
              "    <div>\n",
              "      \n",
              "      <progress value='5' max='5' style='width:300px; height:20px; vertical-align: middle;'></progress>\n",
              "      [5/5 00:08]\n",
              "    </div>\n",
              "    "
            ],
            "text/plain": [
              "<IPython.core.display.HTML object>"
            ]
          },
          "metadata": {},
          "output_type": "display_data"
        },
        {
          "ename": "Error",
          "evalue": "You must call wandb.init() before wandb.log()",
          "output_type": "error",
          "traceback": [
            "\u001b[0;31m---------------------------------------------------------------------------\u001b[0m",
            "\u001b[0;31mError\u001b[0m                                     Traceback (most recent call last)",
            "\u001b[0;32m<ipython-input-18-c9371171feb6>\u001b[0m in \u001b[0;36m<cell line: 2>\u001b[0;34m()\u001b[0m\n\u001b[1;32m      1\u001b[0m \u001b[0;31m# Evaluate the model on the test dataset\u001b[0m\u001b[0;34m\u001b[0m\u001b[0;34m\u001b[0m\u001b[0m\n\u001b[0;32m----> 2\u001b[0;31m \u001b[0mtest_results\u001b[0m \u001b[0;34m=\u001b[0m \u001b[0mtrainer\u001b[0m\u001b[0;34m.\u001b[0m\u001b[0mevaluate\u001b[0m\u001b[0;34m(\u001b[0m\u001b[0mtest_dataset\u001b[0m\u001b[0;34m)\u001b[0m\u001b[0;34m\u001b[0m\u001b[0;34m\u001b[0m\u001b[0m\n\u001b[0m\u001b[1;32m      3\u001b[0m \u001b[0;34m\u001b[0m\u001b[0m\n\u001b[1;32m      4\u001b[0m \u001b[0;31m# Print the performance metrics\u001b[0m\u001b[0;34m\u001b[0m\u001b[0;34m\u001b[0m\u001b[0m\n\u001b[1;32m      5\u001b[0m \u001b[0mprint\u001b[0m\u001b[0;34m(\u001b[0m\u001b[0;34m\"Test Performance:\"\u001b[0m\u001b[0;34m,\u001b[0m \u001b[0mtest_results\u001b[0m\u001b[0;34m)\u001b[0m\u001b[0;34m\u001b[0m\u001b[0;34m\u001b[0m\u001b[0m\n",
            "\u001b[0;32m/usr/local/lib/python3.10/dist-packages/transformers/trainer.py\u001b[0m in \u001b[0;36mevaluate\u001b[0;34m(self, eval_dataset, ignore_keys, metric_key_prefix)\u001b[0m\n\u001b[1;32m   3249\u001b[0m         )\n\u001b[1;32m   3250\u001b[0m \u001b[0;34m\u001b[0m\u001b[0m\n\u001b[0;32m-> 3251\u001b[0;31m         \u001b[0mself\u001b[0m\u001b[0;34m.\u001b[0m\u001b[0mlog\u001b[0m\u001b[0;34m(\u001b[0m\u001b[0moutput\u001b[0m\u001b[0;34m.\u001b[0m\u001b[0mmetrics\u001b[0m\u001b[0;34m)\u001b[0m\u001b[0;34m\u001b[0m\u001b[0;34m\u001b[0m\u001b[0m\n\u001b[0m\u001b[1;32m   3252\u001b[0m \u001b[0;34m\u001b[0m\u001b[0m\n\u001b[1;32m   3253\u001b[0m         \u001b[0;32mif\u001b[0m \u001b[0mDebugOption\u001b[0m\u001b[0;34m.\u001b[0m\u001b[0mTPU_METRICS_DEBUG\u001b[0m \u001b[0;32min\u001b[0m \u001b[0mself\u001b[0m\u001b[0;34m.\u001b[0m\u001b[0margs\u001b[0m\u001b[0;34m.\u001b[0m\u001b[0mdebug\u001b[0m\u001b[0;34m:\u001b[0m\u001b[0;34m\u001b[0m\u001b[0;34m\u001b[0m\u001b[0m\n",
            "\u001b[0;32m/usr/local/lib/python3.10/dist-packages/transformers/trainer.py\u001b[0m in \u001b[0;36mlog\u001b[0;34m(self, logs)\u001b[0m\n\u001b[1;32m   2820\u001b[0m         \u001b[0moutput\u001b[0m \u001b[0;34m=\u001b[0m \u001b[0;34m{\u001b[0m\u001b[0;34m**\u001b[0m\u001b[0mlogs\u001b[0m\u001b[0;34m,\u001b[0m \u001b[0;34m**\u001b[0m\u001b[0;34m{\u001b[0m\u001b[0;34m\"step\"\u001b[0m\u001b[0;34m:\u001b[0m \u001b[0mself\u001b[0m\u001b[0;34m.\u001b[0m\u001b[0mstate\u001b[0m\u001b[0;34m.\u001b[0m\u001b[0mglobal_step\u001b[0m\u001b[0;34m}\u001b[0m\u001b[0;34m}\u001b[0m\u001b[0;34m\u001b[0m\u001b[0;34m\u001b[0m\u001b[0m\n\u001b[1;32m   2821\u001b[0m         \u001b[0mself\u001b[0m\u001b[0;34m.\u001b[0m\u001b[0mstate\u001b[0m\u001b[0;34m.\u001b[0m\u001b[0mlog_history\u001b[0m\u001b[0;34m.\u001b[0m\u001b[0mappend\u001b[0m\u001b[0;34m(\u001b[0m\u001b[0moutput\u001b[0m\u001b[0;34m)\u001b[0m\u001b[0;34m\u001b[0m\u001b[0;34m\u001b[0m\u001b[0m\n\u001b[0;32m-> 2822\u001b[0;31m         \u001b[0mself\u001b[0m\u001b[0;34m.\u001b[0m\u001b[0mcontrol\u001b[0m \u001b[0;34m=\u001b[0m \u001b[0mself\u001b[0m\u001b[0;34m.\u001b[0m\u001b[0mcallback_handler\u001b[0m\u001b[0;34m.\u001b[0m\u001b[0mon_log\u001b[0m\u001b[0;34m(\u001b[0m\u001b[0mself\u001b[0m\u001b[0;34m.\u001b[0m\u001b[0margs\u001b[0m\u001b[0;34m,\u001b[0m \u001b[0mself\u001b[0m\u001b[0;34m.\u001b[0m\u001b[0mstate\u001b[0m\u001b[0;34m,\u001b[0m \u001b[0mself\u001b[0m\u001b[0;34m.\u001b[0m\u001b[0mcontrol\u001b[0m\u001b[0;34m,\u001b[0m \u001b[0mlogs\u001b[0m\u001b[0;34m)\u001b[0m\u001b[0;34m\u001b[0m\u001b[0;34m\u001b[0m\u001b[0m\n\u001b[0m\u001b[1;32m   2823\u001b[0m \u001b[0;34m\u001b[0m\u001b[0m\n\u001b[1;32m   2824\u001b[0m     \u001b[0;32mdef\u001b[0m \u001b[0m_prepare_input\u001b[0m\u001b[0;34m(\u001b[0m\u001b[0mself\u001b[0m\u001b[0;34m,\u001b[0m \u001b[0mdata\u001b[0m\u001b[0;34m:\u001b[0m \u001b[0mUnion\u001b[0m\u001b[0;34m[\u001b[0m\u001b[0mtorch\u001b[0m\u001b[0;34m.\u001b[0m\u001b[0mTensor\u001b[0m\u001b[0;34m,\u001b[0m \u001b[0mAny\u001b[0m\u001b[0;34m]\u001b[0m\u001b[0;34m)\u001b[0m \u001b[0;34m->\u001b[0m \u001b[0mUnion\u001b[0m\u001b[0;34m[\u001b[0m\u001b[0mtorch\u001b[0m\u001b[0;34m.\u001b[0m\u001b[0mTensor\u001b[0m\u001b[0;34m,\u001b[0m \u001b[0mAny\u001b[0m\u001b[0;34m]\u001b[0m\u001b[0;34m:\u001b[0m\u001b[0;34m\u001b[0m\u001b[0;34m\u001b[0m\u001b[0m\n",
            "\u001b[0;32m/usr/local/lib/python3.10/dist-packages/transformers/trainer_callback.py\u001b[0m in \u001b[0;36mon_log\u001b[0;34m(self, args, state, control, logs)\u001b[0m\n\u001b[1;32m    405\u001b[0m     \u001b[0;32mdef\u001b[0m \u001b[0mon_log\u001b[0m\u001b[0;34m(\u001b[0m\u001b[0mself\u001b[0m\u001b[0;34m,\u001b[0m \u001b[0margs\u001b[0m\u001b[0;34m:\u001b[0m \u001b[0mTrainingArguments\u001b[0m\u001b[0;34m,\u001b[0m \u001b[0mstate\u001b[0m\u001b[0;34m:\u001b[0m \u001b[0mTrainerState\u001b[0m\u001b[0;34m,\u001b[0m \u001b[0mcontrol\u001b[0m\u001b[0;34m:\u001b[0m \u001b[0mTrainerControl\u001b[0m\u001b[0;34m,\u001b[0m \u001b[0mlogs\u001b[0m\u001b[0;34m)\u001b[0m\u001b[0;34m:\u001b[0m\u001b[0;34m\u001b[0m\u001b[0;34m\u001b[0m\u001b[0m\n\u001b[1;32m    406\u001b[0m         \u001b[0mcontrol\u001b[0m\u001b[0;34m.\u001b[0m\u001b[0mshould_log\u001b[0m \u001b[0;34m=\u001b[0m \u001b[0;32mFalse\u001b[0m\u001b[0;34m\u001b[0m\u001b[0;34m\u001b[0m\u001b[0m\n\u001b[0;32m--> 407\u001b[0;31m         \u001b[0;32mreturn\u001b[0m \u001b[0mself\u001b[0m\u001b[0;34m.\u001b[0m\u001b[0mcall_event\u001b[0m\u001b[0;34m(\u001b[0m\u001b[0;34m\"on_log\"\u001b[0m\u001b[0;34m,\u001b[0m \u001b[0margs\u001b[0m\u001b[0;34m,\u001b[0m \u001b[0mstate\u001b[0m\u001b[0;34m,\u001b[0m \u001b[0mcontrol\u001b[0m\u001b[0;34m,\u001b[0m \u001b[0mlogs\u001b[0m\u001b[0;34m=\u001b[0m\u001b[0mlogs\u001b[0m\u001b[0;34m)\u001b[0m\u001b[0;34m\u001b[0m\u001b[0;34m\u001b[0m\u001b[0m\n\u001b[0m\u001b[1;32m    408\u001b[0m \u001b[0;34m\u001b[0m\u001b[0m\n\u001b[1;32m    409\u001b[0m     \u001b[0;32mdef\u001b[0m \u001b[0mon_prediction_step\u001b[0m\u001b[0;34m(\u001b[0m\u001b[0mself\u001b[0m\u001b[0;34m,\u001b[0m \u001b[0margs\u001b[0m\u001b[0;34m:\u001b[0m \u001b[0mTrainingArguments\u001b[0m\u001b[0;34m,\u001b[0m \u001b[0mstate\u001b[0m\u001b[0;34m:\u001b[0m \u001b[0mTrainerState\u001b[0m\u001b[0;34m,\u001b[0m \u001b[0mcontrol\u001b[0m\u001b[0;34m:\u001b[0m \u001b[0mTrainerControl\u001b[0m\u001b[0;34m)\u001b[0m\u001b[0;34m:\u001b[0m\u001b[0;34m\u001b[0m\u001b[0;34m\u001b[0m\u001b[0m\n",
            "\u001b[0;32m/usr/local/lib/python3.10/dist-packages/transformers/trainer_callback.py\u001b[0m in \u001b[0;36mcall_event\u001b[0;34m(self, event, args, state, control, **kwargs)\u001b[0m\n\u001b[1;32m    412\u001b[0m     \u001b[0;32mdef\u001b[0m \u001b[0mcall_event\u001b[0m\u001b[0;34m(\u001b[0m\u001b[0mself\u001b[0m\u001b[0;34m,\u001b[0m \u001b[0mevent\u001b[0m\u001b[0;34m,\u001b[0m \u001b[0margs\u001b[0m\u001b[0;34m,\u001b[0m \u001b[0mstate\u001b[0m\u001b[0;34m,\u001b[0m \u001b[0mcontrol\u001b[0m\u001b[0;34m,\u001b[0m \u001b[0;34m**\u001b[0m\u001b[0mkwargs\u001b[0m\u001b[0;34m)\u001b[0m\u001b[0;34m:\u001b[0m\u001b[0;34m\u001b[0m\u001b[0;34m\u001b[0m\u001b[0m\n\u001b[1;32m    413\u001b[0m         \u001b[0;32mfor\u001b[0m \u001b[0mcallback\u001b[0m \u001b[0;32min\u001b[0m \u001b[0mself\u001b[0m\u001b[0;34m.\u001b[0m\u001b[0mcallbacks\u001b[0m\u001b[0;34m:\u001b[0m\u001b[0;34m\u001b[0m\u001b[0;34m\u001b[0m\u001b[0m\n\u001b[0;32m--> 414\u001b[0;31m             result = getattr(callback, event)(\n\u001b[0m\u001b[1;32m    415\u001b[0m                 \u001b[0margs\u001b[0m\u001b[0;34m,\u001b[0m\u001b[0;34m\u001b[0m\u001b[0;34m\u001b[0m\u001b[0m\n\u001b[1;32m    416\u001b[0m                 \u001b[0mstate\u001b[0m\u001b[0;34m,\u001b[0m\u001b[0;34m\u001b[0m\u001b[0;34m\u001b[0m\u001b[0m\n",
            "\u001b[0;32m/usr/local/lib/python3.10/dist-packages/transformers/integrations/integration_utils.py\u001b[0m in \u001b[0;36mon_log\u001b[0;34m(self, args, state, control, model, logs, **kwargs)\u001b[0m\n\u001b[1;32m    808\u001b[0m         \u001b[0;32mif\u001b[0m \u001b[0mstate\u001b[0m\u001b[0;34m.\u001b[0m\u001b[0mis_world_process_zero\u001b[0m\u001b[0;34m:\u001b[0m\u001b[0;34m\u001b[0m\u001b[0;34m\u001b[0m\u001b[0m\n\u001b[1;32m    809\u001b[0m             \u001b[0mlogs\u001b[0m \u001b[0;34m=\u001b[0m \u001b[0mrewrite_logs\u001b[0m\u001b[0;34m(\u001b[0m\u001b[0mlogs\u001b[0m\u001b[0;34m)\u001b[0m\u001b[0;34m\u001b[0m\u001b[0;34m\u001b[0m\u001b[0m\n\u001b[0;32m--> 810\u001b[0;31m             \u001b[0mself\u001b[0m\u001b[0;34m.\u001b[0m\u001b[0m_wandb\u001b[0m\u001b[0;34m.\u001b[0m\u001b[0mlog\u001b[0m\u001b[0;34m(\u001b[0m\u001b[0;34m{\u001b[0m\u001b[0;34m**\u001b[0m\u001b[0mlogs\u001b[0m\u001b[0;34m,\u001b[0m \u001b[0;34m\"train/global_step\"\u001b[0m\u001b[0;34m:\u001b[0m \u001b[0mstate\u001b[0m\u001b[0;34m.\u001b[0m\u001b[0mglobal_step\u001b[0m\u001b[0;34m}\u001b[0m\u001b[0;34m)\u001b[0m\u001b[0;34m\u001b[0m\u001b[0;34m\u001b[0m\u001b[0m\n\u001b[0m\u001b[1;32m    811\u001b[0m \u001b[0;34m\u001b[0m\u001b[0m\n\u001b[1;32m    812\u001b[0m     \u001b[0;32mdef\u001b[0m \u001b[0mon_save\u001b[0m\u001b[0;34m(\u001b[0m\u001b[0mself\u001b[0m\u001b[0;34m,\u001b[0m \u001b[0margs\u001b[0m\u001b[0;34m,\u001b[0m \u001b[0mstate\u001b[0m\u001b[0;34m,\u001b[0m \u001b[0mcontrol\u001b[0m\u001b[0;34m,\u001b[0m \u001b[0;34m**\u001b[0m\u001b[0mkwargs\u001b[0m\u001b[0;34m)\u001b[0m\u001b[0;34m:\u001b[0m\u001b[0;34m\u001b[0m\u001b[0;34m\u001b[0m\u001b[0m\n",
            "\u001b[0;32m/usr/local/lib/python3.10/dist-packages/wandb/sdk/lib/preinit.py\u001b[0m in \u001b[0;36mpreinit_wrapper\u001b[0;34m(*args, **kwargs)\u001b[0m\n\u001b[1;32m     34\u001b[0m ) -> Callable:\n\u001b[1;32m     35\u001b[0m     \u001b[0;32mdef\u001b[0m \u001b[0mpreinit_wrapper\u001b[0m\u001b[0;34m(\u001b[0m\u001b[0;34m*\u001b[0m\u001b[0margs\u001b[0m\u001b[0;34m:\u001b[0m \u001b[0mAny\u001b[0m\u001b[0;34m,\u001b[0m \u001b[0;34m**\u001b[0m\u001b[0mkwargs\u001b[0m\u001b[0;34m:\u001b[0m \u001b[0mAny\u001b[0m\u001b[0;34m)\u001b[0m \u001b[0;34m->\u001b[0m \u001b[0mAny\u001b[0m\u001b[0;34m:\u001b[0m\u001b[0;34m\u001b[0m\u001b[0;34m\u001b[0m\u001b[0m\n\u001b[0;32m---> 36\u001b[0;31m         \u001b[0;32mraise\u001b[0m \u001b[0mwandb\u001b[0m\u001b[0;34m.\u001b[0m\u001b[0mError\u001b[0m\u001b[0;34m(\u001b[0m\u001b[0;34mf\"You must call wandb.init() before {name}()\"\u001b[0m\u001b[0;34m)\u001b[0m\u001b[0;34m\u001b[0m\u001b[0;34m\u001b[0m\u001b[0m\n\u001b[0m\u001b[1;32m     37\u001b[0m \u001b[0;34m\u001b[0m\u001b[0m\n\u001b[1;32m     38\u001b[0m     \u001b[0mpreinit_wrapper\u001b[0m\u001b[0;34m.\u001b[0m\u001b[0m__name__\u001b[0m \u001b[0;34m=\u001b[0m \u001b[0mstr\u001b[0m\u001b[0;34m(\u001b[0m\u001b[0mname\u001b[0m\u001b[0;34m)\u001b[0m\u001b[0;34m\u001b[0m\u001b[0;34m\u001b[0m\u001b[0m\n",
            "\u001b[0;31mError\u001b[0m: You must call wandb.init() before wandb.log()"
          ]
        }
      ],
      "source": [
        "# Evaluate the model on the test dataset\n",
        "test_results = trainer.evaluate(test_dataset)\n",
        "\n",
        "# Print the performance metrics\n",
        "print(\"Test Performance:\", test_results)"
      ]
    },
    {
      "cell_type": "code",
      "execution_count": null,
      "metadata": {
        "id": "A6n1axQf3M6J"
      },
      "outputs": [],
      "source": []
    }
  ],
  "metadata": {
    "language_info": {
      "name": "python"
    },
    "colab": {
      "provenance": [],
      "collapsed_sections": [
        "WiLF7o_O3M6G"
      ],
      "machine_shape": "hm"
    },
    "kernelspec": {
      "name": "python3",
      "display_name": "Python 3"
    },
    "accelerator": "TPU",
    "widgets": {
      "application/vnd.jupyter.widget-state+json": {
        "952ca6e3d7d04f86aa7e3cbf17321685": {
          "model_module": "@jupyter-widgets/controls",
          "model_name": "VBoxModel",
          "model_module_version": "1.5.0",
          "state": {
            "_dom_classes": [],
            "_model_module": "@jupyter-widgets/controls",
            "_model_module_version": "1.5.0",
            "_model_name": "VBoxModel",
            "_view_count": null,
            "_view_module": "@jupyter-widgets/controls",
            "_view_module_version": "1.5.0",
            "_view_name": "VBoxView",
            "box_style": "",
            "children": [
              "IPY_MODEL_6625e65bb2bb494daa744ac2737d7fe5",
              "IPY_MODEL_68c49e2ebd7443349ad876638c385083"
            ],
            "layout": "IPY_MODEL_c34a7cf28f694c96945702ec0b393497"
          }
        },
        "6625e65bb2bb494daa744ac2737d7fe5": {
          "model_module": "@jupyter-widgets/controls",
          "model_name": "LabelModel",
          "model_module_version": "1.5.0",
          "state": {
            "_dom_classes": [],
            "_model_module": "@jupyter-widgets/controls",
            "_model_module_version": "1.5.0",
            "_model_name": "LabelModel",
            "_view_count": null,
            "_view_module": "@jupyter-widgets/controls",
            "_view_module_version": "1.5.0",
            "_view_name": "LabelView",
            "description": "",
            "description_tooltip": null,
            "layout": "IPY_MODEL_7cb57d2a5f6d45c3b5e57c14f6a0af9b",
            "placeholder": "​",
            "style": "IPY_MODEL_e9d8e04ef3804251bda269b7fc6e4f0d",
            "value": "0.014 MB of 0.014 MB uploaded\r"
          }
        },
        "68c49e2ebd7443349ad876638c385083": {
          "model_module": "@jupyter-widgets/controls",
          "model_name": "FloatProgressModel",
          "model_module_version": "1.5.0",
          "state": {
            "_dom_classes": [],
            "_model_module": "@jupyter-widgets/controls",
            "_model_module_version": "1.5.0",
            "_model_name": "FloatProgressModel",
            "_view_count": null,
            "_view_module": "@jupyter-widgets/controls",
            "_view_module_version": "1.5.0",
            "_view_name": "ProgressView",
            "bar_style": "",
            "description": "",
            "description_tooltip": null,
            "layout": "IPY_MODEL_bee1b66e0e4549449cf808b472f18208",
            "max": 1,
            "min": 0,
            "orientation": "horizontal",
            "style": "IPY_MODEL_2b9c2c7a2e5944faa1ae46d2c09fd1c2",
            "value": 1
          }
        },
        "c34a7cf28f694c96945702ec0b393497": {
          "model_module": "@jupyter-widgets/base",
          "model_name": "LayoutModel",
          "model_module_version": "1.2.0",
          "state": {
            "_model_module": "@jupyter-widgets/base",
            "_model_module_version": "1.2.0",
            "_model_name": "LayoutModel",
            "_view_count": null,
            "_view_module": "@jupyter-widgets/base",
            "_view_module_version": "1.2.0",
            "_view_name": "LayoutView",
            "align_content": null,
            "align_items": null,
            "align_self": null,
            "border": null,
            "bottom": null,
            "display": null,
            "flex": null,
            "flex_flow": null,
            "grid_area": null,
            "grid_auto_columns": null,
            "grid_auto_flow": null,
            "grid_auto_rows": null,
            "grid_column": null,
            "grid_gap": null,
            "grid_row": null,
            "grid_template_areas": null,
            "grid_template_columns": null,
            "grid_template_rows": null,
            "height": null,
            "justify_content": null,
            "justify_items": null,
            "left": null,
            "margin": null,
            "max_height": null,
            "max_width": null,
            "min_height": null,
            "min_width": null,
            "object_fit": null,
            "object_position": null,
            "order": null,
            "overflow": null,
            "overflow_x": null,
            "overflow_y": null,
            "padding": null,
            "right": null,
            "top": null,
            "visibility": null,
            "width": null
          }
        },
        "7cb57d2a5f6d45c3b5e57c14f6a0af9b": {
          "model_module": "@jupyter-widgets/base",
          "model_name": "LayoutModel",
          "model_module_version": "1.2.0",
          "state": {
            "_model_module": "@jupyter-widgets/base",
            "_model_module_version": "1.2.0",
            "_model_name": "LayoutModel",
            "_view_count": null,
            "_view_module": "@jupyter-widgets/base",
            "_view_module_version": "1.2.0",
            "_view_name": "LayoutView",
            "align_content": null,
            "align_items": null,
            "align_self": null,
            "border": null,
            "bottom": null,
            "display": null,
            "flex": null,
            "flex_flow": null,
            "grid_area": null,
            "grid_auto_columns": null,
            "grid_auto_flow": null,
            "grid_auto_rows": null,
            "grid_column": null,
            "grid_gap": null,
            "grid_row": null,
            "grid_template_areas": null,
            "grid_template_columns": null,
            "grid_template_rows": null,
            "height": null,
            "justify_content": null,
            "justify_items": null,
            "left": null,
            "margin": null,
            "max_height": null,
            "max_width": null,
            "min_height": null,
            "min_width": null,
            "object_fit": null,
            "object_position": null,
            "order": null,
            "overflow": null,
            "overflow_x": null,
            "overflow_y": null,
            "padding": null,
            "right": null,
            "top": null,
            "visibility": null,
            "width": null
          }
        },
        "e9d8e04ef3804251bda269b7fc6e4f0d": {
          "model_module": "@jupyter-widgets/controls",
          "model_name": "DescriptionStyleModel",
          "model_module_version": "1.5.0",
          "state": {
            "_model_module": "@jupyter-widgets/controls",
            "_model_module_version": "1.5.0",
            "_model_name": "DescriptionStyleModel",
            "_view_count": null,
            "_view_module": "@jupyter-widgets/base",
            "_view_module_version": "1.2.0",
            "_view_name": "StyleView",
            "description_width": ""
          }
        },
        "bee1b66e0e4549449cf808b472f18208": {
          "model_module": "@jupyter-widgets/base",
          "model_name": "LayoutModel",
          "model_module_version": "1.2.0",
          "state": {
            "_model_module": "@jupyter-widgets/base",
            "_model_module_version": "1.2.0",
            "_model_name": "LayoutModel",
            "_view_count": null,
            "_view_module": "@jupyter-widgets/base",
            "_view_module_version": "1.2.0",
            "_view_name": "LayoutView",
            "align_content": null,
            "align_items": null,
            "align_self": null,
            "border": null,
            "bottom": null,
            "display": null,
            "flex": null,
            "flex_flow": null,
            "grid_area": null,
            "grid_auto_columns": null,
            "grid_auto_flow": null,
            "grid_auto_rows": null,
            "grid_column": null,
            "grid_gap": null,
            "grid_row": null,
            "grid_template_areas": null,
            "grid_template_columns": null,
            "grid_template_rows": null,
            "height": null,
            "justify_content": null,
            "justify_items": null,
            "left": null,
            "margin": null,
            "max_height": null,
            "max_width": null,
            "min_height": null,
            "min_width": null,
            "object_fit": null,
            "object_position": null,
            "order": null,
            "overflow": null,
            "overflow_x": null,
            "overflow_y": null,
            "padding": null,
            "right": null,
            "top": null,
            "visibility": null,
            "width": null
          }
        },
        "2b9c2c7a2e5944faa1ae46d2c09fd1c2": {
          "model_module": "@jupyter-widgets/controls",
          "model_name": "ProgressStyleModel",
          "model_module_version": "1.5.0",
          "state": {
            "_model_module": "@jupyter-widgets/controls",
            "_model_module_version": "1.5.0",
            "_model_name": "ProgressStyleModel",
            "_view_count": null,
            "_view_module": "@jupyter-widgets/base",
            "_view_module_version": "1.2.0",
            "_view_name": "StyleView",
            "bar_color": null,
            "description_width": ""
          }
        },
        "15c5167d6cbb4544ab6f6e5272d57a31": {
          "model_module": "@jupyter-widgets/controls",
          "model_name": "VBoxModel",
          "model_module_version": "1.5.0",
          "state": {
            "_dom_classes": [],
            "_model_module": "@jupyter-widgets/controls",
            "_model_module_version": "1.5.0",
            "_model_name": "VBoxModel",
            "_view_count": null,
            "_view_module": "@jupyter-widgets/controls",
            "_view_module_version": "1.5.0",
            "_view_name": "VBoxView",
            "box_style": "",
            "children": [
              "IPY_MODEL_ef548aac019345fe93028414f8abacc6",
              "IPY_MODEL_d50f192f902c4f109753651fdced2f4f"
            ],
            "layout": "IPY_MODEL_916f5b4ff16c467b9c853a9d666f0d7b"
          }
        },
        "ef548aac019345fe93028414f8abacc6": {
          "model_module": "@jupyter-widgets/controls",
          "model_name": "LabelModel",
          "model_module_version": "1.5.0",
          "state": {
            "_dom_classes": [],
            "_model_module": "@jupyter-widgets/controls",
            "_model_module_version": "1.5.0",
            "_model_name": "LabelModel",
            "_view_count": null,
            "_view_module": "@jupyter-widgets/controls",
            "_view_module_version": "1.5.0",
            "_view_name": "LabelView",
            "description": "",
            "description_tooltip": null,
            "layout": "IPY_MODEL_bc3a3ca11a6d453a8259632ff9889624",
            "placeholder": "​",
            "style": "IPY_MODEL_563eec3047304de0a30f3c55b23eaead",
            "value": "0.879 MB of 0.879 MB uploaded\r"
          }
        },
        "d50f192f902c4f109753651fdced2f4f": {
          "model_module": "@jupyter-widgets/controls",
          "model_name": "FloatProgressModel",
          "model_module_version": "1.5.0",
          "state": {
            "_dom_classes": [],
            "_model_module": "@jupyter-widgets/controls",
            "_model_module_version": "1.5.0",
            "_model_name": "FloatProgressModel",
            "_view_count": null,
            "_view_module": "@jupyter-widgets/controls",
            "_view_module_version": "1.5.0",
            "_view_name": "ProgressView",
            "bar_style": "",
            "description": "",
            "description_tooltip": null,
            "layout": "IPY_MODEL_85f05512b0224a388766a0cffbe19b99",
            "max": 1,
            "min": 0,
            "orientation": "horizontal",
            "style": "IPY_MODEL_4700a3c656b240a5bdae577358e4c46c",
            "value": 1
          }
        },
        "916f5b4ff16c467b9c853a9d666f0d7b": {
          "model_module": "@jupyter-widgets/base",
          "model_name": "LayoutModel",
          "model_module_version": "1.2.0",
          "state": {
            "_model_module": "@jupyter-widgets/base",
            "_model_module_version": "1.2.0",
            "_model_name": "LayoutModel",
            "_view_count": null,
            "_view_module": "@jupyter-widgets/base",
            "_view_module_version": "1.2.0",
            "_view_name": "LayoutView",
            "align_content": null,
            "align_items": null,
            "align_self": null,
            "border": null,
            "bottom": null,
            "display": null,
            "flex": null,
            "flex_flow": null,
            "grid_area": null,
            "grid_auto_columns": null,
            "grid_auto_flow": null,
            "grid_auto_rows": null,
            "grid_column": null,
            "grid_gap": null,
            "grid_row": null,
            "grid_template_areas": null,
            "grid_template_columns": null,
            "grid_template_rows": null,
            "height": null,
            "justify_content": null,
            "justify_items": null,
            "left": null,
            "margin": null,
            "max_height": null,
            "max_width": null,
            "min_height": null,
            "min_width": null,
            "object_fit": null,
            "object_position": null,
            "order": null,
            "overflow": null,
            "overflow_x": null,
            "overflow_y": null,
            "padding": null,
            "right": null,
            "top": null,
            "visibility": null,
            "width": null
          }
        },
        "bc3a3ca11a6d453a8259632ff9889624": {
          "model_module": "@jupyter-widgets/base",
          "model_name": "LayoutModel",
          "model_module_version": "1.2.0",
          "state": {
            "_model_module": "@jupyter-widgets/base",
            "_model_module_version": "1.2.0",
            "_model_name": "LayoutModel",
            "_view_count": null,
            "_view_module": "@jupyter-widgets/base",
            "_view_module_version": "1.2.0",
            "_view_name": "LayoutView",
            "align_content": null,
            "align_items": null,
            "align_self": null,
            "border": null,
            "bottom": null,
            "display": null,
            "flex": null,
            "flex_flow": null,
            "grid_area": null,
            "grid_auto_columns": null,
            "grid_auto_flow": null,
            "grid_auto_rows": null,
            "grid_column": null,
            "grid_gap": null,
            "grid_row": null,
            "grid_template_areas": null,
            "grid_template_columns": null,
            "grid_template_rows": null,
            "height": null,
            "justify_content": null,
            "justify_items": null,
            "left": null,
            "margin": null,
            "max_height": null,
            "max_width": null,
            "min_height": null,
            "min_width": null,
            "object_fit": null,
            "object_position": null,
            "order": null,
            "overflow": null,
            "overflow_x": null,
            "overflow_y": null,
            "padding": null,
            "right": null,
            "top": null,
            "visibility": null,
            "width": null
          }
        },
        "563eec3047304de0a30f3c55b23eaead": {
          "model_module": "@jupyter-widgets/controls",
          "model_name": "DescriptionStyleModel",
          "model_module_version": "1.5.0",
          "state": {
            "_model_module": "@jupyter-widgets/controls",
            "_model_module_version": "1.5.0",
            "_model_name": "DescriptionStyleModel",
            "_view_count": null,
            "_view_module": "@jupyter-widgets/base",
            "_view_module_version": "1.2.0",
            "_view_name": "StyleView",
            "description_width": ""
          }
        },
        "85f05512b0224a388766a0cffbe19b99": {
          "model_module": "@jupyter-widgets/base",
          "model_name": "LayoutModel",
          "model_module_version": "1.2.0",
          "state": {
            "_model_module": "@jupyter-widgets/base",
            "_model_module_version": "1.2.0",
            "_model_name": "LayoutModel",
            "_view_count": null,
            "_view_module": "@jupyter-widgets/base",
            "_view_module_version": "1.2.0",
            "_view_name": "LayoutView",
            "align_content": null,
            "align_items": null,
            "align_self": null,
            "border": null,
            "bottom": null,
            "display": null,
            "flex": null,
            "flex_flow": null,
            "grid_area": null,
            "grid_auto_columns": null,
            "grid_auto_flow": null,
            "grid_auto_rows": null,
            "grid_column": null,
            "grid_gap": null,
            "grid_row": null,
            "grid_template_areas": null,
            "grid_template_columns": null,
            "grid_template_rows": null,
            "height": null,
            "justify_content": null,
            "justify_items": null,
            "left": null,
            "margin": null,
            "max_height": null,
            "max_width": null,
            "min_height": null,
            "min_width": null,
            "object_fit": null,
            "object_position": null,
            "order": null,
            "overflow": null,
            "overflow_x": null,
            "overflow_y": null,
            "padding": null,
            "right": null,
            "top": null,
            "visibility": null,
            "width": null
          }
        },
        "4700a3c656b240a5bdae577358e4c46c": {
          "model_module": "@jupyter-widgets/controls",
          "model_name": "ProgressStyleModel",
          "model_module_version": "1.5.0",
          "state": {
            "_model_module": "@jupyter-widgets/controls",
            "_model_module_version": "1.5.0",
            "_model_name": "ProgressStyleModel",
            "_view_count": null,
            "_view_module": "@jupyter-widgets/base",
            "_view_module_version": "1.2.0",
            "_view_name": "StyleView",
            "bar_color": null,
            "description_width": ""
          }
        },
        "16650bf8751e4f0d85b93d8e0825c4aa": {
          "model_module": "@jupyter-widgets/controls",
          "model_name": "VBoxModel",
          "model_module_version": "1.5.0",
          "state": {
            "_dom_classes": [],
            "_model_module": "@jupyter-widgets/controls",
            "_model_module_version": "1.5.0",
            "_model_name": "VBoxModel",
            "_view_count": null,
            "_view_module": "@jupyter-widgets/controls",
            "_view_module_version": "1.5.0",
            "_view_name": "VBoxView",
            "box_style": "",
            "children": [
              "IPY_MODEL_7299cac3204840e0b486ed0d6225db76",
              "IPY_MODEL_f23ae2a11b3a4364a6a89370cbc83f8a"
            ],
            "layout": "IPY_MODEL_1a13369f13e04aa5a9baa4df42232e11"
          }
        },
        "7299cac3204840e0b486ed0d6225db76": {
          "model_module": "@jupyter-widgets/controls",
          "model_name": "LabelModel",
          "model_module_version": "1.5.0",
          "state": {
            "_dom_classes": [],
            "_model_module": "@jupyter-widgets/controls",
            "_model_module_version": "1.5.0",
            "_model_name": "LabelModel",
            "_view_count": null,
            "_view_module": "@jupyter-widgets/controls",
            "_view_module_version": "1.5.0",
            "_view_name": "LabelView",
            "description": "",
            "description_tooltip": null,
            "layout": "IPY_MODEL_cd7dec0582714734b89828ed11e55d73",
            "placeholder": "​",
            "style": "IPY_MODEL_8eb94add80a34f02bbd85e8370d1cd9e",
            "value": "0.078 MB of 0.078 MB uploaded\r"
          }
        },
        "f23ae2a11b3a4364a6a89370cbc83f8a": {
          "model_module": "@jupyter-widgets/controls",
          "model_name": "FloatProgressModel",
          "model_module_version": "1.5.0",
          "state": {
            "_dom_classes": [],
            "_model_module": "@jupyter-widgets/controls",
            "_model_module_version": "1.5.0",
            "_model_name": "FloatProgressModel",
            "_view_count": null,
            "_view_module": "@jupyter-widgets/controls",
            "_view_module_version": "1.5.0",
            "_view_name": "ProgressView",
            "bar_style": "",
            "description": "",
            "description_tooltip": null,
            "layout": "IPY_MODEL_46592741a58a4d139af9162fc15297ec",
            "max": 1,
            "min": 0,
            "orientation": "horizontal",
            "style": "IPY_MODEL_89f40a5085984b43a1625dfa2270fa12",
            "value": 1
          }
        },
        "1a13369f13e04aa5a9baa4df42232e11": {
          "model_module": "@jupyter-widgets/base",
          "model_name": "LayoutModel",
          "model_module_version": "1.2.0",
          "state": {
            "_model_module": "@jupyter-widgets/base",
            "_model_module_version": "1.2.0",
            "_model_name": "LayoutModel",
            "_view_count": null,
            "_view_module": "@jupyter-widgets/base",
            "_view_module_version": "1.2.0",
            "_view_name": "LayoutView",
            "align_content": null,
            "align_items": null,
            "align_self": null,
            "border": null,
            "bottom": null,
            "display": null,
            "flex": null,
            "flex_flow": null,
            "grid_area": null,
            "grid_auto_columns": null,
            "grid_auto_flow": null,
            "grid_auto_rows": null,
            "grid_column": null,
            "grid_gap": null,
            "grid_row": null,
            "grid_template_areas": null,
            "grid_template_columns": null,
            "grid_template_rows": null,
            "height": null,
            "justify_content": null,
            "justify_items": null,
            "left": null,
            "margin": null,
            "max_height": null,
            "max_width": null,
            "min_height": null,
            "min_width": null,
            "object_fit": null,
            "object_position": null,
            "order": null,
            "overflow": null,
            "overflow_x": null,
            "overflow_y": null,
            "padding": null,
            "right": null,
            "top": null,
            "visibility": null,
            "width": null
          }
        },
        "cd7dec0582714734b89828ed11e55d73": {
          "model_module": "@jupyter-widgets/base",
          "model_name": "LayoutModel",
          "model_module_version": "1.2.0",
          "state": {
            "_model_module": "@jupyter-widgets/base",
            "_model_module_version": "1.2.0",
            "_model_name": "LayoutModel",
            "_view_count": null,
            "_view_module": "@jupyter-widgets/base",
            "_view_module_version": "1.2.0",
            "_view_name": "LayoutView",
            "align_content": null,
            "align_items": null,
            "align_self": null,
            "border": null,
            "bottom": null,
            "display": null,
            "flex": null,
            "flex_flow": null,
            "grid_area": null,
            "grid_auto_columns": null,
            "grid_auto_flow": null,
            "grid_auto_rows": null,
            "grid_column": null,
            "grid_gap": null,
            "grid_row": null,
            "grid_template_areas": null,
            "grid_template_columns": null,
            "grid_template_rows": null,
            "height": null,
            "justify_content": null,
            "justify_items": null,
            "left": null,
            "margin": null,
            "max_height": null,
            "max_width": null,
            "min_height": null,
            "min_width": null,
            "object_fit": null,
            "object_position": null,
            "order": null,
            "overflow": null,
            "overflow_x": null,
            "overflow_y": null,
            "padding": null,
            "right": null,
            "top": null,
            "visibility": null,
            "width": null
          }
        },
        "8eb94add80a34f02bbd85e8370d1cd9e": {
          "model_module": "@jupyter-widgets/controls",
          "model_name": "DescriptionStyleModel",
          "model_module_version": "1.5.0",
          "state": {
            "_model_module": "@jupyter-widgets/controls",
            "_model_module_version": "1.5.0",
            "_model_name": "DescriptionStyleModel",
            "_view_count": null,
            "_view_module": "@jupyter-widgets/base",
            "_view_module_version": "1.2.0",
            "_view_name": "StyleView",
            "description_width": ""
          }
        },
        "46592741a58a4d139af9162fc15297ec": {
          "model_module": "@jupyter-widgets/base",
          "model_name": "LayoutModel",
          "model_module_version": "1.2.0",
          "state": {
            "_model_module": "@jupyter-widgets/base",
            "_model_module_version": "1.2.0",
            "_model_name": "LayoutModel",
            "_view_count": null,
            "_view_module": "@jupyter-widgets/base",
            "_view_module_version": "1.2.0",
            "_view_name": "LayoutView",
            "align_content": null,
            "align_items": null,
            "align_self": null,
            "border": null,
            "bottom": null,
            "display": null,
            "flex": null,
            "flex_flow": null,
            "grid_area": null,
            "grid_auto_columns": null,
            "grid_auto_flow": null,
            "grid_auto_rows": null,
            "grid_column": null,
            "grid_gap": null,
            "grid_row": null,
            "grid_template_areas": null,
            "grid_template_columns": null,
            "grid_template_rows": null,
            "height": null,
            "justify_content": null,
            "justify_items": null,
            "left": null,
            "margin": null,
            "max_height": null,
            "max_width": null,
            "min_height": null,
            "min_width": null,
            "object_fit": null,
            "object_position": null,
            "order": null,
            "overflow": null,
            "overflow_x": null,
            "overflow_y": null,
            "padding": null,
            "right": null,
            "top": null,
            "visibility": null,
            "width": null
          }
        },
        "89f40a5085984b43a1625dfa2270fa12": {
          "model_module": "@jupyter-widgets/controls",
          "model_name": "ProgressStyleModel",
          "model_module_version": "1.5.0",
          "state": {
            "_model_module": "@jupyter-widgets/controls",
            "_model_module_version": "1.5.0",
            "_model_name": "ProgressStyleModel",
            "_view_count": null,
            "_view_module": "@jupyter-widgets/base",
            "_view_module_version": "1.2.0",
            "_view_name": "StyleView",
            "bar_color": null,
            "description_width": ""
          }
        },
        "e0895c6de2554185bb7010c2ecc14702": {
          "model_module": "@jupyter-widgets/controls",
          "model_name": "VBoxModel",
          "model_module_version": "1.5.0",
          "state": {
            "_dom_classes": [],
            "_model_module": "@jupyter-widgets/controls",
            "_model_module_version": "1.5.0",
            "_model_name": "VBoxModel",
            "_view_count": null,
            "_view_module": "@jupyter-widgets/controls",
            "_view_module_version": "1.5.0",
            "_view_name": "VBoxView",
            "box_style": "",
            "children": [
              "IPY_MODEL_5424d953df91438c8981f6d173d11d91",
              "IPY_MODEL_c49c64cc60bd4284ad7ad0666d2a04dd"
            ],
            "layout": "IPY_MODEL_740ec10d62434def87ef811f0aa657a0"
          }
        },
        "5424d953df91438c8981f6d173d11d91": {
          "model_module": "@jupyter-widgets/controls",
          "model_name": "LabelModel",
          "model_module_version": "1.5.0",
          "state": {
            "_dom_classes": [],
            "_model_module": "@jupyter-widgets/controls",
            "_model_module_version": "1.5.0",
            "_model_name": "LabelModel",
            "_view_count": null,
            "_view_module": "@jupyter-widgets/controls",
            "_view_module_version": "1.5.0",
            "_view_name": "LabelView",
            "description": "",
            "description_tooltip": null,
            "layout": "IPY_MODEL_aec8de129f414d79a161511e8de694ec",
            "placeholder": "​",
            "style": "IPY_MODEL_0875168107bc48d3866aab0a5be61d41",
            "value": "0.066 MB of 0.066 MB uploaded\r"
          }
        },
        "c49c64cc60bd4284ad7ad0666d2a04dd": {
          "model_module": "@jupyter-widgets/controls",
          "model_name": "FloatProgressModel",
          "model_module_version": "1.5.0",
          "state": {
            "_dom_classes": [],
            "_model_module": "@jupyter-widgets/controls",
            "_model_module_version": "1.5.0",
            "_model_name": "FloatProgressModel",
            "_view_count": null,
            "_view_module": "@jupyter-widgets/controls",
            "_view_module_version": "1.5.0",
            "_view_name": "ProgressView",
            "bar_style": "",
            "description": "",
            "description_tooltip": null,
            "layout": "IPY_MODEL_11a596340a2d46fe99bb98f05ab7eec9",
            "max": 1,
            "min": 0,
            "orientation": "horizontal",
            "style": "IPY_MODEL_434637260dd14434b7a31acb8a33ccab",
            "value": 1
          }
        },
        "740ec10d62434def87ef811f0aa657a0": {
          "model_module": "@jupyter-widgets/base",
          "model_name": "LayoutModel",
          "model_module_version": "1.2.0",
          "state": {
            "_model_module": "@jupyter-widgets/base",
            "_model_module_version": "1.2.0",
            "_model_name": "LayoutModel",
            "_view_count": null,
            "_view_module": "@jupyter-widgets/base",
            "_view_module_version": "1.2.0",
            "_view_name": "LayoutView",
            "align_content": null,
            "align_items": null,
            "align_self": null,
            "border": null,
            "bottom": null,
            "display": null,
            "flex": null,
            "flex_flow": null,
            "grid_area": null,
            "grid_auto_columns": null,
            "grid_auto_flow": null,
            "grid_auto_rows": null,
            "grid_column": null,
            "grid_gap": null,
            "grid_row": null,
            "grid_template_areas": null,
            "grid_template_columns": null,
            "grid_template_rows": null,
            "height": null,
            "justify_content": null,
            "justify_items": null,
            "left": null,
            "margin": null,
            "max_height": null,
            "max_width": null,
            "min_height": null,
            "min_width": null,
            "object_fit": null,
            "object_position": null,
            "order": null,
            "overflow": null,
            "overflow_x": null,
            "overflow_y": null,
            "padding": null,
            "right": null,
            "top": null,
            "visibility": null,
            "width": null
          }
        },
        "aec8de129f414d79a161511e8de694ec": {
          "model_module": "@jupyter-widgets/base",
          "model_name": "LayoutModel",
          "model_module_version": "1.2.0",
          "state": {
            "_model_module": "@jupyter-widgets/base",
            "_model_module_version": "1.2.0",
            "_model_name": "LayoutModel",
            "_view_count": null,
            "_view_module": "@jupyter-widgets/base",
            "_view_module_version": "1.2.0",
            "_view_name": "LayoutView",
            "align_content": null,
            "align_items": null,
            "align_self": null,
            "border": null,
            "bottom": null,
            "display": null,
            "flex": null,
            "flex_flow": null,
            "grid_area": null,
            "grid_auto_columns": null,
            "grid_auto_flow": null,
            "grid_auto_rows": null,
            "grid_column": null,
            "grid_gap": null,
            "grid_row": null,
            "grid_template_areas": null,
            "grid_template_columns": null,
            "grid_template_rows": null,
            "height": null,
            "justify_content": null,
            "justify_items": null,
            "left": null,
            "margin": null,
            "max_height": null,
            "max_width": null,
            "min_height": null,
            "min_width": null,
            "object_fit": null,
            "object_position": null,
            "order": null,
            "overflow": null,
            "overflow_x": null,
            "overflow_y": null,
            "padding": null,
            "right": null,
            "top": null,
            "visibility": null,
            "width": null
          }
        },
        "0875168107bc48d3866aab0a5be61d41": {
          "model_module": "@jupyter-widgets/controls",
          "model_name": "DescriptionStyleModel",
          "model_module_version": "1.5.0",
          "state": {
            "_model_module": "@jupyter-widgets/controls",
            "_model_module_version": "1.5.0",
            "_model_name": "DescriptionStyleModel",
            "_view_count": null,
            "_view_module": "@jupyter-widgets/base",
            "_view_module_version": "1.2.0",
            "_view_name": "StyleView",
            "description_width": ""
          }
        },
        "11a596340a2d46fe99bb98f05ab7eec9": {
          "model_module": "@jupyter-widgets/base",
          "model_name": "LayoutModel",
          "model_module_version": "1.2.0",
          "state": {
            "_model_module": "@jupyter-widgets/base",
            "_model_module_version": "1.2.0",
            "_model_name": "LayoutModel",
            "_view_count": null,
            "_view_module": "@jupyter-widgets/base",
            "_view_module_version": "1.2.0",
            "_view_name": "LayoutView",
            "align_content": null,
            "align_items": null,
            "align_self": null,
            "border": null,
            "bottom": null,
            "display": null,
            "flex": null,
            "flex_flow": null,
            "grid_area": null,
            "grid_auto_columns": null,
            "grid_auto_flow": null,
            "grid_auto_rows": null,
            "grid_column": null,
            "grid_gap": null,
            "grid_row": null,
            "grid_template_areas": null,
            "grid_template_columns": null,
            "grid_template_rows": null,
            "height": null,
            "justify_content": null,
            "justify_items": null,
            "left": null,
            "margin": null,
            "max_height": null,
            "max_width": null,
            "min_height": null,
            "min_width": null,
            "object_fit": null,
            "object_position": null,
            "order": null,
            "overflow": null,
            "overflow_x": null,
            "overflow_y": null,
            "padding": null,
            "right": null,
            "top": null,
            "visibility": null,
            "width": null
          }
        },
        "434637260dd14434b7a31acb8a33ccab": {
          "model_module": "@jupyter-widgets/controls",
          "model_name": "ProgressStyleModel",
          "model_module_version": "1.5.0",
          "state": {
            "_model_module": "@jupyter-widgets/controls",
            "_model_module_version": "1.5.0",
            "_model_name": "ProgressStyleModel",
            "_view_count": null,
            "_view_module": "@jupyter-widgets/base",
            "_view_module_version": "1.2.0",
            "_view_name": "StyleView",
            "bar_color": null,
            "description_width": ""
          }
        }
      }
    }
  },
  "nbformat": 4,
  "nbformat_minor": 0
}