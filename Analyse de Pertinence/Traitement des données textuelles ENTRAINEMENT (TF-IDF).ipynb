{
 "cells": [
  {
   "cell_type": "code",
   "execution_count": 1,
   "id": "d1b05d46-629c-4728-b689-633ac73e0213",
   "metadata": {},
   "outputs": [],
   "source": [
    "import re\n",
    "import pandas as pd\n",
    "import spacy\n",
    "from transformers import FlaubertTokenizer\n",
    "from sklearn.feature_extraction.text import TfidfVectorizer"
   ]
  },
  {
   "cell_type": "code",
   "execution_count": 2,
   "id": "84967134-93ad-471b-bac5-7d6e98cdad37",
   "metadata": {},
   "outputs": [],
   "source": [
    "def extract_articles_from_file(file_path):\n",
    "    with open(file_path, 'r', encoding='utf-8') as file:\n",
    "        content = file.read()\n",
    "\n",
    "    # Pattern pour identifier les codes d'article\n",
    "    mixed_code_pattern = re.compile(r'\\b(?=[A-Z0-9]{10}\\b)(?=[A-Z]*[0-9][A-Z]*)(?=[0-9]*[A-Z][0-9]*)[A-Z0-9]{10}')\n",
    "\n",
    "    # Recherche de tous les codes correspondant à ce pattern dans le contenu\n",
    "    mixed_found_codes = mixed_code_pattern.findall(content)\n",
    "\n",
    "    # Compter les codes uniques correspondant aux nouveaux critères\n",
    "    unique_mixed_found_codes = set(mixed_found_codes)\n",
    "    number_of_unique_mixed_found_articles = len(unique_mixed_found_codes)\n",
    "\n",
    "    # Détermination des limites des articles en fonction des codes uniques identifiés\n",
    "    article_boundaries = list(mixed_code_pattern.finditer(content))\n",
    "\n",
    "    # Extraction de chaque article avec son code\n",
    "    articles = []\n",
    "    for i in range(len(article_boundaries)):\n",
    "        start_index = article_boundaries[i].start()\n",
    "        end_index = article_boundaries[i+1].start() if i+1 < len(article_boundaries) else None\n",
    "        article_code = content[start_index:article_boundaries[i].end()].strip()\n",
    "        article_text = content[article_boundaries[i].end():end_index].strip()\n",
    "        articles.append((article_code, article_text))\n",
    "\n",
    "    # Création d'un DataFrame pour stocker chaque article avec son code\n",
    "    articles_df = pd.DataFrame(articles, columns=['Code', 'Text'])\n",
    "\n",
    "    return articles_df"
   ]
  },
  {
   "cell_type": "code",
   "execution_count": 3,
   "id": "922af675-757f-4376-837d-8a3adb2db128",
   "metadata": {},
   "outputs": [
    {
     "data": {
      "text/html": [
       "<div>\n",
       "<style scoped>\n",
       "    .dataframe tbody tr th:only-of-type {\n",
       "        vertical-align: middle;\n",
       "    }\n",
       "\n",
       "    .dataframe tbody tr th {\n",
       "        vertical-align: top;\n",
       "    }\n",
       "\n",
       "    .dataframe thead th {\n",
       "        text-align: right;\n",
       "    }\n",
       "</style>\n",
       "<table border=\"1\" class=\"dataframe\">\n",
       "  <thead>\n",
       "    <tr style=\"text-align: right;\">\n",
       "      <th></th>\n",
       "      <th>Pertinence</th>\n",
       "      <th>Code</th>\n",
       "      <th>Text</th>\n",
       "    </tr>\n",
       "  </thead>\n",
       "  <tbody>\n",
       "    <tr>\n",
       "      <th>0</th>\n",
       "      <td>1</td>\n",
       "      <td>2G9VHL0NWT</td>\n",
       "      <td>,Adaptation climatique: Un appel à  privilégie...</td>\n",
       "    </tr>\n",
       "    <tr>\n",
       "      <th>1</th>\n",
       "      <td>1</td>\n",
       "      <td>2Z6BFRQE9N</td>\n",
       "      <td>,\"Lutte contre la désertification et la dégrad...</td>\n",
       "    </tr>\n",
       "    <tr>\n",
       "      <th>2</th>\n",
       "      <td>1</td>\n",
       "      <td>DO5FX9BGHL</td>\n",
       "      <td>,\"------------------------- sur la production ...</td>\n",
       "    </tr>\n",
       "    <tr>\n",
       "      <th>3</th>\n",
       "      <td>1</td>\n",
       "      <td>NZI7QXUVNT</td>\n",
       "      <td>,Sûreté et sécurité au port de Cotonoun : Béni...</td>\n",
       "    </tr>\n",
       "    <tr>\n",
       "      <th>4</th>\n",
       "      <td>1</td>\n",
       "      <td>RZDF3OO2DN</td>\n",
       "      <td>,Production de maïs : les jeunes s'y mettent a...</td>\n",
       "    </tr>\n",
       "  </tbody>\n",
       "</table>\n",
       "</div>"
      ],
      "text/plain": [
       "   Pertinence        Code                                               Text\n",
       "0           1  2G9VHL0NWT  ,Adaptation climatique: Un appel à  privilégie...\n",
       "1           1  2Z6BFRQE9N  ,\"Lutte contre la désertification et la dégrad...\n",
       "2           1  DO5FX9BGHL  ,\"------------------------- sur la production ...\n",
       "3           1  NZI7QXUVNT  ,Sûreté et sécurité au port de Cotonoun : Béni...\n",
       "4           1  RZDF3OO2DN  ,Production de maïs : les jeunes s'y mettent a..."
      ]
     },
     "execution_count": 3,
     "metadata": {},
     "output_type": "execute_result"
    }
   ],
   "source": [
    "file_path = r\"C:\\Users\\33672\\OneDrive\\Bureau\\TER Docs\\corpus_FRESA - Texte - Pertinence\\Entrainement - txt\\Pertinent.txt\"\n",
    "articles_df = extract_articles_from_file(file_path)"
   ]
  },
  {
   "cell_type": "code",
   "execution_count": null,
   "id": "db4a5f1d-44b5-4250-98b8-4183c3ff700c",
   "metadata": {},
   "outputs": [],
   "source": [
    "\n",
    "##UNIQUEMENT POUR DATASET ENTRAINEMENT\n",
    "\n",
    "# Ajouter une nouvelle colonne contenant des '1 ou 0' au début du DataFrame pour déterminer la pertinence ou non de l'article\n",
    "articles_df.insert(0, 'Pertinence', 1)"
   ]
  },
  {
   "cell_type": "code",
   "execution_count": null,
   "id": "7ca93604-5889-4e9e-9bb1-0bb1c5599365",
   "metadata": {},
   "outputs": [],
   "source": [
    "articles_df.head()  "
   ]
  },
  {
   "cell_type": "code",
   "execution_count": 4,
   "id": "ddcb763c-c611-4896-adf1-6d94ecf28068",
   "metadata": {},
   "outputs": [],
   "source": [
    "##Tokenisation"
   ]
  },
  {
   "cell_type": "code",
   "execution_count": 5,
   "id": "fe6d8ae3-06d5-4aaa-aec9-0fd26782f37a",
   "metadata": {},
   "outputs": [
    {
     "name": "stdout",
     "output_type": "stream",
     "text": [
      "[[',</w>', 'Adap', 'tation</w>', 'climatique</w>', ':</w>', 'Un</w>', 'appel</w>', 'à</w>', 'privilégier</w>', \"l'</w>\", 'agro', 'écologie</w>', '\"</w>', ',</w>', 'Adap', 'tation</w>', 'climatique</w>', ':</w>', 'Un</w>', 'appel</w>', 'à</w>', 'privilégier</w>', \"l'</w>\", 'agro', 'éc', 'ologi', 'e', 'Trois</w>', 'actions</w>', 'phares</w>', 'pour</w>', 'placer</w>', \"l'</w>\", 'agro', 'écologie</w>', 'au</w>', 'ceur</w>', 'de</w>', \"l'</w>\", 'adaptation</w>', 'climatique</w>', '.</w>', \"C'</w>\", 'est</w>', 'ce</w>', 'que</w>', 'proposent</w>', 'des</w>', 'acteurs</w>', 'de</w>', \"l'</w>\", 'Alliance</w>', 'pour</w>', 'la</w>', 'souveraineté</w>', 'alimentaire</w>', 'en</w>', 'Afrique</w>', '(</w>', 'Af', 'sa</w>', ')</w>', 'à</w>', 'la</w>', 'suite</w>', 'des</w>', 'assises</w>', 'tenues</w>', 'à</w>', 'Ad', 'dis-', 'Abeba</w>', 'du</w>', '19</w>', 'au</w>', '21</w>', 'septembre</w>', '20', '22.', \"L'</w>\", 'Afrique</w>', 'peut</w>', 'conduire</w>', 'le</w>', 'monde</w>', 'dans</w>', 'la</w>', 'transition</w>', 'vers</w>', 'des</w>', 'systèmes</w>', 'alimentaires</w>', 'durables</w>', 'gr', 'ce</w>', 'à</w>', \"l'</w>\", 'agro', 'écologie</w>', '.</w>', \"C'</w>\", 'est</w>', 'le</w>', 'leit', 'moti', 'v</w>', 'des</w>', 'petits</w>', 'exploitants</w>', 'agricoles</w>', ',</w>', 'des</w>', 'jeunes</w>', ',</w>', 'des</w>', 'femmes</w>', ',</w>', 'des</w>', 'chercheurs</w>', 'et</w>', 'scientifiques</w>', ',</w>', 'des</w>', 'écologistes</w>', ',</w>', 'faisant</w>', 'partie</w>', 'de</w>', \"l'</w>\", 'Alliance</w>', 'pour</w>', 'la</w>', 'souveraineté</w>', 'alimentaire</w>', 'en</w>', 'Afrique</w>', '(</w>', 'Af', 'sa</w>', ')</w>', '.</w>', 'Il</w>', \"s'</w>\", 'agit</w>', 'du</w>', 'plus</w>', 'grand</w>', 'mouvement</w>', 'de</w>', 'la</w>', 'société</w>', 'civile</w>', 'du</w>', 'continent</w>', 'représentant</w>', '200</w>', 'millions</w>', 'de</w>', 'paysans</w>', ',</w>', 'pêcheurs</w>', ',</w>', 'éleveurs</w>', ',</w>', 'consommateurs</w>', ',</w>', 'groupes</w>', 'confessionn', 'els</w>', 'et</w>', 'peuples</w>', 'autochtones</w>', '.</w>', 'Ré', 'unis</w>', 'à</w>', 'Ad', 'dis-', 'Abeba</w>', 'en</w>', 'Ethiopie</w>', 'du</w>', '19</w>', 'au</w>', '21</w>', 'septembre</w>', 'dernier</w>', 'pour</w>', 'établir</w>', 'une</w>', 'feuille</w>', 'de</w>', 'route</w>', 'de</w>', \"l'</w>\", 'Afrique</w>', 'pour</w>', \"l'</w>\", 'adaptation</w>', 'par</w>', \"l'</w>\", 'agro', 'écologie</w>', ',</w>', 'ils</w>', 'lancent</w>', 'un</w>', 'appel</w>', 'à</w>', \"l'</w>\", 'action</w>', 'à</w>', 'la</w>', 'Co', 'p</w>', '27</w>', 'et</w>', 'au-delà</w>', '.</w>', '\"</w>', 'Nous</w>', 'demandons</w>', 'que</w>', 'la</w>', 'Co', 'p</w>', '27</w>', 'place</w>', \"l'</w>\", 'agro', 'écologie</w>', 'au</w>', 'centre</w>', 'de</w>', \"l'</w>\", 'adaptation</w>', 'climatique</w>', 'de</w>', \"l'</w>\", 'Afrique</w>', ',</w>', 'en</w>', 'créant</w>', 'une</w>', 'résilience</w>', 'pour</w>', 'les</w>', 'paysans</w>', ',</w>', 'les</w>', 'pêcheurs</w>', ',</w>', 'les</w>', 'pasteurs</w>', ',</w>', 'les</w>', 'communautés</w>', 'autochtones</w>', 'et</w>', 'leurs</w>', 'systèmes</w>', 'alimentaires</w>', '\"</w>', ',</w>', 'ont-ils</w>', 'déclaré</w>', 'dans</w>', 'un</w>', 'communiqué</w>', 'de</w>', 'presse</w>', 'à</w>', 'la</w>', 'fin</w>', 'de</w>', 'leurs</w>', 'assises</w>', '.</w>', 'Ils</w>', 'appellent</w>', 'ainsi</w>', 'la</w>', 'Co', 'p</w>', '27</w>', 'à</w>', 'trois</w>', 'actions</w>', 'phares</w>', '.</w>', 'Les</w>', 'membres</w>', 'de</w>', \"l'</w>\", 'Af', 'sa</w>', 'invitent</w>', 'à</w>', '\"</w>', 'reconnaître</w>', \"l'</w>\", 'agro', 'écologie</w>', 'pour</w>', \"l'</w>\", 'adaptation</w>', '\"</w>', '.</w>', 'Il</w>', \"s'</w>\", 'agit</w>', 'de</w>', 'donner</w>', 'la</w>', 'priorité</w>', 'à</w>', \"l'</w>\", 'agro', 'écologie</w>', 'pour</w>', 'transformer</w>', 'le</w>', 'système</w>', 'agroalimentaire</w>', ',</w>', 'de</w>', 'renforcer</w>', 'la</w>', 'résilience</w>', 'et</w>', 'permettre</w>', 'aux</w>', 'paysans</w>', ',</w>', 'aux</w>', 'pasteurs</w>', 'et</w>', 'aux</w>', 'pêcheurs</w>', 'de</w>', \"s'</w>\", 'adapter</w>', 'au</w>', 'changement</w>', 'climatique</w>', ',</w>', \"d'</w>\", 'inclure</w>', \"l'</w>\", 'agro', 'écologie</w>', 'dans</w>', 'les</w>', 'négociations</w>', 'climatiques</w>', 'de</w>', 'la</w>', 'Con', 'venti', 'on-', 'cadre</w>', 'des</w>', 'Nations</w>', 'Unies</w>', 'sur</w>', 'les</w>', 'changements</w>', 'climatiques</w>', '.</w>', 'Ensuite</w>', ',</w>', \"l'</w>\", 'organisation</w>', 'pan', 'africaine</w>', 'suggère</w>', 'de</w>', 'mettre</w>', 'les</w>', 'petits</w>', 'exploitants</w>', 'et</w>', 'les</w>', 'communautés</w>', 'autochtones</w>', ',</w>', 'y</w>', 'compris</w>', 'les</w>', 'femmes</w>', 'et</w>', 'les</w>', 'jeunes</w>', ',</w>', 'au</w>', 'centre</w>', 'de</w>', \"l'</w>\", 'adaptation</w>', 'en</w>', 'les</w>', 'engageant</w>', 'de</w>', 'manière</w>', 'significative</w>', 'dans</w>', 'les</w>', 'négociations</w>', 'de</w>', 'la</w>', 'Co', 'p</w>', '27</w>', '.</w>', 'La</w>', 'troisième</w>', 'action</w>', 'phare</w>', 'que</w>', 'proposent</w>', 'les</w>', 'membres</w>', 'de</w>', \"l'</w>\", 'Af', 'sa</w>', ',</w>', \"c'</w>\", 'est</w>', \"d'</w>\", 'ax', 'er</w>', 'le</w>', 'financement</w>', 'climatique</w>', 'sur</w>', 'les</w>', 'systèmes</w>', 'alimentaires</w>', 'durables</w>', 'à</w>', 'travers</w>', \"l'</w>\", 'orientation</w>', 'de</w>', 'ce</w>', 'financement</w>', 'vers</w>', \"l'</w>\", 'agro', 'écologie</w>', '.</w>', '\"</w>', 'Le</w>', 'moment</w>', 'est</w>', 'venu</w>', \"d'</w>\", 'augmenter</w>', 'de</w>', 'manière</w>', 'appropriée</w>', 'et</w>', 'délibérée</w>', 'le</w>', 'financement</w>', 'des</w>', 'paysans</w>', ',</w>', 'des</w>', 'pêcheurs</w>', ',</w>', 'des</w>', 'éleveurs</w>', 'et</w>', 'des</w>', 'communautés</w>', 'autochtones</w>', 'afin</w>', 'de</w>', 'mettre</w>', 'en</w>', 'place</w>', 'des</w>', 'systèmes</w>', 'alimentaires</w>', 'durables</w>', 'basés</w>', 'sur</w>', \"l'</w>\", 'agro', 'écologie</w>', '€</w>', ',</w>', 'annonce</w>', \"l'</w>\", 'institution</w>', 'pan', 'afric', 'aine.', 'Un</w>', 'constat</w>', 'affli', 'ge', 'ant', 'Le</w>', 'communiqué</w>', 'informe</w>', ',</w>', 'que</w>', \"l'</w>\", 'Afrique</w>', 'subit</w>', 'au</w>', 'quotidien</w>', 'les</w>', 'effets</w>', 'de</w>', \"l'</w>\", 'urgence</w>', 'climatique</w>', '.</w>', 'La</w>', 'hausse</w>', 'des</w>', 'températures</w>', ',</w>', 'les</w>', 'inondations</w>', ',</w>', 'les</w>', 'tempêtes</w>', ',</w>', 'les</w>', 'sécher', 'esses</w>', 'et</w>', 'la</w>', 'dégradation</w>', 'des</w>', 'terres</w>', 'touchent</w>', 'en</w>', 'premier</w>', 'lieu</w>', 'les</w>', 'petits</w>', 'exploitants</w>', 'africains</w>', '.</w>', 'Obli', 'gés</w>', 'de</w>', \"s'</w>\", 'adapter</w>', 'pour</w>', 'préserver</w>', 'leurs</w>', 'moyens</w>', 'de</w>', 'subsistance</w>', 'et</w>', 'nourrir</w>', 'leurs</w>', 'familles</w>', ',</w>', 'ils</w>', 'ne</w>', 'bénéficient</w>', 'que</w>', \"d'</w>\", 'un</w>', 'soutien</w>', 'ou</w>', \"d'</w>\", 'un</w>', 'accès</w>', 'négligeable</w>', 'au</w>', 'financement</w>', 'climatique</w>', '.</w>', \"L'</w>\", 'Afrique</w>', 'a</w>', 'un</w>', 'énorme</w>', 'potentiel</w>', ',</w>', 'une</w>', 'riche</w>', 'diversité</w>', 'culturelle</w>', ',</w>', 'des</w>', 'ressources</w>', 'naturelles</w>', 'et</w>', 'des</w>', 'jeunes</w>', 'à</w>', \"l'</w>\", 'esprit</w>', 'créatif</w>', '.</w>', 'Pourtant</w>', ',</w>', \"l'</w>\", 'agriculture</w>', 'africaine</w>', 'souffre</w>', \"d'</w>\", 'un</w>', 'sous-', 'investissement</w>', 'et</w>', 'de</w>', 'lacunes</w>', 'politiques</w>', 'qui</w>', 'empêchent</w>', \"l'</w>\", 'accès</w>', 'au</w>', 'capital</w>', 'productif</w>', 'et</w>', 'aux</w>', 'terres</w>', '.</w>', '\"</w>', 'Nous</w>', 'avons</w>', 'besoin</w>', \"d'</w>\", 'une</w>', 'transition</w>', 'juste</w>', 'et</w>', 'radicale</w>', ',</w>', 'loin</w>', 'de</w>', \"l'</w>\", 'agriculture</w>', 'industrielle</w>', ',</w>', 'des</w>', 'mono', 'poles</w>', \"d'</w>\", 'entreprise</w>', 'et</w>', 'des</w>', 'fausses</w>', 'solutions</w>', 'climatiques</w>', ',</w>', 'vers</w>', 'la</w>', 'souveraineté</w>', 'alimentaire</w>', 'et</w>', \"l'</w>\", 'agro', 'écologie</w>', '\"</w>', '.En</w>', 'associant</w>', 'des</w>', 'générations</w>', 'de</w>', 'savoirs</w>', 'indigènes</w>', ',</w>', \"d'</w>\", 'innovations</w>', 'scientifiques</w>', 'et</w>', 'paysannes</w>', 'et</w>', 'les</w>', 'processus</w>', 'naturels</w>', \"d'</w>\", 'un</w>', 'écosystème</w>', ',</w>', 'les</w>', 'systèmes</w>', 'alimentaires</w>', 'ag', 'ro</w>', 'écologiques</w>', 'sont</w>', 'capables</w>', 'de</w>', \"s'</w>\", 'adapter</w>', 'à</w>', 'la</w>', 'crise</w>', 'climatique</w>', 'et</w>', 'même</w>', 'contribuer</w>', 'à</w>', 'la</w>', 'résoudre</w>', '.</w>', 'Les</w>', 'paysans</w>', ',</w>', 'les</w>', 'éleveurs</w>', ',</w>', 'les</w>', 'pêcheurs</w>', ',</w>', 'les</w>', 'peuples</w>', 'autochtones</w>', 'et</w>', 'les</w>', 'communautés</w>', 'locales</w>', 'ont</w>', 'recours</w>', 'à</w>', \"l'</w>\", 'agro', 'écologie</w>', 'pour</w>', 'gérer</w>', 'leurs</w>', 'terres</w>', 'de</w>', 'manière</w>', 'durable</w>', ',</w>', 'produire</w>', 'des</w>', 'aliments</w>', 'nourr', 'issants</w>', 'qui</w>', 'célèbrent</w>', 'leur</w>', 'patrimoine</w>', 'culturel</w>', 'et</w>', 'renforcer</w>', 'les</w>', 'marchés</w>', 'et</w>', 'les</w>', 'économies</w>', 'locales</w>', '.</w>', 'Plus</w>', 'important</w>', 'encore</w>', ',</w>', 'en</w>', 'intégrant</w>', 'la</w>', 'diversité</w>', 'et</w>', 'la</w>', 'résilience</w>', ',</w>', \"l'</w>\", 'agro', 'écologie</w>', 'permet</w>', \"d'</w>\", 'absorber</w>', 'le</w>', 'carbone</w>', 'et</w>', 'de</w>', \"s'</w>\", 'adapter</w>', 'à</w>', 'la</w>', 'menace</w>', 'existenti', 'elle</w>', 'du</w>', 'changement</w>', 'climatique</w>', ',</w>', 'comme</w>', 'le</w>', 'reconnaît</w>', 'le</w>', 'Groupe</w>', \"d'</w>\", 'experts</w>', 'intergouvernemental</w>', 'sur</w>', \"l'</w>\", 'évolution</w>', 'du</w>', 'climat</w>', '?</w>', '\"</w>', ',</w>', 'h', 'tt', 'ps</w>', ':</w>', '/</w>', '/</w>', 'lan', 'ation.', 'b', 'j</w>', '/</w>', 'adap', 't', 'ation-', 'climati', 'que-', 'un-', 'appel', '-', 'a-', 'privi', 'le', 'gi', 'er-', 'l', 'agro', 'ec', 'ologie</w>', '/</w>', ',</w>', 'FR</w>', ',</w>', ',', '20', '22-', '10-', '26</w>', '22</w>', ':</w>', '13</w>', ':</w>', '4', '3,', '20', '22-', '09-', '28</w>', '22</w>', ':</w>', '00</w>', ':</w>', '00</w>', '+</w>', '00</w>', ':</w>', '0', '0,', '49', 'f', '8', '39', 'f', '25', 'f', '90</w>', ',</w>', 'lan', 'ation.', 'b', 'j</w>', ',</w>', ',</w>', ',</w>', ',</w>', ',</w>', ',</w>', ',</w>', '16', '64', '40', '2', '400</w>', ',</w>', 'yes</w>', '(</w>', 'm</w>', ')</w>', ',</w>', 'No</w>', '(</w>', 'm</w>', ')</w>', ',</w>', 'Y', 'es</w>', '(</w>', 'm</w>', ')</w>', ',</w>', 'Y', 'es</w>', '(</w>', 'm</w>', ')</w>', ',</w>', 'Environ', 'ement</w>', '(</w>', 'm</w>', ')</w>', ';</w>'], ['\"</w>', ',</w>', 'Lutte</w>', 'contre</w>', 'la</w>', 'désertification</w>', 'et</w>', 'la</w>', 'dégradation</w>', 'des</w>', 'terres</w>', ':</w>', 'La</w>', 'Co', 'p</w>', '15</w>', 'veut</w>', 'parer</w>', 'à</w>', '\"</w>', '\"</w>', \"l'</w>\", 'urgence</w>', '\"</w>', '\"</w>', '\"</w>', '\"</w>', ',</w>', 'Lutte</w>', 'contre</w>', 'la</w>', 'désertification</w>', 'et</w>', 'la</w>', 'dégradation</w>', 'des</w>', 'terres</w>', ':</w>', 'La</w>', 'Co', 'p</w>', '15</w>', 'veut</w>', 'parer</w>', 'à</w>', '\"</w>', '\"</w>', \"l'</w>\", 'urgence</w>', '\"</w>', '\"</w>', 'A</w>', 'la</w>', '15e</w>', 'Conférence</w>', 'des</w>', 'Parties</w>', '(</w>', 'Co', 'p</w>', '15</w>', ')</w>', 'sur</w>', 'la</w>', 'désertification</w>', 'en</w>', 'cours</w>', 'à</w>', 'Abidjan</w>', ',</w>', 'les</w>', 'participants</w>', 'sont</w>', 'à</w>', 'la</w>', 'quête</w>', \"d'</w>\", 'une</w>', 'réponse</w>', 'concrète</w>', 'aux</w>', 'défis</w>', 'inter', 'connectés</w>', 'de</w>', 'la</w>', 'dégradation</w>', 'des</w>', 'terres</w>', ',</w>', 'du</w>', 'changement</w>', 'climatique</w>', 'et</w>', 'de</w>', 'la</w>', 'perte</w>', 'de</w>', 'biodiversité</w>', '.</w>', '\"</w>', 'La</w>', 'dégradation</w>', 'des</w>', 'terres</w>', \"n'</w>\", 'est</w>', 'pas</w>', 'une</w>', 'fatalité</w>', '.</w>', 'La</w>', 'réparation</w>', 'est</w>', 'possible</w>', '\"</w>', '.</w>', 'A</w>', 'la</w>', 'suite</w>', 'de</w>', 'ce</w>', 'message</w>', 'du</w>', 'secrétaire</w>', 'exécutif</w>', 'de</w>', 'la</w>', 'Convention</w>', 'des</w>', 'Nations</w>', 'unies</w>', 'sur</w>', 'la</w>', 'lutte</w>', 'contre</w>', 'la</w>', 'désertification</w>', ',</w>', '--', '--', '--', '--', '--', '---</w>', ',</w>', 'au</w>', 'lancement</w>', 'de</w>', 'la</w>', 'Co', 'p</w>', '15</w>', ',</w>', 'la</w>', 'planète</w>', 'attend</w>', 'du</w>', 'concret</w>', '.</w>', 'Les</w>', 'participants</w>', 'se</w>', 'concentrent</w>', 'depuis</w>', 'le</w>', '9</w>', 'mai</w>', '2022</w>', 'sur</w>', 'les</w>', 'voies</w>', 'et</w>', 'moyens</w>', 'pour</w>', 'la</w>', 'restauration</w>', \"d'</w>\", 'un</w>', 'milliard</w>', \"d'</w>\", 'hectares</w>', 'de</w>', 'terres</w>', 'dégr', 'adées</w>', \"d'</w>\", 'ici</w>', '2030</w>', ',</w>', 'la</w>', 'pérennité</w>', 'de</w>', \"l'</w>\", 'utilisation</w>', 'des</w>', 'terres</w>', 'contre</w>', 'les</w>', 'impacts</w>', 'du</w>', 'changement</w>', 'climatique</w>', 'et</w>', 'la</w>', 'lutte</w>', 'contre</w>', \"l'</w>\", 'escalade</w>', 'des</w>', 'risques</w>', 'de</w>', 'catastrophe</w>', 'tels</w>', 'que</w>', 'les</w>', 'sécher', 'esses</w>', ',</w>', 'les</w>', 'tempêtes</w>', 'de</w>', 'sable</w>', 'et</w>', 'de</w>', 'poussière</w>', 'et</w>', 'les</w>', 'incendies</w>', 'de</w>', 'forêt</w>', '.</w>', '\"</w>', 'Les</w>', 'investissements</w>', 'dans</w>', 'la</w>', 'lutte</w>', 'contre</w>', 'la</w>', 'désertification</w>', 'et</w>', 'la</w>', 'dégradation</w>', 'des</w>', 'terres</w>', 'sont</w>', 'parmi</w>', 'les</w>', 'plus</w>', 'efficaces</w>', 'que</w>', 'nous</w>', 'puissions</w>', 'faire</w>', '.</w>', 'La</w>', 'moitié</w>', 'du</w>', 'Pi', 'b</w>', 'mondial</w>', 'et</w>', 'la</w>', 'moitié</w>', 'de</w>', 'ses</w>', 'approvisionnements</w>', 'en</w>', 'céréales</w>', 'dépendent</w>', 'de</w>', 'la</w>', 'lutte</w>', 'contre</w>', 'la</w>', 'dégradation</w>', 'des</w>', 'terres</w>', 'û</w>', ',</w>', 'a</w>', 'également</w>', 'plaidé</w>', 'la</w>', 'Vice-', 'Secrétaire</w>', 'générale</w>', 'des</w>', 'Nations</w>', 'unies</w>', ',</w>', '--', '--', '--', '--', '--', '--', '--', '.En</w>', 'effet</w>', ',</w>', 'selon</w>', \"l'</w>\", 'Onu</w>', ',</w>', \"jusqu'</w>\", 'à</w>', '40</w>', '%</w>', 'de</w>', 'toutes</w>', 'les</w>', 'terres</w>', 'libres</w>', 'de</w>', 'glace</w>', 'sont</w>', 'déjà</w>', 'dégr', 'adées</w>', ',</w>', 'avec</w>', 'des</w>', 'conséquences</w>', 'désastreuses</w>', 'pour</w>', 'le</w>', 'climat</w>', ',</w>', 'la</w>', 'biodiversité</w>', 'et</w>', 'les</w>', 'moyens</w>', 'de</w>', 'subsistance</w>', '.</w>', 'La</w>', 'dégradation</w>', 'des</w>', 'sols</w>', 'affecte</w>', '52</w>', '%</w>', 'des</w>', 'terres</w>', 'agricoles</w>', ',</w>', 'menaçant</w>', 'ainsi</w>', \"l'</w>\", 'existence</w>', 'de</w>', '2,6</w>', 'milliards</w>', 'de</w>', 'personnes</w>', 'qui</w>', 'dépendent</w>', 'directement</w>', 'de</w>', \"l'</w>\", 'agriculture</w>', '.</w>', 'La</w>', 'désertification</w>', 'et</w>', 'la</w>', 'sécheresse</w>', 'causent</w>', 'la</w>', 'perte</w>', 'de</w>', '12</w>', 'millions</w>', \"d'</w>\", 'hectares</w>', 'chaque</w>', 'année</w>', 'soit</w>', 'près</w>', 'de</w>', '23</w>', 'hectares</w>', 'par</w>', 'minute</w>', '.</w>', 'Le</w>', 'continent</w>', 'africain</w>', 'est</w>', 'particulièrement</w>', 'touché</w>', 'par</w>', 'la</w>', 'désertification</w>', ',</w>', 'notamment</w>', 'dans</w>', 'sa</w>', 'bande</w>', 'sah', 'éli', 'enne.', '--', '--', '--</w>', 'pour</w>', 'laquelle</w>', ',</w>', 'le</w>', 'président</w>', 'ivoirien</w>', '--', '--', '--', '--', '--', '--', '--', '---</w>', 'appelle</w>', 'à</w>', \"l'</w>\", 'action</w>', 'pour</w>', 'freiner</w>', 'la</w>', 'menace</w>', '.</w>', '\"</w>', 'Nos</w>', 'peuples</w>', 'fondent</w>', 'beaucoup</w>', \"d'</w>\", 'espoir</w>', 'sur</w>', 'nous</w>', '.</w>', 'Nous</w>', \"n'</w>\", 'avons</w>', 'pas</w>', 'le</w>', 'droit</w>', 'de</w>', 'les</w>', 'décevoir</w>', '.</w>', 'Ag', 'issons</w>', 'vite</w>', ',</w>', 'ag', 'issons</w>', 'ensemble</w>', 'pour</w>', 'donner</w>', 'une</w>', 'nouvelle</w>', 'vie</w>', 'à</w>', 'nos</w>', 'terres</w>', '!</w>', '\"</w>', ',</w>', 'a-t-il</w>', 'déclaré</w>', '.</w>', 'Ces</w>', 'assises</w>', 'regroupent</w>', 'les</w>', 'dirigeants</w>', 'de</w>', 'gouvernements</w>', ',</w>', 'du</w>', 'secteur</w>', 'privé</w>', ',</w>', 'de</w>', 'la</w>', 'société</w>', 'civile</w>', 'et</w>', \"d'</w>\", 'autres</w>', 'parties</w>', 'prenantes</w>', 'clés</w>', 'du</w>', 'monde</w>', 'enti', 'er', '.Le</w>', 'thème</w>', 'de</w>', 'la</w>', 'Co', 'p</w>', '15</w>', 'qui</w>', 'prend</w>', 'fin</w>', 'le</w>', '20</w>', 'mai</w>', 'est</w>', ':</w>', '\"</w>', 'Terres</w>', '.</w>', 'Vie</w>', '.</w>', 'Patrimoine</w>', '.</w>', \"D'</w>\", 'un</w>', 'monde</w>', 'précaire</w>', 'à</w>', 'un</w>', 'avenir</w>', 'prospère</w>', '\"</w>', '.</w>', 'Il</w>', \"s'</w>\", 'agit</w>', \"d'</w>\", 'un</w>', 'appel</w>', 'à</w>', \"l'</w>\", 'action</w>', 'pour</w>', \"s'</w>\", 'assurer</w>', 'que</w>', 'la</w>', 'terre</w>', ',</w>', 'la</w>', 'bou', 'ée</w>', 'de</w>', 'sauvetage</w>', 'sur</w>', 'cette</w>', 'planète</w>', ',</w>', 'continue</w>', 'de</w>', 'profiter</w>', 'aux</w>', 'générations</w>', 'présente</w>', 'et</w>', 'futures</w>', '.</w>', 'Le</w>', 'projet</w>', 'de</w>', 'la</w>', 'Grande</w>', 'Mur', 'aille</w>', 'verte</w>', 'qui</w>', 'vise</w>', 'à</w>', 'restaurer</w>', 'cent</w>', 'millions</w>', \"d'</w>\", 'hectares</w>', 'de</w>', 'terres</w>', 'arides</w>', 'en</w>', 'Afrique</w>', \"d'</w>\", 'ici</w>', '2030</w>', 'sera</w>', 'au</w>', 'ceur</w>', 'des</w>', 'échanges</w>', 'de</w>', 'cette</w>', 'Co', 'p</w>', ',</w>', 'la</w>', 'première</w>', 'des</w>', 'trois</w>', 'réunions</w>', 'des</w>', 'Conventions</w>', 'de</w>', 'Rio</w>', 'à</w>', 'se</w>', 'tenir</w>', 'en</w>', '2022</w>', '.</w>', 'La</w>', 'Co', 'p</w>', '15</w>', 'sur</w>', 'la</w>', 'biodiversité</w>', 'et</w>', 'la</w>', 'Co', 'p</w>', '27</w>', 'sur</w>', 'le</w>', 'changement</w>', 'climatique</w>', 'vont</w>', 'se</w>', 'tenir</w>', 'respectivement</w>', 'à</w>', 'Kun', 'ming</w>', ',</w>', 'en</w>', 'Chine</w>', ',</w>', 'et</w>', 'à</w>', 'Char', 'm</w>', 'el', '--', '--', '---</w>', ',</w>', 'en</w>', 'Egypte</w>', '\"</w>', '.</w>', ',</w>', 'h', 'tt', 'ps</w>', ':</w>', '/</w>', '/</w>', 'lan', 'ation.', 'b', 'j</w>', '/</w>', 'lut', 'te-', 'contre-', 'la-', 'des', 'er', 'ti', 'fic', 'ation-', 'et-', 'la-', 'de', 'grad', 'ation-', 'des-', 'terres', '-', 'la-', 'cop', '-', '15-', 'veu', 't-', 'par', 'er-', 'a-', 'lu', 'r', 'gence</w>', '/</w>', ',</w>', 'FR</w>', ',</w>', ',', '20', '22-', '05-', '17</w>', '02</w>', ':</w>', '52</w>', ':</w>', '34,', '20', '22-', '05-', '11</w>', '22</w>', ':</w>', '00</w>', ':</w>', '00</w>', '+</w>', '00</w>', ':</w>', '0', '0,', '49', 'f', '8', '39', 'f', '25', 'f', '90</w>', ',</w>', 'lan', 'ation.', 'b', 'j</w>', ',</w>', 'CN</w>', ',</w>', 'AS</w>', ',</w>', ',</w>', ',</w>', ',</w>', ',</w>', '16', '52', '30', '6', '400</w>', ',</w>', 'yes</w>', '(</w>', 'm</w>', ')</w>', ',</w>', 'No</w>', '(</w>', 'm</w>', ')</w>', ',</w>', 'No</w>', '(</w>', 'm</w>', ')</w>', ',</w>', 'No</w>', '(</w>', 'm</w>', ')</w>', ',</w>', 'Environ', 'ement</w>', '(</w>', 'm</w>', ')</w>', ';</w>'], ['\"</w>', ',</w>', '--', '--', '--', '--', '--', '--', '--', '--', '--', '--', '--', '---</w>', 'sur</w>', 'la</w>', 'production</w>', 'de</w>', 'maïs</w>', ':</w>', '\"</w>', '\"</w>', 'Il</w>', 'faut</w>', 'choisir</w>', 'des</w>', 'semences</w>', 'certi', 'fiées</w>', '\"</w>', '\"</w>', '\"</w>', '\"</w>', ',</w>', '--', '--', '--', '--', '--', '--', '--', '--', '--', '--', '--', '---</w>', 'sur</w>', 'la</w>', 'production</w>', 'de</w>', 'maïs</w>', ':</w>', '\"</w>', '\"</w>', 'Il</w>', 'faut</w>', 'choisir</w>', 'des</w>', 'semences</w>', 'certi', 'fiées</w>', '\"</w>', '\"</w>', \"C'</w>\", 'est</w>', 'déjà</w>', 'la</w>', 'grande</w>', 'saison</w>', 'pluvi', 'euse</w>', 'et</w>', 'les</w>', 'producteurs</w>', 'misent</w>', 'gros</w>', 'sur</w>', 'le</w>', 'maïs</w>', ',</w>', 'principale</w>', 'culture</w>', 'céré', 'alière</w>', 'du</w>', 'Bénin</w>', '.</w>', 'Dr</w>', '--', '--', '--', '--', '--', '--', '--', '--', '--', '--', '--</w>', ',</w>', 'enseign', 'ant-', 'chercheur</w>', 'à</w>', 'la</w>', 'Faculté</w>', 'des</w>', 'sciences</w>', 'agron', 'omiques</w>', 'de</w>', \"l'</w>\", 'U', 'ac</w>', 'et</w>', 'maître</w>', 'de</w>', 'conférences</w>', 'des</w>', 'Universités</w>', 'du</w>', 'Cam', 'es</w>', ',</w>', 'donne</w>', 'des</w>', 'conseils</w>', 'pour</w>', 'améliorer</w>', 'le</w>', 'rend', 'ement', '.La</w>', 'Nation</w>', ':</w>', 'Peut-on</w>', 'encore</w>', 'semer</w>', 'du</w>', 'maïs</w>', 'en</w>', 'ce</w>', 'début</w>', 'du</w>', 'mois</w>', 'de</w>', 'mai</w>', '?</w>', '--', '--', '--', '--', '--', '--', '--', '--', '--', '--', '--', '---</w>', ':</w>', 'Pour</w>', 'la</w>', 'grande</w>', 'saison</w>', 'de</w>', 'pluies</w>', 'de</w>', 'cette</w>', 'année</w>', ',</w>', 'le</w>', 'semis</w>', 'du</w>', 'maïs</w>', 'a</w>', 'commencé</w>', '.</w>', 'A</w>', 'la</w>', 'date</w>', \"d'</w>\", \"aujourd'</w>\", 'hui</w>', '(</w>', '3</w>', 'mai</w>', ',</w>', 'ndlr</w>', ')</w>', ',</w>', 'on</w>', 'ne</w>', 'peut</w>', 'pas</w>', 'dire</w>', \"qu'</w>\", 'on</w>', 'est</w>', 'en</w>', 'retar', 'd.</w>', 'à</w>', '‡</w>', 'a</w>', 'dépend</w>', 'de</w>', 'la</w>', 'variété</w>', '.</w>', 'Au</w>', 'sud</w>', ',</w>', 'si</w>', 'on</w>', 'doit</w>', 'encore</w>', 'semer</w>', ',</w>', 'on</w>', 'doit</w>', 'préférer</w>', 'des</w>', 'semences</w>', 'de</w>', 'cycle</w>', 'court</w>', ',</w>', 'des</w>', 'variétés</w>', 'de</w>', 'trois</w>', 'ou</w>', 'de</w>', 'deux</w>', 'mois</w>', 'et</w>', 'demi</w>', '.</w>', 'En</w>', 'sem', 'ant</w>', 'en</w>', 'avril</w>', ',</w>', 'on</w>', 'privilégie</w>', 'les</w>', 'variétés</w>', 'de</w>', 'cycles</w>', 'moyen</w>', 'et</w>', 'long</w>', '.</w>', \"Aujourd'</w>\", 'hui</w>', ',</w>', 'on</w>', 'peut</w>', 'toujours</w>', 'semer</w>', 'le</w>', 'maïs</w>', ',</w>', 'mais</w>', 'des</w>', 'variétés</w>', 'de</w>', 'cycle</w>', 'court</w>', '.</w>', 'Les</w>', 'producteurs</w>', 'peuvent</w>', \"s'</w>\", 'approvisionner</w>', 'auprès</w>', 'des</w>', 'A', 'gences</w>', 'territoriales</w>', 'de</w>', 'développement</w>', 'agricole</w>', '(</w>', 'At', 'da</w>', ')</w>', 'et</w>', 'des</w>', 'agriculteurs</w>', 'sem', 'enci', 'ers</w>', 'qui</w>', 'disposent</w>', 'des</w>', 'semences</w>', 'certi', 'fiées</w>', '.</w>', 'Aux</w>', 'dernières</w>', 'nouvelles</w>', ',</w>', 'les</w>', 'semences</w>', 'certi', 'fiées</w>', 'sont</w>', 'toujours</w>', 'disponibles</w>', 'à</w>', 'des</w>', 'prix</w>', 'abord', 'ables', '.', 'Pourquoi</w>', 'faut-il</w>', 'recourir</w>', 'à</w>', 'des</w>', 'semences</w>', 'certi', 'fiées</w>', '?</w>', \"L'</w>\", 'agriculteur</w>', 'qui</w>', 'utilise</w>', 'les</w>', 'semences</w>', 'certi', 'fiées</w>', 'obtient</w>', 'un</w>', 'taux</w>', 'de</w>', 'levée</w>', 'important</w>', ',</w>', 'allant</w>', \"jusqu'</w>\", 'à</w>', '99</w>', '%</w>', '.</w>', 'Le</w>', 'minimum</w>', ',</w>', \"c'</w>\", 'est</w>', '95</w>', '%</w>', '.</w>', 'Alors</w>', 'que</w>', 'celui</w>', 'qui</w>', 'pré', 'lève</w>', 'des</w>', 'semences</w>', 'dans</w>', 'la</w>', 'dernière</w>', 'récolte</w>', 'ou</w>', 'qui</w>', 'va</w>', 'en</w>', 'acheter</w>', 'au</w>', 'marché</w>', 'aura</w>', 'un</w>', 'taux</w>', 'de</w>', 'ger', 'mination</w>', 'de</w>', '70</w>', '%</w>', ',</w>', 'voire</w>', '50</w>', '%</w>', '.', 'Ensuite</w>', ',</w>', 'celui</w>', 'qui</w>', 'utilise</w>', 'des</w>', 'semences</w>', 'certi', 'fiées</w>', 'a</w>', 'un</w>', 'taux</w>', 'de</w>', 'levée</w>', 'uniforme</w>', '.</w>', 'Les</w>', 'plants</w>', 'auront</w>', 'une</w>', 'énergie</w>', 'ger', 'min', 'ative</w>', 'importante</w>', 'pour</w>', 'les</w>', 'semences</w>', 'certi', 'fiées</w>', '.</w>', \"C'</w>\", 'est</w>', 'dire</w>', \"qu'</w>\", 'ils</w>', 'auront</w>', 'une</w>', 'grande</w>', 'vitesse</w>', 'de</w>', 'croissance</w>', 'au</w>', 'début</w>', '.</w>', 'Alors</w>', 'que</w>', 'ce</w>', \"n'</w>\", 'est</w>', 'pas</w>', 'le</w>', 'cas</w>', 'pour</w>', \"l'</w>\", 'agriculteur</w>', 'qui</w>', 'a</w>', 'recours</w>', 'à</w>', 'des</w>', 'semences</w>', 'non</w>', 'certifi', 'ées.', 'En</w>', 'plus</w>', ',</w>', 'le</w>', 'potentiel</w>', 'de</w>', 'rendement</w>', 'des</w>', 'semences</w>', 'certi', 'fiées</w>', 'est</w>', 'plus</w>', 'élevé</w>', '.</w>', 'Si</w>', 'je</w>', 'sème</w>', 'une</w>', 'variété</w>', 'de</w>', 'trois</w>', 'mois</w>', ',</w>', 'tous</w>', 'les</w>', 'plants</w>', 'auront</w>', 'le</w>', 'même</w>', 'cycle</w>', '.</w>', \"J'</w>\", 'aurai</w>', \"l'</w>\", 'avantage</w>', 'de</w>', 'faire</w>', 'une</w>', 'récolte</w>', 'group', 'ée</w>', '.</w>', 'Alors</w>', \"qu'</w>\", 'au</w>', 'marché</w>', ',</w>', \"j'</w>\", 'aurai</w>', 'un</w>', 'mélange</w>', 'de</w>', 'variétés</w>', 'et</w>', 'dans</w>', 'mon</w>', 'champ</w>', ',</w>', 'il</w>', 'y</w>', 'aura</w>', 'des</w>', 'plants</w>', 'qui</w>', 'seront</w>', 'déjà</w>', 'prêts</w>', 'à</w>', 'être</w>', 'récoltés</w>', 'pendant</w>', 'que</w>', \"d'</w>\", 'autres</w>', 'seront</w>', 'encore</w>', 'à</w>', 'la</w>', 'floraison</w>', '.</w>', 'La</w>', 'récolte</w>', 'devient</w>', 'dans</w>', 'ce</w>', 'cas</w>', 'difficile</w>', '.</w>', 'Le</w>', 'rendement</w>', 'aussi</w>', 'est</w>', 'faible</w>', 'par</w>', 'rapport</w>', 'à</w>', 'celui</w>', 'qui</w>', 'a</w>', 'utilisé</w>', 'des</w>', 'semences</w>', 'certifi', 'ées.', 'Les</w>', 'variétés</w>', 'de</w>', 'cycle</w>', 'court</w>', 'sont-elles</w>', 'adaptées</w>', 'au</w>', 'contexte</w>', 'de</w>', 'poches</w>', 'de</w>', 'sécheresse</w>', '?</w>', 'La</w>', 'saison</w>', 'a</w>', 'évolué</w>', 'déjà</w>', '.</w>', 'Sinon</w>', ',</w>', 'que</w>', 'ce</w>', 'soit</w>', 'les</w>', 'semences</w>', 'de</w>', 'cycle</w>', 'court</w>', 'ou</w>', 'de</w>', 'cycle</w>', 'long</w>', ',</w>', 'ça</w>', 'ne</w>', 'pose</w>', 'pas</w>', 'de</w>', 'problème</w>', '.</w>', 'La</w>', 'gestion</w>', 'des</w>', 'poches</w>', 'de</w>', 'sécheresse</w>', \"n'</w>\", 'est</w>', 'pas</w>', 'uniquement</w>', 'liée</w>', 'aux</w>', 'cycles</w>', 'végét', 'atifs</w>', '.</w>', 'En</w>', 'début</w>', 'de</w>', 'saison</w>', 'des</w>', 'pluies</w>', ',</w>', 'je</w>', 'peux</w>', 'utiliser</w>', 'des</w>', 'semences</w>', 'de</w>', 'cycle</w>', 'long</w>', '.</w>', 'Mais</w>', 'là</w>', ',</w>', 'à</w>', 'travers</w>', 'les</w>', 'pratiques</w>', 'agricoles</w>', ',</w>', 'on</w>', 'peut</w>', 'gérer</w>', 'au</w>', 'mieux</w>', 'les</w>', 'poches</w>', 'de</w>', 'sécheresse</w>', 'en</w>', 'faisant</w>', 'par</w>', 'exemple</w>', 'des</w>', 'semis</w>', 'étal', 'és</w>', 'dans</w>', 'le</w>', 'temps</w>', '.</w>', 'Mais</w>', 'quand</w>', 'je</w>', 'suis</w>', 'déjà</w>', 'vers</w>', 'la</w>', 'fin</w>', 'de</w>', 'la</w>', 'période</w>', 'de</w>', 'semis</w>', ',</w>', 'pour</w>', 'rattraper</w>', 'la</w>', 'saison</w>', ',</w>', 'il</w>', 'faut</w>', 'des</w>', 'semences</w>', 'de</w>', 'cycle</w>', 'cour', 't.', 'Comment</w>', 'faut-il</w>', 'alors</w>', 'gérer</w>', 'par</w>', 'la</w>', 'suite</w>', 'les</w>', 'poches</w>', 'de</w>', 'sécheresse</w>', '?</w>', 'Premièrement</w>', ',</w>', 'il</w>', 'faut</w>', 'revoir</w>', 'la</w>', 'densité</w>', 'des</w>', 'semis</w>', '.</w>', 'Des</w>', 'études</w>', 'sont</w>', 'en</w>', 'cours</w>', 'pour</w>', 'voir</w>', 'quelle</w>', 'densité</w>', 'il</w>', 'faut</w>', 'pour</w>', 'augmenter</w>', 'la</w>', 'couverture</w>', 'des</w>', 'plants</w>', 'par</w>', 'rapport</w>', 'au</w>', 'sol</w>', '.</w>', 'Cela</w>', 'va</w>', 'permettre</w>', 'de</w>', 'diminuer</w>', \"l'</w>\", 'év', 'apo', 'transpiration</w>', 'du</w>', 'sol</w>', 'et</w>', 'augmenter</w>', 'sa</w>', 'capacité</w>', 'à</w>', 'retenir</w>', \"l'</w>\", 'eau</w>', '.</w>', 'Là</w>', ',</w>', 'même</w>', 'en</w>', 'période</w>', 'de</w>', 'poche</w>', 'de</w>', 'sécheresse</w>', ',</w>', 'il</w>', 'y</w>', 'aura</w>', \"l'</w>\", 'humidité</w>', 'dans</w>', 'le</w>', 'sol</w>', '.</w>', 'Des</w>', 'études</w>', 'sont</w>', 'en</w>', 'cours</w>', 'pour</w>', 'des</w>', 'recommandations</w>', 'dans</w>', 'ce</w>', 'sens</w>', '.</w>', \"L'</w>\", 'autre</w>', 'astuce</w>', ',</w>', \"c'</w>\", 'est</w>', 'le</w>', 'paill', 'age</w>', '.</w>', 'Lorsque</w>', \"l'</w>\", 'agriculteur</w>', 'fait</w>', 'le</w>', 'déf', 'richement</w>', 'de</w>', 'sa</w>', 'parcelle</w>', ',</w>', 'il</w>', 'ne</w>', 'ramasse</w>', 'pas</w>', 'et</w>', 'ne</w>', 'les</w>', 'brûle</w>', 'pas</w>', '.</w>', \"L'</w>\", 'agriculteur</w>', 'laisse</w>', 'les</w>', 'résidus</w>', 'sur</w>', 'place</w>', 'et</w>', 'fait</w>', 'le</w>', 'semis</w>', '.</w>', 'Ces</w>', 'résidus</w>', 'permettront</w>', 'au</w>', 'sol</w>', 'de</w>', 'garder</w>', \"l'</w>\", 'humidité</w>', 'et</w>', 'de</w>', 'ne</w>', 'pas</w>', 'perdre</w>', 'assez</w>', \"d'</w>\", 'eau</w>', 'sous</w>', \"l'</w>\", 'effet</w>', 'du</w>', 'sol', 'eil', '.Pour</w>', 'gérer</w>', 'aussi</w>', 'les</w>', 'poches</w>', 'de</w>', 'sécheresse</w>', ',</w>', 'il</w>', 'y</w>', 'a</w>', 'le</w>', 'semis</w>', 'étal', 'é</w>', 'dans</w>', 'le</w>', 'temps</w>', '.</w>', 'Après</w>', 'un</w>', 'premier</w>', 'semis</w>', ',</w>', 'si</w>', 'les</w>', 'pluies</w>', 'se</w>', 'font</w>', 'rares</w>', 'après</w>', 'et</w>', 'que</w>', 'les</w>', 'plants</w>', 'risquent</w>', \"d'</w>\", 'être</w>', 'affectés</w>', ',</w>', 'je</w>', 'reprends</w>', 'le</w>', 'sem', 'is', '.Une</w>', 'autre</w>', 'option</w>', ',</w>', 'ce</w>', 'sont</w>', 'des</w>', 'variétés</w>', 'développées</w>', 'par</w>', 'des</w>', 'généti', 'ciens</w>', 'qui</w>', 'tol', 'èrent</w>', 'la</w>', 'sécheresse</w>', '.</w>', 'Au</w>', 'nord</w>', 'du</w>', 'pays</w>', 'où</w>', \"l'</w>\", 'agriculture</w>', 'est</w>', 'plus</w>', 'intégrée</w>', 'à</w>', \"l'</w>\", 'élevage</w>', ',</w>', 'on</w>', 'peut</w>', 'utiliser</w>', 'du</w>', 'fumier</w>', 'au</w>', 'pied</w>', 'des</w>', 'plants</w>', 'pour</w>', 'leur</w>', 'permettre</w>', 'de</w>', 'garder</w>', \"l'</w>\", 'humidité</w>', 'du</w>', 'sol', \".D'</w>\", 'aucuns</w>', 'misent</w>', 'sur</w>', 'des</w>', 'plantes</w>', 'qui</w>', 'couvrent</w>', 'le</w>', 'sol</w>', ',</w>', 'comme</w>', 'le</w>', 'mu', 'cu', 'na</w>', '.</w>', \"Qu'</w>\", 'en</w>', 'est-il</w>', '?</w>', 'Par</w>', 'rapport</w>', 'au</w>', 'mu', 'cu', 'na</w>', ',</w>', \"c'</w>\", 'est</w>', 'un</w>', 'système</w>', 'qui</w>', 'se</w>', 'fait</w>', 'en</w>', 'deux</w>', 'temps</w>', '.</w>', 'Soit</w>', 'vous</w>', 'mettez</w>', 'le</w>', 'mu', 'cu', 'na</w>', 'pendant</w>', 'la</w>', 'grande</w>', 'saison</w>', '.</w>', 'Puis</w>', ',</w>', 'vous</w>', 'laissez</w>', 'cette</w>', 'plante</w>', 'de</w>', 'couverture</w>', \"s'</w>\", 'installer</w>', 'complétement</w>', 'sur</w>', 'la</w>', 'parcelle</w>', 'et</w>', 'on</w>', 'met</w>', 'le</w>', 'maïs</w>', 'sur</w>', 'les</w>', 'résidus</w>', 'la</w>', 'saison</w>', 'suivante</w>', '.</w>', 'Ce</w>', 'qui</w>', 'permet</w>', 'de</w>', 'garder</w>', \"l'</w>\", 'eau', \".L'</w>\", 'autre</w>', 'technique</w>', 'est</w>', 'de</w>', 'semer</w>', 'le</w>', 'maïs</w>', 'et</w>', 'quelques</w>', 'semaines</w>', 'après</w>', ',</w>', 'mettre</w>', 'le</w>', 'mu', 'cu', 'na</w>', '.</w>', 'Au</w>', 'moment</w>', 'où</w>', 'le</w>', 'maïs</w>', 'tend</w>', 'vers</w>', 'la</w>', 'floraison</w>', ',</w>', 'le</w>', 'mu', 'cu', 'na</w>', 'commence</w>', 'par</w>', \"s'</w>\", 'installer</w>', 'et</w>', 'permet</w>', 'au</w>', 'sol</w>', 'de</w>', 'garder</w>', \"l'</w>\", 'humidité</w>', '.</w>', 'Il</w>', 'donne</w>', 'des</w>', 'éléments</w>', 'nutritifs</w>', 'comme</w>', \"l'</w>\", 'azote</w>', 'aux</w>', 'plants</w>', 'de</w>', 'maïs</w>', '.</w>', 'Après</w>', 'la</w>', 'récolte</w>', ',</w>', 'vous</w>', 'laissez</w>', 'continuer</w>', 'pour</w>', 'semer</w>', 'du</w>', 'maïs</w>', 'à</w>', 'nouveau</w>', 'sur</w>', 'les</w>', 'résidus</w>', \"l'</w>\", 'année</w>', 'suivante</w>', '.</w>', 'Il</w>', 'y</w>', 'a</w>', \"d'</w>\", 'autres</w>', 'plantes</w>', 'comme</w>', 'le</w>', 'pois</w>', 'd</w>', \"'</w>\", '--', '--', '--', '.', 'Comment</w>', 'faire</w>', 'pour</w>', 'avoir</w>', 'un</w>', 'bon</w>', 'rendement</w>', '?</w>', 'Celui</w>', 'qui</w>', 'veut</w>', 'dépasser</w>', 'le</w>', 'rendement</w>', 'paysan</w>', 'doit</w>', 'acheter</w>', 'des</w>', 'semences</w>', 'certi', 'fiées</w>', '.</w>', 'Le</w>', 'choix</w>', 'de</w>', 'la</w>', 'variété</w>', 'doit</w>', 'dépendre</w>', 'de</w>', 'la</w>', 'zone</w>', 'agro', 'écologique</w>', 'et</w>', 'de</w>', 'la</w>', 'période</w>', 'de</w>', 'semis</w>', '.</w>', 'Si</w>', 'le</w>', 'producteur</w>', 'choisit</w>', 'une</w>', 'variété</w>', 'de</w>', 'cycle</w>', 'long</w>', ',</w>', 'il</w>', 'doit</w>', 'le</w>', 'faire</w>', 'vite</w>', 'en</w>', 'début</w>', 'de</w>', 'saison</w>', '.</w>', 'Si</w>', \"c'</w>\", 'est</w>', 'une</w>', 'variété</w>', 'de</w>', 'cycle</w>', 'court</w>', ',</w>', 'il</w>', 'va</w>', 'accuser</w>', 'un</w>', 'peu</w>', 'de</w>', 'retard</w>', 'par</w>', 'rapport</w>', 'au</w>', 'démarrage</w>', 'de</w>', 'la</w>', 'saison</w>', 'des</w>', 'pl', 'ui', 'es.', 'Ensuite</w>', ',</w>', 'il</w>', 'faut</w>', 'respecter</w>', 'la</w>', 'densité</w>', 'de</w>', 'semis</w>', ',</w>', 'mettre</w>', 'en</w>', 'place</w>', 'un</w>', 'système</w>', 'de</w>', 'gestion</w>', 'des</w>', 'poches</w>', 'de</w>', 'sécheresse</w>', '.</w>', 'Il</w>', \"n'</w>\", 'est</w>', 'pas</w>', 'interdit</w>', \"d'</w>\", 'apporter</w>', 'des</w>', 'engrais</w>', 'minéraux</w>', '.</w>', 'Mais</w>', ',</w>', 'pour</w>', 'ce</w>', 'qui</w>', 'concerne</w>', 'ces</w>', 'engrais</w>', ',</w>', \"l'</w>\", 'apport</w>', 'se</w>', 'fait</w>', 'lorsque</w>', 'la</w>', 'plante</w>', 'en</w>', 'a</w>', 'besoin</w>', '.</w>', 'Il</w>', 'faut</w>', \"l'</w>\", 'apporter</w>', 'en</w>', 'quantité</w>', 'recommandée</w>', 'avec</w>', 'un</w>', 'mode</w>', \"d'</w>\", 'ép', 'andage</w>', 'recommandé</w>', '.</w>', 'Le</w>', 'dés', 'herb', 'age</w>', 'doit</w>', 'être</w>', 'au</w>', 'rendez-vous</w>', '.</w>', 'Il</w>', 'faut</w>', 'utiliser</w>', 'des</w>', 'bi', 'op', 'esti', 'cides</w>', 'pour</w>', 'lutter</w>', 'contre</w>', 'les</w>', 'ravag', 'eurs</w>', 'et</w>', 'les</w>', 'maladies</w>', '.</w>', 'Et</w>', 'je</w>', 'crois</w>', 'que</w>', ',</w>', 'dans</w>', 'ces</w>', 'conditions</w>', ',</w>', 'le</w>', 'producteur</w>', 'fera</w>', 'une</w>', 'bonne</w>', 'récolte</w>', '.</w>', 'Il</w>', 'faut</w>', 'respecter</w>', 'les</w>', 'itinéraires</w>', 'techniques</w>', 'et</w>', 'choisir</w>', 'de</w>', 'bonnes</w>', 'semences</w>', '\"</w>', '.</w>', ',</w>', 'h', 'tt', 'ps</w>', ':</w>', '/</w>', '/</w>', 'lan', 'ation.', 'b', 'j</w>', '/</w>', 'dr', '-', 'fe', 'li', 'x-', 'kou', 'el', 'o-', 'all', 'ad', 'assi', '-sur-', 'la-', 'produc', 'tion-', 'de-', 'mais', '-', 'il-', 'fau', 't-', 'choisi', 'r-', 'des-', 'sem', 'ences-', 'certifi', 'ees</w>', '/</w>', ',</w>', 'FR</w>', ',</w>', ',', '20', '22-', '05-', '17</w>', '02</w>', ':</w>', '53</w>', ':</w>', '11,', '20', '22-', '05-', '09</w>', '22</w>', ':</w>', '00</w>', ':</w>', '00</w>', '+</w>', '00</w>', ':</w>', '0', '0,', '49', 'f', '8', '39', 'f', '25', 'f', '90</w>', ',</w>', 'lan', 'ation.', 'b', 'j</w>', ',</w>', 'B', 'J</w>', ',</w>', 'AF</w>', ',</w>', ',</w>', ',</w>', ',</w>', ',</w>', '16', '52', '13', '3', '600</w>', ',</w>', 'yes</w>', '(</w>', 'm</w>', ')</w>', ',</w>', 'Y', 'es</w>', '(</w>', 'm</w>', ')</w>', ',</w>', 'No</w>', '(</w>', 'm</w>', ')</w>', ',</w>', 'Y', 'es</w>', '(</w>', 'm</w>', ')</w>', ',</w>', 'Environ', 'ement</w>', '(</w>', 'm</w>', ')</w>', ';</w>'], [',</w>', 'Sûreté</w>', 'et</w>', 'sécurité</w>', 'au</w>', 'port</w>', 'de</w>', 'Cot', 'on', 'oun</w>', ':</w>', 'Bénin</w>', 'Termin', 'al</w>', 'et</w>', 'les</w>', 'acteurs</w>', 'portuaires</w>', 'renforcent</w>', 'les</w>', 'processus</w>', '\"</w>', ',</w>', 'Sûreté</w>', 'et</w>', 'sécurité</w>', 'au</w>', 'port</w>', 'de</w>', 'Cot', 'on', 'oun</w>', ':</w>', 'Bénin</w>', 'Termin', 'al</w>', 'et</w>', 'les</w>', 'acteurs</w>', 'portuaires</w>', 'renforcent</w>', 'les</w>', 'proces', 'sus', 'Améliorer</w>', 'constamment</w>', 'les</w>', 'processus</w>', ',</w>', 'en</w>', 'vue</w>', 'de</w>', 'toujours</w>', 'maintenir</w>', 'un</w>', 'niveau</w>', 'de</w>', 'sécurité</w>', 'et</w>', 'de</w>', 'sûreté</w>', 'plus</w>', 'renforcé</w>', 'sur</w>', 'le</w>', 'Termin', 'al</w>', 'à</w>', 'conteneurs</w>', 'de</w>', 'Bénin</w>', 'Termin', 'al</w>', 'et</w>', 'au</w>', 'Port</w>', 'de</w>', 'Cotonou</w>', '.</w>', 'T', 'el</w>', 'est</w>', \"l'</w>\", 'objectif</w>', 'de</w>', \"l'</w>\", 'exercice</w>', 'de</w>', 'simulation</w>', \"d'</w>\", 'une</w>', 'alerte</w>', 'à</w>', 'la</w>', 'bombe</w>', 'sur</w>', 'les</w>', 'installations</w>', 'du</w>', 'terminal</w>', 'à</w>', 'conteneurs</w>', 'du</w>', 'Port</w>', 'de</w>', 'Cotonou</w>', 'de</w>', 'la</w>', 'filiale</w>', 'de</w>', 'Bolloré</w>', 'Por', 'ts.', 'Bénin</w>', 'Termin', 'al</w>', ',</w>', 'filiale</w>', 'de</w>', 'Bolloré</w>', 'Por', 'ts</w>', ',</w>', 'a</w>', 'organisé</w>', ',</w>', 'le</w>', '4</w>', 'mai</w>', '2022</w>', ',</w>', 'un</w>', 'exercice</w>', 'de</w>', 'simulation</w>', \"d'</w>\", 'une</w>', 'alerte</w>', 'à</w>', 'la</w>', 'bombe</w>', 'sur</w>', 'les</w>', 'installations</w>', 'de</w>', 'son</w>', 'terminal</w>', 'à</w>', 'conteneurs</w>', 'du</w>', 'Port</w>', 'de</w>', 'Cotonou</w>', '.</w>', 'Cet</w>', 'exercice</w>', 'a</w>', 'été</w>', 'mené</w>', 'en</w>', 'partenariat</w>', 'avec</w>', 'le</w>', 'Port</w>', 'de</w>', 'Cotonou</w>', ',</w>', 'la</w>', 'Police</w>', 'républicaine</w>', ',</w>', 'la</w>', 'Protection</w>', 'civile</w>', ',</w>', 'la</w>', 'capit', 'ain', 'erie</w>', 'du</w>', 'Port</w>', 'de</w>', 'Cotonou</w>', ',</w>', 'Ap', 'm</w>', 'Termin', 'als</w>', ',</w>', 'Or', 'y', 'x</w>', ',</w>', 'P', 'uma</w>', ',</w>', 'Oc', 'to', 'gone</w>', 'et</w>', 'la</w>', 'Sob', 'em', 'ap</w>', '.</w>', 'Il</w>', 'a</w>', 'permis</w>', 'à</w>', 'Bénin</w>', 'Termin', 'al</w>', 'de</w>', 'passer</w>', 'en</w>', 'revue</w>', 'ses</w>', 'procédés</w>', 'de</w>', 'sécurité</w>', 'et</w>', 'de</w>', 'sûreté</w>', 'en</w>', 'cours</w>', ',</w>', 'en</w>', 'de</w>', 'pareilles</w>', 'circonst', 'anc', 'es.', \"L'</w>\", 'exercice</w>', 'vise</w>', 'à</w>', 'intégrer</w>', 'les</w>', 'ajustements</w>', 'nécessaires</w>', 'pour</w>', 'un</w>', 'renforcement</w>', 'efficace</w>', 'de</w>', 'la</w>', 'sécurité</w>', 'et</w>', 'de</w>', 'la</w>', 'sûreté</w>', 'sur</w>', 'Bénin</w>', 'Termin', 'al</w>', 'et</w>', 'dans</w>', \"l'</w>\", 'enceinte</w>', 'du</w>', 'Port</w>', 'de</w>', 'Cot', 'on', 'ou', '.Pour</w>', '--', '--', '--', '--', '--', '---</w>', ',</w>', 'directeur</w>', 'général</w>', 'de</w>', 'Bénin</w>', 'Termin', 'al</w>', ',</w>', 'il</w>', 'est</w>', 'primordial</w>', 'de</w>', '\"</w>', 'Mettre</w>', 'à</w>', \"l'</w>\", 'épreuve</w>', 'nos</w>', 'procédures</w>', 'de</w>', 'sûreté</w>', 'et</w>', 'de</w>', 'sécurité</w>', 'afin</w>', 'de</w>', 'déceler</w>', 'les</w>', 'points</w>', \"d'</w>\", 'amélioration</w>', 'éventuels</w>', 'du</w>', 'dispositif</w>', 'actuel</w>', '.</w>', \"L'</w>\", 'objectif</w>', 'étant</w>', \"d'</w>\", 'améliorer</w>', 'constamment</w>', 'nos</w>', 'process</w>', ',</w>', 'en</w>', 'vue</w>', 'de</w>', 'toujours</w>', 'maintenir</w>', 'un</w>', 'niveau</w>', 'de</w>', 'sécurité</w>', 'et</w>', 'de</w>', 'sûreté</w>', 'plus</w>', 'renforcé</w>', 'sur</w>', 'le</w>', 'Termin', 'al</w>', 'à</w>', 'conteneurs</w>', 'de</w>', 'Bénin</w>', 'Termin', 'al</w>', 'et</w>', 'au</w>', 'Port</w>', 'de</w>', 'Cotonou</w>', '\"</w>', '.</w>', ',</w>', 'a-', 't</w>', '-il</w>', 'confi', 'é.', 'Bénin</w>', 'Termin', 'al</w>', 'dispose</w>', \"d'</w>\", 'un</w>', 'certificat</w>', 'de</w>', 'conformité</w>', 'IS', 'PS</w>', '.</w>', \"L'</w>\", 'exercice</w>', 'de</w>', 'ce</w>', 'jour</w>', 'répond</w>', 'par</w>', 'ailleurs</w>', 'aux</w>', 'exigences</w>', 'normati', 'ves</w>', 'de</w>', 'cette</w>', 'certification</w>', 'qui</w>', 'préconise</w>', 'des</w>', 'simulations</w>', 'périodiques</w>', 'sur</w>', 'les</w>', 'installations</w>', 'portuaires</w>', '.</w>', 'Il</w>', 'vise</w>', 'en</w>', 'outre</w>', 'à</w>', \"s'</w>\", 'assurer</w>', 'que</w>', 'le</w>', 'personnel</w>', 'de</w>', 'Bénin</w>', 'Termin', 'al</w>', 'est</w>', 'compétent</w>', 'pour</w>', \"s'</w>\", 'acquitter</w>', 'de</w>', 'toutes</w>', 'les</w>', 't', 'ches</w>', 'qui</w>', 'lui</w>', 'sont</w>', 'confiées</w>', 'à</w>', 'tous</w>', 'les</w>', 'niveaux</w>', 'de</w>', 'sûreté</w>', 'et</w>', 'pour</w>', 'identifier</w>', 'toute</w>', 'défaillance</w>', 'du</w>', 'système</w>', 'sécuritaire</w>', \"qu'</w>\", 'il</w>', 'est</w>', 'nécessaire</w>', 'de</w>', 'corriger</w>', '.</w>', '?</w>', 'ro', 'pos</w>', 'de</w>', 'Bénin</w>', 'Termin', 'al', 'Gr', 'ce</w>', 'à</w>', '95</w>', 'milliards</w>', 'de</w>', 'FC', 'fa</w>', '(</w>', '145</w>', 'millions</w>', \"d'</w>\", 'euros</w>', ')</w>', 'investis</w>', 'depuis</w>', '2013</w>', 'par</w>', 'Bénin</w>', 'Termin', 'al</w>', ',</w>', 'le</w>', 'terminal</w>', 'à</w>', 'conteneurs</w>', 'du</w>', 'port</w>', 'de</w>', 'Cotonou</w>', 'est</w>', 'devenu</w>', 'un</w>', 'hub</w>', 'logistique</w>', 'régional</w>', 'de</w>', 'croissance</w>', 'pour</w>', 'le</w>', 'Niger</w>', ',</w>', 'le</w>', 'Mali</w>', ',</w>', 'le</w>', 'Burkina</w>', 'Faso</w>', 'et</w>', 'le</w>', 'Nigéria</w>', '.</w>', 'Ac', 'teur</w>', 'majeur</w>', 'de</w>', 'la</w>', 'chaîne</w>', 'logistique</w>', 'du</w>', 'pays</w>', ',</w>', 'Bénin</w>', 'Termin', 'al</w>', 'emploie</w>', '4', '19</w>', 'Bén', 'inois</w>', 'et</w>', 'développe</w>', 'une</w>', 'politique</w>', 'de</w>', 'sous-traitance</w>', 'qui</w>', 'permet</w>', 'de</w>', 'générer</w>', 'un</w>', 'millier</w>', \"d'</w>\", 'emplois</w>', 'indirects</w>', '.</w>', 'Bénin</w>', 'Termin', 'al</w>', 'mène</w>', 'également</w>', 'des</w>', 'actions</w>', 'pour</w>', 'les</w>', 'populations</w>', 'en</w>', 'partenariat</w>', 'avec</w>', 'des</w>', 'ONG</w>', ',</w>', 'par</w>', 'exemple</w>', 'le</w>', 'soutien</w>', 'à</w>', 'la</w>', 'scolarisation</w>', 'des</w>', 'jeunes</w>', 'affectés</w>', 'par</w>', 'le</w>', 'Vi', 'h</w>', ',</w>', \"l'</w>\", 'appui</w>', 'à</w>', \"l'</w>\", 'autonomisation</w>', 'des</w>', 'jeunes</w>', 'et</w>', 'la</w>', 'sensibilisation</w>', 'à</w>', 'la</w>', 'préservation</w>', 'de</w>', \"l'</w>\", 'environnement</w>', '\"</w>', '.</w>', ',</w>', 'h', 'tt', 'ps</w>', ':</w>', '/</w>', '/</w>', 'lan', 'ation.', 'b', 'j</w>', '/</w>', 'su', 're', 'te-', 'et-', 'sec', 'uri', 'te-', 'au-', 'por', 't-', 'de-', 'co', 'ton', 'oun', '-', 'ben', 'in-', 'termin', 'al-', 'et-', 'les-', 'act', 'eurs-', 'portu', 'aires', '-', 'renforc', 'ent-', 'les-', 'processus</w>', '/</w>', ',</w>', 'FR</w>', ',</w>', ',', '20', '22-', '05-', '17</w>', '02</w>', ':</w>', '38</w>', ':</w>', '36,', '20', '22-', '05-', '09</w>', '22</w>', ':</w>', '00</w>', ':</w>', '00</w>', '+</w>', '00</w>', ':</w>', '0', '0,', '49', 'f', '8', '39', 'f', '25', 'f', '90</w>', ',</w>', 'lan', 'ation.', 'b', 'j</w>', ',</w>', 'B', 'J</w>', ',</w>', 'AF</w>', ',</w>', ',</w>', ',</w>', ',</w>', ',</w>', '16', '52', '13', '3', '600</w>', ',</w>', 'yes</w>', '(</w>', 'm</w>', ')</w>', ',</w>', 'No</w>', '(</w>', 'm</w>', ')</w>', ',</w>', 'No</w>', '(</w>', 'm</w>', ')</w>', ',</w>', 'No</w>', '(</w>', 'm</w>', ')</w>', ',</w>', 'Environ', 'ement</w>', '(</w>', 'm</w>', ')</w>'], [',</w>', 'Production</w>', 'de</w>', 'maïs</w>', ':</w>', 'les</w>', 'jeunes</w>', \"s'</w>\", 'y</w>', 'mettent</w>', 'avec</w>', 'tact</w>', '\"</w>', ',</w>', 'Production</w>', 'de</w>', 'maïs</w>', ':</w>', 'les</w>', 'jeunes</w>', \"s'</w>\", 'y</w>', 'mettent</w>', 'avec</w>', 't', 'act', 'Alors</w>', 'que</w>', 'beaucoup</w>', 'de</w>', 'jeunes</w>', 'sont</w>', 'désespérément</w>', 'à</w>', 'la</w>', 'quête</w>', \"d'</w>\", 'emplois</w>', ',</w>', 'certains</w>', 'choisissent</w>', 'de</w>', \"s'</w>\", 'investir</w>', 'dans</w>', 'la</w>', 'terre</w>', ',</w>', 'mais</w>', 'en</w>', 'misant</w>', 'sur</w>', 'des</w>', 'technologies</w>', 'avancées</w>', 'pour</w>', 'produire</w>', 'du</w>', 'maï', 's.', 'Un</w>', 'dernier</w>', 'regard</w>', 'sur</w>', 'les</w>', 'jeunes</w>', 'pousses</w>', 'de</w>', 'maïs</w>', '.</w>', 'Des</w>', 'chucho', 'tements</w>', 'qui</w>', 'laissent</w>', 'entrevoir</w>', ',</w>', 'de</w>', 'loin</w>', ',</w>', 'une</w>', 'matinée</w>', 'accomplie</w>', '.</w>', '--', '--', '--', '--', '--', '--', '---</w>', 'et</w>', '--', '--', '--', '--', '--</w>', 'trac', 'ent</w>', 'ici</w>', ',</w>', 'sur</w>', 'ce</w>', 'site</w>', 'de</w>', \"l'</w>\", 'Institut</w>', 'international</w>', \"d'</w>\", 'agriculture</w>', 'tropicale</w>', '(</w>', 'I', 'ita</w>', ')</w>', ',</w>', 'leur</w>', 'destin</w>', 'dans</w>', 'la</w>', 'terre</w>', '.</w>', \"L'</w>\", 'une</w>', 'diplômée</w>', 'en</w>', 'agron', 'omie</w>', 'et</w>', \"l'</w>\", 'autre</w>', 'juriste</w>', ',</w>', 'les</w>', 'deux</w>', 'riv', 'alisent</w>', \"d'</w>\", 'ardeur</w>', 'pour</w>', 'avoir</w>', ',</w>', 'à</w>', \"l'</w>\", 'issue</w>', 'de</w>', 'la</w>', 'saison</w>', ',</w>', 'une</w>', 'bonne</w>', 'moisson</w>', '.</w>', '\"</w>', \"C'</w>\", 'est</w>', 'notre</w>', 'troisième</w>', 'campagne</w>', 'de</w>', 'production</w>', '.</w>', 'De</w>', 'jour</w>', 'en</w>', 'jour</w>', ',</w>', 'nous</w>', 'acquér', 'ons</w>', \"d'</w>\", 'expériences</w>', '.</w>', 'Et</w>', 'ça</w>', 'se</w>', 'remarque</w>', 'sur</w>', 'le</w>', 'rendement</w>', '\"</w>', ',</w>', 'dit</w>', 'fièrement</w>', '--', '--', '--', '--', '--</w>', '.</w>', 'Puis</w>', 'il</w>', 'continue</w>', ':</w>', '\"</w>', 'Beaucoup</w>', 'de</w>', 'jeunes</w>', \"n'</w>\", 'aiment</w>', 'pas</w>', 'se</w>', 'sacrifier</w>', 'pour</w>', 'attendre</w>', 'des</w>', 'résultats</w>', '.</w>', 'Or</w>', ',</w>', \"c'</w>\", 'est</w>', 'cela</w>', 'travailler</w>', 'la</w>', 'terre</w>', '.</w>', 'Depuis</w>', 'le</w>', 'bas</w>', 'ge</w>', ',</w>', \"j'</w>\", 'ai</w>', 'pris</w>', 'goût</w>', 'à</w>', 'la</w>', 'production</w>', 'agricole</w>', '.</w>', \"J'</w>\", 'ai</w>', 'même</w>', 'une</w>', 'exploitation</w>', 'à</w>', 'Glo', '-', 'Dom', 'ing', 'bo</w>', '.</w>', 'Et</w>', \"c'</w>\", 'est</w>', \"d'</w>\", 'ailleurs</w>', 'cette</w>', 'passion</w>', 'et</w>', 'cet</w>', 'engagement</w>', 'qui</w>', \"m'</w>\", 'ont</w>', 'permis</w>', 'de</w>', 'me</w>', 'retrouver</w>', 'ici</w>', '\"</w>', '.En</w>', 'effet</w>', ',</w>', 'enrô', 'lés</w>', 'dans</w>', 'le</w>', 'cadre</w>', 'du</w>', 'You', 'th</w>', 'in</w>', 'Agri', 'business</w>', 'Compa', 'ct</w>', 'du</w>', 'programme</w>', 'Technologies</w>', 'pour</w>', 'la</w>', 'transformation</w>', 'de</w>', \"l'</w>\", 'Agriculture</w>', 'en</w>', 'Afrique</w>', '(</w>', 'En', 'able', '--', '---</w>', ')</w>', ',</w>', 'ils</w>', 'produisent</w>', 'désormais</w>', 'autrement</w>', 'le</w>', 'maïs</w>', '.</w>', 'Leurs</w>', 'capacités</w>', 'ont</w>', 'été</w>', 'renforcées</w>', 'de</w>', 'concert</w>', 'avec</w>', \"l'</w>\", 'Institut</w>', 'national</w>', 'des</w>', 'recherches</w>', 'agron', 'omiques</w>', 'du</w>', 'Bénin</w>', '(</w>', 'In', 'ra', 'b</w>', ')</w>', ',</w>', 'la</w>', 'Direction</w>', 'de</w>', 'la</w>', 'production</w>', 'végétale</w>', '(</w>', 'D', 'p', 'v</w>', ')</w>', 'et</w>', 'les</w>', 'A', 'gences</w>', 'Territ', 'oriales</w>', 'de</w>', 'Développement</w>', 'Agricole</w>', '(</w>', 'At', 'da</w>', ')</w>', '.</w>', '\"</w>', 'Ils</w>', 'sont</w>', '90</w>', 'jeunes</w>', 'sélectionnés</w>', 'dans</w>', 'six</w>', 'zones</w>', 'produc', 'trices</w>', 'de</w>', 'maïs</w>', 'du</w>', 'Bénin</w>', ',</w>', 'à</w>', 'savoir</w>', 'K', 'andi</w>', ',</w>', 'K', 'ét', 'ou</w>', ',</w>', 'B', 'ani', 'ko', 'ara</w>', ',</w>', 'N</w>', \"'</w>\", '--', '--</w>', ',</w>', '--', '--', '--</w>', 'et</w>', 'Ab', 'ome', 'y-', 'Cal', 'avi</w>', '.</w>', 'La</w>', 'formation</w>', 'a</w>', 'consisté</w>', 'à</w>', 'développer</w>', 'leurs</w>', 'capacités</w>', 'sur</w>', 'les</w>', 'normes</w>', 'et</w>', 'techniques</w>', 'de</w>', 'production</w>', 'de</w>', 'semences</w>', 'de</w>', 'maïs</w>', 'au</w>', 'Bénin</w>', '.</w>', 'La</w>', 'récolte</w>', 'moyenne</w>', 'obtenue</w>', 'sur</w>', 'les</w>', 'six</w>', 'sites</w>', 'de</w>', 'production</w>', 'de</w>', 'semences</w>', 'est</w>', 'de</w>', '3</w>', 'tonnes</w>', '.</w>', 'Si</w>', 'la</w>', 'moitié</w>', 'des</w>', 'jeunes</w>', 'formés</w>', 'produit</w>', 'chacun</w>', 'un</w>', 'hectare</w>', 'de</w>', 'semences</w>', 'de</w>', 'maïs</w>', 'et</w>', 'que</w>', 'le</w>', 'rendement</w>', 'minimum</w>', 'est</w>', 'de</w>', '2</w>', 'tonnes</w>', 'par</w>', 'hectare</w>', ',</w>', 'le</w>', 'marché</w>', 'bén', 'inois</w>', 'des</w>', 'semences</w>', 'est</w>', 'donc</w>', 'dop', 'é</w>', 'de</w>', '90</w>', '000</w>', 'kg</w>', '\"</w>', ',</w>', 'fait</w>', 'remarquer</w>', '--', '--', '--', '--', '--', '--', '--', '--</w>', ',</w>', 'ingénieur</w>', 'agron', 'ome</w>', ',</w>', 'membre</w>', 'de</w>', \"l'</w>\", 'équipe</w>', \"d'</w>\", 'encadr', 'ement.', 'Con', 'tour', 'nes</w>', 'les</w>', 'alé', 'as', 'Au</w>', 'Bénin</w>', ',</w>', 'malgré</w>', 'le</w>', 'potentiel</w>', 'de</w>', 'la</w>', 'culture</w>', 'du</w>', 'maïs</w>', ',</w>', 'plusieurs</w>', 'facteurs</w>', 'entrav', 'ent</w>', \"l'</w>\", 'optimisation</w>', 'de</w>', 'sa</w>', 'produc', 'tion', '.Il</w>', \"s'</w>\", 'agit</w>', ',</w>', 'entre</w>', 'autres</w>', ',</w>', 'du</w>', 'problème</w>', 'de</w>', 'fertilité</w>', 'des</w>', 'sols</w>', ',</w>', 'des</w>', 'effets</w>', 'du</w>', 'dér', 'èg', 'lement</w>', 'climatique</w>', 'et</w>', 'le</w>', 'manque</w>', 'de</w>', 'bonnes</w>', 'semences</w>', 'et</w>', 'de</w>', 'variétés</w>', 'adaptées</w>', '.</w>', 'Mais</w>', 'ces</w>', 'jeunes</w>', 'commencent</w>', 'déjà</w>', 'à</w>', 'conjuguer</w>', 'au</w>', 'passé</w>', 'certaines</w>', 'contraintes</w>', 'liées</w>', 'à</w>', 'la</w>', 'production</w>', 'de</w>', 'cette</w>', 'céré', 'ale</w>', '.</w>', '\"</w>', \"J'</w>\", 'ai</w>', 'appris</w>', 'ici</w>', 'à</w>', 'faire</w>', 'les</w>', 'semences</w>', 'certi', 'fiées</w>', '.</w>', 'Ce</w>', 'sont</w>', 'des</w>', 'semences</w>', 'qui</w>', 'résistent</w>', 'parfaitement</w>', 'à</w>', 'la</w>', 'sécheresse</w>', 'et</w>', 'aux</w>', 'mauvaises</w>', 'herbes</w>', 'qui</w>', 'déran', 'gent</w>', 'le</w>', 'maïs</w>', '.</w>', 'On</w>', 'produit</w>', 'nous-mêmes</w>', 'les</w>', 'semences</w>', 'et</w>', 'on</w>', 'en</w>', 'vend</w>', 'aux</w>', 'producteurs</w>', '.</w>', \"C'</w>\", 'est</w>', 'une</w>', 'variété</w>', 'à</w>', 'très</w>', 'haut</w>', 'rendement</w>', ',</w>', 'et</w>', 'ça</w>', 'varie</w>', 'de</w>', '3,5</w>', 'à</w>', '5</w>', 'tonnes</w>', 'à</w>', \"l'</w>\", 'hectare</w>', '.</w>', \"J'</w>\", 'attends</w>', 'de</w>', 'dupli', 'quer</w>', 'cela</w>', 'sur</w>', 'mes</w>', 'exploitations</w>', ',</w>', 'en</w>', 'plus</w>', 'de</w>', 'former</w>', \"d'</w>\", 'autres</w>', 'jeunes</w>', '\"</w>', ',</w>', 'soutient</w>', '--', '--', '--', '--', '--', '--', '--', '-', '.Les</w>', 'jeunes</w>', 'sont</w>', 'outill', 'és</w>', 'sur</w>', 'la</w>', 'multiplication</w>', 'de</w>', 'semences</w>', 'composites</w>', ',</w>', 'notamment</w>', 'les</w>', 'variétés</w>', '\"</w>', '--', '--', '--</w>', ',</w>', '\"</w>', 'T', 'z', 'l</w>', '\"</w>', 'et</w>', '\"</w>', 'T', 'ze</w>', '\"</w>', '.</w>', '\"</w>', 'La</w>', 'Ev', 'dt</w>', 'est</w>', 'une</w>', 'variété</w>', 'de</w>', '90</w>', 'jours</w>', '.</w>', 'Sur</w>', 'un</w>', 'pied</w>', ',</w>', 'vous</w>', 'pouvez</w>', 'avoir</w>', \"jusqu'</w>\", 'à</w>', 'trois</w>', 'ou</w>', 'quatre</w>', 'épis</w>', '.</w>', 'Ce</w>', 'sont</w>', 'de</w>', 'gros</w>', 'épis</w>', '.</w>', 'Avec</w>', 'trois</w>', 'pieds</w>', ',</w>', 'nous</w>', 'pouvons</w>', 'avoir</w>', 'un</w>', 'kilo', 'gramme</w>', 'de</w>', 'maïs</w>', '.</w>', 'Nous</w>', 'pouvons</w>', 'avoir</w>', \"jusqu'</w>\", 'à</w>', 'six</w>', 'tonnes</w>', 'à</w>', \"l'</w>\", 'hectare</w>', 'si</w>', 'les</w>', 'conditions</w>', 'sont</w>', 'remplies</w>', '.</w>', 'Nous</w>', \"l'</w>\", 'avons</w>', 'eu</w>', 'avec</w>', 'un</w>', 'des</w>', 'jeunes</w>', 'de</w>', 'K', 'andi</w>', '.</w>', \"C'</w>\", 'est</w>', 'aussi</w>', 'une</w>', 'variété</w>', 'un</w>', 'peu</w>', 'plus</w>', 'résistante</w>', 'et</w>', 'elle</w>', 'a</w>', 'une</w>', 'capacité</w>', 'à</w>', 'chasser</w>', 'les</w>', 'oiseaux</w>', 'du</w>', 'fait</w>', 'des</w>', 'gros</w>', 'grains</w>', '.</w>', 'La</w>', 'T', 'z', 'l</w>', 'accepte</w>', 'des</w>', 'semis</w>', 'serrés</w>', 'et</w>', 'donc</w>', 'la</w>', 'densité</w>', '.</w>', 'Vous</w>', 'pouvez</w>', 'aller</w>', \"jusqu'</w>\", 'à</w>', '4</w>', 'tonnes</w>', 'à</w>', \"l'</w>\", 'hectare</w>', '\"</w>', ',</w>', 'explique</w>', '--', '--', '--', '--', '--', '--', '--', '--', '.La</w>', 'récolte</w>', 'moyenne</w>', 'sur</w>', 'les</w>', 'six</w>', 'sites</w>', 'de</w>', 'production</w>', 'de</w>', 'semences</w>', 'est</w>', 'de</w>', '3</w>', 'tonnes</w>', '.</w>', 'Cette</w>', 'intervention</w>', 'permettra</w>', 'de</w>', 'couvrir</w>', 'une</w>', 'superficie</w>', 'de</w>', '4</w>', '500</w>', 'ha</w>', '.</w>', 'Considérant</w>', \"qu'</w>\", 'il</w>', 'faut</w>', 'en</w>', 'moyenne</w>', '20</w>', 'kg</w>', 'de</w>', 'semences</w>', 'pour</w>', '1</w>', 'ha</w>', ',</w>', 'ces</w>', 'jeunes</w>', 'augmen', 'teront</w>', 'la</w>', 'capacité</w>', 'de</w>', 'production</w>', 'du</w>', 'Bénin</w>', 'de</w>', '18</w>', '000</w>', 'tonnes</w>', 'de</w>', 'maïs</w>', 'par</w>', 'saison</w>', '.</w>', 'Un</w>', 'appel</w>', 'de</w>', 'pied</w>', 'à</w>', \"d'</w>\", 'autres</w>', 'jeunes</w>', 'qui</w>', 'croient</w>', 'encore</w>', 'que</w>', 'le</w>', 'trésor</w>', 'se</w>', 'trouve</w>', 'dans</w>', 'quelque</w>', 'el', 'dor', 'ado</w>', 'ou</w>', 'dans</w>', 'les</w>', 'bureaux</w>', '\"</w>', '.</w>', ',</w>', 'h', 'tt', 'ps</w>', ':</w>', '/</w>', '/</w>', 'lan', 'ation.', 'b', 'j</w>', '/</w>', 'produc', 'tion-', 'de-', 'mais', '-', 'les-', 'jeun', 'es-', 'sy', '-', 'met', 'tent', '-', 'avec', '-', 'tact</w>', '/</w>', ',</w>', 'FR</w>', ',</w>', ',', '20', '22-', '05-', '17</w>', '02</w>', ':</w>', '53</w>', ':</w>', '24,', '20', '22-', '05-', '09</w>', '22</w>', ':</w>', '00</w>', ':</w>', '00</w>', '+</w>', '00</w>', ':</w>', '0', '0,', '49', 'f', '8', '39', 'f', '25', 'f', '90</w>', ',</w>', 'lan', 'ation.', 'b', 'j</w>', ',</w>', 'B', 'J</w>', ',</w>', 'AF</w>', ',</w>', ',</w>', ',</w>', ',</w>', ',</w>', '16', '52', '13', '3', '600</w>', ',</w>', 'yes</w>', '(</w>', 'm</w>', ')</w>', ',</w>', 'Y', 'es</w>', '(</w>', 'm</w>', ')</w>', ',</w>', 'No</w>', '(</w>', 'm</w>', ')</w>', ',</w>', 'Y', 'es</w>', '(</w>', 'm</w>', ')</w>', ',</w>', 'Environ', 'ement</w>', '(</w>', 'm</w>', ')</w>', '--', '--', '--', '--', '--', '--', '--', '--', '--', '--', '--', '--', '--', '--', '--', '--', '--', '--', '--', '--', '--', '--', '--', '--', '--', '--', '--', '--', '--', '--', '--', '--</w>']]\n"
     ]
    }
   ],
   "source": [
    "# Chargez le tokenizer pour FlauBERT\n",
    "flaubert_tokenizer = FlaubertTokenizer.from_pretrained('flaubert/flaubert_base_cased')\n",
    "\n",
    "def tokenize_articles(articles_df):\n",
    "    # Appliquer la tokenisation à chaque article\n",
    "    tokenized_articles = []\n",
    "    for _, row in articles_df.iterrows():\n",
    "        article_text = row['Text']\n",
    "        tokens = flaubert_tokenizer.tokenize(article_text)\n",
    "        tokenized_articles.append(tokens)\n",
    "    \n",
    "    return tokenized_articles\n",
    "\n",
    "tokenized_articles = tokenize_articles(articles_df)\n",
    "\n",
    "# Affiche les premiers articles tokenisés \n",
    "print(tokenized_articles[:5])\n"
   ]
  },
  {
   "cell_type": "code",
   "execution_count": 6,
   "id": "9269955e-d6c6-49a8-990c-f0c7674cdea2",
   "metadata": {},
   "outputs": [],
   "source": [
    "##Lemmatization"
   ]
  },
  {
   "cell_type": "code",
   "execution_count": 7,
   "id": "4b602501-f182-42d3-a4fd-65e554df7a8d",
   "metadata": {},
   "outputs": [
    {
     "name": "stdout",
     "output_type": "stream",
     "text": [
      "[', adaptation climatique : un appel à \\xa0  privilégier le agroécologie,\"adaptation climatique : un appel à \\xa0  privilégier le agroécologie \\n Trois action phare pour placer le agroécologie au ceur de le adaptation climatique . ce être ce que proposer de acteur de le Alliance pour le souveraineté alimentaire en Afrique ( Afsa ) à \\xa0  le suite de assise tenu à \\xa0  Addis - Abeba de 19 au 21 septembre 2022 . \\n le Afrique pouvoir conduire le monde dans le transition vers un système alimentaire durable grce à \\xa0  le agroécologie . ce être le leitmotiv de petit exploitant agricole , un jeune , un femme , un chercheur et scientifique , un écologiste , faire partie de le Alliance pour le souveraineté alimentaire en Afrique ( Afsa ) . il se agir de plus grand mouvement de le société civil de continent représentant 200 million de paysan , pêcheur , éleveur , consommateur , groupe confessionnel et peuple autochtone . réuni à \\xa0  Addis - Abeba en ethiopie de 19 au 21 septembre dernier pour établir un feuille de route de le Afrique pour le adaptation par le agroécologie , il lancer un appel à \\xa0  le action à \\xa0  le cop 27 et au-delà \\xa0 . « nous demander que le cop 27 place le agroécologie au centre de le adaptation climatique de le Afrique , en créer un résilience pour le paysan , le pêcheur , le pasteur , le communauté autochtone et leur système alimentaire » , avoir il déclarer dans un communiqué de presse à \\xa0  le fin de leur assise . il appeler ainsi le cop 27 à \\xa0  trois action phare . le membre de le afsa invitent à \\xa0  « reconnaître le agroécologie pour le adaptation » . il se agir de donner le priorité à \\xa0  le agroécologie pour transformer le système agroalimentaire , de renforcer le résilience et permettre à paysan , à pasteur et à pêcheur de se adapter au changement climatique , de inclure le agroécologie dans le négociation climatique de le convention - cadre de nation unir sur le changement climatique . ensuite , le organisation panafricain suggèr de mettre le petit exploitant et le communauté autochtone , y compris le femme et le jeune , au centre de le adaptation en le engager de manière significatif dans le négociation de le Cop 27 . le troisième action phare que proposer le membre de le Afsa , ce être de axer le financement climatique sur le système alimentaire durable à \\xa0  travers le orientation de ce financement vers le agroécologie . « le moment être venir de augmenter de manière approprier et délibérer le financement de paysan , un pêcheur , un éleveur et un communauté autochtoner afin de mettre en place de système alimentaire durable baser sur le agroécologie€\\x9d , annonce le institution panafricain . \\n un constat affliger \\n le communiqué informe , que le Afrique subit au quotidien le effet de le urgence climatique . le hausse de température , le inondation , le tempête , le sécheresse et le dégradation de terre toucher en premier lieu le petit exploitant africain . obliger de se adapter pour préserver leur moyen de subsistance et nourrir leur famille , il ne bénéficier que de un soutien ou de un accès négligeable au financement climatique . le Afrique avoir un énorme potentiel , un riche diversité culturel , un ressource naturel et de jeune à \\xa0  le esprit créatif . pourtant , le agriculture africain souffr de un sous-investissement et de lacune politique qui empêcher le accès au capital productif et à terre . « nous avoir besoin de un transition juste et radical , loin de le agriculture industriel , un monopole de entreprise et de faux solution climatique , vers le souveraineté alimentaire et le agroécologie » . \\n en associant un génération de savoir indigène , de innovation scientifique et paysan et le processus naturel de un écosystème , le système alimentaire agro écologique être capable de se adapter à \\xa0  le crise climatique et même contribuer à \\xa0  le résoudre . le paysan , le éleveur , le pêcheur , le peuple autochtone et le communauté local avoir recours à \\xa0  le agroécologie pour gérer leur terre de manière durable , produire de aliment nourrissant qui célébrer son patrimoine culturel et renforcer le marché et le économie local . plus important encore , en intégrer le diversité et le résilience , le agroécologie permettre de absorber le carbone et de se adapter à \\xa0  le menace existentiel de changement climatique , comme le reconnaître le groupe de expert intergouvernemental sur le évolution de climat?\",https://lanation.bj / adaptation - climatique - un - appel - avoir - privilegier - lagroecologie/,FR,,2022 - 10 - 26 22:13:43,2022 - 09 - 28 22:00:00 plus 00:00,49f839f25f90,lanation.bj,,,,,,,1664402400,ye ( m),no ( m),Yes ( m),Yes ( m),environement ( m ) \\n\\n ;', ', \" lutte contre le désertification et le dégradation de terre : le Cop 15 vouloir parer à \\xa0  \" \" le urgence \" \" \" , \" lutte contre le désertification et le dégradation de terre : le Cop 15 vouloir parer à \\xa0  \" \" le urgence \" \" \\t\\t\\n\\t\\t\\n a le 15 conférence de party ( cop 15 ) sur le désertification en cours à \\xa0  Abidjan , le participant être à \\xa0  le quête de un réponse concret à défi interconnecter de le dégradation de terre , de changement climatique et de le perte de biodiversité . \\t\\t\\n\\t\\t\\n « le dégradation de terre ne être pas un fatalité . le réparation être possible » . à le suite de ce message de secrétaire exécutif de le convention de nation unir sur le lutte contre le désertification , ------------- , au lancement de le Cop 15 , le planète attendre de concret . le participant se concentrer depuis le 9 mai 2022 sur le voie et moyen pour le restauration de un milliard de hectare de terre dégrader de ici 2030 , le pérennité de le utilisation de terre contre le impact de changement climatique et le lutte contre le escalade de risque de catastrophe tel que le sécheresse , le tempête de sable et de poussiérer et le incendie de forêt . « le investissement dans le lutte contre le désertification et le dégradation de terre être parmi le plus efficace que nous pouvoir faire . le moitié de pib mondial et le moitié de son approvisionnement en céréale dépendre de le lutte contre le dégradation de terre û , avoir également plaider le vice-secrétaire général de nation unie , -------------- . \\t\\t\\n en effet , selon le Onu , jusque à \\xa0  40 pourcent de tout le terre libre de glace être déjà \\xa0  dégrader , avec un conséquence désastreuser pour le climat , le biodiversité et le moyen de subsistance . le dégradation de sol affect 52 pourcent de terre agricole , menacer ainsi le existence de 2,6 milliard de personne qui dépendre directement de le agriculture . le désertification et le sécheresse causer le perte de 12 million de hectare chaque année \\t  être près de 23 hectare par minute . le continent africain être particulièrement toucher par le désertification , notamment dans son bande sahélien . \\t\\n ------ pour lequel , le président ivoirien ----------------- appeler à \\xa0  le action pour freiner le menace . « no peuple fondre beaucoup de espoir sur nous . nous ne avoir pas le droit de le décevoir . agisson vite , agisson ensembl pour donner un nouveau vie à \\xa0  notre terre ! » , avoir -t il déclarer . ce assise regrouper le dirigeant de gouvernement , de secteur priver , de le société civil et de autre party prenant cler de monde entier . \\t\\t\\n le thème de le Cop 15 qui prendre fin le 20 mai être : « Terres . vie . patrimoine . de un monde précaire à \\xa0  un avenir prospère » . il se agir de un appel à \\xa0  le action pour se assurer que le terre , le bouée de sauvetage sur ce planète , continuer de profiter à génération présent et futur . le projet de le Grande Muraille verte qui viser à \\xa0  restaurer cent million de hectare de terre arider en Afrique de ici 2030 être au ceur de échange de ce Cop , le premier de trois réunion de convention de Rio à \\xa0  se tenir en 2022 . le Cop 15 sur le biodiversité et le Cop 27 sur le changement climatique aller se tenir respectivement à \\xa0  Kunming , en Chine , et à \\xa0  Charm el------- , en Egypte . \",https://lanation.bj sur lutte - contre - le - desertification - et - le - degradation - un - terre - le - cop-15-veut - parer - avoir - lurgence/,fr,,2022 - 05 - 17 02:52:34,2022 - 05 - 11 22:00:00 plus 00:00,49f839f25f90,lanation.bj , cn , as,,,,,1652306400,ye ( m),no ( m),no ( m),no ( m),environement ( m ) \\t\\t\\n\\n ;']\n"
     ]
    }
   ],
   "source": [
    "# Chargement de SpaCy\n",
    "nlp = spacy.load('fr_core_news_sm')\n",
    "\n",
    "def lemmatize_articles(articles_df):\n",
    "    lemmatized_articles = []\n",
    "    for _, row in articles_df.iterrows():\n",
    "        article_text = row['Text']\n",
    "        doc = nlp(article_text)\n",
    "        lemmas = [token.lemma_ for token in doc]\n",
    "        lemmatized_articles.append(' '.join(lemmas))\n",
    "    \n",
    "    return lemmatized_articles\n",
    "\n",
    "lemmatized_articles = lemmatize_articles(articles_df)\n",
    "\n",
    "print(lemmatized_articles[:2])\n"
   ]
  },
  {
   "cell_type": "code",
   "execution_count": 8,
   "id": "237e3c64-99c6-431e-afa9-2981422009fc",
   "metadata": {},
   "outputs": [],
   "source": [
    "##Stopword Removal"
   ]
  },
  {
   "cell_type": "code",
   "execution_count": 9,
   "id": "c0b03782-4359-4976-b3e1-433421bbcd1e",
   "metadata": {},
   "outputs": [
    {
     "name": "stdout",
     "output_type": "stream",
     "text": [
      "[', Adaptation climatique : appel \\xa0  privilégier agroécologie,\"Adaptation climatique : appel \\xa0  privilégier agroécologie \\n actions phares placer agroécologie ceur adaptation climatique . proposent acteurs Alliance souveraineté alimentaire Afrique ( Afsa ) \\xa0  suite assises tenues \\xa0  Addis - Abeba 19 21 septembre 2022 . \\n Afrique conduire monde transition systèmes alimentaires durables grce \\xa0  agroécologie . leitmotiv petits exploitants agricoles , jeunes , femmes , chercheurs scientifiques , écologistes , partie Alliance souveraineté alimentaire Afrique ( Afsa ) . agit grand mouvement société civile continent représentant 200 millions paysans , pêcheurs , éleveurs , consommateurs , groupes confessionnels peuples autochtones . Réunis \\xa0  Addis - Abeba Ethiopie 19 21 septembre dernier établir feuille route Afrique adaptation agroécologie , lancent appel \\xa0  action \\xa0  Cop 27 au-delà \\xa0 . « demandons Cop 27 place agroécologie centre adaptation climatique Afrique , créant résilience paysans , pêcheurs , pasteurs , communautés autochtones systèmes alimentaires » , -ils déclaré communiqué presse \\xa0  fin assises . appellent Cop 27 \\xa0  actions phares . membres Afsa invitent \\xa0  « reconnaître agroécologie adaptation » . agit donner priorité \\xa0  agroécologie transformer système agroalimentaire , renforcer résilience permettre paysans , pasteurs pêcheurs adapter changement climatique , inclure agroécologie négociations climatiques Convention - cadre Nations Unies changements climatiques . Ensuite , organisation panafricaine suggère mettre petits exploitants communautés autochtones , femmes jeunes , centre adaptation engageant manière significative négociations Cop 27 . action phare proposent membres Afsa , axer financement climatique systèmes alimentaires durables \\xa0  travers orientation financement agroécologie . « moment venu augmenter manière appropriée délibérée financement paysans , pêcheurs , éleveurs communautés autochtones mettre place systèmes alimentaires durables basés agroécologie€\\x9d , annonce institution panafricaine . \\n constat affligeant \\n communiqué informe , Afrique subit quotidien effets urgence climatique . hausse températures , inondations , tempêtes , sécheresses dégradation terres touchent lieu petits exploitants africains . Obligés adapter préserver moyens subsistance nourrir familles , bénéficient soutien accès négligeable financement climatique . Afrique énorme potentiel , riche diversité culturelle , ressources naturelles jeunes \\xa0  esprit créatif . Pourtant , agriculture africaine souffre sous-investissement lacunes politiques empêchent accès capital productif terres . « besoin transition radicale , loin agriculture industrielle , monopoles entreprise fausses solutions climatiques , souveraineté alimentaire agroécologie » . \\n associant générations savoirs indigènes , innovations scientifiques paysannes processus naturels écosystème , systèmes alimentaires agro écologiques capables adapter \\xa0  crise climatique contribuer \\xa0  résoudre . paysans , éleveurs , pêcheurs , peuples autochtones communautés locales recours \\xa0  agroécologie gérer terres manière durable , produire aliments nourrissants célèbrent patrimoine culturel renforcer marchés économies locales . important , intégrant diversité résilience , agroécologie absorber carbone adapter \\xa0  menace existentielle changement climatique , reconnaît Groupe experts intergouvernemental évolution climat?\",https://lanation.bj / adaptation - climatique - - appel - - privilegier - lagroecologie/,FR,,2022 - 10 - 26 22:13:43,2022 - 09 - 28 22:00:00 + 00:00,49f839f25f90,lanation.bj,,,,,,,1664402400,yes ( m),No ( m),Yes ( m),Yes ( m),Environement ( m ) \\n\\n ;', ', \" Lutte contre désertification dégradation terres : Cop 15 veut parer \\xa0  \" \" urgence \" \" \" , \" Lutte contre désertification dégradation terres : Cop 15 veut parer \\xa0  \" \" urgence \" \" \\t\\t\\n\\t\\t\\n 15e Conférence Parties ( Cop 15 ) désertification cours \\xa0  Abidjan , participants \\xa0  quête réponse concrète défis interconnectés dégradation terres , changement climatique perte biodiversité . \\t\\t\\n\\t\\t\\n « dégradation terres fatalité . réparation » . suite message secrétaire exécutif Convention Nations unies lutte contre désertification , ------------- , lancement Cop 15 , planète attend concret . participants concentrent 9 mai 2022 voies moyens restauration milliard hectares terres dégradées ici 2030 , pérennité utilisation terres contre impacts changement climatique lutte contre escalade risques catastrophe sécheresses , tempêtes sable poussière incendies forêt . « investissements lutte contre désertification dégradation terres efficaces puissions faire . moitié Pib mondial moitié approvisionnements céréales dépendent lutte contre dégradation terres û , plaidé Vice-Secrétaire générale Nations unies , -------------- . \\t\\t\\n , Onu , jusqu\\' \\xa0  40 % terres libres glace \\xa0  dégradées , conséquences désastreuses climat , biodiversité moyens subsistance . dégradation sols affecte 52 % terres agricoles , menaçant existence 2,6 milliards personnes dépendent agriculture . désertification sécheresse causent perte 12 millions hectares année \\t  23 hectares minute . continent africain particulièrement touché désertification , bande sahélienne . \\t\\n ------ , président ivoirien ----------------- appelle \\xa0  action freiner menace . « peuples fondent beaucoup espoir . droit décevoir . Agissons vite , agissons ensemble donner nouvelle vie \\xa0  terres ! » , -t -il déclaré . assises regroupent dirigeants gouvernements , secteur privé , société civile parties prenantes clés monde entier . \\t\\t\\n thème Cop 15 prend fin 20 mai : « Terres . Vie . Patrimoine . monde précaire \\xa0  avenir prospère » . agit appel \\xa0  action assurer terre , bouée sauvetage planète , continue profiter générations présente futures . projet Grande Muraille verte vise \\xa0  restaurer millions hectares terres arides Afrique ici 2030 ceur échanges Cop , réunions Conventions Rio \\xa0  2022 . Cop 15 biodiversité Cop 27 changement climatique respectivement \\xa0  Kunming , Chine , \\xa0  Charm el------- , Egypte . \",https://lanation.bj / lutte - contre - - desertification - - - degradation - - terres - - cop-15-veut - parer - - lurgence/,FR,,2022 - 05 - 17 02:52:34,2022 - 05 - 11 22:00:00 + 00:00,49f839f25f90,lanation.bj , CN , AS,,,,,1652306400,yes ( m),No ( m),No ( m),No ( m),Environement ( m ) \\t\\t\\n\\n ;']\n"
     ]
    }
   ],
   "source": [
    "nlp = spacy.load('fr_core_news_sm')\n",
    "\n",
    "def remove_stopwords(articles_df):\n",
    "    non_stop_articles = []\n",
    "    for _, row in articles_df.iterrows():\n",
    "        article_text = row['Text']\n",
    "        doc = nlp(article_text)\n",
    "        filtered_tokens = [token.text for token in doc if not token.is_stop]\n",
    "        filtered_article = ' '.join(filtered_tokens)\n",
    "        non_stop_articles.append(filtered_article)\n",
    "    \n",
    "    return non_stop_articles\n",
    "\n",
    "non_stop_articles = remove_stopwords(articles_df)\n",
    "\n",
    "print(non_stop_articles[:2])\n"
   ]
  },
  {
   "cell_type": "code",
   "execution_count": 10,
   "id": "a295ee67-c630-4dd4-be42-032820e11bd2",
   "metadata": {},
   "outputs": [],
   "source": [
    "##Vectorisation (TF-IDF)"
   ]
  },
  {
   "cell_type": "code",
   "execution_count": 11,
   "id": "2468c800-5818-4968-a983-aacef80a5a80",
   "metadata": {},
   "outputs": [
    {
     "data": {
      "text/plain": [
       "((11, 2534),\n",
       " array(['00', '000', '013', '02', '03', '04', '05', '06', '07', '09'],\n",
       "       dtype=object))"
      ]
     },
     "execution_count": 11,
     "metadata": {},
     "output_type": "execute_result"
    }
   ],
   "source": [
    "def vectorize_articles(articles_df):\n",
    "    vectorizer = TfidfVectorizer()\n",
    "\n",
    "    tfidf_matrix = vectorizer.fit_transform(articles_df['Text'])\n",
    "\n",
    "    return tfidf_matrix, vectorizer.get_feature_names_out()\n",
    "\n",
    "tfidf_matrix, feature_names = vectorize_articles(articles_df)\n",
    "\n",
    "tfidf_matrix.shape, feature_names[:10]\n"
   ]
  },
  {
   "cell_type": "code",
   "execution_count": null,
   "id": "aee08024-3d75-4552-91c2-cab135dada9c",
   "metadata": {},
   "outputs": [],
   "source": [
    "# Converti la matrice TF-IDF en DataFrame\n",
    "tfidf_df = pd.DataFrame(tfidf_matrix.toarray(), columns=feature_names)"
   ]
  },
  {
   "cell_type": "code",
   "execution_count": null,
   "id": "c8cfd0ee-2e0e-41b6-bd84-05e4430bbb15",
   "metadata": {},
   "outputs": [],
   "source": [
    "\n",
    "##UNIQUEMENT POUR DATASET ENTRAINEMENT\n",
    "\n",
    "##re ajout de la pertinence"
   ]
  },
  {
   "cell_type": "code",
   "execution_count": null,
   "id": "81fdf5db-351e-4f71-bba4-f70bafe70896",
   "metadata": {
    "tags": []
   },
   "outputs": [],
   "source": [
    "# Ajouter la colonne de pertinence au DataFrame\n",
    "combined_df = pd.concat([articles_df['Pertinence'], tfidf_df], axis=1)"
   ]
  },
  {
   "cell_type": "code",
   "execution_count": null,
   "id": "46723631-12dd-4497-a06f-c51fa5b421f5",
   "metadata": {},
   "outputs": [],
   "source": [
    "##enregistrement du dataset"
   ]
  },
  {
   "cell_type": "code",
   "execution_count": null,
   "id": "7de1952c-7a15-4c5e-8641-96254aaf160a",
   "metadata": {},
   "outputs": [],
   "source": [
    "# Extraire le nom de base du fichier\n",
    "base_name = os.path.basename(file_path)\n",
    "\n",
    "# Retirer l'extension du fichier et ajouter '_traité'\n",
    "new_file_name = os.path.splitext(base_name)[0] + '_traité.pkl'\n",
    "\n",
    "# Définir le chemin du nouveau fichier pickle\n",
    "new_file_path = os.path.join(os.path.dirname(file_path), new_file_name)\n",
    "\n",
    "# Sauvegarder le DataFrame au format pickle\n",
    "combined_df.to_pickle(new_file_path)\n",
    "\n",
    "print(f\"DataFrame sauvegardé au chemin : {new_file_path}\")"
   ]
  },
  {
   "cell_type": "code",
   "execution_count": null,
   "id": "3fa4d90f-d306-404a-b062-3312d4c58d8d",
   "metadata": {},
   "outputs": [],
   "source": [
    "\n",
    "##UNIQUEMENT POUR DATASET ENTRAINEMENT\n",
    "\n",
    "##Concaténation dataset pertinent et non pertinent\n",
    "\n",
    "# Chemin du dossier courant où se trouve le script Python\n",
    "current_folder = os.path.dirname(os.path.abspath(__file__))\n",
    "\n",
    "# Noms des fichiers pickle pour les datasets pertinents et non pertinents\n",
    "pertinent_file_name = 'Pertinent_traité.pkl'\n",
    "non_pertinent_file_name = 'Non_Pertinent_traité.pkl'\n",
    "\n",
    "# Chemins complets des fichiers pickle\n",
    "pertinent_file_path = os.path.join(current_folder, pertinent_file_name)\n",
    "non_pertinent_file_path = os.path.join(current_folder, non_pertinent_file_name)\n",
    "\n",
    "# Charger les DataFrames\n",
    "pertinent_df = pd.read_pickle(pertinent_file_path)\n",
    "non_pertinent_df = pd.read_pickle(non_pertinent_file_path)\n",
    "\n",
    "# Concaténer les DataFrames\n",
    "combined_df = pd.concat([pertinent_df, non_pertinent_df], ignore_index=True)\n",
    "\n",
    "# Afficher les premières lignes du DataFrame combiné pour vérification\n",
    "print(combined_df.head())"
   ]
  }
 ],
 "metadata": {
  "kernelspec": {
   "display_name": "Python 3 (ipykernel)",
   "language": "python",
   "name": "python3"
  },
  "language_info": {
   "codemirror_mode": {
    "name": "ipython",
    "version": 3
   },
   "file_extension": ".py",
   "mimetype": "text/x-python",
   "name": "python",
   "nbconvert_exporter": "python",
   "pygments_lexer": "ipython3",
   "version": "3.10.9"
  }
 },
 "nbformat": 4,
 "nbformat_minor": 5
}
