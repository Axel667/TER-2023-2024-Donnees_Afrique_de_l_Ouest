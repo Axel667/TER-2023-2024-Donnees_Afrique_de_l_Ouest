{
  "nbformat": 4,
  "nbformat_minor": 0,
  "metadata": {
    "colab": {
      "provenance": []
    },
    "kernelspec": {
      "name": "python3",
      "display_name": "Python 3"
    },
    "language_info": {
      "name": "python"
    }
  },
  "cells": [
    {
      "cell_type": "markdown",
      "source": [
        "Processeus de traitement des données radio à l'aide de WHISPER"
      ],
      "metadata": {
        "id": "7SzNDNyllERz"
      }
    },
    {
      "cell_type": "code",
      "execution_count": 1,
      "metadata": {
        "colab": {
          "base_uri": "https://localhost:8080/"
        },
        "id": "lrY_BizsxBdV",
        "outputId": "6882c7ed-84f7-4ed2-f36e-7175cf2af0b4"
      },
      "outputs": [
        {
          "output_type": "stream",
          "name": "stdout",
          "text": [
            "  Installing build dependencies ... \u001b[?25l\u001b[?25hdone\n",
            "  Getting requirements to build wheel ... \u001b[?25l\u001b[?25hdone\n",
            "  Preparing metadata (pyproject.toml) ... \u001b[?25l\u001b[?25hdone\n",
            "\u001b[2K     \u001b[90m━━━━━━━━━━━━━━━━━━━━━━━━━━━━━━━━━━━━━━━━\u001b[0m \u001b[32m2.0/2.0 MB\u001b[0m \u001b[31m19.0 MB/s\u001b[0m eta \u001b[36m0:00:00\u001b[0m\n",
            "\u001b[?25h  Building wheel for openai-whisper (pyproject.toml) ... \u001b[?25l\u001b[?25hdone\n",
            "\u001b[31mERROR: pip's dependency resolver does not currently take into account all the packages that are installed. This behaviour is the source of the following dependency conflicts.\n",
            "llmx 0.0.15a0 requires cohere, which is not installed.\n",
            "llmx 0.0.15a0 requires openai, which is not installed.\u001b[0m\u001b[31m\n",
            "\u001b[0m"
          ]
        }
      ],
      "source": [
        "# On installe le package Whisper\n",
        "!pip -qqq install git+https://github.com/openai/whisper.git"
      ]
    },
    {
      "cell_type": "code",
      "source": [],
      "metadata": {
        "id": "qkQA5ZOLxi8m"
      },
      "execution_count": null,
      "outputs": []
    },
    {
      "cell_type": "code",
      "source": [
        "#On importe les librairies\n",
        "import whisper\n",
        "import torch\n",
        "import os\n",
        "\n",
        "#On définit le dispositif\n",
        "device = \"cuda\" if torch.cuda.is_available() else \"cpu\"\n",
        "\n",
        "# Je charge le modele\n",
        "whisper_model = whisper.load_model(\"large\", device=device)"
      ],
      "metadata": {
        "colab": {
          "base_uri": "https://localhost:8080/"
        },
        "id": "rXjJgjakxjLK",
        "outputId": "82a668f0-e96d-4aac-e48f-f3b1f516016b"
      },
      "execution_count": 2,
      "outputs": [
        {
          "output_type": "stream",
          "name": "stderr",
          "text": [
            "100%|██████████████████████████████████████| 2.88G/2.88G [00:19<00:00, 157MiB/s]\n"
          ]
        }
      ]
    },
    {
      "cell_type": "code",
      "source": [],
      "metadata": {
        "id": "cuJcQ6JTxjNV"
      },
      "execution_count": null,
      "outputs": []
    },
    {
      "cell_type": "markdown",
      "source": [
        "ON PART D'UNE VIDEO YOUTUBE QU'ON CONVERTIT EN AUDIO. UNE FOIS LE FICHIER AUDIO OBTENU, ON LE TRANCRIT.\n"
      ],
      "metadata": {
        "id": "ZIT7xNKGI6-6"
      }
    },
    {
      "cell_type": "code",
      "source": [
        "# J'installe la librairie pytube\n",
        "!pip -qqq install pytube\n",
        "\n",
        "# J'importe le module\n",
        "from pytube import YouTube"
      ],
      "metadata": {
        "colab": {
          "base_uri": "https://localhost:8080/"
        },
        "id": "m-1bwc9xxjRT",
        "outputId": "a2a9003f-935e-48db-8109-a01f9acf7165"
      },
      "execution_count": 3,
      "outputs": [
        {
          "output_type": "stream",
          "name": "stdout",
          "text": [
            "\u001b[?25l     \u001b[90m━━━━━━━━━━━━━━━━━━━━━━━━━━━━━━━━━━━━━━━━\u001b[0m \u001b[32m0.0/57.6 kB\u001b[0m \u001b[31m?\u001b[0m eta \u001b[36m-:--:--\u001b[0m\r\u001b[2K     \u001b[90m━━━━━━━━━━━━━━━━━━━━━━━━━━━━━━━━━━━━━━━━\u001b[0m \u001b[32m57.6/57.6 kB\u001b[0m \u001b[31m1.7 MB/s\u001b[0m eta \u001b[36m0:00:00\u001b[0m\n",
            "\u001b[?25h"
          ]
        }
      ]
    },
    {
      "cell_type": "code",
      "source": [
        "def video_to_audio(video_URL, destination, final_filename):\n",
        "\n",
        "  # J'obtiens la vidéo\n",
        "  video = YouTube(video_URL)\n",
        "\n",
        "  # Je convertis la vidéo en audio\n",
        "  audio = video.streams.filter(only_audio=True).first()\n",
        "\n",
        "  # Je sauvegarde vers la destination\n",
        "  output = audio.download(output_path = destination)\n",
        "\n",
        "  _, ext = os.path.splitext(output)\n",
        "  new_file = final_filename + '.mp3'\n",
        "\n",
        "  # Je change le nom du fichier\n",
        "  os.rename(output, new_file)\n"
      ],
      "metadata": {
        "id": "YFkuU7gDx4Ax"
      },
      "execution_count": 4,
      "outputs": []
    },
    {
      "cell_type": "code",
      "source": [],
      "metadata": {
        "id": "vNrjUhdJyZOF"
      },
      "execution_count": null,
      "outputs": []
    },
    {
      "cell_type": "code",
      "source": [
        "### Exemple avec une vidéo Youtube portant sur le theme de la sécurité alimentaire"
      ],
      "metadata": {
        "id": "IgHLMKXR0mRW"
      },
      "execution_count": null,
      "outputs": []
    },
    {
      "cell_type": "code",
      "source": [
        "URL = \"https://www.youtube.com/watch?v=BEU-CySvIgc\"\n",
        "destination = \".\"\n",
        "final_filename = \"alimentaire\"\n",
        "video_to_audio(URL, destination, final_filename)\n",
        "\n",
        "# J'exécute le test\n",
        "audio_file = \"alimentaire.mp3\"\n",
        "result_ADO = whisper_model.transcribe(audio_file)"
      ],
      "metadata": {
        "colab": {
          "base_uri": "https://localhost:8080/"
        },
        "id": "Bq6eYJgCyZet",
        "outputId": "d33e5a38-fc7c-4218-e52a-0c9c5b670a79"
      },
      "execution_count": 5,
      "outputs": [
        {
          "output_type": "stream",
          "name": "stderr",
          "text": [
            "/usr/local/lib/python3.10/dist-packages/whisper/transcribe.py:126: UserWarning: FP16 is not supported on CPU; using FP32 instead\n",
            "  warnings.warn(\"FP16 is not supported on CPU; using FP32 instead\")\n"
          ]
        }
      ]
    },
    {
      "cell_type": "code",
      "source": [
        "# J'affiche le résultat\n",
        "print(result_ADO[\"text\"])"
      ],
      "metadata": {
        "colab": {
          "base_uri": "https://localhost:8080/"
        },
        "id": "kq0Ohxic-BOy",
        "outputId": "6c735ce1-5157-45c3-e0a5-70e9173a3f26"
      },
      "execution_count": 6,
      "outputs": [
        {
          "output_type": "stream",
          "name": "stdout",
          "text": [
            " Au Burkina Faso, près de 3,5 millions de personnes, soit environ 16% de la population, sont susceptibles d'être en situation d'insécurité alimentaire aiguë en 2023, d'après le Réseau mondial sur les crises alimentaires. Face à cette situation, le gouvernement burkinabé a mis en place un plan de réponse et de soutien aux populations vulnérables d'un coût global de 215,3 milliards de francs CFA. Ce plan vise à soutenir les personnes les plus vulnérables afin qu'ils puissent avoir accès à une alimentation saine, variée, diversifiée. En outre, le plan a pour objectif d'améliorer l'accès à l'eau potable, aux intrants et aux équipements, petits équipements de production, mais aussi d'améliorer l'alimentation pour le bétail. Selon Denis Ouedraogo, ministre de l'Agriculture, ce plan contribue à l'atteinte des objectifs de production fixés pour la campagne agricole 2023-2024, lancée officiellement le 19 mai 2023. L'harmonisation de ce plan vient notamment soutenir les groupes ciblés à travers des actions d'assistance humanitaire, de protection des moyens de subsistance. Nous espérons qu'avec son adoption, des personnes et des institutions pourront accompagner le Burkina Faso pour boucler le plan de production. Nous espérons que le budget, afin d'apporter une réponse appropriée aux problèmes d'insécurité alimentaire et de malnutrition. Au vu du contexte sécuritaire difficile au Burkina Faso, l'Organisation des Nations Unies pour l'alimentation et l'agriculture, en guise d'accompagnement, a affirmé que plus de 365 millions de francs CFA seront mis à la disposition du gouvernement burkinabé. Cet apport vient soutenir la résilience des populations et renforcer les mécanismes d'assurance. L'Organisation des Nations Unies pour l'agriculture, en guise d'accompagnement, a affirmé que plus de 365 millions de francs CFA seront mis à la disposition du gouvernement burkinabé.\n"
          ]
        }
      ]
    },
    {
      "cell_type": "code",
      "source": [],
      "metadata": {
        "id": "LHv6BzawliDB"
      },
      "execution_count": null,
      "outputs": []
    },
    {
      "cell_type": "markdown",
      "source": [
        "DANS CETTE PARTIE, ON TRAITE LES DONNEES AUDIO RADIO."
      ],
      "metadata": {
        "id": "2Zi4HJ7NIehY"
      }
    },
    {
      "cell_type": "code",
      "source": [],
      "metadata": {
        "id": "AoW8GuroLWVY"
      },
      "execution_count": null,
      "outputs": []
    },
    {
      "cell_type": "code",
      "source": [
        "#Traitement d une émission radio de la chaine RFI"
      ],
      "metadata": {
        "id": "2omZmJnGliQN"
      },
      "execution_count": null,
      "outputs": []
    },
    {
      "cell_type": "code",
      "source": [
        "# Chemin vers le fichier audio local\n",
        "audio_file_path = \"https://aod-rfi.akamaized.net/rfi/francais/audio/modules/actu/202307/ALE_24_07_2023.mp3\"\n",
        "\n",
        "# Transcription du fichier audio\n",
        "result = whisper_model.transcribe(audio_file_path)\n",
        "\n",
        "# Affichage du résultat\n",
        "print(result[\"text\"])"
      ],
      "metadata": {
        "colab": {
          "base_uri": "https://localhost:8080/"
        },
        "id": "ppXEH8T9liSW",
        "outputId": "a992b21a-45c9-46e3-9b8b-bd3bd2b52e35"
      },
      "execution_count": 10,
      "outputs": [
        {
          "output_type": "stream",
          "name": "stderr",
          "text": [
            "/usr/local/lib/python3.10/dist-packages/whisper/transcribe.py:126: UserWarning: FP16 is not supported on CPU; using FP32 instead\n",
            "  warnings.warn(\"FP16 is not supported on CPU; using FP32 instead\")\n"
          ]
        },
        {
          "output_type": "stream",
          "name": "stdout",
          "text": [
            " Aujourd'hui l'économie avec Dominique Bayard. Bonjour Dominique. Bonjour Gaëtan. Un nouveau sommet pour améliorer la sécurité alimentaire. 1600 participants sont attendus aujourd'hui à Rome pour trois jours de réflexion. Un rendez-vous Dominique prévu de longue date qui intervient au moment où l'on redoute une nouvelle flambée des prix des produits agricoles. Alors l'inflation globale commence à ralentir sauf pour les fruits, les légumes, les céréales, bref tout ce qui constitue les bases de l'alimentation humaine. Et ces prix en tension pourraient être propulsés vers de nouveaux sommets dans les prochains mois. Selon la FAO, les importations mondiales de produits alimentaires devraient pour la première fois cette année frôler la barre des 2000 milliards de dollars. Premier motif d'inquiétude, la météo, la chaleur, le manque d'eau menacent de ruiner les récoltes. C'est un vrai sujet en Chine. Le premier producteur au monde de blé pourrait avoir besoin d'apporter davantage pour couvrir ses besoins. Sa production de riz est également compromise. Tandis que la Thaïlande, l'un des tout premiers exportateurs de riz, a diminué ses semis à cause de la sécheresse. Et c'est dans ce contexte alarmant pour le marché du riz que l'Inde a annoncé vendredi un embargo sur ses exportations. Le premier fournisseur du marché mondial de la céréale la plus consommée au monde, un exportateur clé pour les pays africains. Alors les silos indiens sont remplis à bord, il n'y a pas de problème de récolte. Mais le gouvernement veut surtout calmer l'inflation alimentaire. Interne, au détail, le prix du riz a augmenté de 9% en un an en Inde. A huit mois des prochaines élections générales, toutes les mesures susceptibles de faire retomber la pression sont bonnes à prendre. Les autorités indiennes ont promis toutefois d'exporter vers les pays les plus fragiles sur le plan alimentaire si leur gouvernement en font la demande. Il y aura donc du riz, mais à quel prix ? L'embargo aura certes un effet positif sur les prix indiens. En revanche, il va bien détériorer celui des marocains. Ceux qui en dépendent pour se nourrir vont devoir dépenser davantage pour couvrir leurs besoins. Et du côté des grains et des oléagineux aussi, les informations sur l'état des récoltes sont plutôt rassurantes. Alors même si la production de blé va souffrir en Europe, pour les 27 ce sera sans doute la plus faible depuis 2007. El Nino, ce courant d'air chaud qui aggrave les vagues de chaleur que l'hémisphère nord endure en ce moment, pourrait aussi gâter la récolte des Etats-Unis. En revanche, la Russie devrait engranger une récolte record. Et le Brésil, une récolte record de maïs et de soja. Il n'y a donc pas vraiment d'inquiétude sur l'offre. Même si la Russie est sortie de l'accord sur le corridor de la mer Noire. Même si l'armée russe prend pour cible le port d'Odessa pour empêcher Kiev de sortir son blé, comme elle l'a encore fait cette nuit. Aujourd'hui, Vladimir Poutine renouvelle d'ailleurs sa proposition d'exporter gratuitement des céréales pour remplacer les volumes ukrainiens manquants. Les céréales sont bien là, mais le marché reste nerveux. Suspendu aux dernières nouvelles du front ukrainien. Est-ce que ce cocktail de facteurs météo, politique et géopolitique aussi pourrait déboucher sur une crise alimentaire ? Eh bien, cet embargo indien réveille des souvenirs pénibles. C'est déjà un embargo sur le riz décidé par New Delhi qui a fait flamber les marchés en 2008 et provoqué une véritable crise alimentaire mondiale. Aujourd'hui, le nombre de personnes sous-alimentées dans le monde est en forte hausse. Selon le dernier rapport onusien sur la sécurité alimentaire, 783 millions de terriens sont confrontés à la famine. C'est 120 millions de plus qu'en 2019 à cause du Covid et de la guerre en Ukraine qui ont ralenti l'acheminement des denrées. Il y a donc en 2023 une détérioration très nette de la sécurité alimentaire pour les pays les plus pauvres. C'était Aujourd'hui l'économie. Merci à vous Dominique Bayard.\n"
          ]
        }
      ]
    },
    {
      "cell_type": "code",
      "source": [],
      "metadata": {
        "id": "qC6jm-VmwVj-"
      },
      "execution_count": null,
      "outputs": []
    },
    {
      "cell_type": "code",
      "source": [
        "### Deuxieme émission radio : Sécurité alimentaire au Sahel et en Afrique de l’Ouest: penser et agir au niveau régional\n",
        "# Elle dure 04 min 39 secondes"
      ],
      "metadata": {
        "id": "6-eCxIxcwVa7"
      },
      "execution_count": null,
      "outputs": []
    },
    {
      "cell_type": "code",
      "source": [
        "# Chemin vers le fichier audio local\n",
        "audio_file_path = \"https://aod-rfi.akamaized.net/rfi/francais/audio/modules/actu/202401/Ca_fait_debat_avec_Wathi_200124.mp3\"\n",
        "\n",
        "# Transcription du fichier audio\n",
        "result = whisper_model.transcribe(audio_file_path)"
      ],
      "metadata": {
        "colab": {
          "base_uri": "https://localhost:8080/"
        },
        "id": "HxaW9C6ywVEk",
        "outputId": "0cd54acc-9669-4ff1-f77a-153311bfc0b5"
      },
      "execution_count": 11,
      "outputs": [
        {
          "output_type": "stream",
          "name": "stderr",
          "text": [
            "/usr/local/lib/python3.10/dist-packages/whisper/transcribe.py:126: UserWarning: FP16 is not supported on CPU; using FP32 instead\n",
            "  warnings.warn(\"FP16 is not supported on CPU; using FP32 instead\")\n"
          ]
        }
      ]
    },
    {
      "cell_type": "code",
      "source": [
        "# Affichage du résultat\n",
        "print(result[\"text\"])"
      ],
      "metadata": {
        "colab": {
          "base_uri": "https://localhost:8080/"
        },
        "id": "WxADHVUJw4J2",
        "outputId": "9bb1c0ef-5526-46fc-b35f-94903cc67ec0"
      },
      "execution_count": 12,
      "outputs": [
        {
          "output_type": "stream",
          "name": "stdout",
          "text": [
            " Le Sahel, dont les perspectives de développement passent par le désenclavement, on vient d'en parler, que ce soit en partenariat avec le Maroc ou pas d'ailleurs. Une manière d'assurer le désenclavement, d'assurer la sécurité alimentaire des populations au Sahel frappées, on en parle souvent sur RFI par la faim. De ce point de vue, il faut penser et agir au niveau régional. C'est ce que vous nous dites ce matin, Géliabi, dans votre chronique hebdomadaire, votre cercle de réflexion Wati, organisait d'ailleurs récemment une table ronde virtuelle sur ce sujet qui est essentiel, Géliabi. Oui, il s'agit bien sûr d'un sujet d'une importance capitale. Dans la série de débats sur les pays du Sahel que nous organisons depuis plus d'un an, en partenariat avec le Club du Sahel et de l'Afrique de l'Ouest de l'OCDE, nous ne pouvions pas manquer de nous pencher sur la situation alimentaire et nutritionnelle dans la région. Nos quatre invités, Simone Zundi, chef d'entreprise très expérimentée dans l'industrie agroalimentaire au Burkina Faso, Olocibe, conseiller au bureau régional, pour l'Afrique de l'Ouest et du centre du programme alimentaire mondial, Philippe Henri, économiste au Club du Sahel et de l'Afrique de l'Ouest, et Abdoulaye Mohamadou, secrétaire exécutif du comité permanent inter-État de lutte contre la sécheresse dans le Sahel, le CILS, nous ont permis d'appréhender la question de la sécurité alimentaire dans sa complexité. Et comment, Gilles, peut-on décrire, selon vous, la situation alimentaire dans la région ? Docteur Abdoulaye Mohamadou, qui dirige le CILS, une organisation qui est née en 1973, alors que la région sahélienne faisait face à une grande sécheresse et à une crise alimentaire, il a d'abord présenté les dispositifs régionaux qui permettent de faire un suivi permanent de la situation alimentaire. Il a expliqué que les zones les plus affectées par l'insécurité alimentaire sont essentiellement aujourd'hui celles qui sont affectées par l'insécurité tout court, notamment la zone des trois frontières, Mali, Burkina Faso et Niger, mais aussi la région du bassin du lac Tchad. On estime à environ 31 millions, le nombre de personnes qui ont besoin d'une assistance, une assistance immédiate dans toute la région. L'écrasante majorité des personnes qui se trouvaient il y a quelques mois dans la phase dite catastrophique de l'insécurité alimentaire, environ 45 200 personnes, se trouvaient dans les régions de la boucle du Moun et du Sahel au Burkina Faso et dans la région de Menaka au Mali. Il faut ajouter aux crises sécuritaires le facteur structurel que représente le changement climatique et qui se traduit par l'irrégularité des pluies, de longues périodes sèches pendant la saison des pluies, les régions du Burkina Faso, du Niger, du Tchad et du Nigeria. La situation alimentaire dans les zones des pays du Golfe de Guinée est plutôt bonne, mais elle peut aussi se dégrader, notamment à cause de l'inflation liée à la dépréciation des monnaies à l'instar du Ghana. La disponibilité des produits ne signifie pas qu'ils sont accessibles aux populations dans une région où la pauvreté reste massive. Vous avez demandé à ce spécialiste quels sont les messages prioritaires à apporter aux plus hautes autorités politiques des pays du Sahel, réponse-lui ? D'abord, comme les autres invités, il a souligné l'impératif de penser et d'agir au niveau régional. Le fait d'avoir un marché régional alimentaire plus intégré et pas une juxtaposition de marchés nationaux permettrait de tirer profit de la complémentarité entre les pays qui ont des spécialisations agroalimentaires différentes. Cela permettrait de stimuler le commerce, de gérer plus efficacement les variations saisonnières de production dans les différents pays, mais aussi d'encourager une alimentation diversifiée et équilibrée. Sauf que ce qu'on observe dans la région depuis quelques années, c'est plutôt une tendance au repli sur soi, avec la multiplication de décisions d'interdiction ou de restriction des exportations de certains produits agricoles par les gouvernements. La Côte d'Ivoire a interdit il y a quelques jours, le 15 janvier, l'exportation d'une vingtaine de produits vivriers pendant six mois. Le manioc, l'igname, le maïs, le riz, le mil, le sorgho, le fognon, la tomate, le gombo, le piment et les très réputés bananes de pomme. Le maïs, le riz, le sorgho, le fognon, la tomate, le gombo, le piment et les très réputés bananes de pomme. Les très réputés bananes de plein thym et achéqué en font partie. En décembre, c'était le Burkina Faso qui interdisait l'exportation de céréales. Le Bénin, le Mali et d'autres États ont aussi pris des décisions de ce type au cours des dernières années. Les trois autres messages sont tout aussi clairs. La nécessité pour les États de ne pas compter sur les ressources extérieures pour le financement du secteur agricole et alimentaire. L'amélioration de la gouvernance du secteur agricole qui ne semble toujours pas être une priorité. L'amélioration de la gouvernance du secteur agricole qui ne semble toujours pas être une priorité. nécessité de soutenir les jeunes entrepreneurs qui s'investissent dans l'agriculture, l'élevage, la pêche, mais qui n'ont pas le soutien dont ils devraient bénéficier de la part des Etats. Merci beaucoup Gilles pour votre analyse. On vous retrouve la semaine prochaine.\n"
          ]
        }
      ]
    },
    {
      "cell_type": "code",
      "source": [],
      "metadata": {
        "id": "sj77snQuLYbN"
      },
      "execution_count": null,
      "outputs": []
    },
    {
      "cell_type": "markdown",
      "source": [
        "BIBLIOGRAPHIE\n",
        "\n",
        "- WHISPER\n",
        "\n",
        "- KEITA ZOUMANA"
      ],
      "metadata": {
        "id": "aKpG8zWNt1Rh"
      }
    }
  ]
}